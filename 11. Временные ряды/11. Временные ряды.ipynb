{
 "cells": [
  {
   "cell_type": "markdown",
   "metadata": {},
   "source": [
    "#  Прогнозирование заказов такси"
   ]
  },
  {
   "cell_type": "markdown",
   "metadata": {},
   "source": [
    "Компания «Чётенькое такси» собрала исторические данные о заказах такси в аэропортах. Чтобы привлекать больше водителей в период пиковой нагрузки, нужно спрогнозировать количество заказов такси на следующий час. Постройте модель для такого предсказания.\n",
    "\n",
    "Значение метрики *RMSE* на тестовой выборке должно быть не больше 48.\n",
    "\n",
    "Вам нужно:\n",
    "\n",
    "1. Загрузить данные и выполнить их ресемплирование по одному часу.\n",
    "2. Проанализировать данные.\n",
    "3. Обучить разные модели с различными гиперпараметрами. Сделать тестовую выборку размером 10% от исходных данных.\n",
    "4. Проверить данные на тестовой выборке и сделать выводы.\n",
    "\n",
    "\n",
    "Данные лежат в файле `taxi.csv`. Количество заказов находится в столбце `num_orders` (от англ. *number of orders*, «число заказов»)."
   ]
  },
  {
   "cell_type": "markdown",
   "metadata": {},
   "source": [
    "## Подготовка"
   ]
  },
  {
   "cell_type": "code",
   "execution_count": 2,
   "metadata": {},
   "outputs": [],
   "source": [
    "import pandas as pd\n",
    "from statsmodels.tsa.seasonal import seasonal_decompose\n",
    "import matplotlib.pyplot as plt\n",
    "from sklearn.model_selection import train_test_split\n",
    "from sklearn.linear_model import LinearRegression\n",
    "from sklearn.metrics import mean_squared_error\n",
    "from catboost import CatBoostRegressor\n",
    "from lightgbm import LGBMRegressor\n",
    "from sklearn.tree import DecisionTreeRegressor\n",
    "from sklearn.ensemble import RandomForestRegressor\n",
    "from sklearn.model_selection import RandomizedSearchCV\n",
    "from sklearn.model_selection import TimeSeriesSplit\n",
    "from sklearn.metrics import make_scorer"
   ]
  },
  {
   "cell_type": "code",
   "execution_count": 3,
   "metadata": {},
   "outputs": [],
   "source": [
    "data = pd.read_csv('/datasets/taxi.csv') "
   ]
  },
  {
   "cell_type": "code",
   "execution_count": 4,
   "metadata": {},
   "outputs": [
    {
     "data": {
      "text/html": [
       "<div>\n",
       "<style scoped>\n",
       "    .dataframe tbody tr th:only-of-type {\n",
       "        vertical-align: middle;\n",
       "    }\n",
       "\n",
       "    .dataframe tbody tr th {\n",
       "        vertical-align: top;\n",
       "    }\n",
       "\n",
       "    .dataframe thead th {\n",
       "        text-align: right;\n",
       "    }\n",
       "</style>\n",
       "<table border=\"1\" class=\"dataframe\">\n",
       "  <thead>\n",
       "    <tr style=\"text-align: right;\">\n",
       "      <th></th>\n",
       "      <th>datetime</th>\n",
       "      <th>num_orders</th>\n",
       "    </tr>\n",
       "  </thead>\n",
       "  <tbody>\n",
       "    <tr>\n",
       "      <td>0</td>\n",
       "      <td>2018-03-01 00:00:00</td>\n",
       "      <td>9</td>\n",
       "    </tr>\n",
       "    <tr>\n",
       "      <td>1</td>\n",
       "      <td>2018-03-01 00:10:00</td>\n",
       "      <td>14</td>\n",
       "    </tr>\n",
       "    <tr>\n",
       "      <td>2</td>\n",
       "      <td>2018-03-01 00:20:00</td>\n",
       "      <td>28</td>\n",
       "    </tr>\n",
       "    <tr>\n",
       "      <td>3</td>\n",
       "      <td>2018-03-01 00:30:00</td>\n",
       "      <td>20</td>\n",
       "    </tr>\n",
       "    <tr>\n",
       "      <td>4</td>\n",
       "      <td>2018-03-01 00:40:00</td>\n",
       "      <td>32</td>\n",
       "    </tr>\n",
       "  </tbody>\n",
       "</table>\n",
       "</div>"
      ],
      "text/plain": [
       "              datetime  num_orders\n",
       "0  2018-03-01 00:00:00           9\n",
       "1  2018-03-01 00:10:00          14\n",
       "2  2018-03-01 00:20:00          28\n",
       "3  2018-03-01 00:30:00          20\n",
       "4  2018-03-01 00:40:00          32"
      ]
     },
     "execution_count": 4,
     "metadata": {},
     "output_type": "execute_result"
    }
   ],
   "source": [
    "data.head()"
   ]
  },
  {
   "cell_type": "code",
   "execution_count": 5,
   "metadata": {},
   "outputs": [],
   "source": [
    "data = pd.read_csv('/datasets/taxi.csv', index_col=[0], parse_dates=[0])"
   ]
  },
  {
   "cell_type": "markdown",
   "metadata": {},
   "source": [
    "## Анализ"
   ]
  },
  {
   "cell_type": "markdown",
   "metadata": {},
   "source": [
    "Чтобы проверить, в хронологическом ли порядке расположены даты и время, посмотрим атрибут индекса таблицы **is_monotonic**"
   ]
  },
  {
   "cell_type": "code",
   "execution_count": 6,
   "metadata": {},
   "outputs": [
    {
     "data": {
      "text/plain": [
       "True"
      ]
     },
     "execution_count": 6,
     "metadata": {},
     "output_type": "execute_result"
    }
   ],
   "source": [
    "data.sort_index(inplace = True)\n",
    "data.index.is_monotonic"
   ]
  },
  {
   "cell_type": "code",
   "execution_count": 7,
   "metadata": {},
   "outputs": [
    {
     "name": "stdout",
     "output_type": "stream",
     "text": [
      "<class 'pandas.core.frame.DataFrame'>\n",
      "DatetimeIndex: 26496 entries, 2018-03-01 00:00:00 to 2018-08-31 23:50:00\n",
      "Data columns (total 1 columns):\n",
      "num_orders    26496 non-null int64\n",
      "dtypes: int64(1)\n",
      "memory usage: 414.0 KB\n"
     ]
    }
   ],
   "source": [
    "data.info()"
   ]
  },
  {
   "cell_type": "markdown",
   "metadata": {},
   "source": [
    "### Ресемплирование"
   ]
  },
  {
   "cell_type": "code",
   "execution_count": 8,
   "metadata": {},
   "outputs": [],
   "source": [
    "data = data.resample('1H').sum()"
   ]
  },
  {
   "cell_type": "markdown",
   "metadata": {},
   "source": [
    "### Тренд"
   ]
  },
  {
   "cell_type": "code",
   "execution_count": 9,
   "metadata": {},
   "outputs": [
    {
     "name": "stdout",
     "output_type": "stream",
     "text": [
      "<class 'pandas.core.frame.DataFrame'>\n",
      "DatetimeIndex: 4416 entries, 2018-03-01 00:00:00 to 2018-08-31 23:00:00\n",
      "Freq: H\n",
      "Data columns (total 1 columns):\n",
      "num_orders    4416 non-null int64\n",
      "dtypes: int64(1)\n",
      "memory usage: 69.0 KB\n"
     ]
    }
   ],
   "source": [
    "data.info()"
   ]
  },
  {
   "cell_type": "markdown",
   "metadata": {},
   "source": [
    "Визуализируем тренд, сезонность и остатки."
   ]
  },
  {
   "cell_type": "code",
   "execution_count": 11,
   "metadata": {},
   "outputs": [
    {
     "data": {
      "image/png": "[encoded data removed]",
      "text/plain": [
       "<Figure size 432x576 with 3 Axes>"
      ]
     },
     "metadata": {
      "needs_background": "light"
     },
     "output_type": "display_data"
    }
   ],
   "source": [
    "plt.figure(figsize=(6, 8))\n",
    "plt.subplot(311)\n",
    "decomposed.trend.plot(ax=plt.gca())\n",
    "plt.title('Trend')\n",
    "plt.subplot(312)\n",
    "decomposed.seasonal['2018-03-01':'2018-03-02'].plot(ax=plt.gca())\n",
    "plt.title('Seasonality')\n",
    "plt.subplot(313)\n",
    "decomposed.resid.plot(ax=plt.gca())\n",
    "plt.title('Residuals')\n",
    "plt.tight_layout()"
   ]
  },
  {
   "cell_type": "markdown",
   "metadata": {},
   "source": [
    "Наблюдается четкий тренд на рост общего числа заказов"
   ]
  },
  {
   "cell_type": "markdown",
   "metadata": {},
   "source": [
    "Пиковый спрос наблюдается в районе полуночи, меньше всего заказов ближе к 6 утра."
   ]
  },
  {
   "cell_type": "markdown",
   "metadata": {},
   "source": [
    "## Обучение"
   ]
  },
  {
   "cell_type": "markdown",
   "metadata": {},
   "source": [
    "### Результирующий датафрейм"
   ]
  },
  {
   "cell_type": "code",
   "execution_count": 12,
   "metadata": {},
   "outputs": [],
   "source": [
    "results = pd.DataFrame(columns = ['test_score'])"
   ]
  },
  {
   "cell_type": "markdown",
   "metadata": {},
   "source": [
    "### Функция для создания признаков в датафрейме"
   ]
  },
  {
   "cell_type": "code",
   "execution_count": 13,
   "metadata": {},
   "outputs": [],
   "source": [
    "def make_features(data, max_lag, rolling_mean_size):\n",
    "    new_data = data.copy()\n",
    "    new_data['year'] = new_data.index.year\n",
    "    new_data['month'] = new_data.index.month\n",
    "    new_data['day'] = new_data.index.day\n",
    "    new_data['dayofweek'] = new_data.index.dayofweek\n",
    "    \n",
    "    for lag in range(1, max_lag + 1):\n",
    "        new_data['lag_{}'.format(lag)] = new_data['num_orders'].shift(lag)\n",
    "\n",
    "    new_data['rolling_mean'] = new_data['num_orders'].shift().rolling(rolling_mean_size).mean()\n",
    "    return new_data"
   ]
  },
  {
   "cell_type": "markdown",
   "metadata": {},
   "source": [
    "### Разбивка датасета на обучающаю и тестовую выборки"
   ]
  },
  {
   "cell_type": "code",
   "execution_count": 14,
   "metadata": {},
   "outputs": [],
   "source": [
    "new_data = make_features(data, 72, 10) # разность временного ряда - 3 дня\n",
    "\n",
    "train, test = train_test_split(new_data, shuffle=False, test_size=0.1)\n",
    "train = train.dropna() "
   ]
  },
  {
   "cell_type": "code",
   "execution_count": 15,
   "metadata": {},
   "outputs": [],
   "source": [
    "train_X = train.drop(columns = 'num_orders')\n",
    "train_Y = train['num_orders']\n",
    "test_X = test.drop(columns = 'num_orders')\n",
    "test_Y = test['num_orders']"
   ]
  },
  {
   "cell_type": "markdown",
   "metadata": {},
   "source": [
    "Создадим датафрейм для записи предсказаний моделей"
   ]
  },
  {
   "cell_type": "code",
   "execution_count": 16,
   "metadata": {},
   "outputs": [],
   "source": [
    "results_pred = pd.DataFrame()\n",
    "results_pred['y_true'] = test_Y"
   ]
  },
  {
   "cell_type": "markdown",
   "metadata": {},
   "source": [
    "### Обучение модели LinearRegression"
   ]
  },
  {
   "cell_type": "code",
   "execution_count": 17,
   "metadata": {
    "scrolled": true
   },
   "outputs": [
    {
     "data": {
      "text/plain": [
       "42.4734078635134"
      ]
     },
     "execution_count": 17,
     "metadata": {},
     "output_type": "execute_result"
    }
   ],
   "source": [
    "reg = LinearRegression();\n",
    "reg.fit(train_X, train_Y)\n",
    "test_pred = reg.predict(test_X)\n",
    "\n",
    "test_score = mean_squared_error(test_Y,test_pred)**0.5\n",
    "test_score"
   ]
  },
  {
   "cell_type": "code",
   "execution_count": 18,
   "metadata": {},
   "outputs": [],
   "source": [
    "results.loc['lr'] = test_score\n",
    "results_pred['lr'] = test_pred"
   ]
  },
  {
   "cell_type": "code",
   "execution_count": 19,
   "metadata": {},
   "outputs": [
    {
     "name": "stdout",
     "output_type": "stream",
     "text": [
      "7\n"
     ]
    }
   ],
   "source": [
    "print(7)"
   ]
  },
  {
   "cell_type": "markdown",
   "metadata": {},
   "source": [
    "### Обучение модели lightgbm"
   ]
  },
  {
   "cell_type": "code",
   "execution_count": 20,
   "metadata": {},
   "outputs": [],
   "source": [
    "lgbm = LGBMRegressor (max_depth = 6, n_estimators = 800)"
   ]
  },
  {
   "cell_type": "code",
   "execution_count": 21,
   "metadata": {},
   "outputs": [
    {
     "data": {
      "text/plain": [
       "LGBMRegressor(boosting_type='gbdt', class_weight=None, colsample_bytree=1.0,\n",
       "              importance_type='split', learning_rate=0.1, max_depth=6,\n",
       "              min_child_samples=20, min_child_weight=0.001, min_split_gain=0.0,\n",
       "              n_estimators=800, n_jobs=-1, num_leaves=31, objective=None,\n",
       "              random_state=None, reg_alpha=0.0, reg_lambda=0.0, silent=True,\n",
       "              subsample=1.0, subsample_for_bin=200000, subsample_freq=0)"
      ]
     },
     "execution_count": 21,
     "metadata": {},
     "output_type": "execute_result"
    }
   ],
   "source": [
    "lgbm.fit(train_X, train_Y)"
   ]
  },
  {
   "cell_type": "code",
   "execution_count": 22,
   "metadata": {},
   "outputs": [],
   "source": [
    "predictions = lgbm.predict(test_X)"
   ]
  },
  {
   "cell_type": "code",
   "execution_count": 23,
   "metadata": {},
   "outputs": [
    {
     "data": {
      "text/plain": [
       "38.88452593091616"
      ]
     },
     "execution_count": 23,
     "metadata": {},
     "output_type": "execute_result"
    }
   ],
   "source": [
    "test_score = mean_squared_error(test_Y, predictions)**0.5\n",
    "test_score"
   ]
  },
  {
   "cell_type": "code",
   "execution_count": 24,
   "metadata": {},
   "outputs": [],
   "source": [
    "results.loc['lgbm'] = test_score\n",
    "results_pred['lgbm'] = predictions"
   ]
  },
  {
   "cell_type": "markdown",
   "metadata": {},
   "source": [
    "### Обучение модели DecisionTreeRegressor"
   ]
  },
  {
   "cell_type": "markdown",
   "metadata": {},
   "source": [
    "Создадим функцию для расчета RMSE"
   ]
  },
  {
   "cell_type": "code",
   "execution_count": 25,
   "metadata": {},
   "outputs": [],
   "source": [
    "def rmse(y_true, y_pred):\n",
    "    return mean_squared_error(y_true, y_pred)**0.5\n",
    "rmse_score = make_scorer(rmse, greater_is_better=False)"
   ]
  },
  {
   "cell_type": "code",
   "execution_count": 26,
   "metadata": {},
   "outputs": [],
   "source": [
    "tree = DecisionTreeRegressor(random_state = 12345)\n",
    "params = {\n",
    "    'max_depth' : range(9,15,2)\n",
    "}\n",
    "\n",
    "tscv = TimeSeriesSplit(n_splits = 2)\n",
    "tree_model = RandomizedSearchCV (tree,params, cv=tscv, random_state = 12345,verbose = 2, scoring = rmse_score)"
   ]
  },
  {
   "cell_type": "code",
   "execution_count": 27,
   "metadata": {},
   "outputs": [
    {
     "name": "stderr",
     "output_type": "stream",
     "text": [
      "/opt/conda/lib/python3.7/site-packages/sklearn/model_selection/_search.py:266: UserWarning: The total space of parameters 3 is smaller than n_iter=10. Running 3 iterations. For exhaustive searches, use GridSearchCV.\n",
      "  % (grid_size, self.n_iter, grid_size), UserWarning)\n",
      "[Parallel(n_jobs=1)]: Using backend SequentialBackend with 1 concurrent workers.\n",
      "[Parallel(n_jobs=1)]: Done   1 out of   1 | elapsed:    0.1s remaining:    0.0s\n"
     ]
    },
    {
     "name": "stdout",
     "output_type": "stream",
     "text": [
      "Fitting 2 folds for each of 3 candidates, totalling 6 fits\n",
      "[CV] max_depth=9 .....................................................\n",
      "[CV] ...................................... max_depth=9, total=   0.1s\n",
      "[CV] max_depth=9 .....................................................\n",
      "[CV] ...................................... max_depth=9, total=   0.1s\n",
      "[CV] max_depth=11 ....................................................\n",
      "[CV] ..................................... max_depth=11, total=   0.1s\n",
      "[CV] max_depth=11 ....................................................\n",
      "[CV] ..................................... max_depth=11, total=   0.2s\n",
      "[CV] max_depth=13 ....................................................\n",
      "[CV] ..................................... max_depth=13, total=   0.1s\n",
      "[CV] max_depth=13 ....................................................\n",
      "[CV] ..................................... max_depth=13, total=   0.2s\n"
     ]
    },
    {
     "name": "stderr",
     "output_type": "stream",
     "text": [
      "[Parallel(n_jobs=1)]: Done   6 out of   6 | elapsed:    0.7s finished\n"
     ]
    },
    {
     "data": {
      "text/plain": [
       "RandomizedSearchCV(cv=TimeSeriesSplit(max_train_size=None, n_splits=2),\n",
       "                   error_score='raise-deprecating',\n",
       "                   estimator=DecisionTreeRegressor(criterion='mse',\n",
       "                                                   max_depth=None,\n",
       "                                                   max_features=None,\n",
       "                                                   max_leaf_nodes=None,\n",
       "                                                   min_impurity_decrease=0.0,\n",
       "                                                   min_impurity_split=None,\n",
       "                                                   min_samples_leaf=1,\n",
       "                                                   min_samples_split=2,\n",
       "                                                   min_weight_fraction_leaf=0.0,\n",
       "                                                   presort=False,\n",
       "                                                   random_state=12345,\n",
       "                                                   splitter='best'),\n",
       "                   iid='warn', n_iter=10, n_jobs=None,\n",
       "                   param_distributions={'max_depth': range(9, 15, 2)},\n",
       "                   pre_dispatch='2*n_jobs', random_state=12345, refit=True,\n",
       "                   return_train_score=False,\n",
       "                   scoring=make_scorer(rmse, greater_is_better=False),\n",
       "                   verbose=2)"
      ]
     },
     "execution_count": 27,
     "metadata": {},
     "output_type": "execute_result"
    }
   ],
   "source": [
    "tree_model.fit(train_X,train_Y)"
   ]
  },
  {
   "cell_type": "code",
   "execution_count": 28,
   "metadata": {},
   "outputs": [
    {
     "data": {
      "text/plain": [
       "{'max_depth': 9}"
      ]
     },
     "execution_count": 28,
     "metadata": {},
     "output_type": "execute_result"
    }
   ],
   "source": [
    "tree_model.best_params_"
   ]
  },
  {
   "cell_type": "code",
   "execution_count": 29,
   "metadata": {},
   "outputs": [],
   "source": [
    "predictions = tree_model.predict(test_X)"
   ]
  },
  {
   "cell_type": "code",
   "execution_count": 30,
   "metadata": {},
   "outputs": [
    {
     "data": {
      "text/plain": [
       "62.00796327842393"
      ]
     },
     "execution_count": 30,
     "metadata": {},
     "output_type": "execute_result"
    }
   ],
   "source": [
    "test_score = rmse(test_Y, predictions)\n",
    "test_score"
   ]
  },
  {
   "cell_type": "code",
   "execution_count": 31,
   "metadata": {},
   "outputs": [],
   "source": [
    "results.loc['tree'] = test_score\n",
    "results_pred['tree'] = predictions"
   ]
  },
  {
   "cell_type": "markdown",
   "metadata": {},
   "source": [
    "### Обучение модели RandomForestRegressor"
   ]
  },
  {
   "cell_type": "code",
   "execution_count": 32,
   "metadata": {},
   "outputs": [],
   "source": [
    "forest = RandomForestRegressor(random_state = 12345)\n",
    "params = {\n",
    "    'max_depth' : range(9,15,2),\n",
    "    'n_estimators' : range (10,51,10)\n",
    "}\n",
    "forest_model = RandomizedSearchCV (forest,params, cv=tscv, random_state = 12345,verbose = 2,scoring = rmse_score)"
   ]
  },
  {
   "cell_type": "code",
   "execution_count": 33,
   "metadata": {},
   "outputs": [
    {
     "name": "stdout",
     "output_type": "stream",
     "text": [
      "Fitting 2 folds for each of 10 candidates, totalling 20 fits\n",
      "[CV] n_estimators=10, max_depth=9 ....................................\n"
     ]
    },
    {
     "name": "stderr",
     "output_type": "stream",
     "text": [
      "[Parallel(n_jobs=1)]: Using backend SequentialBackend with 1 concurrent workers.\n"
     ]
    },
    {
     "name": "stdout",
     "output_type": "stream",
     "text": [
      "[CV] ..................... n_estimators=10, max_depth=9, total=   0.4s\n",
      "[CV] n_estimators=10, max_depth=9 ....................................\n"
     ]
    },
    {
     "name": "stderr",
     "output_type": "stream",
     "text": [
      "[Parallel(n_jobs=1)]: Done   1 out of   1 | elapsed:    0.4s remaining:    0.0s\n"
     ]
    },
    {
     "name": "stdout",
     "output_type": "stream",
     "text": [
      "[CV] ..................... n_estimators=10, max_depth=9, total=   0.8s\n",
      "[CV] n_estimators=20, max_depth=13 ...................................\n",
      "[CV] .................... n_estimators=20, max_depth=13, total=   1.0s\n",
      "[CV] n_estimators=20, max_depth=13 ...................................\n",
      "[CV] .................... n_estimators=20, max_depth=13, total=   2.2s\n",
      "[CV] n_estimators=30, max_depth=11 ...................................\n",
      "[CV] .................... n_estimators=30, max_depth=11, total=   1.4s\n",
      "[CV] n_estimators=30, max_depth=11 ...................................\n",
      "[CV] .................... n_estimators=30, max_depth=11, total=   2.8s\n",
      "[CV] n_estimators=40, max_depth=11 ...................................\n",
      "[CV] .................... n_estimators=40, max_depth=11, total=   1.9s\n",
      "[CV] n_estimators=40, max_depth=11 ...................................\n",
      "[CV] .................... n_estimators=40, max_depth=11, total=   3.8s\n",
      "[CV] n_estimators=40, max_depth=9 ....................................\n",
      "[CV] ..................... n_estimators=40, max_depth=9, total=   1.6s\n",
      "[CV] n_estimators=40, max_depth=9 ....................................\n",
      "[CV] ..................... n_estimators=40, max_depth=9, total=   3.4s\n",
      "[CV] n_estimators=20, max_depth=11 ...................................\n",
      "[CV] .................... n_estimators=20, max_depth=11, total=   0.9s\n",
      "[CV] n_estimators=20, max_depth=11 ...................................\n",
      "[CV] .................... n_estimators=20, max_depth=11, total=   1.9s\n",
      "[CV] n_estimators=30, max_depth=13 ...................................\n",
      "[CV] .................... n_estimators=30, max_depth=13, total=   1.5s\n",
      "[CV] n_estimators=30, max_depth=13 ...................................\n",
      "[CV] .................... n_estimators=30, max_depth=13, total=   3.3s\n",
      "[CV] n_estimators=10, max_depth=13 ...................................\n",
      "[CV] .................... n_estimators=10, max_depth=13, total=   0.5s\n",
      "[CV] n_estimators=10, max_depth=13 ...................................\n",
      "[CV] .................... n_estimators=10, max_depth=13, total=   1.0s\n",
      "[CV] n_estimators=50, max_depth=13 ...................................\n",
      "[CV] .................... n_estimators=50, max_depth=13, total=   2.7s\n",
      "[CV] n_estimators=50, max_depth=13 ...................................\n",
      "[CV] .................... n_estimators=50, max_depth=13, total=   5.4s\n",
      "[CV] n_estimators=40, max_depth=13 ...................................\n",
      "[CV] .................... n_estimators=40, max_depth=13, total=   2.0s\n",
      "[CV] n_estimators=40, max_depth=13 ...................................\n",
      "[CV] .................... n_estimators=40, max_depth=13, total=   4.3s\n"
     ]
    },
    {
     "name": "stderr",
     "output_type": "stream",
     "text": [
      "[Parallel(n_jobs=1)]: Done  20 out of  20 | elapsed:   43.0s finished\n"
     ]
    },
    {
     "data": {
      "text/plain": [
       "RandomizedSearchCV(cv=TimeSeriesSplit(max_train_size=None, n_splits=2),\n",
       "                   error_score='raise-deprecating',\n",
       "                   estimator=RandomForestRegressor(bootstrap=True,\n",
       "                                                   criterion='mse',\n",
       "                                                   max_depth=None,\n",
       "                                                   max_features='auto',\n",
       "                                                   max_leaf_nodes=None,\n",
       "                                                   min_impurity_decrease=0.0,\n",
       "                                                   min_impurity_split=None,\n",
       "                                                   min_samples_leaf=1,\n",
       "                                                   min_samples_split=2,\n",
       "                                                   min_weight_fraction_leaf=0.0,\n",
       "                                                   n_estimators='warn',\n",
       "                                                   n_jobs=None, oob_score=False,\n",
       "                                                   random_state=12345,\n",
       "                                                   verbose=0,\n",
       "                                                   warm_start=False),\n",
       "                   iid='warn', n_iter=10, n_jobs=None,\n",
       "                   param_distributions={'max_depth': range(9, 15, 2),\n",
       "                                        'n_estimators': range(10, 51, 10)},\n",
       "                   pre_dispatch='2*n_jobs', random_state=12345, refit=True,\n",
       "                   return_train_score=False,\n",
       "                   scoring=make_scorer(rmse, greater_is_better=False),\n",
       "                   verbose=2)"
      ]
     },
     "execution_count": 33,
     "metadata": {},
     "output_type": "execute_result"
    }
   ],
   "source": [
    "forest_model.fit(train_X,train_Y)"
   ]
  },
  {
   "cell_type": "code",
   "execution_count": 34,
   "metadata": {},
   "outputs": [
    {
     "data": {
      "text/plain": [
       "40.488406111057714"
      ]
     },
     "execution_count": 34,
     "metadata": {},
     "output_type": "execute_result"
    }
   ],
   "source": [
    "predictions = forest_model.predict(test_X)\n",
    "test_score = rmse(test_Y, predictions)\n",
    "test_score"
   ]
  },
  {
   "cell_type": "code",
   "execution_count": 35,
   "metadata": {},
   "outputs": [],
   "source": [
    "results.loc['forest'] = test_score\n",
    "results_pred['forest'] = predictions"
   ]
  },
  {
   "cell_type": "markdown",
   "metadata": {},
   "source": [
    "## Тестирование"
   ]
  },
  {
   "cell_type": "code",
   "execution_count": 36,
   "metadata": {},
   "outputs": [
    {
     "data": {
      "text/html": [
       "<div>\n",
       "<style scoped>\n",
       "    .dataframe tbody tr th:only-of-type {\n",
       "        vertical-align: middle;\n",
       "    }\n",
       "\n",
       "    .dataframe tbody tr th {\n",
       "        vertical-align: top;\n",
       "    }\n",
       "\n",
       "    .dataframe thead th {\n",
       "        text-align: right;\n",
       "    }\n",
       "</style>\n",
       "<table border=\"1\" class=\"dataframe\">\n",
       "  <thead>\n",
       "    <tr style=\"text-align: right;\">\n",
       "      <th></th>\n",
       "      <th>test_score</th>\n",
       "    </tr>\n",
       "  </thead>\n",
       "  <tbody>\n",
       "    <tr>\n",
       "      <td>lr</td>\n",
       "      <td>42.473408</td>\n",
       "    </tr>\n",
       "    <tr>\n",
       "      <td>lgbm</td>\n",
       "      <td>38.884526</td>\n",
       "    </tr>\n",
       "    <tr>\n",
       "      <td>tree</td>\n",
       "      <td>62.007963</td>\n",
       "    </tr>\n",
       "    <tr>\n",
       "      <td>forest</td>\n",
       "      <td>40.488406</td>\n",
       "    </tr>\n",
       "  </tbody>\n",
       "</table>\n",
       "</div>"
      ],
      "text/plain": [
       "        test_score\n",
       "lr       42.473408\n",
       "lgbm     38.884526\n",
       "tree     62.007963\n",
       "forest   40.488406"
      ]
     },
     "execution_count": 36,
     "metadata": {},
     "output_type": "execute_result"
    }
   ],
   "source": [
    "results"
   ]
  },
  {
   "cell_type": "markdown",
   "metadata": {},
   "source": [
    "Визуализируем предсказания"
   ]
  },
  {
   "cell_type": "code",
   "execution_count": 42,
   "metadata": {},
   "outputs": [
    {
     "data": {
      "text/plain": [
       "<matplotlib.axes._subplots.AxesSubplot at 0x7fd438b497d0>"
      ]
     },
     "execution_count": 42,
     "metadata": {},
     "output_type": "execute_result"
    },
    {
     "data": {
      "image/png": "[encoded data removed]",
      "text/plain": [
       "<Figure size 1080x360 with 1 Axes>"
      ]
     },
     "metadata": {
      "needs_background": "light"
     },
     "output_type": "display_data"
    }
   ],
   "source": [
    "results_pred.plot(y = ['y_true','lgbm'],figsize = (15,5), grid = True, title = 'Predictions')"
   ]
  },
  {
   "cell_type": "markdown",
   "metadata": {},
   "source": [
    "### Вывод\n",
    "\n",
    "Из рассмотренных моделей только DecisionTreeRegressor не смогла показать результат ниже 48. Параметры, используемые для обработки исходного датасета:\n",
    "\n",
    "- разность временного ряда - 3 дня\n",
    "- размер окна скользящего среднего - 10"
   ]
  }
 ],
 "metadata": {
  "ExecuteTimeLog": [
   {
    "duration": 743,
    "start_time": "2021-10-08T06:34:29.298Z"
   },
   {
    "duration": 41,
    "start_time": "2021-10-08T06:34:52.201Z"
   },
   {
    "duration": 24,
    "start_time": "2021-10-08T06:35:01.512Z"
   },
   {
    "duration": 10,
    "start_time": "2021-10-08T06:50:12.816Z"
   },
   {
    "duration": 48,
    "start_time": "2021-10-08T06:52:05.824Z"
   },
   {
    "duration": 10,
    "start_time": "2021-10-08T06:52:12.854Z"
   },
   {
    "duration": 399,
    "start_time": "2021-10-08T06:52:36.033Z"
   },
   {
    "duration": 9,
    "start_time": "2021-10-08T06:52:36.655Z"
   },
   {
    "duration": 40,
    "start_time": "2021-10-08T06:52:43.664Z"
   },
   {
    "duration": 10,
    "start_time": "2021-10-08T06:52:44.170Z"
   },
   {
    "duration": 46,
    "start_time": "2021-10-08T06:52:48.976Z"
   },
   {
    "duration": 10,
    "start_time": "2021-10-08T06:52:50.221Z"
   },
   {
    "duration": 48,
    "start_time": "2021-10-08T06:52:59.143Z"
   },
   {
    "duration": 9,
    "start_time": "2021-10-08T06:52:59.423Z"
   },
   {
    "duration": 6,
    "start_time": "2021-10-08T06:53:22.577Z"
   },
   {
    "duration": 9,
    "start_time": "2021-10-08T06:54:03.478Z"
   },
   {
    "duration": 12,
    "start_time": "2021-10-08T06:57:40.572Z"
   },
   {
    "duration": 6,
    "start_time": "2021-10-08T06:58:07.718Z"
   },
   {
    "duration": 524,
    "start_time": "2021-10-08T06:58:31.751Z"
   },
   {
    "duration": 434,
    "start_time": "2021-10-08T07:00:31.736Z"
   },
   {
    "duration": 438,
    "start_time": "2021-10-08T07:00:56.847Z"
   },
   {
    "duration": 472,
    "start_time": "2021-10-08T07:01:06.961Z"
   },
   {
    "duration": 470,
    "start_time": "2021-10-08T07:02:40.693Z"
   },
   {
    "duration": 359,
    "start_time": "2021-10-08T07:03:12.922Z"
   },
   {
    "duration": 4,
    "start_time": "2021-10-08T07:03:26.814Z"
   },
   {
    "duration": 267,
    "start_time": "2021-10-08T07:03:32.292Z"
   },
   {
    "duration": 20,
    "start_time": "2021-10-08T07:04:28.725Z"
   },
   {
    "duration": 8,
    "start_time": "2021-10-08T07:04:53.343Z"
   },
   {
    "duration": 1395,
    "start_time": "2021-10-08T07:05:02.246Z"
   },
   {
    "duration": 523,
    "start_time": "2021-10-08T07:13:22.928Z"
   },
   {
    "duration": 5,
    "start_time": "2021-10-08T07:37:06.817Z"
   },
   {
    "duration": 167,
    "start_time": "2021-10-08T07:39:18.556Z"
   },
   {
    "duration": 6,
    "start_time": "2021-10-08T07:39:25.676Z"
   },
   {
    "duration": 552,
    "start_time": "2021-10-08T07:39:26.156Z"
   },
   {
    "duration": 6,
    "start_time": "2021-10-08T07:40:14.609Z"
   },
   {
    "duration": 19,
    "start_time": "2021-10-08T07:40:15.128Z"
   },
   {
    "duration": 19,
    "start_time": "2021-10-08T07:40:17.861Z"
   },
   {
    "duration": 28,
    "start_time": "2021-10-08T07:40:32.283Z"
   },
   {
    "duration": 29,
    "start_time": "2021-10-08T07:40:32.782Z"
   },
   {
    "duration": 4,
    "start_time": "2021-10-08T07:43:34.814Z"
   },
   {
    "duration": 18,
    "start_time": "2021-10-08T07:43:39.068Z"
   },
   {
    "duration": 6,
    "start_time": "2021-10-08T07:43:44.274Z"
   },
   {
    "duration": 25,
    "start_time": "2021-10-08T07:43:44.782Z"
   },
   {
    "duration": 20,
    "start_time": "2021-10-08T07:43:45.350Z"
   },
   {
    "duration": 26,
    "start_time": "2021-10-08T07:46:05.923Z"
   },
   {
    "duration": 19,
    "start_time": "2021-10-08T07:46:06.547Z"
   },
   {
    "duration": 19,
    "start_time": "2021-10-08T07:46:25.107Z"
   },
   {
    "duration": 151,
    "start_time": "2021-10-08T07:46:41.616Z"
   },
   {
    "duration": 21,
    "start_time": "2021-10-08T07:46:42.259Z"
   },
   {
    "duration": 231,
    "start_time": "2021-10-08T07:46:53.490Z"
   },
   {
    "duration": 277,
    "start_time": "2021-10-08T07:46:53.866Z"
   },
   {
    "duration": 17,
    "start_time": "2021-10-08T07:46:59.947Z"
   },
   {
    "duration": 19,
    "start_time": "2021-10-08T07:47:00.506Z"
   },
   {
    "duration": 122,
    "start_time": "2021-10-08T07:47:07.634Z"
   },
   {
    "duration": 24,
    "start_time": "2021-10-08T07:47:08.067Z"
   },
   {
    "duration": 14,
    "start_time": "2021-10-08T07:49:31.906Z"
   },
   {
    "duration": 43,
    "start_time": "2021-10-08T07:49:47.241Z"
   },
   {
    "duration": 4,
    "start_time": "2021-10-08T07:55:45.706Z"
   },
   {
    "duration": 41,
    "start_time": "2021-10-08T07:55:45.713Z"
   },
   {
    "duration": 9,
    "start_time": "2021-10-08T07:55:45.757Z"
   },
   {
    "duration": 53,
    "start_time": "2021-10-08T07:55:45.769Z"
   },
   {
    "duration": 9,
    "start_time": "2021-10-08T07:55:45.825Z"
   },
   {
    "duration": 7,
    "start_time": "2021-10-08T07:55:45.836Z"
   },
   {
    "duration": 9,
    "start_time": "2021-10-08T07:55:45.845Z"
   },
   {
    "duration": 44,
    "start_time": "2021-10-08T07:55:45.856Z"
   },
   {
    "duration": 481,
    "start_time": "2021-10-08T07:55:45.904Z"
   },
   {
    "duration": 521,
    "start_time": "2021-10-08T07:55:46.387Z"
   },
   {
    "duration": 9,
    "start_time": "2021-10-08T07:55:46.910Z"
   },
   {
    "duration": 1482,
    "start_time": "2021-10-08T07:55:46.921Z"
   },
   {
    "duration": 362,
    "start_time": "2021-10-08T07:55:48.405Z"
   },
   {
    "duration": 7,
    "start_time": "2021-10-08T07:55:48.770Z"
   },
   {
    "duration": 224,
    "start_time": "2021-10-08T07:55:48.779Z"
   },
   {
    "duration": 204,
    "start_time": "2021-10-08T07:55:49.005Z"
   },
   {
    "duration": 132,
    "start_time": "2021-10-08T07:55:49.302Z"
   },
   {
    "duration": 219,
    "start_time": "2021-10-08T07:57:46.386Z"
   },
   {
    "duration": 409,
    "start_time": "2021-10-08T07:57:47.195Z"
   },
   {
    "duration": 57,
    "start_time": "2021-10-08T07:57:47.801Z"
   },
   {
    "duration": 110,
    "start_time": "2021-10-08T08:04:02.391Z"
   },
   {
    "duration": 5,
    "start_time": "2021-10-08T08:04:37.794Z"
   },
   {
    "duration": 25404,
    "start_time": "2021-10-08T08:05:47.234Z"
   },
   {
    "duration": 4,
    "start_time": "2021-10-08T08:06:18.800Z"
   },
   {
    "duration": 7392,
    "start_time": "2021-10-08T08:06:19.631Z"
   },
   {
    "duration": 20,
    "start_time": "2021-10-08T08:06:48.925Z"
   },
   {
    "duration": 279,
    "start_time": "2021-10-08T08:07:03.544Z"
   },
   {
    "duration": 8,
    "start_time": "2021-10-08T08:07:15.762Z"
   },
   {
    "duration": 3,
    "start_time": "2021-10-08T08:07:53.314Z"
   },
   {
    "duration": 12283,
    "start_time": "2021-10-08T08:07:53.833Z"
   },
   {
    "duration": 9,
    "start_time": "2021-10-08T08:08:08.962Z"
   },
   {
    "duration": 7,
    "start_time": "2021-10-08T08:08:10.376Z"
   },
   {
    "duration": 4,
    "start_time": "2021-10-08T08:08:39.433Z"
   },
   {
    "duration": 30110,
    "start_time": "2021-10-08T08:09:16.402Z"
   },
   {
    "duration": 97,
    "start_time": "2021-10-08T08:09:46.515Z"
   },
   {
    "duration": 6,
    "start_time": "2021-10-08T08:10:00.633Z"
   },
   {
    "duration": 79,
    "start_time": "2021-10-08T08:10:03.027Z"
   },
   {
    "duration": 7,
    "start_time": "2021-10-08T08:10:03.434Z"
   },
   {
    "duration": 496,
    "start_time": "2021-10-08T08:13:19.885Z"
   },
   {
    "duration": 291,
    "start_time": "2021-10-08T08:13:32.116Z"
   },
   {
    "duration": 481,
    "start_time": "2021-10-08T08:13:49.834Z"
   },
   {
    "duration": 483,
    "start_time": "2021-10-08T08:14:00.545Z"
   },
   {
    "duration": 437,
    "start_time": "2021-10-08T08:14:18.667Z"
   },
   {
    "duration": 545,
    "start_time": "2021-10-08T08:14:24.238Z"
   },
   {
    "duration": 505,
    "start_time": "2021-10-08T08:14:29.232Z"
   },
   {
    "duration": 515,
    "start_time": "2021-10-08T08:14:41.177Z"
   },
   {
    "duration": 485,
    "start_time": "2021-10-08T08:14:49.264Z"
   },
   {
    "duration": 474,
    "start_time": "2021-10-08T08:14:58.097Z"
   },
   {
    "duration": 24,
    "start_time": "2021-10-08T11:28:13.421Z"
   },
   {
    "duration": 280,
    "start_time": "2021-10-08T11:28:20.352Z"
   },
   {
    "duration": 5,
    "start_time": "2021-10-08T11:28:44.442Z"
   },
   {
    "duration": 4,
    "start_time": "2021-10-08T11:28:49.734Z"
   },
   {
    "duration": 3475,
    "start_time": "2021-10-08T11:29:25.243Z"
   },
   {
    "duration": 5,
    "start_time": "2021-10-08T11:29:49.604Z"
   },
   {
    "duration": 6,
    "start_time": "2021-10-08T11:30:38.410Z"
   },
   {
    "duration": 6,
    "start_time": "2021-10-08T11:31:06.307Z"
   },
   {
    "duration": 3384,
    "start_time": "2021-10-08T11:31:31.533Z"
   },
   {
    "duration": 44,
    "start_time": "2021-10-08T11:32:16.921Z"
   },
   {
    "duration": 5,
    "start_time": "2021-10-08T11:44:18.029Z"
   },
   {
    "duration": 5,
    "start_time": "2021-10-08T11:44:21.177Z"
   },
   {
    "duration": 3522,
    "start_time": "2021-10-08T11:44:26.865Z"
   },
   {
    "duration": 5,
    "start_time": "2021-10-08T11:44:39.738Z"
   },
   {
    "duration": 6,
    "start_time": "2021-10-08T11:44:40.880Z"
   },
   {
    "duration": 7,
    "start_time": "2021-10-08T11:44:41.792Z"
   },
   {
    "duration": 16,
    "start_time": "2021-10-08T11:48:15.110Z"
   },
   {
    "duration": 5,
    "start_time": "2021-10-08T11:48:33.946Z"
   },
   {
    "duration": 202212,
    "start_time": "2021-10-08T11:49:10.775Z"
   },
   {
    "duration": 22,
    "start_time": "2021-10-08T11:53:02.877Z"
   },
   {
    "duration": 5,
    "start_time": "2021-10-08T11:53:26.605Z"
   },
   {
    "duration": 3958,
    "start_time": "2021-10-08T11:53:27.492Z"
   },
   {
    "duration": 5,
    "start_time": "2021-10-08T11:53:33.588Z"
   },
   {
    "duration": 8,
    "start_time": "2021-10-08T11:53:34.557Z"
   },
   {
    "duration": 6,
    "start_time": "2021-10-08T11:53:35.072Z"
   },
   {
    "duration": 5,
    "start_time": "2021-10-08T11:53:57.975Z"
   },
   {
    "duration": 1946,
    "start_time": "2021-10-08T11:53:59.486Z"
   },
   {
    "duration": 6,
    "start_time": "2021-10-08T11:54:03.150Z"
   },
   {
    "duration": 5,
    "start_time": "2021-10-08T11:54:06.150Z"
   },
   {
    "duration": 7,
    "start_time": "2021-10-08T11:54:06.744Z"
   },
   {
    "duration": 4,
    "start_time": "2021-10-08T11:54:16.568Z"
   },
   {
    "duration": 10,
    "start_time": "2021-10-08T11:56:23.241Z"
   },
   {
    "duration": 445,
    "start_time": "2021-10-08T12:11:19.458Z"
   },
   {
    "duration": 410,
    "start_time": "2021-10-08T12:11:59.399Z"
   },
   {
    "duration": 6,
    "start_time": "2021-10-08T12:12:04.407Z"
   },
   {
    "duration": 6,
    "start_time": "2021-10-08T12:12:25.161Z"
   },
   {
    "duration": 5,
    "start_time": "2021-10-08T12:13:33.374Z"
   },
   {
    "duration": 42,
    "start_time": "2021-10-08T12:13:33.381Z"
   },
   {
    "duration": 8,
    "start_time": "2021-10-08T12:13:33.426Z"
   },
   {
    "duration": 36,
    "start_time": "2021-10-08T12:13:33.437Z"
   },
   {
    "duration": 7,
    "start_time": "2021-10-08T12:13:33.499Z"
   },
   {
    "duration": 11,
    "start_time": "2021-10-08T12:13:33.508Z"
   },
   {
    "duration": 11,
    "start_time": "2021-10-08T12:13:33.523Z"
   },
   {
    "duration": 11,
    "start_time": "2021-10-08T12:13:33.537Z"
   },
   {
    "duration": 530,
    "start_time": "2021-10-08T12:13:33.550Z"
   },
   {
    "duration": 17,
    "start_time": "2021-10-08T12:13:34.083Z"
   },
   {
    "duration": 8,
    "start_time": "2021-10-08T12:13:34.103Z"
   },
   {
    "duration": 225,
    "start_time": "2021-10-08T12:13:34.114Z"
   },
   {
    "duration": 9,
    "start_time": "2021-10-08T12:13:34.341Z"
   },
   {
    "duration": 460,
    "start_time": "2021-10-08T12:13:34.352Z"
   },
   {
    "duration": 6,
    "start_time": "2021-10-08T12:13:34.902Z"
   },
   {
    "duration": 11,
    "start_time": "2021-10-08T12:13:34.910Z"
   },
   {
    "duration": 25710,
    "start_time": "2021-10-08T12:13:35.001Z"
   },
   {
    "duration": 99,
    "start_time": "2021-10-08T12:14:00.713Z"
   },
   {
    "duration": 6,
    "start_time": "2021-10-08T12:14:00.816Z"
   },
   {
    "duration": 79,
    "start_time": "2021-10-08T12:14:00.825Z"
   },
   {
    "duration": 20,
    "start_time": "2021-10-08T12:14:00.907Z"
   },
   {
    "duration": 1999,
    "start_time": "2021-10-08T12:14:00.929Z"
   },
   {
    "duration": 5,
    "start_time": "2021-10-08T12:14:02.930Z"
   },
   {
    "duration": 20,
    "start_time": "2021-10-08T12:14:02.938Z"
   },
   {
    "duration": 16,
    "start_time": "2021-10-08T12:14:02.960Z"
   },
   {
    "duration": 13,
    "start_time": "2021-10-08T12:14:02.978Z"
   },
   {
    "duration": 22,
    "start_time": "2021-10-08T12:14:02.993Z"
   },
   {
    "duration": 109175,
    "start_time": "2021-10-08T12:14:03.018Z"
   },
   {
    "duration": 18,
    "start_time": "2021-10-08T12:15:52.200Z"
   },
   {
    "duration": 5,
    "start_time": "2021-10-08T12:15:52.220Z"
   },
   {
    "duration": 12,
    "start_time": "2021-10-08T12:15:52.228Z"
   },
   {
    "duration": 5,
    "start_time": "2021-10-08T12:19:18.717Z"
   },
   {
    "duration": 47,
    "start_time": "2021-10-08T12:19:18.726Z"
   },
   {
    "duration": 9,
    "start_time": "2021-10-08T12:19:18.776Z"
   },
   {
    "duration": 42,
    "start_time": "2021-10-08T12:19:18.787Z"
   },
   {
    "duration": 5,
    "start_time": "2021-10-08T12:19:18.832Z"
   },
   {
    "duration": 13,
    "start_time": "2021-10-08T12:19:18.839Z"
   },
   {
    "duration": 47,
    "start_time": "2021-10-08T12:19:18.854Z"
   },
   {
    "duration": 11,
    "start_time": "2021-10-08T12:19:18.903Z"
   },
   {
    "duration": 505,
    "start_time": "2021-10-08T12:19:18.920Z"
   },
   {
    "duration": 9,
    "start_time": "2021-10-08T12:19:19.429Z"
   },
   {
    "duration": 9,
    "start_time": "2021-10-08T12:19:19.441Z"
   },
   {
    "duration": 107,
    "start_time": "2021-10-08T12:19:19.452Z"
   },
   {
    "duration": 6,
    "start_time": "2021-10-08T12:19:19.562Z"
   },
   {
    "duration": 230,
    "start_time": "2021-10-08T12:19:19.572Z"
   },
   {
    "duration": 6,
    "start_time": "2021-10-08T12:19:19.804Z"
   },
   {
    "duration": 87,
    "start_time": "2021-10-08T12:19:19.813Z"
   },
   {
    "duration": 14610,
    "start_time": "2021-10-08T12:19:19.903Z"
   },
   {
    "duration": 93,
    "start_time": "2021-10-08T12:19:34.516Z"
   },
   {
    "duration": 6,
    "start_time": "2021-10-08T12:19:34.611Z"
   },
   {
    "duration": 208,
    "start_time": "2021-10-08T12:19:34.619Z"
   },
   {
    "duration": 13,
    "start_time": "2021-10-08T12:19:34.829Z"
   },
   {
    "duration": 705,
    "start_time": "2021-10-08T12:19:34.845Z"
   },
   {
    "duration": 4,
    "start_time": "2021-10-08T12:19:35.552Z"
   },
   {
    "duration": 15,
    "start_time": "2021-10-08T12:19:35.558Z"
   },
   {
    "duration": 25,
    "start_time": "2021-10-08T12:19:35.575Z"
   },
   {
    "duration": 12,
    "start_time": "2021-10-08T12:19:35.602Z"
   },
   {
    "duration": 12,
    "start_time": "2021-10-08T12:19:35.618Z"
   },
   {
    "duration": 36694,
    "start_time": "2021-10-08T12:19:35.632Z"
   },
   {
    "duration": 19,
    "start_time": "2021-10-08T12:20:12.328Z"
   },
   {
    "duration": 6,
    "start_time": "2021-10-08T12:20:12.349Z"
   },
   {
    "duration": 11,
    "start_time": "2021-10-08T12:20:12.357Z"
   },
   {
    "duration": 6,
    "start_time": "2021-10-08T12:21:20.197Z"
   },
   {
    "duration": 43,
    "start_time": "2021-10-08T12:21:20.207Z"
   },
   {
    "duration": 11,
    "start_time": "2021-10-08T12:21:20.253Z"
   },
   {
    "duration": 69,
    "start_time": "2021-10-08T12:21:20.268Z"
   },
   {
    "duration": 5,
    "start_time": "2021-10-08T12:21:20.339Z"
   },
   {
    "duration": 9,
    "start_time": "2021-10-08T12:21:20.347Z"
   },
   {
    "duration": 48,
    "start_time": "2021-10-08T12:21:20.360Z"
   },
   {
    "duration": 8,
    "start_time": "2021-10-08T12:21:20.411Z"
   },
   {
    "duration": 503,
    "start_time": "2021-10-08T12:21:20.422Z"
   },
   {
    "duration": 9,
    "start_time": "2021-10-08T12:21:20.928Z"
   },
   {
    "duration": 10,
    "start_time": "2021-10-08T12:21:20.940Z"
   },
   {
    "duration": 129,
    "start_time": "2021-10-08T12:21:20.953Z"
   },
   {
    "duration": 15,
    "start_time": "2021-10-08T12:21:21.085Z"
   },
   {
    "duration": 205,
    "start_time": "2021-10-08T12:21:21.104Z"
   },
   {
    "duration": 6,
    "start_time": "2021-10-08T12:21:21.402Z"
   },
   {
    "duration": 14,
    "start_time": "2021-10-08T12:21:21.411Z"
   },
   {
    "duration": 14486,
    "start_time": "2021-10-08T12:21:21.427Z"
   },
   {
    "duration": 93,
    "start_time": "2021-10-08T12:21:35.916Z"
   },
   {
    "duration": 89,
    "start_time": "2021-10-08T12:21:36.013Z"
   },
   {
    "duration": 6,
    "start_time": "2021-10-08T12:21:36.105Z"
   },
   {
    "duration": 6,
    "start_time": "2021-10-08T12:21:36.113Z"
   },
   {
    "duration": 907,
    "start_time": "2021-10-08T12:21:36.121Z"
   },
   {
    "duration": 5,
    "start_time": "2021-10-08T12:21:37.030Z"
   },
   {
    "duration": 8,
    "start_time": "2021-10-08T12:21:37.037Z"
   },
   {
    "duration": 8,
    "start_time": "2021-10-08T12:21:37.047Z"
   },
   {
    "duration": 12,
    "start_time": "2021-10-08T12:21:37.057Z"
   },
   {
    "duration": 4,
    "start_time": "2021-10-08T12:21:37.101Z"
   },
   {
    "duration": 49571,
    "start_time": "2021-10-08T12:21:37.108Z"
   },
   {
    "duration": 26,
    "start_time": "2021-10-08T12:22:26.681Z"
   },
   {
    "duration": 6,
    "start_time": "2021-10-08T12:22:26.709Z"
   },
   {
    "duration": 11,
    "start_time": "2021-10-08T12:22:26.717Z"
   },
   {
    "duration": 90,
    "start_time": "2021-10-08T12:25:06.476Z"
   },
   {
    "duration": 88,
    "start_time": "2021-10-08T12:28:50.694Z"
   },
   {
    "duration": 2056,
    "start_time": "2021-10-09T09:37:53.334Z"
   },
   {
    "duration": 47,
    "start_time": "2021-10-09T09:37:55.393Z"
   },
   {
    "duration": 27,
    "start_time": "2021-10-09T09:37:55.444Z"
   },
   {
    "duration": 57,
    "start_time": "2021-10-09T09:37:55.474Z"
   },
   {
    "duration": 6,
    "start_time": "2021-10-09T09:37:55.534Z"
   },
   {
    "duration": 13,
    "start_time": "2021-10-09T09:37:55.563Z"
   },
   {
    "duration": 14,
    "start_time": "2021-10-09T09:37:55.579Z"
   },
   {
    "duration": 7,
    "start_time": "2021-10-09T09:37:55.596Z"
   },
   {
    "duration": 717,
    "start_time": "2021-10-09T09:37:55.606Z"
   },
   {
    "duration": 1512,
    "start_time": "2021-10-09T09:38:14.222Z"
   },
   {
    "duration": 1071,
    "start_time": "2021-10-09T09:39:17.265Z"
   },
   {
    "duration": 1337,
    "start_time": "2021-10-09T09:39:42.978Z"
   },
   {
    "duration": 1278,
    "start_time": "2021-10-09T09:40:07.199Z"
   },
   {
    "duration": 1562,
    "start_time": "2021-10-09T09:40:28.594Z"
   },
   {
    "duration": 1546,
    "start_time": "2021-10-09T09:41:12.496Z"
   },
   {
    "duration": 1326,
    "start_time": "2021-10-09T09:41:26.221Z"
   },
   {
    "duration": 1266,
    "start_time": "2021-10-09T09:41:58.658Z"
   },
   {
    "duration": 1396,
    "start_time": "2021-10-09T09:42:09.903Z"
   },
   {
    "duration": 200,
    "start_time": "2021-10-09T09:44:27.464Z"
   },
   {
    "duration": 6,
    "start_time": "2021-10-09T09:48:07.126Z"
   },
   {
    "duration": 4,
    "start_time": "2021-10-09T09:52:15.639Z"
   },
   {
    "duration": 5,
    "start_time": "2021-10-09T09:52:35.629Z"
   },
   {
    "duration": 324,
    "start_time": "2021-10-09T09:52:44.491Z"
   },
   {
    "duration": 5,
    "start_time": "2021-10-09T09:52:52.855Z"
   },
   {
    "duration": 38,
    "start_time": "2021-10-09T09:52:52.863Z"
   },
   {
    "duration": 9,
    "start_time": "2021-10-09T09:52:52.904Z"
   },
   {
    "duration": 58,
    "start_time": "2021-10-09T09:52:52.915Z"
   },
   {
    "duration": 5,
    "start_time": "2021-10-09T09:52:52.975Z"
   },
   {
    "duration": 11,
    "start_time": "2021-10-09T09:52:52.982Z"
   },
   {
    "duration": 11,
    "start_time": "2021-10-09T09:52:52.996Z"
   },
   {
    "duration": 7,
    "start_time": "2021-10-09T09:52:53.010Z"
   },
   {
    "duration": 467,
    "start_time": "2021-10-09T09:52:53.062Z"
   },
   {
    "duration": 1277,
    "start_time": "2021-10-09T09:52:53.533Z"
   },
   {
    "duration": 8,
    "start_time": "2021-10-09T09:52:54.813Z"
   },
   {
    "duration": 6,
    "start_time": "2021-10-09T09:52:54.824Z"
   },
   {
    "duration": 133,
    "start_time": "2021-10-09T09:52:54.833Z"
   },
   {
    "duration": 7,
    "start_time": "2021-10-09T09:52:54.968Z"
   },
   {
    "duration": 194,
    "start_time": "2021-10-09T09:52:54.977Z"
   },
   {
    "duration": 7,
    "start_time": "2021-10-09T09:52:55.263Z"
   },
   {
    "duration": 8,
    "start_time": "2021-10-09T09:52:55.272Z"
   },
   {
    "duration": 12797,
    "start_time": "2021-10-09T09:52:55.282Z"
   },
   {
    "duration": 107,
    "start_time": "2021-10-09T09:53:08.083Z"
   },
   {
    "duration": 9,
    "start_time": "2021-10-09T09:53:08.263Z"
   },
   {
    "duration": 10,
    "start_time": "2021-10-09T09:53:08.275Z"
   },
   {
    "duration": 6,
    "start_time": "2021-10-09T09:53:08.288Z"
   },
   {
    "duration": 7,
    "start_time": "2021-10-09T09:53:08.296Z"
   },
   {
    "duration": 960,
    "start_time": "2021-10-09T09:53:08.306Z"
   },
   {
    "duration": 931,
    "start_time": "2021-10-09T09:53:15.961Z"
   },
   {
    "duration": 5,
    "start_time": "2021-10-09T09:53:22.448Z"
   },
   {
    "duration": 5,
    "start_time": "2021-10-09T09:53:23.769Z"
   },
   {
    "duration": 6,
    "start_time": "2021-10-09T09:53:24.995Z"
   },
   {
    "duration": 6,
    "start_time": "2021-10-09T09:53:29.440Z"
   },
   {
    "duration": 8,
    "start_time": "2021-10-09T09:56:16.213Z"
   },
   {
    "duration": 38,
    "start_time": "2021-10-09T09:56:16.225Z"
   },
   {
    "duration": 9,
    "start_time": "2021-10-09T09:56:16.265Z"
   },
   {
    "duration": 37,
    "start_time": "2021-10-09T09:56:16.277Z"
   },
   {
    "duration": 6,
    "start_time": "2021-10-09T09:56:16.317Z"
   },
   {
    "duration": 39,
    "start_time": "2021-10-09T09:56:16.325Z"
   },
   {
    "duration": 10,
    "start_time": "2021-10-09T09:56:16.367Z"
   },
   {
    "duration": 7,
    "start_time": "2021-10-09T09:56:16.381Z"
   },
   {
    "duration": 516,
    "start_time": "2021-10-09T09:56:16.391Z"
   },
   {
    "duration": 1466,
    "start_time": "2021-10-09T09:56:16.910Z"
   },
   {
    "duration": 8,
    "start_time": "2021-10-09T09:56:18.379Z"
   },
   {
    "duration": 6,
    "start_time": "2021-10-09T09:56:18.390Z"
   },
   {
    "duration": 140,
    "start_time": "2021-10-09T09:56:18.398Z"
   },
   {
    "duration": 8,
    "start_time": "2021-10-09T09:56:18.540Z"
   },
   {
    "duration": 109,
    "start_time": "2021-10-09T09:56:18.561Z"
   },
   {
    "duration": 8,
    "start_time": "2021-10-09T09:56:18.764Z"
   },
   {
    "duration": 4,
    "start_time": "2021-10-09T09:56:18.863Z"
   },
   {
    "duration": 12506,
    "start_time": "2021-10-09T09:56:18.870Z"
   },
   {
    "duration": 98,
    "start_time": "2021-10-09T09:56:31.380Z"
   },
   {
    "duration": 7,
    "start_time": "2021-10-09T09:56:31.481Z"
   },
   {
    "duration": 75,
    "start_time": "2021-10-09T09:56:31.491Z"
   },
   {
    "duration": 9,
    "start_time": "2021-10-09T09:56:31.569Z"
   },
   {
    "duration": 9,
    "start_time": "2021-10-09T09:56:31.581Z"
   },
   {
    "duration": 1121,
    "start_time": "2021-10-09T09:56:31.593Z"
   },
   {
    "duration": 4,
    "start_time": "2021-10-09T09:56:32.717Z"
   },
   {
    "duration": 12,
    "start_time": "2021-10-09T09:56:32.723Z"
   },
   {
    "duration": 26,
    "start_time": "2021-10-09T09:56:32.737Z"
   },
   {
    "duration": 16,
    "start_time": "2021-10-09T09:56:32.766Z"
   },
   {
    "duration": 8,
    "start_time": "2021-10-09T09:56:32.785Z"
   },
   {
    "duration": 40612,
    "start_time": "2021-10-09T09:56:32.796Z"
   },
   {
    "duration": 10,
    "start_time": "2021-10-09T09:57:13.410Z"
   },
   {
    "duration": 5,
    "start_time": "2021-10-09T09:57:13.423Z"
   },
   {
    "duration": 35,
    "start_time": "2021-10-09T09:57:13.431Z"
   },
   {
    "duration": 297,
    "start_time": "2021-10-09T09:57:36.790Z"
   },
   {
    "duration": 307,
    "start_time": "2021-10-09T09:58:23.126Z"
   },
   {
    "duration": 389,
    "start_time": "2021-10-09T09:58:30.845Z"
   },
   {
    "duration": 294,
    "start_time": "2021-10-09T09:58:55.703Z"
   },
   {
    "duration": 121,
    "start_time": "2021-10-09T09:59:00.859Z"
   },
   {
    "duration": 975,
    "start_time": "2021-10-09T09:59:06.102Z"
   },
   {
    "duration": 305,
    "start_time": "2021-10-09T09:59:49.289Z"
   },
   {
    "duration": 337,
    "start_time": "2021-10-09T09:59:54.047Z"
   },
   {
    "duration": 310,
    "start_time": "2021-10-09T10:01:32.623Z"
   },
   {
    "duration": 228,
    "start_time": "2021-10-09T10:01:41.497Z"
   },
   {
    "duration": 8,
    "start_time": "2021-10-09T10:03:59.773Z"
   },
   {
    "duration": 8,
    "start_time": "2021-10-09T10:04:29.454Z"
   },
   {
    "duration": 11,
    "start_time": "2021-10-09T10:04:34.083Z"
   },
   {
    "duration": 8,
    "start_time": "2021-10-09T10:04:57.256Z"
   },
   {
    "duration": 330,
    "start_time": "2021-10-09T10:05:18.981Z"
   },
   {
    "duration": 9,
    "start_time": "2021-10-09T10:08:31.000Z"
   },
   {
    "duration": 6,
    "start_time": "2021-10-09T10:11:36.254Z"
   },
   {
    "duration": 8,
    "start_time": "2021-10-09T10:11:46.374Z"
   },
   {
    "duration": 400,
    "start_time": "2021-10-09T10:11:59.904Z"
   },
   {
    "duration": 354,
    "start_time": "2021-10-09T10:12:35.037Z"
   },
   {
    "duration": 8,
    "start_time": "2021-10-09T10:12:42.368Z"
   },
   {
    "duration": 17,
    "start_time": "2021-10-09T10:12:45.310Z"
   },
   {
    "duration": 17,
    "start_time": "2021-10-09T10:13:19.102Z"
   },
   {
    "duration": 8,
    "start_time": "2021-10-09T10:14:51.079Z"
   },
   {
    "duration": 6,
    "start_time": "2021-10-09T10:16:49.329Z"
   },
   {
    "duration": 40,
    "start_time": "2021-10-09T10:16:49.337Z"
   },
   {
    "duration": 8,
    "start_time": "2021-10-09T10:16:49.380Z"
   },
   {
    "duration": 36,
    "start_time": "2021-10-09T10:16:49.391Z"
   },
   {
    "duration": 6,
    "start_time": "2021-10-09T10:16:49.429Z"
   },
   {
    "duration": 31,
    "start_time": "2021-10-09T10:16:49.437Z"
   },
   {
    "duration": 18,
    "start_time": "2021-10-09T10:16:49.472Z"
   },
   {
    "duration": 16,
    "start_time": "2021-10-09T10:16:49.493Z"
   },
   {
    "duration": 545,
    "start_time": "2021-10-09T10:16:49.511Z"
   },
   {
    "duration": 1636,
    "start_time": "2021-10-09T10:16:50.062Z"
   },
   {
    "duration": 334,
    "start_time": "2021-10-09T10:16:51.701Z"
   },
   {
    "duration": 897,
    "start_time": "2021-10-09T10:16:51.141Z"
   },
   {
    "duration": 884,
    "start_time": "2021-10-09T10:16:51.155Z"
   },
   {
    "duration": 867,
    "start_time": "2021-10-09T10:16:51.173Z"
   },
   {
    "duration": 862,
    "start_time": "2021-10-09T10:16:51.180Z"
   },
   {
    "duration": 849,
    "start_time": "2021-10-09T10:16:51.194Z"
   },
   {
    "duration": 841,
    "start_time": "2021-10-09T10:16:51.203Z"
   },
   {
    "duration": 808,
    "start_time": "2021-10-09T10:16:51.237Z"
   },
   {
    "duration": 792,
    "start_time": "2021-10-09T10:16:51.254Z"
   },
   {
    "duration": 764,
    "start_time": "2021-10-09T10:16:51.284Z"
   },
   {
    "duration": 746,
    "start_time": "2021-10-09T10:16:51.303Z"
   },
   {
    "duration": 727,
    "start_time": "2021-10-09T10:16:51.323Z"
   },
   {
    "duration": 702,
    "start_time": "2021-10-09T10:16:51.349Z"
   },
   {
    "duration": 687,
    "start_time": "2021-10-09T10:16:51.366Z"
   },
   {
    "duration": 674,
    "start_time": "2021-10-09T10:16:51.380Z"
   },
   {
    "duration": 658,
    "start_time": "2021-10-09T10:16:51.397Z"
   },
   {
    "duration": 640,
    "start_time": "2021-10-09T10:16:51.416Z"
   },
   {
    "duration": 624,
    "start_time": "2021-10-09T10:16:51.434Z"
   },
   {
    "duration": 609,
    "start_time": "2021-10-09T10:16:51.451Z"
   },
   {
    "duration": 593,
    "start_time": "2021-10-09T10:16:51.468Z"
   },
   {
    "duration": 579,
    "start_time": "2021-10-09T10:16:51.484Z"
   },
   {
    "duration": 556,
    "start_time": "2021-10-09T10:16:51.508Z"
   },
   {
    "duration": 537,
    "start_time": "2021-10-09T10:16:51.529Z"
   },
   {
    "duration": 531,
    "start_time": "2021-10-09T10:16:51.537Z"
   },
   {
    "duration": 6,
    "start_time": "2021-10-09T10:17:05.603Z"
   },
   {
    "duration": 39,
    "start_time": "2021-10-09T10:17:05.612Z"
   },
   {
    "duration": 11,
    "start_time": "2021-10-09T10:17:05.654Z"
   },
   {
    "duration": 36,
    "start_time": "2021-10-09T10:17:05.669Z"
   },
   {
    "duration": 6,
    "start_time": "2021-10-09T10:17:05.708Z"
   },
   {
    "duration": 45,
    "start_time": "2021-10-09T10:17:05.717Z"
   },
   {
    "duration": 12,
    "start_time": "2021-10-09T10:17:05.766Z"
   },
   {
    "duration": 9,
    "start_time": "2021-10-09T10:17:05.782Z"
   },
   {
    "duration": 520,
    "start_time": "2021-10-09T10:17:05.794Z"
   },
   {
    "duration": 1420,
    "start_time": "2021-10-09T10:17:06.317Z"
   },
   {
    "duration": 7,
    "start_time": "2021-10-09T10:17:07.740Z"
   },
   {
    "duration": 15,
    "start_time": "2021-10-09T10:17:07.751Z"
   },
   {
    "duration": 125,
    "start_time": "2021-10-09T10:17:07.769Z"
   },
   {
    "duration": 10,
    "start_time": "2021-10-09T10:17:07.896Z"
   },
   {
    "duration": 12,
    "start_time": "2021-10-09T10:17:07.909Z"
   },
   {
    "duration": 144,
    "start_time": "2021-10-09T10:17:07.924Z"
   },
   {
    "duration": 96,
    "start_time": "2021-10-09T10:17:08.071Z"
   },
   {
    "duration": 8,
    "start_time": "2021-10-09T10:17:08.170Z"
   },
   {
    "duration": 2387,
    "start_time": "2021-10-09T10:20:26.514Z"
   },
   {
    "duration": 60,
    "start_time": "2021-10-09T10:20:28.905Z"
   },
   {
    "duration": 26,
    "start_time": "2021-10-09T10:20:28.970Z"
   },
   {
    "duration": 62,
    "start_time": "2021-10-09T10:20:29.000Z"
   },
   {
    "duration": 6,
    "start_time": "2021-10-09T10:20:29.064Z"
   },
   {
    "duration": 12,
    "start_time": "2021-10-09T10:20:29.073Z"
   },
   {
    "duration": 15,
    "start_time": "2021-10-09T10:20:29.088Z"
   },
   {
    "duration": 9,
    "start_time": "2021-10-09T10:20:29.106Z"
   },
   {
    "duration": 540,
    "start_time": "2021-10-09T10:20:29.118Z"
   },
   {
    "duration": 1496,
    "start_time": "2021-10-09T10:20:29.663Z"
   },
   {
    "duration": 8,
    "start_time": "2021-10-09T10:20:31.162Z"
   },
   {
    "duration": 17,
    "start_time": "2021-10-09T10:20:31.173Z"
   },
   {
    "duration": 211,
    "start_time": "2021-10-09T10:20:31.192Z"
   },
   {
    "duration": 8,
    "start_time": "2021-10-09T10:20:31.405Z"
   },
   {
    "duration": 16,
    "start_time": "2021-10-09T10:20:31.416Z"
   },
   {
    "duration": 336,
    "start_time": "2021-10-09T10:20:31.435Z"
   },
   {
    "duration": 95,
    "start_time": "2021-10-09T10:20:31.775Z"
   },
   {
    "duration": 88,
    "start_time": "2021-10-09T10:20:31.874Z"
   },
   {
    "duration": 1639,
    "start_time": "2021-10-09T10:23:04.512Z"
   },
   {
    "duration": 64,
    "start_time": "2021-10-09T10:23:06.153Z"
   },
   {
    "duration": 26,
    "start_time": "2021-10-09T10:23:06.222Z"
   },
   {
    "duration": 62,
    "start_time": "2021-10-09T10:23:06.261Z"
   },
   {
    "duration": 8,
    "start_time": "2021-10-09T10:23:06.326Z"
   },
   {
    "duration": 37,
    "start_time": "2021-10-09T10:23:06.338Z"
   },
   {
    "duration": 23,
    "start_time": "2021-10-09T10:23:06.379Z"
   },
   {
    "duration": 14,
    "start_time": "2021-10-09T10:23:06.409Z"
   },
   {
    "duration": 941,
    "start_time": "2021-10-09T10:23:06.461Z"
   },
   {
    "duration": 2639,
    "start_time": "2021-10-09T10:23:07.406Z"
   },
   {
    "duration": 22,
    "start_time": "2021-10-09T10:23:10.049Z"
   },
   {
    "duration": 10,
    "start_time": "2021-10-09T10:23:10.075Z"
   },
   {
    "duration": 210,
    "start_time": "2021-10-09T10:23:10.088Z"
   },
   {
    "duration": 9,
    "start_time": "2021-10-09T10:23:10.301Z"
   },
   {
    "duration": 14,
    "start_time": "2021-10-09T10:23:10.313Z"
   },
   {
    "duration": 332,
    "start_time": "2021-10-09T10:23:10.330Z"
   },
   {
    "duration": 8,
    "start_time": "2021-10-09T10:23:10.666Z"
   },
   {
    "duration": 103,
    "start_time": "2021-10-09T10:23:10.677Z"
   },
   {
    "duration": 5,
    "start_time": "2021-10-09T10:23:10.783Z"
   },
   {
    "duration": 1621,
    "start_time": "2021-10-09T10:28:44.546Z"
   },
   {
    "duration": 46,
    "start_time": "2021-10-09T10:28:46.170Z"
   },
   {
    "duration": 19,
    "start_time": "2021-10-09T10:28:46.220Z"
   },
   {
    "duration": 76,
    "start_time": "2021-10-09T10:28:46.244Z"
   },
   {
    "duration": 7,
    "start_time": "2021-10-09T10:28:46.324Z"
   },
   {
    "duration": 34,
    "start_time": "2021-10-09T10:28:46.334Z"
   },
   {
    "duration": 16,
    "start_time": "2021-10-09T10:28:46.371Z"
   },
   {
    "duration": 9,
    "start_time": "2021-10-09T10:28:46.391Z"
   },
   {
    "duration": 514,
    "start_time": "2021-10-09T10:28:46.403Z"
   },
   {
    "duration": 1300,
    "start_time": "2021-10-09T10:28:46.919Z"
   },
   {
    "duration": 8,
    "start_time": "2021-10-09T10:28:48.221Z"
   },
   {
    "duration": 31,
    "start_time": "2021-10-09T10:28:48.231Z"
   },
   {
    "duration": 200,
    "start_time": "2021-10-09T10:28:48.265Z"
   },
   {
    "duration": 7,
    "start_time": "2021-10-09T10:28:48.467Z"
   },
   {
    "duration": 12,
    "start_time": "2021-10-09T10:28:48.477Z"
   },
   {
    "duration": 279,
    "start_time": "2021-10-09T10:28:48.491Z"
   },
   {
    "duration": 93,
    "start_time": "2021-10-09T10:28:48.772Z"
   },
   {
    "duration": 9,
    "start_time": "2021-10-09T10:28:48.868Z"
   },
   {
    "duration": 10,
    "start_time": "2021-10-09T10:28:48.879Z"
   },
   {
    "duration": 4,
    "start_time": "2021-10-09T10:28:48.893Z"
   },
   {
    "duration": 7,
    "start_time": "2021-10-09T10:28:48.900Z"
   },
   {
    "duration": 11,
    "start_time": "2021-10-09T10:28:48.963Z"
   },
   {
    "duration": 5,
    "start_time": "2021-10-09T10:28:48.978Z"
   },
   {
    "duration": 7,
    "start_time": "2021-10-09T10:28:48.986Z"
   },
   {
    "duration": 982,
    "start_time": "2021-10-09T10:28:48.997Z"
   },
   {
    "duration": 5,
    "start_time": "2021-10-09T10:28:49.981Z"
   },
   {
    "duration": 8,
    "start_time": "2021-10-09T10:28:49.990Z"
   },
   {
    "duration": 10,
    "start_time": "2021-10-09T10:28:50.001Z"
   },
   {
    "duration": 48,
    "start_time": "2021-10-09T10:28:50.014Z"
   },
   {
    "duration": 7,
    "start_time": "2021-10-09T10:28:50.066Z"
   },
   {
    "duration": 59297,
    "start_time": "2021-10-09T10:28:50.077Z"
   },
   {
    "duration": 16,
    "start_time": "2021-10-09T10:29:49.378Z"
   },
   {
    "duration": 643,
    "start_time": "2021-10-09T10:29:49.397Z"
   },
   {
    "duration": 875,
    "start_time": "2021-10-09T10:29:49.169Z"
   },
   {
    "duration": 12,
    "start_time": "2021-10-09T10:30:27.310Z"
   },
   {
    "duration": 9,
    "start_time": "2021-10-09T10:30:30.526Z"
   },
   {
    "duration": 18,
    "start_time": "2021-10-09T10:30:39.325Z"
   },
   {
    "duration": 456,
    "start_time": "2021-10-09T10:30:47.843Z"
   },
   {
    "duration": 2101,
    "start_time": "2021-10-09T10:31:10.781Z"
   },
   {
    "duration": 455,
    "start_time": "2021-10-09T10:31:41.845Z"
   },
   {
    "duration": 294,
    "start_time": "2021-10-09T10:31:58.822Z"
   },
   {
    "duration": 432,
    "start_time": "2021-10-09T10:32:06.218Z"
   },
   {
    "duration": 413,
    "start_time": "2021-10-09T10:32:12.797Z"
   },
   {
    "duration": 433,
    "start_time": "2021-10-09T10:32:17.315Z"
   },
   {
    "duration": 410,
    "start_time": "2021-10-09T10:33:32.526Z"
   },
   {
    "duration": 569,
    "start_time": "2021-10-09T10:34:11.132Z"
   },
   {
    "duration": 419,
    "start_time": "2021-10-09T10:34:16.171Z"
   },
   {
    "duration": 407,
    "start_time": "2021-10-09T10:34:26.403Z"
   },
   {
    "duration": 490,
    "start_time": "2021-10-09T10:34:48.727Z"
   },
   {
    "duration": 112,
    "start_time": "2021-10-09T10:35:23.265Z"
   },
   {
    "duration": 104,
    "start_time": "2021-10-09T10:35:29.073Z"
   },
   {
    "duration": 596,
    "start_time": "2021-10-09T10:35:36.897Z"
   },
   {
    "duration": 469,
    "start_time": "2021-10-09T10:37:12.989Z"
   },
   {
    "duration": 477,
    "start_time": "2021-10-09T10:37:22.780Z"
   },
   {
    "duration": 520,
    "start_time": "2021-10-09T10:37:29.170Z"
   },
   {
    "duration": 993,
    "start_time": "2021-10-09T10:38:42.770Z"
   },
   {
    "duration": 511,
    "start_time": "2021-10-09T10:38:53.332Z"
   },
   {
    "duration": 5,
    "start_time": "2021-10-09T10:40:08.238Z"
   },
   {
    "duration": 57,
    "start_time": "2021-10-09T10:40:08.248Z"
   },
   {
    "duration": 16,
    "start_time": "2021-10-09T10:40:08.310Z"
   },
   {
    "duration": 86,
    "start_time": "2021-10-09T10:40:08.330Z"
   },
   {
    "duration": 8,
    "start_time": "2021-10-09T10:40:08.420Z"
   },
   {
    "duration": 39,
    "start_time": "2021-10-09T10:40:08.432Z"
   },
   {
    "duration": 19,
    "start_time": "2021-10-09T10:40:08.475Z"
   },
   {
    "duration": 13,
    "start_time": "2021-10-09T10:40:08.502Z"
   },
   {
    "duration": 637,
    "start_time": "2021-10-09T10:40:08.518Z"
   },
   {
    "duration": 1357,
    "start_time": "2021-10-09T10:40:09.161Z"
   },
   {
    "duration": 9,
    "start_time": "2021-10-09T10:40:10.522Z"
   },
   {
    "duration": 27,
    "start_time": "2021-10-09T10:40:10.535Z"
   },
   {
    "duration": 124,
    "start_time": "2021-10-09T10:40:10.566Z"
   },
   {
    "duration": 9,
    "start_time": "2021-10-09T10:40:10.693Z"
   },
   {
    "duration": 14,
    "start_time": "2021-10-09T10:40:10.704Z"
   },
   {
    "duration": 248,
    "start_time": "2021-10-09T10:40:10.720Z"
   },
   {
    "duration": 93,
    "start_time": "2021-10-09T10:40:10.974Z"
   },
   {
    "duration": 95,
    "start_time": "2021-10-09T10:40:11.071Z"
   },
   {
    "duration": 448202,
    "start_time": "2021-10-09T10:40:11.169Z"
   },
   {
    "duration": 96,
    "start_time": "2021-10-09T10:47:39.373Z"
   },
   {
    "duration": 7,
    "start_time": "2021-10-09T10:47:39.472Z"
   },
   {
    "duration": 9,
    "start_time": "2021-10-09T10:47:39.482Z"
   },
   {
    "duration": 66,
    "start_time": "2021-10-09T10:47:39.496Z"
   },
   {
    "duration": 7,
    "start_time": "2021-10-09T10:47:39.567Z"
   },
   {
    "duration": 984,
    "start_time": "2021-10-09T10:47:39.578Z"
   },
   {
    "duration": 8,
    "start_time": "2021-10-09T10:47:40.564Z"
   },
   {
    "duration": 6,
    "start_time": "2021-10-09T10:47:40.576Z"
   },
   {
    "duration": 12,
    "start_time": "2021-10-09T10:47:40.585Z"
   },
   {
    "duration": 8,
    "start_time": "2021-10-09T10:47:40.600Z"
   },
   {
    "duration": 6,
    "start_time": "2021-10-09T10:47:40.611Z"
   },
   {
    "duration": 42077,
    "start_time": "2021-10-09T10:47:40.619Z"
   },
   {
    "duration": 12,
    "start_time": "2021-10-09T10:48:22.698Z"
   },
   {
    "duration": 8,
    "start_time": "2021-10-09T10:48:22.713Z"
   },
   {
    "duration": 41,
    "start_time": "2021-10-09T10:48:22.723Z"
   },
   {
    "duration": 559,
    "start_time": "2021-10-09T10:48:22.766Z"
   },
   {
    "duration": 104,
    "start_time": "2021-10-09T10:54:40.771Z"
   },
   {
    "duration": 339,
    "start_time": "2021-10-10T09:27:49.784Z"
   },
   {
    "duration": 1602,
    "start_time": "2021-10-10T09:28:08.383Z"
   },
   {
    "duration": 38,
    "start_time": "2021-10-10T09:28:09.988Z"
   },
   {
    "duration": 13,
    "start_time": "2021-10-10T09:28:10.029Z"
   },
   {
    "duration": 57,
    "start_time": "2021-10-10T09:28:10.045Z"
   },
   {
    "duration": 6,
    "start_time": "2021-10-10T09:28:10.105Z"
   },
   {
    "duration": 17,
    "start_time": "2021-10-10T09:28:10.113Z"
   },
   {
    "duration": 40,
    "start_time": "2021-10-10T09:28:10.132Z"
   },
   {
    "duration": 11,
    "start_time": "2021-10-10T09:28:10.177Z"
   },
   {
    "duration": 567,
    "start_time": "2021-10-10T09:28:10.191Z"
   },
   {
    "duration": 1552,
    "start_time": "2021-10-10T09:28:10.768Z"
   },
   {
    "duration": 9,
    "start_time": "2021-10-10T09:28:12.323Z"
   },
   {
    "duration": 8,
    "start_time": "2021-10-10T09:28:12.335Z"
   },
   {
    "duration": 214,
    "start_time": "2021-10-10T09:28:12.346Z"
   },
   {
    "duration": 10,
    "start_time": "2021-10-10T09:28:12.563Z"
   },
   {
    "duration": 17,
    "start_time": "2021-10-10T09:28:12.575Z"
   },
   {
    "duration": 279,
    "start_time": "2021-10-10T09:28:12.595Z"
   },
   {
    "duration": 9,
    "start_time": "2021-10-10T09:28:12.877Z"
   },
   {
    "duration": 6,
    "start_time": "2021-10-10T09:28:12.969Z"
   },
   {
    "duration": 9,
    "start_time": "2021-10-10T09:28:12.977Z"
   },
   {
    "duration": 23996,
    "start_time": "2021-10-10T09:28:12.989Z"
   },
   {
    "duration": 185,
    "start_time": "2021-10-10T09:28:36.988Z"
   },
   {
    "duration": 8,
    "start_time": "2021-10-10T09:28:37.176Z"
   },
   {
    "duration": 7,
    "start_time": "2021-10-10T09:28:37.191Z"
   },
   {
    "duration": 6,
    "start_time": "2021-10-10T09:28:37.201Z"
   },
   {
    "duration": 60,
    "start_time": "2021-10-10T09:28:37.209Z"
   },
   {
    "duration": 943,
    "start_time": "2021-10-10T09:28:37.271Z"
   },
   {
    "duration": 7,
    "start_time": "2021-10-10T09:28:38.217Z"
   },
   {
    "duration": 7,
    "start_time": "2021-10-10T09:28:38.227Z"
   },
   {
    "duration": 35,
    "start_time": "2021-10-10T09:28:38.236Z"
   },
   {
    "duration": 13,
    "start_time": "2021-10-10T09:28:38.273Z"
   },
   {
    "duration": 11,
    "start_time": "2021-10-10T09:28:38.288Z"
   },
   {
    "duration": 50977,
    "start_time": "2021-10-10T09:28:38.301Z"
   },
   {
    "duration": 20,
    "start_time": "2021-10-10T09:29:29.281Z"
   },
   {
    "duration": 7,
    "start_time": "2021-10-10T09:29:29.303Z"
   },
   {
    "duration": 13,
    "start_time": "2021-10-10T09:29:29.313Z"
   },
   {
    "duration": 653,
    "start_time": "2021-10-10T09:29:29.329Z"
   },
   {
    "duration": 1346,
    "start_time": "2021-10-10T09:42:20.014Z"
   },
   {
    "duration": 527,
    "start_time": "2021-10-10T09:42:30.562Z"
   },
   {
    "duration": 510,
    "start_time": "2021-10-10T09:42:42.746Z"
   },
   {
    "duration": 603,
    "start_time": "2021-10-10T09:42:56.233Z"
   },
   {
    "duration": 513,
    "start_time": "2021-10-10T09:43:13.888Z"
   }
  ],
  "kernelspec": {
   "display_name": "Python 3",
   "language": "python",
   "name": "python3"
  },
  "language_info": {
   "codemirror_mode": {
    "name": "ipython",
    "version": 3
   },
   "file_extension": ".py",
   "mimetype": "text/x-python",
   "name": "python",
   "nbconvert_exporter": "python",
   "pygments_lexer": "ipython3",
   "version": "3.7.8"
  },
  "toc": {
   "base_numbering": 1,
   "nav_menu": {},
   "number_sections": true,
   "sideBar": true,
   "skip_h1_title": true,
   "title_cell": "Содержание",
   "title_sidebar": "Contents",
   "toc_cell": true,
   "toc_position": {
    "height": "calc(100% - 180px)",
    "left": "10px",
    "top": "150px",
    "width": "289.6px"
   },
   "toc_section_display": true,
   "toc_window_display": true
  }
 },
 "nbformat": 4,
 "nbformat_minor": 2
}
