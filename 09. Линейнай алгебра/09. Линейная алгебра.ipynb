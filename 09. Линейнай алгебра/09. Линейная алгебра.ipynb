{
 "cells": [
  {
   "cell_type": "markdown",
   "metadata": {},
   "source": [
    "# Защита персональных данных клиентов"
   ]
  },
  {
   "cell_type": "markdown",
   "metadata": {},
   "source": [
    "Вам нужно защитить данные клиентов страховой компании «Хоть потоп». Разработайте такой метод преобразования данных, чтобы по ним было сложно восстановить персональную информацию. Обоснуйте корректность его работы.\n",
    "\n",
    "Нужно защитить данные, чтобы при преобразовании качество моделей машинного обучения не ухудшилось. Подбирать наилучшую модель не требуется."
   ]
  },
  {
   "cell_type": "markdown",
   "metadata": {},
   "source": [
    "## Загрузка данных"
   ]
  },
  {
   "cell_type": "code",
   "execution_count": 54,
   "metadata": {},
   "outputs": [],
   "source": [
    "import pandas as pd\n",
    "import numpy as np\n",
    "from sklearn.metrics import r2_score\n",
    "\n",
    "from sklearn.preprocessing import StandardScaler "
   ]
  },
  {
   "cell_type": "code",
   "execution_count": 55,
   "metadata": {},
   "outputs": [],
   "source": [
    "try:\n",
    "    data= pd.read_csv('C:\\\\Users\\\\user\\\\Yandex\\\\Praktika_9\\\\datasets\\\\insurance.csv')\n",
    "except:\n",
    "    data = pd.read_csv('/datasets/insurance.csv')   "
   ]
  },
  {
   "cell_type": "code",
   "execution_count": 56,
   "metadata": {},
   "outputs": [
    {
     "name": "stdout",
     "output_type": "stream",
     "text": [
      "<class 'pandas.core.frame.DataFrame'>\n",
      "RangeIndex: 5000 entries, 0 to 4999\n",
      "Data columns (total 5 columns):\n",
      "Пол                  5000 non-null int64\n",
      "Возраст              5000 non-null float64\n",
      "Зарплата             5000 non-null float64\n",
      "Члены семьи          5000 non-null int64\n",
      "Страховые выплаты    5000 non-null int64\n",
      "dtypes: float64(2), int64(3)\n",
      "memory usage: 195.4 KB\n"
     ]
    }
   ],
   "source": [
    "data.info()"
   ]
  },
  {
   "cell_type": "code",
   "execution_count": 57,
   "metadata": {
    "scrolled": true
   },
   "outputs": [
    {
     "data": {
      "text/html": [
       "<div>\n",
       "<style scoped>\n",
       "    .dataframe tbody tr th:only-of-type {\n",
       "        vertical-align: middle;\n",
       "    }\n",
       "\n",
       "    .dataframe tbody tr th {\n",
       "        vertical-align: top;\n",
       "    }\n",
       "\n",
       "    .dataframe thead th {\n",
       "        text-align: right;\n",
       "    }\n",
       "</style>\n",
       "<table border=\"1\" class=\"dataframe\">\n",
       "  <thead>\n",
       "    <tr style=\"text-align: right;\">\n",
       "      <th></th>\n",
       "      <th>Пол</th>\n",
       "      <th>Возраст</th>\n",
       "      <th>Зарплата</th>\n",
       "      <th>Члены семьи</th>\n",
       "      <th>Страховые выплаты</th>\n",
       "    </tr>\n",
       "  </thead>\n",
       "  <tbody>\n",
       "    <tr>\n",
       "      <td>count</td>\n",
       "      <td>5000.000000</td>\n",
       "      <td>5000.000000</td>\n",
       "      <td>5000.000000</td>\n",
       "      <td>5000.000000</td>\n",
       "      <td>5000.000000</td>\n",
       "    </tr>\n",
       "    <tr>\n",
       "      <td>mean</td>\n",
       "      <td>0.499000</td>\n",
       "      <td>30.952800</td>\n",
       "      <td>39916.360000</td>\n",
       "      <td>1.194200</td>\n",
       "      <td>0.148000</td>\n",
       "    </tr>\n",
       "    <tr>\n",
       "      <td>std</td>\n",
       "      <td>0.500049</td>\n",
       "      <td>8.440807</td>\n",
       "      <td>9900.083569</td>\n",
       "      <td>1.091387</td>\n",
       "      <td>0.463183</td>\n",
       "    </tr>\n",
       "    <tr>\n",
       "      <td>min</td>\n",
       "      <td>0.000000</td>\n",
       "      <td>18.000000</td>\n",
       "      <td>5300.000000</td>\n",
       "      <td>0.000000</td>\n",
       "      <td>0.000000</td>\n",
       "    </tr>\n",
       "    <tr>\n",
       "      <td>25%</td>\n",
       "      <td>0.000000</td>\n",
       "      <td>24.000000</td>\n",
       "      <td>33300.000000</td>\n",
       "      <td>0.000000</td>\n",
       "      <td>0.000000</td>\n",
       "    </tr>\n",
       "    <tr>\n",
       "      <td>50%</td>\n",
       "      <td>0.000000</td>\n",
       "      <td>30.000000</td>\n",
       "      <td>40200.000000</td>\n",
       "      <td>1.000000</td>\n",
       "      <td>0.000000</td>\n",
       "    </tr>\n",
       "    <tr>\n",
       "      <td>75%</td>\n",
       "      <td>1.000000</td>\n",
       "      <td>37.000000</td>\n",
       "      <td>46600.000000</td>\n",
       "      <td>2.000000</td>\n",
       "      <td>0.000000</td>\n",
       "    </tr>\n",
       "    <tr>\n",
       "      <td>max</td>\n",
       "      <td>1.000000</td>\n",
       "      <td>65.000000</td>\n",
       "      <td>79000.000000</td>\n",
       "      <td>6.000000</td>\n",
       "      <td>5.000000</td>\n",
       "    </tr>\n",
       "  </tbody>\n",
       "</table>\n",
       "</div>"
      ],
      "text/plain": [
       "               Пол      Возраст      Зарплата  Члены семьи  Страховые выплаты\n",
       "count  5000.000000  5000.000000   5000.000000  5000.000000        5000.000000\n",
       "mean      0.499000    30.952800  39916.360000     1.194200           0.148000\n",
       "std       0.500049     8.440807   9900.083569     1.091387           0.463183\n",
       "min       0.000000    18.000000   5300.000000     0.000000           0.000000\n",
       "25%       0.000000    24.000000  33300.000000     0.000000           0.000000\n",
       "50%       0.000000    30.000000  40200.000000     1.000000           0.000000\n",
       "75%       1.000000    37.000000  46600.000000     2.000000           0.000000\n",
       "max       1.000000    65.000000  79000.000000     6.000000           5.000000"
      ]
     },
     "execution_count": 57,
     "metadata": {},
     "output_type": "execute_result"
    }
   ],
   "source": [
    "data.describe()"
   ]
  },
  {
   "cell_type": "code",
   "execution_count": 58,
   "metadata": {
    "scrolled": true
   },
   "outputs": [
    {
     "name": "stdout",
     "output_type": "stream",
     "text": [
      "153\n"
     ]
    }
   ],
   "source": [
    "print(data.duplicated().sum())"
   ]
  },
  {
   "cell_type": "markdown",
   "metadata": {},
   "source": [
    "Обнаружены дубликаты строк, удаляем их методом drop_duplicates()"
   ]
  },
  {
   "cell_type": "code",
   "execution_count": 59,
   "metadata": {},
   "outputs": [
    {
     "name": "stdout",
     "output_type": "stream",
     "text": [
      "0\n"
     ]
    }
   ],
   "source": [
    "data = data.drop_duplicates().reset_index(drop = True)\n",
    "\n",
    "print(data.duplicated().sum()) "
   ]
  },
  {
   "cell_type": "markdown",
   "metadata": {},
   "source": [
    "### Вывод\n",
    "Пропусков нет. Форматы в норме. Дубликаты удалены. Можем приступать к предсказаниям."
   ]
  },
  {
   "cell_type": "markdown",
   "metadata": {},
   "source": [
    "## Умножение матриц"
   ]
  },
  {
   "cell_type": "markdown",
   "metadata": {},
   "source": [
    "В этом задании вы можете записывать формулы в *Jupyter Notebook.*\n",
    "\n",
    "Чтобы записать формулу внутри текста, окружите её символами доллара \\\\$; если снаружи —  двойными символами \\\\$\\\\$. Эти формулы записываются на языке вёрстки *LaTeX.* \n",
    "\n",
    "Для примера мы записали формулы линейной регрессии. Можете их скопировать и отредактировать, чтобы решить задачу.\n",
    "\n",
    "Работать в *LaTeX* необязательно."
   ]
  },
  {
   "cell_type": "markdown",
   "metadata": {},
   "source": [
    "Обозначения:\n",
    "\n",
    "- $X_1$ — матрица признаков \n",
    "\n",
    "- $X_2$ — матрица признаков , которую умножили на обратимую матрицу\n",
    "\n",
    "- $y$ — вектор целевого признака\n",
    "\n",
    "- $P$ — матрица, на которую умножаются признаки (обратимая)\n",
    "\n",
    "- $w_1$ — вектор весов линейной регрессии для признаков $X_1$ (нулевой элемент равен сдвигу)\n",
    "\n",
    "- $w_2$ — вектор весов линейной регрессии для признаков $X_2$ (нулевой элемент равен сдвигу)"
   ]
  },
  {
   "cell_type": "markdown",
   "metadata": {},
   "source": [
    "Предсказания:\n",
    "\n",
    "$$\n",
    "a = Xw\n",
    "$$\n",
    "\n",
    "Задача обучения:\n",
    "\n",
    "$$\n",
    "w = \\arg\\min_wMSE(Xw, y)\n",
    "$$\n",
    "\n",
    "Формула обучения:\n",
    "\n",
    "$$\n",
    "w = (X^T X)^{-1} X^T y\n",
    "$$"
   ]
  },
  {
   "cell_type": "markdown",
   "metadata": {},
   "source": [
    "**Вопрос:**\n",
    "Признаки умножают на обратимую матрицу. \n",
    " \n",
    " Изменится ли качество линейной регрессии?"
   ]
  },
  {
   "cell_type": "markdown",
   "metadata": {},
   "source": [
    "**Ответ:**\n",
    "Исходя из того, что для первональной матрцы признаков вектор предсказаний вычисляется по формуле:\n",
    "$$\n",
    "a = X_1*w_1\n",
    "$$\n",
    "где w1 вычисляется по формуле\n",
    "$$\n",
    "w_1 = (X_1^T X_1)^{-1} X_1^T y\n",
    "$$\n",
    "Для матрицы, которую умножили на обратимую матрицу формула вектора предсказаний:\n",
    "$$\n",
    "a = X_2*w_2\n",
    "$$\n",
    "где \n",
    "$$\n",
    "X_2 = X_1*P\n",
    "$$\n",
    "тогда\n",
    "$$\n",
    "a = X_1*P*w_2 \n",
    "$$\n",
    "Умножим обе стороны уравнения на обратную P матрицу\n",
    "$$\n",
    "P^{-1} a = X_1 * P * P^{-1}*w_2\n",
    "$$\n",
    "\n",
    "$$\n",
    "P^{-1} a = X_1 *w_2\n",
    "$$\n",
    "\n",
    "$$\n",
    "w_2 = (X_1^T X_1)^{-1} X_1^T P^{-1} y\n",
    "$$\n",
    "\n",
    "$$\n",
    "w_2 = P^{-1} w_1 \n",
    "$$"
   ]
  },
  {
   "cell_type": "markdown",
   "metadata": {},
   "source": [
    "В итоге получаем \n",
    "\n",
    "$$\n",
    "X_2 w_2 = X_1 P P^{-1} w_1 = X_1 w_1\n",
    "$$"
   ]
  },
  {
   "cell_type": "markdown",
   "metadata": {},
   "source": [
    "### Вывод:\n",
    "Таким образом мы показали, что если матрицу признаков уможить на обратимую матрицу, то в итоге модель линейной регрессии выдаст вектор предсказаний, который будет равен вектору предсказаний для исходной матрицы признаков"
   ]
  },
  {
   "cell_type": "markdown",
   "metadata": {},
   "source": [
    "## Алгоритм преобразования"
   ]
  },
  {
   "cell_type": "markdown",
   "metadata": {},
   "source": [
    "### Алгоритм\n",
    "\n",
    "Для преобразования данных будем использовать обратимую квадратную матрицу заполненную случайными числами из диапазона [2-100]. Размер случайной квадратной матрицы будет равен количеству столбцов в матрице признаков."
   ]
  },
  {
   "cell_type": "markdown",
   "metadata": {},
   "source": [
    "**Обоснование**\n",
    "\n",
    "Показано в п.2."
   ]
  },
  {
   "cell_type": "markdown",
   "metadata": {},
   "source": [
    "### Разобьем данные data на features и target"
   ]
  },
  {
   "cell_type": "code",
   "execution_count": 60,
   "metadata": {},
   "outputs": [],
   "source": [
    "features = data.drop('Страховые выплаты', axis=1)\n",
    "target = data['Страховые выплаты']"
   ]
  },
  {
   "cell_type": "markdown",
   "metadata": {},
   "source": [
    "### Создадим класс линейной регрессии"
   ]
  },
  {
   "cell_type": "code",
   "execution_count": 61,
   "metadata": {},
   "outputs": [],
   "source": [
    "class LinearRegression:\n",
    "    def fit(self, train_features, train_target):\n",
    "        X = np.concatenate((np.ones((train_features.shape[0], 1)), train_features), axis=1)\n",
    "        y = train_target\n",
    "        w = np.linalg.inv(X.T.dot(X)).dot(X.T).dot(y)\n",
    "        self.w = w[1:]\n",
    "        self.w0 = w[0]\n",
    "\n",
    "    def predict(self, test_features):\n",
    "        return test_features.dot(self.w) + self.w0"
   ]
  },
  {
   "cell_type": "markdown",
   "metadata": {},
   "source": [
    "### Обучим модель и проверим ее качество"
   ]
  },
  {
   "cell_type": "code",
   "execution_count": 62,
   "metadata": {},
   "outputs": [
    {
     "name": "stdout",
     "output_type": "stream",
     "text": [
      "0.430201004\n"
     ]
    }
   ],
   "source": [
    "model = LinearRegression()\n",
    "model.fit(features, target)\n",
    "predictions = model.predict(features)\n",
    "print(r2_score(target, predictions).round(9))"
   ]
  },
  {
   "cell_type": "markdown",
   "metadata": {},
   "source": [
    "### Создадим обратимую матрицу для умножения на features"
   ]
  },
  {
   "cell_type": "markdown",
   "metadata": {},
   "source": [
    "Создадим функцию, которая будет генерировать случайную квадратную матрицу и проверять ее на обратимость. Для вопроизводимости функция будет также возвращать random.seed при котором была сгенерирована матрица"
   ]
  },
  {
   "cell_type": "code",
   "execution_count": 64,
   "metadata": {},
   "outputs": [],
   "source": [
    "def get_random_matrix (matrix_size):\n",
    "    matrix_inv = None\n",
    "    r = np.random.randint(2, 10000)\n",
    "    while matrix_inv is None:\n",
    "        try:\n",
    "            np.random.seed(r)\n",
    "            matrix = np.random.randint(2, 100, size=(matrix_size, matrix_size))\n",
    "            matrix_inv = np.linalg.inv(matrix)\n",
    "        except:\n",
    "            r+=1\n",
    "    np.random.seed()\n",
    "    return matrix,r"
   ]
  },
  {
   "cell_type": "code",
   "execution_count": 65,
   "metadata": {},
   "outputs": [],
   "source": [
    "matrix, random_seed = get_random_matrix (features.shape[1])"
   ]
  },
  {
   "cell_type": "code",
   "execution_count": 66,
   "metadata": {},
   "outputs": [],
   "source": [
    "a = features @ matrix"
   ]
  },
  {
   "cell_type": "code",
   "execution_count": 67,
   "metadata": {},
   "outputs": [
    {
     "name": "stdout",
     "output_type": "stream",
     "text": [
      "0.430201004\n"
     ]
    }
   ],
   "source": [
    "model2 = LinearRegression()\n",
    "model2.fit(a, target)\n",
    "predictions2 = model2.predict(a)\n",
    "print(r2_score(target, predictions2).round(9))"
   ]
  },
  {
   "cell_type": "markdown",
   "metadata": {},
   "source": [
    "## Проверка алгоритма"
   ]
  },
  {
   "cell_type": "markdown",
   "metadata": {},
   "source": [
    "Сопоставим результаты качества модели то и после преобразования матрицы признаков"
   ]
  },
  {
   "cell_type": "code",
   "execution_count": 68,
   "metadata": {},
   "outputs": [
    {
     "name": "stdout",
     "output_type": "stream",
     "text": [
      "Качество первоначальной модели: 0.430201004\n",
      "Качество модели после преобразования матрицы признаков: 0.430201004\n"
     ]
    }
   ],
   "source": [
    "print(\"Качество первоначальной модели:\", r2_score(target, predictions).round(9))\n",
    "print(\"Качество модели после преобразования матрицы признаков:\", r2_score(target, predictions2).round(9))"
   ]
  },
  {
   "cell_type": "markdown",
   "metadata": {},
   "source": [
    "### Вывод\n",
    "Признаки зашифрованы умножением на случайную квадратную обратимую матрицу. Качество модели из-за шифрования не меняется. При необходимости мы можем восстановить данные, т.к. зафиксировали random.seed()"
   ]
  }
 ],
 "metadata": {
  "ExecuteTimeLog": [
   {
    "duration": 1011,
    "start_time": "2021-09-13T18:13:56.371Z"
   },
   {
    "duration": 233,
    "start_time": "2021-09-13T18:13:57.383Z"
   },
   {
    "duration": 6,
    "start_time": "2021-09-13T18:13:57.618Z"
   },
   {
    "duration": 28,
    "start_time": "2021-09-13T18:13:57.626Z"
   },
   {
    "duration": 5,
    "start_time": "2021-09-13T18:13:57.655Z"
   },
   {
    "duration": 22,
    "start_time": "2021-09-13T18:13:57.661Z"
   },
   {
    "duration": 3,
    "start_time": "2021-09-13T18:13:57.685Z"
   },
   {
    "duration": 11,
    "start_time": "2021-09-13T18:13:57.690Z"
   },
   {
    "duration": 75,
    "start_time": "2021-09-13T18:13:57.703Z"
   },
   {
    "duration": 5,
    "start_time": "2021-09-13T18:13:57.780Z"
   },
   {
    "duration": 7,
    "start_time": "2021-09-13T18:13:57.877Z"
   },
   {
    "duration": 8,
    "start_time": "2021-09-13T18:13:57.886Z"
   },
   {
    "duration": 182,
    "start_time": "2021-09-13T18:13:57.896Z"
   },
   {
    "duration": 169,
    "start_time": "2021-09-14T06:51:19.459Z"
   },
   {
    "duration": 6,
    "start_time": "2021-09-14T06:51:24.800Z"
   },
   {
    "duration": 5,
    "start_time": "2021-09-14T06:51:43.907Z"
   },
   {
    "duration": 5,
    "start_time": "2021-09-14T06:52:04.818Z"
   },
   {
    "duration": 6,
    "start_time": "2021-09-14T06:52:09.759Z"
   },
   {
    "duration": 5,
    "start_time": "2021-09-14T06:52:23.289Z"
   },
   {
    "duration": 6,
    "start_time": "2021-09-14T06:52:48.232Z"
   },
   {
    "duration": 6,
    "start_time": "2021-09-14T06:52:59.294Z"
   },
   {
    "duration": 5,
    "start_time": "2021-09-14T06:53:08.510Z"
   },
   {
    "duration": 7,
    "start_time": "2021-09-14T06:53:56.310Z"
   },
   {
    "duration": 6,
    "start_time": "2021-09-14T06:54:10.945Z"
   },
   {
    "duration": 6,
    "start_time": "2021-09-14T06:58:40.606Z"
   },
   {
    "duration": 16,
    "start_time": "2021-09-14T06:58:59.769Z"
   },
   {
    "duration": 8,
    "start_time": "2021-09-14T06:59:13.198Z"
   },
   {
    "duration": 9,
    "start_time": "2021-09-14T06:59:36.913Z"
   },
   {
    "duration": 10,
    "start_time": "2021-09-14T07:00:39.886Z"
   },
   {
    "duration": 12,
    "start_time": "2021-09-14T07:00:54.247Z"
   },
   {
    "duration": 370,
    "start_time": "2021-09-14T07:03:51.526Z"
   },
   {
    "duration": 1326,
    "start_time": "2021-09-14T07:04:00.329Z"
   },
   {
    "duration": 6,
    "start_time": "2021-09-14T07:04:11.073Z"
   },
   {
    "duration": 393,
    "start_time": "2021-09-14T07:04:11.831Z"
   },
   {
    "duration": 6,
    "start_time": "2021-09-14T07:04:15.295Z"
   },
   {
    "duration": 6,
    "start_time": "2021-09-14T07:04:17.814Z"
   },
   {
    "duration": 6,
    "start_time": "2021-09-14T07:04:20.046Z"
   },
   {
    "duration": 6,
    "start_time": "2021-09-14T07:04:22.657Z"
   },
   {
    "duration": 5,
    "start_time": "2021-09-14T07:04:24.679Z"
   },
   {
    "duration": 13,
    "start_time": "2021-09-14T07:04:26.633Z"
   },
   {
    "duration": 6,
    "start_time": "2021-09-14T07:04:29.207Z"
   },
   {
    "duration": 6,
    "start_time": "2021-09-14T07:04:31.940Z"
   },
   {
    "duration": 5,
    "start_time": "2021-09-14T07:04:34.064Z"
   },
   {
    "duration": 5,
    "start_time": "2021-09-14T07:04:35.885Z"
   },
   {
    "duration": 6,
    "start_time": "2021-09-14T07:09:54.478Z"
   },
   {
    "duration": 12083,
    "start_time": "2021-09-14T07:09:59.701Z"
   },
   {
    "duration": 37839,
    "start_time": "2021-09-14T07:11:00.923Z"
   },
   {
    "duration": 6,
    "start_time": "2021-09-14T07:11:49.063Z"
   },
   {
    "duration": 6,
    "start_time": "2021-09-14T07:11:51.723Z"
   },
   {
    "duration": 6,
    "start_time": "2021-09-14T07:12:14.389Z"
   },
   {
    "duration": 9,
    "start_time": "2021-09-14T07:12:15.207Z"
   },
   {
    "duration": 5,
    "start_time": "2021-09-14T07:12:36.061Z"
   },
   {
    "duration": 6,
    "start_time": "2021-09-14T07:12:38.774Z"
   },
   {
    "duration": 6,
    "start_time": "2021-09-14T07:54:42.526Z"
   },
   {
    "duration": 699,
    "start_time": "2021-09-14T07:54:46.651Z"
   },
   {
    "duration": 1398,
    "start_time": "2021-09-14T07:54:57.141Z"
   },
   {
    "duration": 5,
    "start_time": "2021-09-14T07:55:04.159Z"
   },
   {
    "duration": 9,
    "start_time": "2021-09-14T07:55:05.739Z"
   },
   {
    "duration": 6,
    "start_time": "2021-09-14T07:55:14.091Z"
   },
   {
    "duration": 7,
    "start_time": "2021-09-14T07:55:32.265Z"
   },
   {
    "duration": 370,
    "start_time": "2021-09-14T07:55:33.503Z"
   },
   {
    "duration": 9,
    "start_time": "2021-09-14T07:55:36.415Z"
   },
   {
    "duration": 6,
    "start_time": "2021-09-14T07:56:52.124Z"
   },
   {
    "duration": 28,
    "start_time": "2021-09-14T07:56:54.522Z"
   },
   {
    "duration": 10,
    "start_time": "2021-09-14T07:57:03.369Z"
   },
   {
    "duration": 5,
    "start_time": "2021-09-14T07:57:14.052Z"
   },
   {
    "duration": 9,
    "start_time": "2021-09-14T07:57:15.090Z"
   },
   {
    "duration": 10,
    "start_time": "2021-09-14T07:57:18.403Z"
   },
   {
    "duration": 11,
    "start_time": "2021-09-14T07:57:24.476Z"
   },
   {
    "duration": 9,
    "start_time": "2021-09-14T07:57:28.418Z"
   },
   {
    "duration": 12,
    "start_time": "2021-09-14T07:57:40.442Z"
   },
   {
    "duration": 5,
    "start_time": "2021-09-14T08:02:49.676Z"
   },
   {
    "duration": 9,
    "start_time": "2021-09-14T08:02:51.653Z"
   },
   {
    "duration": 8,
    "start_time": "2021-09-14T08:02:55.419Z"
   },
   {
    "duration": 14,
    "start_time": "2021-09-14T08:02:57.857Z"
   },
   {
    "duration": 11,
    "start_time": "2021-09-14T08:03:01.467Z"
   },
   {
    "duration": 6,
    "start_time": "2021-09-14T08:03:57.344Z"
   },
   {
    "duration": 9,
    "start_time": "2021-09-14T08:03:58.341Z"
   },
   {
    "duration": 9,
    "start_time": "2021-09-14T08:04:02.088Z"
   },
   {
    "duration": 8,
    "start_time": "2021-09-14T08:04:04.745Z"
   },
   {
    "duration": 8,
    "start_time": "2021-09-14T08:04:07.508Z"
   },
   {
    "duration": 9,
    "start_time": "2021-09-14T08:04:10.426Z"
   },
   {
    "duration": 5,
    "start_time": "2021-09-14T08:05:14.537Z"
   },
   {
    "duration": 8,
    "start_time": "2021-09-14T08:05:15.852Z"
   },
   {
    "duration": 6,
    "start_time": "2021-09-14T08:05:19.292Z"
   },
   {
    "duration": 6,
    "start_time": "2021-09-14T08:05:26.076Z"
   },
   {
    "duration": 3,
    "start_time": "2021-09-14T08:06:17.458Z"
   },
   {
    "duration": 263,
    "start_time": "2021-09-14T08:07:49.489Z"
   },
   {
    "duration": 335,
    "start_time": "2021-09-14T08:10:34.081Z"
   },
   {
    "duration": 4,
    "start_time": "2021-09-14T08:10:46.310Z"
   },
   {
    "duration": 222,
    "start_time": "2021-09-14T08:10:46.321Z"
   },
   {
    "duration": 9,
    "start_time": "2021-09-14T08:10:46.546Z"
   },
   {
    "duration": 39,
    "start_time": "2021-09-14T08:10:46.558Z"
   },
   {
    "duration": 6,
    "start_time": "2021-09-14T08:10:46.600Z"
   },
   {
    "duration": 13,
    "start_time": "2021-09-14T08:10:46.609Z"
   },
   {
    "duration": 5,
    "start_time": "2021-09-14T08:10:46.624Z"
   },
   {
    "duration": 32,
    "start_time": "2021-09-14T08:10:46.631Z"
   },
   {
    "duration": 100,
    "start_time": "2021-09-14T08:10:46.666Z"
   },
   {
    "duration": 94,
    "start_time": "2021-09-14T08:10:46.769Z"
   },
   {
    "duration": 9,
    "start_time": "2021-09-14T08:10:46.866Z"
   },
   {
    "duration": 12,
    "start_time": "2021-09-14T08:10:46.877Z"
   },
   {
    "duration": 414,
    "start_time": "2021-09-14T08:10:46.891Z"
   },
   {
    "duration": 610,
    "start_time": "2021-09-14T08:10:46.697Z"
   },
   {
    "duration": 601,
    "start_time": "2021-09-14T08:10:46.708Z"
   },
   {
    "duration": 5,
    "start_time": "2021-09-14T08:10:56.646Z"
   },
   {
    "duration": 4,
    "start_time": "2021-09-14T08:10:57.195Z"
   },
   {
    "duration": 71,
    "start_time": "2021-09-14T08:11:00.291Z"
   },
   {
    "duration": 8,
    "start_time": "2021-09-14T08:11:03.485Z"
   },
   {
    "duration": 4,
    "start_time": "2021-09-14T08:17:48.625Z"
   },
   {
    "duration": 227,
    "start_time": "2021-09-14T08:17:48.631Z"
   },
   {
    "duration": 8,
    "start_time": "2021-09-14T08:17:48.860Z"
   },
   {
    "duration": 40,
    "start_time": "2021-09-14T08:17:48.870Z"
   },
   {
    "duration": 7,
    "start_time": "2021-09-14T08:17:48.912Z"
   },
   {
    "duration": 41,
    "start_time": "2021-09-14T08:17:48.921Z"
   },
   {
    "duration": 6,
    "start_time": "2021-09-14T08:17:48.965Z"
   },
   {
    "duration": 8,
    "start_time": "2021-09-14T08:17:48.973Z"
   },
   {
    "duration": 84,
    "start_time": "2021-09-14T08:17:48.983Z"
   },
   {
    "duration": 91,
    "start_time": "2021-09-14T08:17:49.071Z"
   },
   {
    "duration": 10,
    "start_time": "2021-09-14T08:17:49.165Z"
   },
   {
    "duration": 11,
    "start_time": "2021-09-14T08:17:49.177Z"
   },
   {
    "duration": 72,
    "start_time": "2021-09-14T08:17:49.190Z"
   },
   {
    "duration": 105,
    "start_time": "2021-09-14T08:17:49.265Z"
   },
   {
    "duration": 10,
    "start_time": "2021-09-14T08:17:49.464Z"
   }
  ],
  "kernelspec": {
   "display_name": "Python 3",
   "language": "python",
   "name": "python3"
  },
  "language_info": {
   "codemirror_mode": {
    "name": "ipython",
    "version": 3
   },
   "file_extension": ".py",
   "mimetype": "text/x-python",
   "name": "python",
   "nbconvert_exporter": "python",
   "pygments_lexer": "ipython3",
   "version": "3.7.8"
  },
  "toc": {
   "base_numbering": 1,
   "nav_menu": {},
   "number_sections": true,
   "sideBar": true,
   "skip_h1_title": true,
   "title_cell": "Содержание",
   "title_sidebar": "Contents",
   "toc_cell": true,
   "toc_position": {
    "height": "calc(100% - 180px)",
    "left": "10px",
    "top": "150px",
    "width": "316.8px"
   },
   "toc_section_display": true,
   "toc_window_display": false
  }
 },
 "nbformat": 4,
 "nbformat_minor": 2
}
