{
 "cells": [
  {
   "cell_type": "markdown",
   "metadata": {},
   "source": [
    "# Выбор локации для скважины"
   ]
  },
  {
   "cell_type": "markdown",
   "metadata": {},
   "source": [
    "Допустим, вы работаете в добывающей компании «ГлавРосГосНефть». Нужно решить, где бурить новую скважину.\n",
    "\n",
    "Вам предоставлены пробы нефти в трёх регионах: в каждом 10 000 месторождений, где измерили качество нефти и объём её запасов. Постройте модель машинного обучения, которая поможет определить регион, где добыча принесёт наибольшую прибыль. Проанализируйте возможную прибыль и риски техникой *Bootstrap.*\n",
    "\n",
    "Шаги для выбора локации:\n",
    "\n",
    "- В избранном регионе ищут месторождения, для каждого определяют значения признаков;\n",
    "- Строят модель и оценивают объём запасов;\n",
    "- Выбирают месторождения с самым высокими оценками значений. Количество месторождений зависит от бюджета компании и стоимости разработки одной скважины;\n",
    "- Прибыль равна суммарной прибыли отобранных месторождений."
   ]
  },
  {
   "cell_type": "markdown",
   "metadata": {},
   "source": [
    "## Загрузка и подготовка данных"
   ]
  },
  {
   "cell_type": "code",
   "execution_count": 125,
   "metadata": {},
   "outputs": [],
   "source": [
    "import pandas as pd\n",
    "import numpy as np\n",
    "\n",
    "from sklearn.model_selection import train_test_split\n",
    "from sklearn.linear_model import LinearRegression\n",
    "from sklearn.preprocessing import StandardScaler\n",
    "from sklearn.metrics import mean_squared_error\n",
    "\n",
    "import warnings\n",
    "warnings.simplefilter('ignore')"
   ]
  },
  {
   "cell_type": "code",
   "execution_count": 126,
   "metadata": {},
   "outputs": [],
   "source": [
    "data_0 = pd.read_csv('/datasets/geo_data_0.csv')\n",
    "data_1 = pd.read_csv('/datasets/geo_data_1.csv')\n",
    "data_2 = pd.read_csv('/datasets/geo_data_2.csv')"
   ]
  },
  {
   "cell_type": "code",
   "execution_count": 127,
   "metadata": {},
   "outputs": [
    {
     "data": {
      "text/html": [
       "<div>\n",
       "<style scoped>\n",
       "    .dataframe tbody tr th:only-of-type {\n",
       "        vertical-align: middle;\n",
       "    }\n",
       "\n",
       "    .dataframe tbody tr th {\n",
       "        vertical-align: top;\n",
       "    }\n",
       "\n",
       "    .dataframe thead th {\n",
       "        text-align: right;\n",
       "    }\n",
       "</style>\n",
       "<table border=\"1\" class=\"dataframe\">\n",
       "  <thead>\n",
       "    <tr style=\"text-align: right;\">\n",
       "      <th></th>\n",
       "      <th>f0</th>\n",
       "      <th>f1</th>\n",
       "      <th>f2</th>\n",
       "      <th>product</th>\n",
       "    </tr>\n",
       "  </thead>\n",
       "  <tbody>\n",
       "    <tr>\n",
       "      <td>count</td>\n",
       "      <td>100,000.00</td>\n",
       "      <td>100,000.00</td>\n",
       "      <td>100,000.00</td>\n",
       "      <td>100,000.00</td>\n",
       "    </tr>\n",
       "    <tr>\n",
       "      <td>mean</td>\n",
       "      <td>0.50</td>\n",
       "      <td>0.25</td>\n",
       "      <td>2.50</td>\n",
       "      <td>92.50</td>\n",
       "    </tr>\n",
       "    <tr>\n",
       "      <td>std</td>\n",
       "      <td>0.87</td>\n",
       "      <td>0.50</td>\n",
       "      <td>3.25</td>\n",
       "      <td>44.29</td>\n",
       "    </tr>\n",
       "    <tr>\n",
       "      <td>min</td>\n",
       "      <td>-1.41</td>\n",
       "      <td>-0.85</td>\n",
       "      <td>-12.09</td>\n",
       "      <td>0.00</td>\n",
       "    </tr>\n",
       "    <tr>\n",
       "      <td>25%</td>\n",
       "      <td>-0.07</td>\n",
       "      <td>-0.20</td>\n",
       "      <td>0.29</td>\n",
       "      <td>56.50</td>\n",
       "    </tr>\n",
       "    <tr>\n",
       "      <td>50%</td>\n",
       "      <td>0.50</td>\n",
       "      <td>0.25</td>\n",
       "      <td>2.52</td>\n",
       "      <td>91.85</td>\n",
       "    </tr>\n",
       "    <tr>\n",
       "      <td>75%</td>\n",
       "      <td>1.07</td>\n",
       "      <td>0.70</td>\n",
       "      <td>4.72</td>\n",
       "      <td>128.56</td>\n",
       "    </tr>\n",
       "    <tr>\n",
       "      <td>max</td>\n",
       "      <td>2.36</td>\n",
       "      <td>1.34</td>\n",
       "      <td>16.00</td>\n",
       "      <td>185.36</td>\n",
       "    </tr>\n",
       "  </tbody>\n",
       "</table>\n",
       "</div>"
      ],
      "text/plain": [
       "              f0         f1         f2    product\n",
       "count 100,000.00 100,000.00 100,000.00 100,000.00\n",
       "mean        0.50       0.25       2.50      92.50\n",
       "std         0.87       0.50       3.25      44.29\n",
       "min        -1.41      -0.85     -12.09       0.00\n",
       "25%        -0.07      -0.20       0.29      56.50\n",
       "50%         0.50       0.25       2.52      91.85\n",
       "75%         1.07       0.70       4.72     128.56\n",
       "max         2.36       1.34      16.00     185.36"
      ]
     },
     "execution_count": 127,
     "metadata": {},
     "output_type": "execute_result"
    }
   ],
   "source": [
    "data_0.describe()"
   ]
  },
  {
   "cell_type": "code",
   "execution_count": 128,
   "metadata": {},
   "outputs": [
    {
     "data": {
      "text/html": [
       "<div>\n",
       "<style scoped>\n",
       "    .dataframe tbody tr th:only-of-type {\n",
       "        vertical-align: middle;\n",
       "    }\n",
       "\n",
       "    .dataframe tbody tr th {\n",
       "        vertical-align: top;\n",
       "    }\n",
       "\n",
       "    .dataframe thead th {\n",
       "        text-align: right;\n",
       "    }\n",
       "</style>\n",
       "<table border=\"1\" class=\"dataframe\">\n",
       "  <thead>\n",
       "    <tr style=\"text-align: right;\">\n",
       "      <th></th>\n",
       "      <th>f0</th>\n",
       "      <th>f1</th>\n",
       "      <th>f2</th>\n",
       "      <th>product</th>\n",
       "    </tr>\n",
       "  </thead>\n",
       "  <tbody>\n",
       "    <tr>\n",
       "      <td>count</td>\n",
       "      <td>100,000.00</td>\n",
       "      <td>100,000.00</td>\n",
       "      <td>100,000.00</td>\n",
       "      <td>100,000.00</td>\n",
       "    </tr>\n",
       "    <tr>\n",
       "      <td>mean</td>\n",
       "      <td>1.14</td>\n",
       "      <td>-4.80</td>\n",
       "      <td>2.49</td>\n",
       "      <td>68.83</td>\n",
       "    </tr>\n",
       "    <tr>\n",
       "      <td>std</td>\n",
       "      <td>8.97</td>\n",
       "      <td>5.12</td>\n",
       "      <td>1.70</td>\n",
       "      <td>45.94</td>\n",
       "    </tr>\n",
       "    <tr>\n",
       "      <td>min</td>\n",
       "      <td>-31.61</td>\n",
       "      <td>-26.36</td>\n",
       "      <td>-0.02</td>\n",
       "      <td>0.00</td>\n",
       "    </tr>\n",
       "    <tr>\n",
       "      <td>25%</td>\n",
       "      <td>-6.30</td>\n",
       "      <td>-8.27</td>\n",
       "      <td>1.00</td>\n",
       "      <td>26.95</td>\n",
       "    </tr>\n",
       "    <tr>\n",
       "      <td>50%</td>\n",
       "      <td>1.15</td>\n",
       "      <td>-4.81</td>\n",
       "      <td>2.01</td>\n",
       "      <td>57.09</td>\n",
       "    </tr>\n",
       "    <tr>\n",
       "      <td>75%</td>\n",
       "      <td>8.62</td>\n",
       "      <td>-1.33</td>\n",
       "      <td>4.00</td>\n",
       "      <td>107.81</td>\n",
       "    </tr>\n",
       "    <tr>\n",
       "      <td>max</td>\n",
       "      <td>29.42</td>\n",
       "      <td>18.73</td>\n",
       "      <td>5.02</td>\n",
       "      <td>137.95</td>\n",
       "    </tr>\n",
       "  </tbody>\n",
       "</table>\n",
       "</div>"
      ],
      "text/plain": [
       "              f0         f1         f2    product\n",
       "count 100,000.00 100,000.00 100,000.00 100,000.00\n",
       "mean        1.14      -4.80       2.49      68.83\n",
       "std         8.97       5.12       1.70      45.94\n",
       "min       -31.61     -26.36      -0.02       0.00\n",
       "25%        -6.30      -8.27       1.00      26.95\n",
       "50%         1.15      -4.81       2.01      57.09\n",
       "75%         8.62      -1.33       4.00     107.81\n",
       "max        29.42      18.73       5.02     137.95"
      ]
     },
     "execution_count": 128,
     "metadata": {},
     "output_type": "execute_result"
    }
   ],
   "source": [
    "data_1.describe()"
   ]
  },
  {
   "cell_type": "code",
   "execution_count": 129,
   "metadata": {},
   "outputs": [
    {
     "data": {
      "text/html": [
       "<div>\n",
       "<style scoped>\n",
       "    .dataframe tbody tr th:only-of-type {\n",
       "        vertical-align: middle;\n",
       "    }\n",
       "\n",
       "    .dataframe tbody tr th {\n",
       "        vertical-align: top;\n",
       "    }\n",
       "\n",
       "    .dataframe thead th {\n",
       "        text-align: right;\n",
       "    }\n",
       "</style>\n",
       "<table border=\"1\" class=\"dataframe\">\n",
       "  <thead>\n",
       "    <tr style=\"text-align: right;\">\n",
       "      <th></th>\n",
       "      <th>f0</th>\n",
       "      <th>f1</th>\n",
       "      <th>f2</th>\n",
       "      <th>product</th>\n",
       "    </tr>\n",
       "  </thead>\n",
       "  <tbody>\n",
       "    <tr>\n",
       "      <td>count</td>\n",
       "      <td>100,000.00</td>\n",
       "      <td>100,000.00</td>\n",
       "      <td>100,000.00</td>\n",
       "      <td>100,000.00</td>\n",
       "    </tr>\n",
       "    <tr>\n",
       "      <td>mean</td>\n",
       "      <td>0.00</td>\n",
       "      <td>-0.00</td>\n",
       "      <td>2.50</td>\n",
       "      <td>95.00</td>\n",
       "    </tr>\n",
       "    <tr>\n",
       "      <td>std</td>\n",
       "      <td>1.73</td>\n",
       "      <td>1.73</td>\n",
       "      <td>3.47</td>\n",
       "      <td>44.75</td>\n",
       "    </tr>\n",
       "    <tr>\n",
       "      <td>min</td>\n",
       "      <td>-8.76</td>\n",
       "      <td>-7.08</td>\n",
       "      <td>-11.97</td>\n",
       "      <td>0.00</td>\n",
       "    </tr>\n",
       "    <tr>\n",
       "      <td>25%</td>\n",
       "      <td>-1.16</td>\n",
       "      <td>-1.17</td>\n",
       "      <td>0.13</td>\n",
       "      <td>59.45</td>\n",
       "    </tr>\n",
       "    <tr>\n",
       "      <td>50%</td>\n",
       "      <td>0.01</td>\n",
       "      <td>-0.01</td>\n",
       "      <td>2.48</td>\n",
       "      <td>94.93</td>\n",
       "    </tr>\n",
       "    <tr>\n",
       "      <td>75%</td>\n",
       "      <td>1.16</td>\n",
       "      <td>1.16</td>\n",
       "      <td>4.86</td>\n",
       "      <td>130.60</td>\n",
       "    </tr>\n",
       "    <tr>\n",
       "      <td>max</td>\n",
       "      <td>7.24</td>\n",
       "      <td>7.84</td>\n",
       "      <td>16.74</td>\n",
       "      <td>190.03</td>\n",
       "    </tr>\n",
       "  </tbody>\n",
       "</table>\n",
       "</div>"
      ],
      "text/plain": [
       "              f0         f1         f2    product\n",
       "count 100,000.00 100,000.00 100,000.00 100,000.00\n",
       "mean        0.00      -0.00       2.50      95.00\n",
       "std         1.73       1.73       3.47      44.75\n",
       "min        -8.76      -7.08     -11.97       0.00\n",
       "25%        -1.16      -1.17       0.13      59.45\n",
       "50%         0.01      -0.01       2.48      94.93\n",
       "75%         1.16       1.16       4.86     130.60\n",
       "max         7.24       7.84      16.74     190.03"
      ]
     },
     "execution_count": 129,
     "metadata": {},
     "output_type": "execute_result"
    }
   ],
   "source": [
    "data_2.describe()"
   ]
  },
  {
   "cell_type": "code",
   "execution_count": 130,
   "metadata": {},
   "outputs": [
    {
     "name": "stdout",
     "output_type": "stream",
     "text": [
      "<class 'pandas.core.frame.DataFrame'>\n",
      "RangeIndex: 100000 entries, 0 to 99999\n",
      "Data columns (total 5 columns):\n",
      "id         100000 non-null object\n",
      "f0         100000 non-null float64\n",
      "f1         100000 non-null float64\n",
      "f2         100000 non-null float64\n",
      "product    100000 non-null float64\n",
      "dtypes: float64(4), object(1)\n",
      "memory usage: 3.8+ MB\n",
      "<class 'pandas.core.frame.DataFrame'>\n",
      "RangeIndex: 100000 entries, 0 to 99999\n",
      "Data columns (total 5 columns):\n",
      "id         100000 non-null object\n",
      "f0         100000 non-null float64\n",
      "f1         100000 non-null float64\n",
      "f2         100000 non-null float64\n",
      "product    100000 non-null float64\n",
      "dtypes: float64(4), object(1)\n",
      "memory usage: 3.8+ MB\n",
      "<class 'pandas.core.frame.DataFrame'>\n",
      "RangeIndex: 100000 entries, 0 to 99999\n",
      "Data columns (total 5 columns):\n",
      "id         100000 non-null object\n",
      "f0         100000 non-null float64\n",
      "f1         100000 non-null float64\n",
      "f2         100000 non-null float64\n",
      "product    100000 non-null float64\n",
      "dtypes: float64(4), object(1)\n",
      "memory usage: 3.8+ MB\n"
     ]
    }
   ],
   "source": [
    "data_0.info()\n",
    "data_1.info()\n",
    "data_2.info()"
   ]
  },
  {
   "cell_type": "code",
   "execution_count": 131,
   "metadata": {},
   "outputs": [
    {
     "data": {
      "text/html": [
       "<div>\n",
       "<style scoped>\n",
       "    .dataframe tbody tr th:only-of-type {\n",
       "        vertical-align: middle;\n",
       "    }\n",
       "\n",
       "    .dataframe tbody tr th {\n",
       "        vertical-align: top;\n",
       "    }\n",
       "\n",
       "    .dataframe thead th {\n",
       "        text-align: right;\n",
       "    }\n",
       "</style>\n",
       "<table border=\"1\" class=\"dataframe\">\n",
       "  <thead>\n",
       "    <tr style=\"text-align: right;\">\n",
       "      <th></th>\n",
       "      <th>id</th>\n",
       "      <th>f0</th>\n",
       "      <th>f1</th>\n",
       "      <th>f2</th>\n",
       "      <th>product</th>\n",
       "    </tr>\n",
       "  </thead>\n",
       "  <tbody>\n",
       "    <tr>\n",
       "      <td>0</td>\n",
       "      <td>txEyH</td>\n",
       "      <td>0.71</td>\n",
       "      <td>-0.50</td>\n",
       "      <td>1.22</td>\n",
       "      <td>105.28</td>\n",
       "    </tr>\n",
       "    <tr>\n",
       "      <td>1</td>\n",
       "      <td>2acmU</td>\n",
       "      <td>1.33</td>\n",
       "      <td>-0.34</td>\n",
       "      <td>4.37</td>\n",
       "      <td>73.04</td>\n",
       "    </tr>\n",
       "    <tr>\n",
       "      <td>2</td>\n",
       "      <td>409Wp</td>\n",
       "      <td>1.02</td>\n",
       "      <td>0.15</td>\n",
       "      <td>1.42</td>\n",
       "      <td>85.27</td>\n",
       "    </tr>\n",
       "    <tr>\n",
       "      <td>3</td>\n",
       "      <td>iJLyR</td>\n",
       "      <td>-0.03</td>\n",
       "      <td>0.14</td>\n",
       "      <td>2.98</td>\n",
       "      <td>168.62</td>\n",
       "    </tr>\n",
       "    <tr>\n",
       "      <td>4</td>\n",
       "      <td>Xdl7t</td>\n",
       "      <td>1.99</td>\n",
       "      <td>0.16</td>\n",
       "      <td>4.75</td>\n",
       "      <td>154.04</td>\n",
       "    </tr>\n",
       "  </tbody>\n",
       "</table>\n",
       "</div>"
      ],
      "text/plain": [
       "      id    f0    f1   f2  product\n",
       "0  txEyH  0.71 -0.50 1.22   105.28\n",
       "1  2acmU  1.33 -0.34 4.37    73.04\n",
       "2  409Wp  1.02  0.15 1.42    85.27\n",
       "3  iJLyR -0.03  0.14 2.98   168.62\n",
       "4  Xdl7t  1.99  0.16 4.75   154.04"
      ]
     },
     "execution_count": 131,
     "metadata": {},
     "output_type": "execute_result"
    }
   ],
   "source": [
    "data_0.head()"
   ]
  },
  {
   "cell_type": "code",
   "execution_count": 132,
   "metadata": {},
   "outputs": [
    {
     "data": {
      "text/html": [
       "<div>\n",
       "<style scoped>\n",
       "    .dataframe tbody tr th:only-of-type {\n",
       "        vertical-align: middle;\n",
       "    }\n",
       "\n",
       "    .dataframe tbody tr th {\n",
       "        vertical-align: top;\n",
       "    }\n",
       "\n",
       "    .dataframe thead th {\n",
       "        text-align: right;\n",
       "    }\n",
       "</style>\n",
       "<table border=\"1\" class=\"dataframe\">\n",
       "  <thead>\n",
       "    <tr style=\"text-align: right;\">\n",
       "      <th></th>\n",
       "      <th>id</th>\n",
       "      <th>f0</th>\n",
       "      <th>f1</th>\n",
       "      <th>f2</th>\n",
       "      <th>product</th>\n",
       "    </tr>\n",
       "  </thead>\n",
       "  <tbody>\n",
       "    <tr>\n",
       "      <td>0</td>\n",
       "      <td>kBEdx</td>\n",
       "      <td>-15.00</td>\n",
       "      <td>-8.28</td>\n",
       "      <td>-0.01</td>\n",
       "      <td>3.18</td>\n",
       "    </tr>\n",
       "    <tr>\n",
       "      <td>1</td>\n",
       "      <td>62mP7</td>\n",
       "      <td>14.27</td>\n",
       "      <td>-3.48</td>\n",
       "      <td>1.00</td>\n",
       "      <td>26.95</td>\n",
       "    </tr>\n",
       "    <tr>\n",
       "      <td>2</td>\n",
       "      <td>vyE1P</td>\n",
       "      <td>6.26</td>\n",
       "      <td>-5.95</td>\n",
       "      <td>5.00</td>\n",
       "      <td>134.77</td>\n",
       "    </tr>\n",
       "    <tr>\n",
       "      <td>3</td>\n",
       "      <td>KcrkZ</td>\n",
       "      <td>-13.08</td>\n",
       "      <td>-11.51</td>\n",
       "      <td>5.00</td>\n",
       "      <td>137.95</td>\n",
       "    </tr>\n",
       "    <tr>\n",
       "      <td>4</td>\n",
       "      <td>AHL4O</td>\n",
       "      <td>12.70</td>\n",
       "      <td>-8.15</td>\n",
       "      <td>5.00</td>\n",
       "      <td>134.77</td>\n",
       "    </tr>\n",
       "  </tbody>\n",
       "</table>\n",
       "</div>"
      ],
      "text/plain": [
       "      id     f0     f1    f2  product\n",
       "0  kBEdx -15.00  -8.28 -0.01     3.18\n",
       "1  62mP7  14.27  -3.48  1.00    26.95\n",
       "2  vyE1P   6.26  -5.95  5.00   134.77\n",
       "3  KcrkZ -13.08 -11.51  5.00   137.95\n",
       "4  AHL4O  12.70  -8.15  5.00   134.77"
      ]
     },
     "execution_count": 132,
     "metadata": {},
     "output_type": "execute_result"
    }
   ],
   "source": [
    "data_1.head()"
   ]
  },
  {
   "cell_type": "code",
   "execution_count": 133,
   "metadata": {},
   "outputs": [
    {
     "data": {
      "text/html": [
       "<div>\n",
       "<style scoped>\n",
       "    .dataframe tbody tr th:only-of-type {\n",
       "        vertical-align: middle;\n",
       "    }\n",
       "\n",
       "    .dataframe tbody tr th {\n",
       "        vertical-align: top;\n",
       "    }\n",
       "\n",
       "    .dataframe thead th {\n",
       "        text-align: right;\n",
       "    }\n",
       "</style>\n",
       "<table border=\"1\" class=\"dataframe\">\n",
       "  <thead>\n",
       "    <tr style=\"text-align: right;\">\n",
       "      <th></th>\n",
       "      <th>id</th>\n",
       "      <th>f0</th>\n",
       "      <th>f1</th>\n",
       "      <th>f2</th>\n",
       "      <th>product</th>\n",
       "    </tr>\n",
       "  </thead>\n",
       "  <tbody>\n",
       "    <tr>\n",
       "      <td>0</td>\n",
       "      <td>fwXo0</td>\n",
       "      <td>-1.15</td>\n",
       "      <td>0.96</td>\n",
       "      <td>-0.83</td>\n",
       "      <td>27.76</td>\n",
       "    </tr>\n",
       "    <tr>\n",
       "      <td>1</td>\n",
       "      <td>WJtFt</td>\n",
       "      <td>0.26</td>\n",
       "      <td>0.27</td>\n",
       "      <td>-2.53</td>\n",
       "      <td>56.07</td>\n",
       "    </tr>\n",
       "    <tr>\n",
       "      <td>2</td>\n",
       "      <td>ovLUW</td>\n",
       "      <td>0.19</td>\n",
       "      <td>0.29</td>\n",
       "      <td>-5.59</td>\n",
       "      <td>62.87</td>\n",
       "    </tr>\n",
       "    <tr>\n",
       "      <td>3</td>\n",
       "      <td>q6cA6</td>\n",
       "      <td>2.24</td>\n",
       "      <td>-0.55</td>\n",
       "      <td>0.93</td>\n",
       "      <td>114.57</td>\n",
       "    </tr>\n",
       "    <tr>\n",
       "      <td>4</td>\n",
       "      <td>WPMUX</td>\n",
       "      <td>-0.52</td>\n",
       "      <td>1.72</td>\n",
       "      <td>5.90</td>\n",
       "      <td>149.60</td>\n",
       "    </tr>\n",
       "  </tbody>\n",
       "</table>\n",
       "</div>"
      ],
      "text/plain": [
       "      id    f0    f1    f2  product\n",
       "0  fwXo0 -1.15  0.96 -0.83    27.76\n",
       "1  WJtFt  0.26  0.27 -2.53    56.07\n",
       "2  ovLUW  0.19  0.29 -5.59    62.87\n",
       "3  q6cA6  2.24 -0.55  0.93   114.57\n",
       "4  WPMUX -0.52  1.72  5.90   149.60"
      ]
     },
     "execution_count": 133,
     "metadata": {},
     "output_type": "execute_result"
    }
   ],
   "source": [
    "data_2.head()"
   ]
  },
  {
   "cell_type": "markdown",
   "metadata": {},
   "source": [
    "Удалим колонку 'id' из датасетов, т.к. она не нужна при обучении моделей."
   ]
  },
  {
   "cell_type": "code",
   "execution_count": 134,
   "metadata": {},
   "outputs": [],
   "source": [
    "data_0 = data_0.drop('id', axis=1)\n",
    "data_1 = data_1.drop('id', axis=1)\n",
    "data_2 = data_2.drop('id', axis=1)"
   ]
  },
  {
   "cell_type": "markdown",
   "metadata": {},
   "source": [
    "## Обучение и проверка модели"
   ]
  },
  {
   "cell_type": "markdown",
   "metadata": {},
   "source": [
    "Напишем функцию для обучения модели по датасету."
   ]
  },
  {
   "cell_type": "code",
   "execution_count": 135,
   "metadata": {},
   "outputs": [],
   "source": [
    "def predict_data (data):\n",
    "    # Разделим данные на выборки\n",
    "    df_train, df_valid = train_test_split(data, test_size=0.25, random_state=12345)\n",
    "    \n",
    "    # Сохраним признаки в отдельных переменных\n",
    "    features_train = df_train.drop('product', axis=1)\n",
    "    target_train = df_train['product']\n",
    "\n",
    "    features_valid = df_valid.drop('product', axis=1)\n",
    "    target_valid = df_valid['product']\n",
    "    \n",
    "    # Приведем численные признаки к одному масштабу\n",
    "    numeric = ['f0','f1','f2']\n",
    "    scaler = StandardScaler()\n",
    "    scaler.fit(features_train[numeric])\n",
    "    features_train[numeric] = scaler.transform(features_train[numeric])\n",
    "    features_valid[numeric] = scaler.transform(features_valid[numeric])\n",
    "    \n",
    "    # Обучим модель линейной регрессии \n",
    "    model = LinearRegression()\n",
    "    model.fit(features_train, target_train)\n",
    "    predicted_valid = pd.Series(model.predict(features_valid))\n",
    "    \n",
    "    # упорядочим индексы у target_valid\n",
    "    target_valid.index = predicted_valid.index\n",
    "    \n",
    "    return target_valid, predicted_valid    "
   ]
  },
  {
   "cell_type": "markdown",
   "metadata": {},
   "source": [
    "Получим предсказания модели"
   ]
  },
  {
   "cell_type": "code",
   "execution_count": 136,
   "metadata": {},
   "outputs": [],
   "source": [
    "target_0, predicted_0 =  predict_data (data_0)\n",
    "target_1, predicted_1 =  predict_data (data_1)\n",
    "target_2, predicted_2 =  predict_data (data_2)"
   ]
  },
  {
   "cell_type": "markdown",
   "metadata": {},
   "source": [
    "Рассчитаем Cредний запас предсказанного сырья и RMSE по регионам"
   ]
  },
  {
   "cell_type": "code",
   "execution_count": 137,
   "metadata": {},
   "outputs": [
    {
     "name": "stdout",
     "output_type": "stream",
     "text": [
      "Регион 0\n",
      "RMSE = 37.5794217150813\n",
      "Cредний запас предсказанного сырья = 92.59256778438038\n"
     ]
    }
   ],
   "source": [
    "print(\"Регион 0\")\n",
    "print(\"RMSE =\", mean_squared_error(target_0, predicted_0) ** 0.5)\n",
    "print(\"Cредний запас предсказанного сырья =\", predicted_0.mean())"
   ]
  },
  {
   "cell_type": "code",
   "execution_count": 138,
   "metadata": {},
   "outputs": [
    {
     "name": "stdout",
     "output_type": "stream",
     "text": [
      "Регион 1\n",
      "RMSE = 0.8930992867756158\n",
      "Cредний запас предсказанного сырья = 68.728546895446\n"
     ]
    }
   ],
   "source": [
    "print(\"Регион 1\")\n",
    "print(\"RMSE =\", mean_squared_error(target_1, predicted_1) ** 0.5)\n",
    "print(\"Cредний запас предсказанного сырья =\", predicted_1.mean())"
   ]
  },
  {
   "cell_type": "code",
   "execution_count": 139,
   "metadata": {},
   "outputs": [
    {
     "name": "stdout",
     "output_type": "stream",
     "text": [
      "Регион 2\n",
      "RMSE = 40.02970873393434\n",
      "Cредний запас предсказанного сырья = 94.96504596800489\n"
     ]
    }
   ],
   "source": [
    "print(\"Регион 2\")\n",
    "print(\"RMSE =\", mean_squared_error(target_2, predicted_2) ** 0.5)\n",
    "print(\"Cредний запас предсказанного сырья =\", predicted_2.mean())"
   ]
  },
  {
   "cell_type": "markdown",
   "metadata": {},
   "source": [
    "Регион 1 имеет значительно меньший RMSE, чем остальные. Но и средние запасы сырья у него тоже меньше."
   ]
  },
  {
   "cell_type": "markdown",
   "metadata": {},
   "source": [
    "## Подготовка к расчёту прибыли"
   ]
  },
  {
   "cell_type": "markdown",
   "metadata": {},
   "source": [
    "Заведем константы согласно условий задачи."
   ]
  },
  {
   "cell_type": "code",
   "execution_count": 140,
   "metadata": {},
   "outputs": [],
   "source": [
    "PROFIT_PER_PROD = 450000\n",
    "N_TOTAL = 500\n",
    "N_BEST = 200\n",
    "BUDGET = 10000000000"
   ]
  },
  {
   "cell_type": "markdown",
   "metadata": {},
   "source": [
    "Рассчитаем минимальное среднее количество продукта в месторождениях региона, достаточное для разработки"
   ]
  },
  {
   "cell_type": "code",
   "execution_count": 141,
   "metadata": {},
   "outputs": [
    {
     "name": "stdout",
     "output_type": "stream",
     "text": [
      "минимальное среднее количество продукта в месторождениях региона, достаточное для разработки = 111.11111111111111\n"
     ]
    }
   ],
   "source": [
    "min_prod = BUDGET/N_BEST/PROFIT_PER_PROD\n",
    "print(\"минимальное среднее количество продукта в месторождениях региона, достаточное для разработки =\",min_prod)"
   ]
  },
  {
   "cell_type": "markdown",
   "metadata": {},
   "source": [
    "Среднее значение, достаточное для разработки выше средних по регионам. Посмотрим как поменяется ситуация, когда будем выбирать 200 лучших месторождений по региону"
   ]
  },
  {
   "cell_type": "markdown",
   "metadata": {},
   "source": [
    "Напишем функцию для расчёта прибыли по выбранным скважинам и предсказаниям модели"
   ]
  },
  {
   "cell_type": "code",
   "execution_count": 142,
   "metadata": {},
   "outputs": [],
   "source": [
    "def profit_data (target, predict):\n",
    "    predict = predict.sort_values(ascending = False)\n",
    "    profit = target[predict.head(N_BEST).index].sum() * PROFIT_PER_PROD - BUDGET\n",
    "    return profit"
   ]
  },
  {
   "cell_type": "markdown",
   "metadata": {},
   "source": [
    "## Расчёт прибыли и рисков "
   ]
  },
  {
   "cell_type": "markdown",
   "metadata": {},
   "source": [
    "Создадим функцию profit_calc которая будет считать и выводить на экран:\n",
    "\n",
    "- Среднюю прибыль\n",
    "- Границы 95%-й доверительного интервала\n",
    "- Риск получения убытка"
   ]
  },
  {
   "cell_type": "code",
   "execution_count": 143,
   "metadata": {},
   "outputs": [],
   "source": [
    "def profit_calc (target, predict):\n",
    "    state = np.random.RandomState(12345)\n",
    "\n",
    "    values = []\n",
    "    for i in range(1000):\n",
    "        target_subsample = target.sample(n=N_TOTAL, replace=True, random_state=state)\n",
    "        probs_subsample = predict[target_subsample.index]\n",
    "        values.append(profit_data(target_subsample,probs_subsample))\n",
    "\n",
    "\n",
    "    values = pd.Series(values)\n",
    "    lower =  values.quantile(0.025)\n",
    "    upper = values.quantile(0.975)\n",
    "\n",
    "    mean = values.mean()\n",
    "    print(\"Средняя прибыль:\", '{:,.0f}'.format(mean))\n",
    "    print(\"95%-й доверительный интервал\", '{:,.0f} - {:,.0f}'.format(lower, upper))\n",
    "    print(\"Риск получения убытка\", values[values < 0].count()/values.count())\n",
    "    return"
   ]
  },
  {
   "cell_type": "markdown",
   "metadata": {},
   "source": [
    "### Рассчитаем показатели для каждого региона."
   ]
  },
  {
   "cell_type": "markdown",
   "metadata": {},
   "source": [
    "#### Показатели по Региону_0"
   ]
  },
  {
   "cell_type": "code",
   "execution_count": 144,
   "metadata": {
    "scrolled": true
   },
   "outputs": [
    {
     "name": "stdout",
     "output_type": "stream",
     "text": [
      "Средняя прибыль: 600,735,244\n",
      "95%-й доверительный интервал 12,948,331 - 1,231,163,606\n",
      "Риск получения убытка 0.02\n"
     ]
    }
   ],
   "source": [
    "profit_calc (target_0, predicted_0)"
   ]
  },
  {
   "cell_type": "markdown",
   "metadata": {},
   "source": [
    "#### Показатели по Региону_1"
   ]
  },
  {
   "cell_type": "code",
   "execution_count": 145,
   "metadata": {},
   "outputs": [
    {
     "name": "stdout",
     "output_type": "stream",
     "text": [
      "Средняя прибыль: 665,241,058\n",
      "95%-й доверительный интервал 157,988,481 - 1,197,641,587\n",
      "Риск получения убытка 0.003\n"
     ]
    }
   ],
   "source": [
    "profit_calc (target_1, predicted_1)"
   ]
  },
  {
   "cell_type": "markdown",
   "metadata": {},
   "source": [
    "#### Показатели по Региону_2"
   ]
  },
  {
   "cell_type": "code",
   "execution_count": 146,
   "metadata": {},
   "outputs": [
    {
     "name": "stdout",
     "output_type": "stream",
     "text": [
      "Средняя прибыль: 615,559,723\n",
      "95%-й доверительный интервал -12,218,495 - 1,230,644,474\n",
      "Риск получения убытка 0.03\n"
     ]
    }
   ],
   "source": [
    "profit_calc (target_2, predicted_2)"
   ]
  },
  {
   "cell_type": "markdown",
   "metadata": {},
   "source": [
    "Добавим таблицу по регионам."
   ]
  },
  {
   "cell_type": "code",
   "execution_count": 147,
   "metadata": {
    "scrolled": true
   },
   "outputs": [
    {
     "data": {
      "text/html": [
       "<div>\n",
       "<style scoped>\n",
       "    .dataframe tbody tr th:only-of-type {\n",
       "        vertical-align: middle;\n",
       "    }\n",
       "\n",
       "    .dataframe tbody tr th {\n",
       "        vertical-align: top;\n",
       "    }\n",
       "\n",
       "    .dataframe thead th {\n",
       "        text-align: right;\n",
       "    }\n",
       "</style>\n",
       "<table border=\"1\" class=\"dataframe\">\n",
       "  <thead>\n",
       "    <tr style=\"text-align: right;\">\n",
       "      <th></th>\n",
       "      <th>region</th>\n",
       "      <th>avg_profit</th>\n",
       "      <th>lower_95%</th>\n",
       "      <th>upper_95%</th>\n",
       "      <th>risk_of_loss</th>\n",
       "    </tr>\n",
       "  </thead>\n",
       "  <tbody>\n",
       "    <tr>\n",
       "      <td>0</td>\n",
       "      <td>0</td>\n",
       "      <td>600,735,244.00</td>\n",
       "      <td>12,948,331.00</td>\n",
       "      <td>1,231,163,606.00</td>\n",
       "      <td>0.02</td>\n",
       "    </tr>\n",
       "    <tr>\n",
       "      <td>1</td>\n",
       "      <td>1</td>\n",
       "      <td>665,241,058.00</td>\n",
       "      <td>157,988,481.00</td>\n",
       "      <td>1,197,641,587.00</td>\n",
       "      <td>0.003</td>\n",
       "    </tr>\n",
       "    <tr>\n",
       "      <td>2</td>\n",
       "      <td>2</td>\n",
       "      <td>615,559,723.00</td>\n",
       "      <td>-12,218,495.00</td>\n",
       "      <td>1,230,644,474.00</td>\n",
       "      <td>0.03</td>\n",
       "    </tr>\n",
       "  </tbody>\n",
       "</table>\n",
       "</div>"
      ],
      "text/plain": [
       "   region     avg_profit      lower_95%        upper_95% risk_of_loss\n",
       "0       0 600,735,244.00  12,948,331.00 1,231,163,606.00         0.02\n",
       "1       1 665,241,058.00 157,988,481.00 1,197,641,587.00        0.003\n",
       "2       2 615,559,723.00 -12,218,495.00 1,230,644,474.00         0.03"
      ]
     },
     "execution_count": 147,
     "metadata": {},
     "output_type": "execute_result"
    }
   ],
   "source": [
    "data_res = pd.DataFrame(\n",
    "    {\n",
    "        'region': [\n",
    "            0,\n",
    "            1,\n",
    "            2,\n",
    "        ],\n",
    "        'avg_profit': [\n",
    "            600735244.,\n",
    "            665241058.,\n",
    "            615559723.,\n",
    "        ],\n",
    "        'lower_95%': [\n",
    "            12948331.,\n",
    "            157988481.,\n",
    "            -12218495.,\n",
    "        ],\n",
    "        'upper_95%': [\n",
    "            1231163606.,\n",
    "            1197641587.,\n",
    "            1230644474.,\n",
    "        ],\n",
    "        'risk_of_loss': [\n",
    "            '0.02',\n",
    "            '0.003',\n",
    "            '0.03',\n",
    "        ],\n",
    "    }\n",
    ")\n",
    "\n",
    "pd.options.display.float_format = '{:,.2f}'.format\n",
    "\n",
    "data_res"
   ]
  },
  {
   "cell_type": "markdown",
   "metadata": {},
   "source": [
    "## Общий вывод"
   ]
  },
  {
   "cell_type": "markdown",
   "metadata": {},
   "source": [
    "Для разработки предлагаю Регион_1 по следующим причинам:\n",
    "1. Наибольшая средняя прибыль = 665 млн.руб.\n",
    "2. Наибольшая нижняя граница 95%-го доверительного интервала = 158 млн.руб.\n",
    "3. Наименьший риск получения убытка = 0.3%"
   ]
  }
 ],
 "metadata": {
  "ExecuteTimeLog": [
   {
    "duration": 1358,
    "start_time": "2021-08-14T16:28:20.148Z"
   },
   {
    "duration": 631,
    "start_time": "2021-08-14T16:28:21.508Z"
   },
   {
    "duration": 70,
    "start_time": "2021-08-14T16:28:22.142Z"
   },
   {
    "duration": 71,
    "start_time": "2021-08-14T16:28:22.215Z"
   },
   {
    "duration": 45,
    "start_time": "2021-08-14T16:28:22.289Z"
   },
   {
    "duration": 49,
    "start_time": "2021-08-14T16:28:22.336Z"
   },
   {
    "duration": 13,
    "start_time": "2021-08-14T16:28:22.387Z"
   },
   {
    "duration": 13,
    "start_time": "2021-08-14T16:28:22.402Z"
   },
   {
    "duration": 46,
    "start_time": "2021-08-14T16:28:22.418Z"
   },
   {
    "duration": 16,
    "start_time": "2021-08-14T16:28:22.467Z"
   },
   {
    "duration": 8,
    "start_time": "2021-08-14T16:28:22.485Z"
   },
   {
    "duration": 486,
    "start_time": "2021-08-14T16:28:22.496Z"
   },
   {
    "duration": 101,
    "start_time": "2021-08-14T16:28:23.056Z"
   },
   {
    "duration": 7,
    "start_time": "2021-08-14T16:28:23.159Z"
   },
   {
    "duration": 10,
    "start_time": "2021-08-14T16:28:23.169Z"
   },
   {
    "duration": 4,
    "start_time": "2021-08-14T16:28:23.181Z"
   },
   {
    "duration": 11,
    "start_time": "2021-08-14T16:28:23.187Z"
   },
   {
    "duration": 11,
    "start_time": "2021-08-14T16:28:23.201Z"
   },
   {
    "duration": 7,
    "start_time": "2021-08-14T16:28:23.257Z"
   },
   {
    "duration": 4242,
    "start_time": "2021-08-14T16:28:23.267Z"
   },
   {
    "duration": 4111,
    "start_time": "2021-08-14T16:28:27.512Z"
   },
   {
    "duration": 4131,
    "start_time": "2021-08-14T16:28:31.626Z"
   },
   {
    "duration": 5,
    "start_time": "2021-08-14T16:29:21.917Z"
   },
   {
    "duration": 483,
    "start_time": "2021-08-14T16:29:21.925Z"
   },
   {
    "duration": 60,
    "start_time": "2021-08-14T16:29:22.411Z"
   },
   {
    "duration": 47,
    "start_time": "2021-08-14T16:29:22.474Z"
   },
   {
    "duration": 62,
    "start_time": "2021-08-14T16:29:22.523Z"
   },
   {
    "duration": 33,
    "start_time": "2021-08-14T16:29:22.587Z"
   },
   {
    "duration": 31,
    "start_time": "2021-08-14T16:29:22.624Z"
   },
   {
    "duration": 12,
    "start_time": "2021-08-14T16:29:22.658Z"
   },
   {
    "duration": 19,
    "start_time": "2021-08-14T16:29:22.673Z"
   },
   {
    "duration": 18,
    "start_time": "2021-08-14T16:29:22.695Z"
   },
   {
    "duration": 9,
    "start_time": "2021-08-14T16:29:22.715Z"
   },
   {
    "duration": 421,
    "start_time": "2021-08-14T16:29:22.755Z"
   },
   {
    "duration": 80,
    "start_time": "2021-08-14T16:29:23.180Z"
   },
   {
    "duration": 99,
    "start_time": "2021-08-14T16:29:23.264Z"
   },
   {
    "duration": 7,
    "start_time": "2021-08-14T16:29:23.366Z"
   },
   {
    "duration": 5,
    "start_time": "2021-08-14T16:29:23.375Z"
   },
   {
    "duration": 7,
    "start_time": "2021-08-14T16:29:23.382Z"
   },
   {
    "duration": 8,
    "start_time": "2021-08-14T16:29:23.391Z"
   },
   {
    "duration": 52,
    "start_time": "2021-08-14T16:29:23.404Z"
   },
   {
    "duration": 4206,
    "start_time": "2021-08-14T16:29:23.459Z"
   },
   {
    "duration": 4215,
    "start_time": "2021-08-14T16:29:27.667Z"
   },
   {
    "duration": 4132,
    "start_time": "2021-08-14T16:29:31.884Z"
   },
   {
    "duration": 116,
    "start_time": "2021-08-16T08:26:00.307Z"
   },
   {
    "duration": 3,
    "start_time": "2021-08-16T08:26:36.368Z"
   },
   {
    "duration": 1054,
    "start_time": "2021-08-16T08:27:48.853Z"
   },
   {
    "duration": 424,
    "start_time": "2021-08-16T08:27:49.909Z"
   },
   {
    "duration": 46,
    "start_time": "2021-08-16T08:27:50.336Z"
   },
   {
    "duration": 38,
    "start_time": "2021-08-16T08:27:50.391Z"
   },
   {
    "duration": 35,
    "start_time": "2021-08-16T08:27:50.430Z"
   },
   {
    "duration": 42,
    "start_time": "2021-08-16T08:27:50.467Z"
   },
   {
    "duration": 9,
    "start_time": "2021-08-16T08:27:50.510Z"
   },
   {
    "duration": 15,
    "start_time": "2021-08-16T08:27:50.522Z"
   },
   {
    "duration": 12,
    "start_time": "2021-08-16T08:27:50.539Z"
   },
   {
    "duration": 44,
    "start_time": "2021-08-16T08:27:50.553Z"
   },
   {
    "duration": 6,
    "start_time": "2021-08-16T08:27:50.599Z"
   },
   {
    "duration": 392,
    "start_time": "2021-08-16T08:27:50.606Z"
   },
   {
    "duration": 7,
    "start_time": "2021-08-16T08:27:51.000Z"
   },
   {
    "duration": 97,
    "start_time": "2021-08-16T08:27:51.010Z"
   },
   {
    "duration": 8,
    "start_time": "2021-08-16T08:27:51.193Z"
   },
   {
    "duration": 4,
    "start_time": "2021-08-16T08:27:51.203Z"
   },
   {
    "duration": 11,
    "start_time": "2021-08-16T08:27:51.209Z"
   },
   {
    "duration": 14,
    "start_time": "2021-08-16T08:27:51.222Z"
   },
   {
    "duration": 10,
    "start_time": "2021-08-16T08:27:51.238Z"
   },
   {
    "duration": 476,
    "start_time": "2021-08-16T08:27:51.250Z"
   },
   {
    "duration": -80,
    "start_time": "2021-08-16T08:27:51.809Z"
   },
   {
    "duration": -94,
    "start_time": "2021-08-16T08:27:51.824Z"
   },
   {
    "duration": 3,
    "start_time": "2021-08-16T08:28:13.779Z"
   },
   {
    "duration": 395,
    "start_time": "2021-08-16T08:28:13.786Z"
   },
   {
    "duration": 38,
    "start_time": "2021-08-16T08:28:14.183Z"
   },
   {
    "duration": 35,
    "start_time": "2021-08-16T08:28:14.223Z"
   },
   {
    "duration": 58,
    "start_time": "2021-08-16T08:28:14.261Z"
   },
   {
    "duration": 23,
    "start_time": "2021-08-16T08:28:14.321Z"
   },
   {
    "duration": 8,
    "start_time": "2021-08-16T08:28:14.346Z"
   },
   {
    "duration": 39,
    "start_time": "2021-08-16T08:28:14.356Z"
   },
   {
    "duration": 10,
    "start_time": "2021-08-16T08:28:14.398Z"
   },
   {
    "duration": 27,
    "start_time": "2021-08-16T08:28:14.410Z"
   },
   {
    "duration": 23,
    "start_time": "2021-08-16T08:28:14.439Z"
   },
   {
    "duration": 349,
    "start_time": "2021-08-16T08:28:14.463Z"
   },
   {
    "duration": 82,
    "start_time": "2021-08-16T08:28:14.814Z"
   },
   {
    "duration": 10,
    "start_time": "2021-08-16T08:28:14.898Z"
   },
   {
    "duration": 89,
    "start_time": "2021-08-16T08:28:14.910Z"
   },
   {
    "duration": 3,
    "start_time": "2021-08-16T08:28:15.001Z"
   },
   {
    "duration": 28,
    "start_time": "2021-08-16T08:28:15.006Z"
   },
   {
    "duration": 11,
    "start_time": "2021-08-16T08:28:15.036Z"
   },
   {
    "duration": 6,
    "start_time": "2021-08-16T08:28:15.049Z"
   },
   {
    "duration": 1107,
    "start_time": "2021-08-16T08:28:15.056Z"
   },
   {
    "duration": -440,
    "start_time": "2021-08-16T08:28:16.605Z"
   },
   {
    "duration": -511,
    "start_time": "2021-08-16T08:28:16.677Z"
   },
   {
    "duration": 6,
    "start_time": "2021-08-16T08:28:42.788Z"
   },
   {
    "duration": 399,
    "start_time": "2021-08-16T08:28:42.799Z"
   },
   {
    "duration": 36,
    "start_time": "2021-08-16T08:28:43.200Z"
   },
   {
    "duration": 50,
    "start_time": "2021-08-16T08:28:43.238Z"
   },
   {
    "duration": 36,
    "start_time": "2021-08-16T08:28:43.290Z"
   },
   {
    "duration": 23,
    "start_time": "2021-08-16T08:28:43.327Z"
   },
   {
    "duration": 8,
    "start_time": "2021-08-16T08:28:43.352Z"
   },
   {
    "duration": 11,
    "start_time": "2021-08-16T08:28:43.389Z"
   },
   {
    "duration": 10,
    "start_time": "2021-08-16T08:28:43.402Z"
   },
   {
    "duration": 13,
    "start_time": "2021-08-16T08:28:43.414Z"
   },
   {
    "duration": 6,
    "start_time": "2021-08-16T08:28:43.429Z"
   },
   {
    "duration": 465,
    "start_time": "2021-08-16T08:28:43.436Z"
   },
   {
    "duration": 88,
    "start_time": "2021-08-16T08:28:43.908Z"
   },
   {
    "duration": 93,
    "start_time": "2021-08-16T08:28:43.999Z"
   },
   {
    "duration": 6,
    "start_time": "2021-08-16T08:28:44.094Z"
   },
   {
    "duration": 2,
    "start_time": "2021-08-16T08:28:44.102Z"
   },
   {
    "duration": 10,
    "start_time": "2021-08-16T08:28:44.106Z"
   },
   {
    "duration": 6,
    "start_time": "2021-08-16T08:28:44.118Z"
   },
   {
    "duration": 5,
    "start_time": "2021-08-16T08:28:44.126Z"
   },
   {
    "duration": 2803,
    "start_time": "2021-08-16T08:28:44.133Z"
   },
   {
    "duration": 2812,
    "start_time": "2021-08-16T08:28:46.937Z"
   },
   {
    "duration": 2738,
    "start_time": "2021-08-16T08:28:49.751Z"
   },
   {
    "duration": 155,
    "start_time": "2021-08-16T08:31:20.335Z"
   },
   {
    "duration": 14,
    "start_time": "2021-08-16T08:40:30.285Z"
   },
   {
    "duration": 11,
    "start_time": "2021-08-16T08:43:01.160Z"
   },
   {
    "duration": 183,
    "start_time": "2021-08-16T08:45:25.910Z"
   },
   {
    "duration": 11,
    "start_time": "2021-08-16T08:46:19.160Z"
   },
   {
    "duration": 9,
    "start_time": "2021-08-16T08:46:27.134Z"
   },
   {
    "duration": 9,
    "start_time": "2021-08-16T08:46:37.127Z"
   },
   {
    "duration": 9,
    "start_time": "2021-08-16T08:46:50.260Z"
   },
   {
    "duration": 61,
    "start_time": "2021-08-16T08:46:59.526Z"
   },
   {
    "duration": 12,
    "start_time": "2021-08-16T08:47:27.303Z"
   },
   {
    "duration": 11,
    "start_time": "2021-08-16T08:47:56.973Z"
   },
   {
    "duration": 9,
    "start_time": "2021-08-16T08:48:13.936Z"
   },
   {
    "duration": 60,
    "start_time": "2021-08-16T08:50:26.148Z"
   },
   {
    "duration": 9,
    "start_time": "2021-08-16T08:50:41.800Z"
   },
   {
    "duration": 3,
    "start_time": "2021-08-16T08:51:29.890Z"
   },
   {
    "duration": 394,
    "start_time": "2021-08-16T08:51:29.898Z"
   },
   {
    "duration": 36,
    "start_time": "2021-08-16T08:51:30.294Z"
   },
   {
    "duration": 55,
    "start_time": "2021-08-16T08:51:30.332Z"
   },
   {
    "duration": 36,
    "start_time": "2021-08-16T08:51:30.388Z"
   },
   {
    "duration": 24,
    "start_time": "2021-08-16T08:51:30.426Z"
   },
   {
    "duration": 34,
    "start_time": "2021-08-16T08:51:30.451Z"
   },
   {
    "duration": 19,
    "start_time": "2021-08-16T08:51:30.487Z"
   },
   {
    "duration": 19,
    "start_time": "2021-08-16T08:51:30.508Z"
   },
   {
    "duration": 22,
    "start_time": "2021-08-16T08:51:30.529Z"
   },
   {
    "duration": 22,
    "start_time": "2021-08-16T08:51:30.553Z"
   },
   {
    "duration": 414,
    "start_time": "2021-08-16T08:51:30.577Z"
   },
   {
    "duration": 93,
    "start_time": "2021-08-16T08:51:30.994Z"
   },
   {
    "duration": 99,
    "start_time": "2021-08-16T08:51:31.089Z"
   },
   {
    "duration": 7,
    "start_time": "2021-08-16T08:51:31.190Z"
   },
   {
    "duration": 6,
    "start_time": "2021-08-16T08:51:31.199Z"
   },
   {
    "duration": 11,
    "start_time": "2021-08-16T08:51:31.206Z"
   },
   {
    "duration": 15,
    "start_time": "2021-08-16T08:51:31.219Z"
   },
   {
    "duration": 8,
    "start_time": "2021-08-16T08:51:31.235Z"
   },
   {
    "duration": 2619,
    "start_time": "2021-08-16T08:51:31.245Z"
   },
   {
    "duration": 2568,
    "start_time": "2021-08-16T08:51:33.866Z"
   },
   {
    "duration": 2620,
    "start_time": "2021-08-16T08:51:36.436Z"
   },
   {
    "duration": 10,
    "start_time": "2021-08-16T08:51:39.057Z"
   },
   {
    "duration": 4,
    "start_time": "2021-08-16T08:52:51.373Z"
   },
   {
    "duration": 398,
    "start_time": "2021-08-16T08:52:51.379Z"
   },
   {
    "duration": 34,
    "start_time": "2021-08-16T08:52:51.779Z"
   },
   {
    "duration": 32,
    "start_time": "2021-08-16T08:52:51.815Z"
   },
   {
    "duration": 53,
    "start_time": "2021-08-16T08:52:51.849Z"
   },
   {
    "duration": 23,
    "start_time": "2021-08-16T08:52:51.904Z"
   },
   {
    "duration": 7,
    "start_time": "2021-08-16T08:52:51.930Z"
   },
   {
    "duration": 11,
    "start_time": "2021-08-16T08:52:51.938Z"
   },
   {
    "duration": 38,
    "start_time": "2021-08-16T08:52:51.950Z"
   },
   {
    "duration": 9,
    "start_time": "2021-08-16T08:52:51.990Z"
   },
   {
    "duration": 7,
    "start_time": "2021-08-16T08:52:52.001Z"
   },
   {
    "duration": 385,
    "start_time": "2021-08-16T08:52:52.010Z"
   },
   {
    "duration": 87,
    "start_time": "2021-08-16T08:52:52.398Z"
   },
   {
    "duration": 7,
    "start_time": "2021-08-16T08:52:52.488Z"
   },
   {
    "duration": 90,
    "start_time": "2021-08-16T08:52:52.499Z"
   },
   {
    "duration": 4,
    "start_time": "2021-08-16T08:52:52.591Z"
   },
   {
    "duration": 8,
    "start_time": "2021-08-16T08:52:52.597Z"
   },
   {
    "duration": 9,
    "start_time": "2021-08-16T08:52:52.606Z"
   },
   {
    "duration": 6,
    "start_time": "2021-08-16T08:52:52.618Z"
   },
   {
    "duration": 2561,
    "start_time": "2021-08-16T08:52:52.625Z"
   },
   {
    "duration": 2597,
    "start_time": "2021-08-16T08:52:55.188Z"
   },
   {
    "duration": 2560,
    "start_time": "2021-08-16T08:52:57.787Z"
   },
   {
    "duration": 9,
    "start_time": "2021-08-16T08:53:00.349Z"
   },
   {
    "duration": 4,
    "start_time": "2021-08-16T08:53:18.515Z"
   },
   {
    "duration": 381,
    "start_time": "2021-08-16T08:53:18.521Z"
   },
   {
    "duration": 44,
    "start_time": "2021-08-16T08:53:18.904Z"
   },
   {
    "duration": 51,
    "start_time": "2021-08-16T08:53:18.950Z"
   },
   {
    "duration": 33,
    "start_time": "2021-08-16T08:53:19.003Z"
   },
   {
    "duration": 23,
    "start_time": "2021-08-16T08:53:19.038Z"
   },
   {
    "duration": 29,
    "start_time": "2021-08-16T08:53:19.063Z"
   },
   {
    "duration": 13,
    "start_time": "2021-08-16T08:53:19.094Z"
   },
   {
    "duration": 10,
    "start_time": "2021-08-16T08:53:19.108Z"
   },
   {
    "duration": 12,
    "start_time": "2021-08-16T08:53:19.119Z"
   },
   {
    "duration": 7,
    "start_time": "2021-08-16T08:53:19.132Z"
   },
   {
    "duration": 458,
    "start_time": "2021-08-16T08:53:19.140Z"
   },
   {
    "duration": 84,
    "start_time": "2021-08-16T08:53:19.604Z"
   },
   {
    "duration": 105,
    "start_time": "2021-08-16T08:53:19.690Z"
   },
   {
    "duration": 9,
    "start_time": "2021-08-16T08:53:19.797Z"
   },
   {
    "duration": 4,
    "start_time": "2021-08-16T08:53:19.808Z"
   },
   {
    "duration": 7,
    "start_time": "2021-08-16T08:53:19.814Z"
   },
   {
    "duration": 8,
    "start_time": "2021-08-16T08:53:19.822Z"
   },
   {
    "duration": 6,
    "start_time": "2021-08-16T08:53:19.833Z"
   },
   {
    "duration": 2585,
    "start_time": "2021-08-16T08:53:19.840Z"
   },
   {
    "duration": 2627,
    "start_time": "2021-08-16T08:53:22.427Z"
   },
   {
    "duration": 2616,
    "start_time": "2021-08-16T08:53:25.056Z"
   },
   {
    "duration": 17,
    "start_time": "2021-08-16T08:53:27.674Z"
   }
  ],
  "kernelspec": {
   "display_name": "Python 3",
   "language": "python",
   "name": "python3"
  },
  "language_info": {
   "codemirror_mode": {
    "name": "ipython",
    "version": 3
   },
   "file_extension": ".py",
   "mimetype": "text/x-python",
   "name": "python",
   "nbconvert_exporter": "python",
   "pygments_lexer": "ipython3",
   "version": "3.7.8"
  },
  "toc": {
   "base_numbering": 1,
   "nav_menu": {},
   "number_sections": true,
   "sideBar": true,
   "skip_h1_title": true,
   "title_cell": "Table of Contents",
   "title_sidebar": "Contents",
   "toc_cell": false,
   "toc_position": {},
   "toc_section_display": true,
   "toc_window_display": true
  }
 },
 "nbformat": 4,
 "nbformat_minor": 2
}
