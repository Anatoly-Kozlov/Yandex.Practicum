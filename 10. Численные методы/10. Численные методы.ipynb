{
 "cells": [
  {
   "cell_type": "markdown",
   "metadata": {},
   "source": [
    "# Определение стоимости автомобилей"
   ]
  },
  {
   "cell_type": "markdown",
   "metadata": {},
   "source": [
    "Сервис по продаже автомобилей с пробегом «Не бит, не крашен» разрабатывает приложение для привлечения новых клиентов. В нём можно быстро узнать рыночную стоимость своего автомобиля. В вашем распоряжении исторические данные: технические характеристики, комплектации и цены автомобилей. Вам нужно построить модель для определения стоимости. \n",
    "\n",
    "Заказчику важны:\n",
    "\n",
    "- качество предсказания;\n",
    "- скорость предсказания;\n",
    "- время обучения."
   ]
  },
  {
   "cell_type": "markdown",
   "metadata": {},
   "source": [
    "## Подготовка данных"
   ]
  },
  {
   "cell_type": "code",
   "execution_count": 125,
   "metadata": {},
   "outputs": [],
   "source": [
    "import pandas as pd\n",
    "import matplotlib.pyplot as plt\n",
    "\n",
    "from sklearn.model_selection import train_test_split\n",
    "from sklearn.metrics import mean_squared_error\n",
    "\n",
    "#from sklearn.preprocessing import LabelEncoder\n",
    "from sklearn.preprocessing import OrdinalEncoder\n",
    "\n",
    "from sklearn.model_selection import RandomizedSearchCV\n",
    "\n",
    "from sklearn.tree import DecisionTreeRegressor\n",
    "from sklearn.ensemble import RandomForestRegressor\n",
    "from catboost import CatBoostRegressor\n",
    "from lightgbm import LGBMRegressor\n",
    "\n",
    "import warnings\n",
    "warnings.simplefilter('ignore')\n",
    "\n",
    "import time"
   ]
  },
  {
   "cell_type": "code",
   "execution_count": 126,
   "metadata": {},
   "outputs": [],
   "source": [
    "try:\n",
    "    data= pd.read_csv('C:\\\\Users\\\\user\\\\Yandex\\\\Praktika_10\\\\datasets\\\\autos.csv')\n",
    "except:\n",
    "    data = pd.read_csv('/datasets/autos.csv') "
   ]
  },
  {
   "cell_type": "code",
   "execution_count": 127,
   "metadata": {},
   "outputs": [
    {
     "data": {
      "text/plain": [
       "(354369, 16)"
      ]
     },
     "execution_count": 127,
     "metadata": {},
     "output_type": "execute_result"
    }
   ],
   "source": [
    "data.shape"
   ]
  },
  {
   "cell_type": "code",
   "execution_count": 128,
   "metadata": {},
   "outputs": [
    {
     "data": {
      "text/html": [
       "<div>\n",
       "<style scoped>\n",
       "    .dataframe tbody tr th:only-of-type {\n",
       "        vertical-align: middle;\n",
       "    }\n",
       "\n",
       "    .dataframe tbody tr th {\n",
       "        vertical-align: top;\n",
       "    }\n",
       "\n",
       "    .dataframe thead th {\n",
       "        text-align: right;\n",
       "    }\n",
       "</style>\n",
       "<table border=\"1\" class=\"dataframe\">\n",
       "  <thead>\n",
       "    <tr style=\"text-align: right;\">\n",
       "      <th></th>\n",
       "      <th>DateCrawled</th>\n",
       "      <th>Price</th>\n",
       "      <th>VehicleType</th>\n",
       "      <th>RegistrationYear</th>\n",
       "      <th>Gearbox</th>\n",
       "      <th>Power</th>\n",
       "      <th>Model</th>\n",
       "      <th>Kilometer</th>\n",
       "      <th>RegistrationMonth</th>\n",
       "      <th>FuelType</th>\n",
       "      <th>Brand</th>\n",
       "      <th>NotRepaired</th>\n",
       "      <th>DateCreated</th>\n",
       "      <th>NumberOfPictures</th>\n",
       "      <th>PostalCode</th>\n",
       "      <th>LastSeen</th>\n",
       "    </tr>\n",
       "  </thead>\n",
       "  <tbody>\n",
       "    <tr>\n",
       "      <td>0</td>\n",
       "      <td>2016-03-24 11:52:17</td>\n",
       "      <td>480</td>\n",
       "      <td>NaN</td>\n",
       "      <td>1993</td>\n",
       "      <td>manual</td>\n",
       "      <td>0</td>\n",
       "      <td>golf</td>\n",
       "      <td>150000</td>\n",
       "      <td>0</td>\n",
       "      <td>petrol</td>\n",
       "      <td>volkswagen</td>\n",
       "      <td>NaN</td>\n",
       "      <td>2016-03-24 00:00:00</td>\n",
       "      <td>0</td>\n",
       "      <td>70435</td>\n",
       "      <td>2016-04-07 03:16:57</td>\n",
       "    </tr>\n",
       "    <tr>\n",
       "      <td>1</td>\n",
       "      <td>2016-03-24 10:58:45</td>\n",
       "      <td>18300</td>\n",
       "      <td>coupe</td>\n",
       "      <td>2011</td>\n",
       "      <td>manual</td>\n",
       "      <td>190</td>\n",
       "      <td>NaN</td>\n",
       "      <td>125000</td>\n",
       "      <td>5</td>\n",
       "      <td>gasoline</td>\n",
       "      <td>audi</td>\n",
       "      <td>yes</td>\n",
       "      <td>2016-03-24 00:00:00</td>\n",
       "      <td>0</td>\n",
       "      <td>66954</td>\n",
       "      <td>2016-04-07 01:46:50</td>\n",
       "    </tr>\n",
       "    <tr>\n",
       "      <td>2</td>\n",
       "      <td>2016-03-14 12:52:21</td>\n",
       "      <td>9800</td>\n",
       "      <td>suv</td>\n",
       "      <td>2004</td>\n",
       "      <td>auto</td>\n",
       "      <td>163</td>\n",
       "      <td>grand</td>\n",
       "      <td>125000</td>\n",
       "      <td>8</td>\n",
       "      <td>gasoline</td>\n",
       "      <td>jeep</td>\n",
       "      <td>NaN</td>\n",
       "      <td>2016-03-14 00:00:00</td>\n",
       "      <td>0</td>\n",
       "      <td>90480</td>\n",
       "      <td>2016-04-05 12:47:46</td>\n",
       "    </tr>\n",
       "    <tr>\n",
       "      <td>3</td>\n",
       "      <td>2016-03-17 16:54:04</td>\n",
       "      <td>1500</td>\n",
       "      <td>small</td>\n",
       "      <td>2001</td>\n",
       "      <td>manual</td>\n",
       "      <td>75</td>\n",
       "      <td>golf</td>\n",
       "      <td>150000</td>\n",
       "      <td>6</td>\n",
       "      <td>petrol</td>\n",
       "      <td>volkswagen</td>\n",
       "      <td>no</td>\n",
       "      <td>2016-03-17 00:00:00</td>\n",
       "      <td>0</td>\n",
       "      <td>91074</td>\n",
       "      <td>2016-03-17 17:40:17</td>\n",
       "    </tr>\n",
       "    <tr>\n",
       "      <td>4</td>\n",
       "      <td>2016-03-31 17:25:20</td>\n",
       "      <td>3600</td>\n",
       "      <td>small</td>\n",
       "      <td>2008</td>\n",
       "      <td>manual</td>\n",
       "      <td>69</td>\n",
       "      <td>fabia</td>\n",
       "      <td>90000</td>\n",
       "      <td>7</td>\n",
       "      <td>gasoline</td>\n",
       "      <td>skoda</td>\n",
       "      <td>no</td>\n",
       "      <td>2016-03-31 00:00:00</td>\n",
       "      <td>0</td>\n",
       "      <td>60437</td>\n",
       "      <td>2016-04-06 10:17:21</td>\n",
       "    </tr>\n",
       "  </tbody>\n",
       "</table>\n",
       "</div>"
      ],
      "text/plain": [
       "           DateCrawled  Price VehicleType  RegistrationYear Gearbox  Power  \\\n",
       "0  2016-03-24 11:52:17    480         NaN              1993  manual      0   \n",
       "1  2016-03-24 10:58:45  18300       coupe              2011  manual    190   \n",
       "2  2016-03-14 12:52:21   9800         suv              2004    auto    163   \n",
       "3  2016-03-17 16:54:04   1500       small              2001  manual     75   \n",
       "4  2016-03-31 17:25:20   3600       small              2008  manual     69   \n",
       "\n",
       "   Model  Kilometer  RegistrationMonth  FuelType       Brand NotRepaired  \\\n",
       "0   golf     150000                  0    petrol  volkswagen         NaN   \n",
       "1    NaN     125000                  5  gasoline        audi         yes   \n",
       "2  grand     125000                  8  gasoline        jeep         NaN   \n",
       "3   golf     150000                  6    petrol  volkswagen          no   \n",
       "4  fabia      90000                  7  gasoline       skoda          no   \n",
       "\n",
       "           DateCreated  NumberOfPictures  PostalCode             LastSeen  \n",
       "0  2016-03-24 00:00:00                 0       70435  2016-04-07 03:16:57  \n",
       "1  2016-03-24 00:00:00                 0       66954  2016-04-07 01:46:50  \n",
       "2  2016-03-14 00:00:00                 0       90480  2016-04-05 12:47:46  \n",
       "3  2016-03-17 00:00:00                 0       91074  2016-03-17 17:40:17  \n",
       "4  2016-03-31 00:00:00                 0       60437  2016-04-06 10:17:21  "
      ]
     },
     "execution_count": 128,
     "metadata": {},
     "output_type": "execute_result"
    }
   ],
   "source": [
    "data.head()"
   ]
  },
  {
   "cell_type": "code",
   "execution_count": 129,
   "metadata": {},
   "outputs": [
    {
     "name": "stdout",
     "output_type": "stream",
     "text": [
      "<class 'pandas.core.frame.DataFrame'>\n",
      "RangeIndex: 354369 entries, 0 to 354368\n",
      "Data columns (total 16 columns):\n",
      "DateCrawled          354369 non-null object\n",
      "Price                354369 non-null int64\n",
      "VehicleType          316879 non-null object\n",
      "RegistrationYear     354369 non-null int64\n",
      "Gearbox              334536 non-null object\n",
      "Power                354369 non-null int64\n",
      "Model                334664 non-null object\n",
      "Kilometer            354369 non-null int64\n",
      "RegistrationMonth    354369 non-null int64\n",
      "FuelType             321474 non-null object\n",
      "Brand                354369 non-null object\n",
      "NotRepaired          283215 non-null object\n",
      "DateCreated          354369 non-null object\n",
      "NumberOfPictures     354369 non-null int64\n",
      "PostalCode           354369 non-null int64\n",
      "LastSeen             354369 non-null object\n",
      "dtypes: int64(7), object(9)\n",
      "memory usage: 43.3+ MB\n"
     ]
    }
   ],
   "source": [
    "data.info()"
   ]
  },
  {
   "cell_type": "markdown",
   "metadata": {},
   "source": [
    "### Колонки DateCrawled, DateCreated , LastSeen"
   ]
  },
  {
   "cell_type": "markdown",
   "metadata": {},
   "source": [
    "Переведем колонки DateCrawled, DateCreated , LastSeen в формат даты."
   ]
  },
  {
   "cell_type": "code",
   "execution_count": 130,
   "metadata": {},
   "outputs": [],
   "source": [
    "data['DateCrawled'] = pd.to_datetime(data['DateCrawled'], format='%Y-%m-%dT%H:%M:%S')\n",
    "data['DateCreated'] = pd.to_datetime(data['DateCreated'], format='%Y-%m-%dT%H:%M:%S')\n",
    "data['LastSeen'] = pd.to_datetime(data['LastSeen'], format='%Y-%m-%dT%H:%M:%S')"
   ]
  },
  {
   "cell_type": "markdown",
   "metadata": {},
   "source": [
    "Посмотрим диапазон дат в этих колонках"
   ]
  },
  {
   "cell_type": "code",
   "execution_count": 131,
   "metadata": {},
   "outputs": [
    {
     "data": {
      "text/plain": [
       "count                  354369\n",
       "unique                 271174\n",
       "top       2016-03-24 14:49:47\n",
       "freq                        7\n",
       "first     2016-03-05 14:06:22\n",
       "last      2016-04-07 14:36:58\n",
       "Name: DateCrawled, dtype: object"
      ]
     },
     "execution_count": 131,
     "metadata": {},
     "output_type": "execute_result"
    }
   ],
   "source": [
    "data.DateCrawled.describe()"
   ]
  },
  {
   "cell_type": "code",
   "execution_count": 132,
   "metadata": {},
   "outputs": [
    {
     "data": {
      "text/plain": [
       "count                  354369\n",
       "unique                    109\n",
       "top       2016-04-03 00:00:00\n",
       "freq                    13719\n",
       "first     2014-03-10 00:00:00\n",
       "last      2016-04-07 00:00:00\n",
       "Name: DateCreated, dtype: object"
      ]
     },
     "execution_count": 132,
     "metadata": {},
     "output_type": "execute_result"
    }
   ],
   "source": [
    "data.DateCreated.describe()"
   ]
  },
  {
   "cell_type": "code",
   "execution_count": 133,
   "metadata": {},
   "outputs": [
    {
     "data": {
      "text/plain": [
       "count                  354369\n",
       "unique                 179150\n",
       "top       2016-04-06 13:45:54\n",
       "freq                       17\n",
       "first     2016-03-05 14:15:08\n",
       "last      2016-04-07 14:58:51\n",
       "Name: LastSeen, dtype: object"
      ]
     },
     "execution_count": 133,
     "metadata": {},
     "output_type": "execute_result"
    }
   ],
   "source": [
    "data.LastSeen.describe()"
   ]
  },
  {
   "cell_type": "markdown",
   "metadata": {},
   "source": [
    "У анкеты есть три даты: дата выгрузки, создания, и последней активности пользователя. Для анализа нам нужно понимать на какую дату цену в объявлении можно считать рыночной. Дата создания анкеты нам не подойдет, потому что с тех пор цена в объявлении могла меняться. Дата выгрузки анкеты также не подойдет, потому что цена в объявлении уже может быть не рыночной, но клиент еще не успел зайти и поменять ее. Таким образом остается дата последнего посещения, когда клиент заходил , видел свое объявление и посчитал его актуальным.\n",
    "\n",
    "Однако если смотреть диапазон дат в LastSeen то мы видим, что все пользователи заходили в свои анкеты в течение месяца (март-апрель 2016). Таким образом можем считать, что цены на авто у нас находятся в примерно одинаковый срез времени и колонкой LastSeen тоже можно принебречь.\n",
    "\n",
    "Удалим колонки 'DateCrawled', 'DateCreated', 'LastSeen'"
   ]
  },
  {
   "cell_type": "code",
   "execution_count": 134,
   "metadata": {},
   "outputs": [],
   "source": [
    "data.drop(['DateCrawled', 'DateCreated','LastSeen'], axis = 1, inplace = True)"
   ]
  },
  {
   "cell_type": "markdown",
   "metadata": {},
   "source": [
    "### Пропуски"
   ]
  },
  {
   "cell_type": "markdown",
   "metadata": {},
   "source": [
    "Есть пропуски в колонках VehicleType , FuelType , NotRepaired. \n",
    "\n",
    "Т.к. это все категориальные колонки, то можем заменить пропуски на значение \"unknown\""
   ]
  },
  {
   "cell_type": "code",
   "execution_count": 135,
   "metadata": {},
   "outputs": [],
   "source": [
    "data.fillna(\"unknown\", inplace = True)"
   ]
  },
  {
   "cell_type": "markdown",
   "metadata": {},
   "source": [
    "### Выбросы"
   ]
  },
  {
   "cell_type": "markdown",
   "metadata": {},
   "source": [
    "Построим гистограмму призников"
   ]
  },
  {
   "cell_type": "code",
   "execution_count": 136,
   "metadata": {
    "scrolled": true
   },
   "outputs": [
    {
     "data": {
      "image/png": "[encoded data removed]",
      "text/plain": [
       "<Figure size 720x720 with 9 Axes>"
      ]
     },
     "metadata": {
      "needs_background": "light"
     },
     "output_type": "display_data"
    }
   ],
   "source": [
    "data.hist(figsize = (10,10));"
   ]
  },
  {
   "cell_type": "code",
   "execution_count": 137,
   "metadata": {
    "scrolled": true
   },
   "outputs": [
    {
     "data": {
      "text/html": [
       "<div>\n",
       "<style scoped>\n",
       "    .dataframe tbody tr th:only-of-type {\n",
       "        vertical-align: middle;\n",
       "    }\n",
       "\n",
       "    .dataframe tbody tr th {\n",
       "        vertical-align: top;\n",
       "    }\n",
       "\n",
       "    .dataframe thead th {\n",
       "        text-align: right;\n",
       "    }\n",
       "</style>\n",
       "<table border=\"1\" class=\"dataframe\">\n",
       "  <thead>\n",
       "    <tr style=\"text-align: right;\">\n",
       "      <th></th>\n",
       "      <th>Price</th>\n",
       "      <th>RegistrationYear</th>\n",
       "      <th>Power</th>\n",
       "      <th>Kilometer</th>\n",
       "      <th>RegistrationMonth</th>\n",
       "      <th>NumberOfPictures</th>\n",
       "      <th>PostalCode</th>\n",
       "    </tr>\n",
       "  </thead>\n",
       "  <tbody>\n",
       "    <tr>\n",
       "      <td>count</td>\n",
       "      <td>354369.000000</td>\n",
       "      <td>354369.000000</td>\n",
       "      <td>354369.000000</td>\n",
       "      <td>354369.000000</td>\n",
       "      <td>354369.000000</td>\n",
       "      <td>354369.0</td>\n",
       "      <td>354369.000000</td>\n",
       "    </tr>\n",
       "    <tr>\n",
       "      <td>mean</td>\n",
       "      <td>4416.656776</td>\n",
       "      <td>2004.234448</td>\n",
       "      <td>110.094337</td>\n",
       "      <td>128211.172535</td>\n",
       "      <td>5.714645</td>\n",
       "      <td>0.0</td>\n",
       "      <td>50508.689087</td>\n",
       "    </tr>\n",
       "    <tr>\n",
       "      <td>std</td>\n",
       "      <td>4514.158514</td>\n",
       "      <td>90.227958</td>\n",
       "      <td>189.850405</td>\n",
       "      <td>37905.341530</td>\n",
       "      <td>3.726421</td>\n",
       "      <td>0.0</td>\n",
       "      <td>25783.096248</td>\n",
       "    </tr>\n",
       "    <tr>\n",
       "      <td>min</td>\n",
       "      <td>0.000000</td>\n",
       "      <td>1000.000000</td>\n",
       "      <td>0.000000</td>\n",
       "      <td>5000.000000</td>\n",
       "      <td>0.000000</td>\n",
       "      <td>0.0</td>\n",
       "      <td>1067.000000</td>\n",
       "    </tr>\n",
       "    <tr>\n",
       "      <td>25%</td>\n",
       "      <td>1050.000000</td>\n",
       "      <td>1999.000000</td>\n",
       "      <td>69.000000</td>\n",
       "      <td>125000.000000</td>\n",
       "      <td>3.000000</td>\n",
       "      <td>0.0</td>\n",
       "      <td>30165.000000</td>\n",
       "    </tr>\n",
       "    <tr>\n",
       "      <td>50%</td>\n",
       "      <td>2700.000000</td>\n",
       "      <td>2003.000000</td>\n",
       "      <td>105.000000</td>\n",
       "      <td>150000.000000</td>\n",
       "      <td>6.000000</td>\n",
       "      <td>0.0</td>\n",
       "      <td>49413.000000</td>\n",
       "    </tr>\n",
       "    <tr>\n",
       "      <td>75%</td>\n",
       "      <td>6400.000000</td>\n",
       "      <td>2008.000000</td>\n",
       "      <td>143.000000</td>\n",
       "      <td>150000.000000</td>\n",
       "      <td>9.000000</td>\n",
       "      <td>0.0</td>\n",
       "      <td>71083.000000</td>\n",
       "    </tr>\n",
       "    <tr>\n",
       "      <td>max</td>\n",
       "      <td>20000.000000</td>\n",
       "      <td>9999.000000</td>\n",
       "      <td>20000.000000</td>\n",
       "      <td>150000.000000</td>\n",
       "      <td>12.000000</td>\n",
       "      <td>0.0</td>\n",
       "      <td>99998.000000</td>\n",
       "    </tr>\n",
       "  </tbody>\n",
       "</table>\n",
       "</div>"
      ],
      "text/plain": [
       "               Price  RegistrationYear          Power      Kilometer  \\\n",
       "count  354369.000000     354369.000000  354369.000000  354369.000000   \n",
       "mean     4416.656776       2004.234448     110.094337  128211.172535   \n",
       "std      4514.158514         90.227958     189.850405   37905.341530   \n",
       "min         0.000000       1000.000000       0.000000    5000.000000   \n",
       "25%      1050.000000       1999.000000      69.000000  125000.000000   \n",
       "50%      2700.000000       2003.000000     105.000000  150000.000000   \n",
       "75%      6400.000000       2008.000000     143.000000  150000.000000   \n",
       "max     20000.000000       9999.000000   20000.000000  150000.000000   \n",
       "\n",
       "       RegistrationMonth  NumberOfPictures     PostalCode  \n",
       "count      354369.000000          354369.0  354369.000000  \n",
       "mean            5.714645               0.0   50508.689087  \n",
       "std             3.726421               0.0   25783.096248  \n",
       "min             0.000000               0.0    1067.000000  \n",
       "25%             3.000000               0.0   30165.000000  \n",
       "50%             6.000000               0.0   49413.000000  \n",
       "75%             9.000000               0.0   71083.000000  \n",
       "max            12.000000               0.0   99998.000000  "
      ]
     },
     "execution_count": 137,
     "metadata": {},
     "output_type": "execute_result"
    }
   ],
   "source": [
    "data.describe()"
   ]
  },
  {
   "cell_type": "markdown",
   "metadata": {},
   "source": [
    "Есть записи где целевой признак Price = 0, посмотрим сколько их и удалим"
   ]
  },
  {
   "cell_type": "code",
   "execution_count": 138,
   "metadata": {},
   "outputs": [
    {
     "data": {
      "text/plain": [
       "10772"
      ]
     },
     "execution_count": 138,
     "metadata": {},
     "output_type": "execute_result"
    }
   ],
   "source": [
    "data[data['Price'] == 0]['Price'].count()"
   ]
  },
  {
   "cell_type": "code",
   "execution_count": 139,
   "metadata": {},
   "outputs": [],
   "source": [
    "data = data.query('Price > 0')"
   ]
  },
  {
   "cell_type": "markdown",
   "metadata": {},
   "source": [
    "В датах регистрации ТС есть выбросы с годом более 2016 (год выгрузки анкет) и меньше 1900г. Приравняем эти даты к 0."
   ]
  },
  {
   "cell_type": "code",
   "execution_count": 140,
   "metadata": {},
   "outputs": [],
   "source": [
    "data['RegistrationYear'].loc[(data['RegistrationYear'] > 2016) | (data['RegistrationYear'] < 1900)] = 0"
   ]
  },
  {
   "cell_type": "markdown",
   "metadata": {},
   "source": [
    "Приравняем к нулю мощности более 2200 (цифру взял из https://www.a777aa77.ru/power.php)"
   ]
  },
  {
   "cell_type": "code",
   "execution_count": 141,
   "metadata": {},
   "outputs": [],
   "source": [
    "data['Power'].loc[data['Power'] > 2200] = 0"
   ]
  },
  {
   "cell_type": "markdown",
   "metadata": {},
   "source": [
    "### Колонки NumberOfPictures, RegistrationMonth, PostalCode"
   ]
  },
  {
   "cell_type": "markdown",
   "metadata": {},
   "source": [
    "Колонка NumberOfPictures во всех записях равна 0, удалим ее"
   ]
  },
  {
   "cell_type": "code",
   "execution_count": 142,
   "metadata": {
    "scrolled": true
   },
   "outputs": [],
   "source": [
    "data.drop(['NumberOfPictures'], axis = 1, inplace = True)"
   ]
  },
  {
   "cell_type": "markdown",
   "metadata": {},
   "source": [
    "Колонка RegistrationMonth является избыточной информацией для даты производства авто, т.к. все обычно ориентируются на год регистрации. Удалим ее."
   ]
  },
  {
   "cell_type": "code",
   "execution_count": 143,
   "metadata": {},
   "outputs": [],
   "source": [
    "data.drop(['RegistrationMonth'], axis = 1, inplace = True)"
   ]
  },
  {
   "cell_type": "markdown",
   "metadata": {},
   "source": [
    "По значениям PostalCode гугл говорит, что все объявления возможно родом из Германии. Удалим PostalCode считая, что цена в разных районах Германии не сильно отличается."
   ]
  },
  {
   "cell_type": "code",
   "execution_count": 144,
   "metadata": {},
   "outputs": [],
   "source": [
    "data.drop(['PostalCode'], axis = 1, inplace = True)"
   ]
  },
  {
   "cell_type": "markdown",
   "metadata": {},
   "source": [
    "## Обучение моделей"
   ]
  },
  {
   "cell_type": "markdown",
   "metadata": {},
   "source": [
    "### Подготовка выборок"
   ]
  },
  {
   "cell_type": "markdown",
   "metadata": {},
   "source": [
    "#### Категориальные признаки"
   ]
  },
  {
   "cell_type": "code",
   "execution_count": 145,
   "metadata": {},
   "outputs": [],
   "source": [
    "cat_features = ['VehicleType','Gearbox','Model','FuelType','FuelType','Brand','NotRepaired']"
   ]
  },
  {
   "cell_type": "code",
   "execution_count": 146,
   "metadata": {},
   "outputs": [],
   "source": [
    "for col in cat_features:\n",
    "    data[col] = data[col].astype('category')"
   ]
  },
  {
   "cell_type": "markdown",
   "metadata": {},
   "source": [
    "#### Выборки без преобразования категориальных признаков"
   ]
  },
  {
   "cell_type": "markdown",
   "metadata": {},
   "source": [
    "Будут использованы в CatBoost и LightGBM"
   ]
  },
  {
   "cell_type": "code",
   "execution_count": 147,
   "metadata": {},
   "outputs": [],
   "source": [
    "target = data['Price']\n",
    "features = data.drop(['Price'] , axis=1)"
   ]
  },
  {
   "cell_type": "code",
   "execution_count": 148,
   "metadata": {
    "code_folding": []
   },
   "outputs": [],
   "source": [
    "features_train, features_valid_and_test, target_train, target_valid_and_test = train_test_split\\\n",
    "                        (features, target, test_size=0.4, random_state=12345)\n",
    "\n",
    "features_test, features_valid, target_test, target_valid = train_test_split\\\n",
    "                        (features_valid_and_test, target_valid_and_test, test_size=0.5, random_state=12345)"
   ]
  },
  {
   "cell_type": "markdown",
   "metadata": {},
   "source": [
    "#### Выборки с преобразованием категориальных признаков"
   ]
  },
  {
   "cell_type": "markdown",
   "metadata": {},
   "source": [
    "Будут использованы в DecisionTreeRegressor и RandomForestRegressor"
   ]
  },
  {
   "cell_type": "markdown",
   "metadata": {},
   "source": [
    "Воспользуемся OrdinalEncoder"
   ]
  },
  {
   "cell_type": "code",
   "execution_count": 150,
   "metadata": {},
   "outputs": [],
   "source": [
    "target_le = data['Price']\n",
    "features_le = data.drop(['Price'] , axis=1)\n",
    "\n",
    "enc = OrdinalEncoder()\n",
    "features_le[cat_features] = enc.fit_transform(features_le[cat_features])\n",
    "\n",
    "\n",
    "features_train_le, features_valid_and_test_le, target_train_le, target_valid_and_test_le = train_test_split\\\n",
    "                        (features_le, target_le, test_size=0.4, random_state=12345)\n",
    "\n",
    "features_test_le, features_valid_le, target_test_le, target_valid_le = train_test_split\\\n",
    "                        (features_valid_and_test_le, target_valid_and_test_le, test_size=0.5, random_state=12345)"
   ]
  },
  {
   "cell_type": "markdown",
   "metadata": {},
   "source": [
    "#### Создание результирующего датафрейма"
   ]
  },
  {
   "cell_type": "code",
   "execution_count": 151,
   "metadata": {},
   "outputs": [],
   "source": [
    "results = pd.DataFrame(columns = ['valid_score','test_score','fit_time','predict_time'])"
   ]
  },
  {
   "cell_type": "markdown",
   "metadata": {},
   "source": [
    "### Обучение модели DecisionTreeRegressor"
   ]
  },
  {
   "cell_type": "markdown",
   "metadata": {},
   "source": [
    "#### Поиск лучшего гиперпараметра"
   ]
  },
  {
   "cell_type": "code",
   "execution_count": 152,
   "metadata": {},
   "outputs": [],
   "source": [
    "tree = DecisionTreeRegressor(random_state = 12345)\n",
    "params = {\n",
    "    'max_depth' : range(9,15,2)\n",
    "}\n",
    "tree_model = RandomizedSearchCV (tree,params, cv=3, random_state = 12345,verbose = 2)"
   ]
  },
  {
   "cell_type": "code",
   "execution_count": 153,
   "metadata": {},
   "outputs": [
    {
     "name": "stdout",
     "output_type": "stream",
     "text": [
      "Fitting 3 folds for each of 3 candidates, totalling 9 fits\n",
      "[CV] max_depth=9 .....................................................\n"
     ]
    },
    {
     "name": "stderr",
     "output_type": "stream",
     "text": [
      "[Parallel(n_jobs=1)]: Using backend SequentialBackend with 1 concurrent workers.\n"
     ]
    },
    {
     "name": "stdout",
     "output_type": "stream",
     "text": [
      "[CV] ...................................... max_depth=9, total=   0.3s\n",
      "[CV] max_depth=9 .....................................................\n"
     ]
    },
    {
     "name": "stderr",
     "output_type": "stream",
     "text": [
      "[Parallel(n_jobs=1)]: Done   1 out of   1 | elapsed:    0.3s remaining:    0.0s\n"
     ]
    },
    {
     "name": "stdout",
     "output_type": "stream",
     "text": [
      "[CV] ...................................... max_depth=9, total=   0.4s\n",
      "[CV] max_depth=9 .....................................................\n",
      "[CV] ...................................... max_depth=9, total=   0.4s\n",
      "[CV] max_depth=11 ....................................................\n",
      "[CV] ..................................... max_depth=11, total=   0.4s\n",
      "[CV] max_depth=11 ....................................................\n",
      "[CV] ..................................... max_depth=11, total=   0.4s\n",
      "[CV] max_depth=11 ....................................................\n",
      "[CV] ..................................... max_depth=11, total=   0.5s\n",
      "[CV] max_depth=13 ....................................................\n",
      "[CV] ..................................... max_depth=13, total=   0.4s\n",
      "[CV] max_depth=13 ....................................................\n",
      "[CV] ..................................... max_depth=13, total=   0.4s\n",
      "[CV] max_depth=13 ....................................................\n",
      "[CV] ..................................... max_depth=13, total=   0.4s\n"
     ]
    },
    {
     "name": "stderr",
     "output_type": "stream",
     "text": [
      "[Parallel(n_jobs=1)]: Done   9 out of   9 | elapsed:    3.6s finished\n"
     ]
    },
    {
     "name": "stdout",
     "output_type": "stream",
     "text": [
      "CPU times: user 4.04 s, sys: 8.04 ms, total: 4.05 s\n",
      "Wall time: 4.22 s\n"
     ]
    },
    {
     "data": {
      "text/plain": [
       "RandomizedSearchCV(cv=3, error_score='raise-deprecating',\n",
       "                   estimator=DecisionTreeRegressor(criterion='mse',\n",
       "                                                   max_depth=None,\n",
       "                                                   max_features=None,\n",
       "                                                   max_leaf_nodes=None,\n",
       "                                                   min_impurity_decrease=0.0,\n",
       "                                                   min_impurity_split=None,\n",
       "                                                   min_samples_leaf=1,\n",
       "                                                   min_samples_split=2,\n",
       "                                                   min_weight_fraction_leaf=0.0,\n",
       "                                                   presort=False,\n",
       "                                                   random_state=12345,\n",
       "                                                   splitter='best'),\n",
       "                   iid='warn', n_iter=10, n_jobs=None,\n",
       "                   param_distributions={'max_depth': range(9, 15, 2)},\n",
       "                   pre_dispatch='2*n_jobs', random_state=12345, refit=True,\n",
       "                   return_train_score=False, scoring=None, verbose=2)"
      ]
     },
     "execution_count": 153,
     "metadata": {},
     "output_type": "execute_result"
    }
   ],
   "source": [
    "%%time\n",
    "tree_model.fit(features_train_le,target_train_le)"
   ]
  },
  {
   "cell_type": "code",
   "execution_count": 154,
   "metadata": {},
   "outputs": [
    {
     "data": {
      "text/plain": [
       "{'max_depth': 13}"
      ]
     },
     "execution_count": 154,
     "metadata": {},
     "output_type": "execute_result"
    }
   ],
   "source": [
    "tree_model.best_params_"
   ]
  },
  {
   "cell_type": "markdown",
   "metadata": {},
   "source": [
    "#### Обучение на лучшем гиперпараметре"
   ]
  },
  {
   "cell_type": "code",
   "execution_count": 155,
   "metadata": {},
   "outputs": [],
   "source": [
    "tree = DecisionTreeRegressor(max_depth = 13, random_state = 12345)"
   ]
  },
  {
   "cell_type": "code",
   "execution_count": 156,
   "metadata": {},
   "outputs": [],
   "source": [
    "start = time.time()\n",
    "tree.fit(features_train_le,target_train_le)\n",
    "end = time.time()\n",
    "fit_time = end-start"
   ]
  },
  {
   "cell_type": "code",
   "execution_count": 157,
   "metadata": {},
   "outputs": [],
   "source": [
    "start = time.time()\n",
    "predictions = tree.predict(features_valid_le)\n",
    "end = time.time()\n",
    "predict_time = end-start"
   ]
  },
  {
   "cell_type": "code",
   "execution_count": 158,
   "metadata": {},
   "outputs": [],
   "source": [
    "valid_score = mean_squared_error(target_valid_le, predictions)**0.5"
   ]
  },
  {
   "cell_type": "code",
   "execution_count": 159,
   "metadata": {},
   "outputs": [],
   "source": [
    "test_score = mean_squared_error(target_test_le, tree.predict(features_test_le))**0.5"
   ]
  },
  {
   "cell_type": "code",
   "execution_count": 160,
   "metadata": {},
   "outputs": [],
   "source": [
    "results.loc['tree'] = [valid_score,test_score,fit_time,predict_time]"
   ]
  },
  {
   "cell_type": "markdown",
   "metadata": {},
   "source": [
    "### Обучение модели RandomForestRegressor"
   ]
  },
  {
   "cell_type": "markdown",
   "metadata": {},
   "source": [
    "#### Поиск лучшего гиперпараметра"
   ]
  },
  {
   "cell_type": "code",
   "execution_count": 161,
   "metadata": {},
   "outputs": [],
   "source": [
    "forest = RandomForestRegressor(random_state = 12345)\n",
    "params = {\n",
    "    'max_depth' : range(9,15,2),\n",
    "    'n_estimators' : range (10,51,10)\n",
    "}\n",
    "forest_model = RandomizedSearchCV (forest,params, cv=2, random_state = 12345,verbose = 2)"
   ]
  },
  {
   "cell_type": "code",
   "execution_count": 162,
   "metadata": {},
   "outputs": [
    {
     "name": "stdout",
     "output_type": "stream",
     "text": [
      "Fitting 2 folds for each of 10 candidates, totalling 20 fits\n",
      "[CV] n_estimators=10, max_depth=9 ....................................\n"
     ]
    },
    {
     "name": "stderr",
     "output_type": "stream",
     "text": [
      "[Parallel(n_jobs=1)]: Using backend SequentialBackend with 1 concurrent workers.\n"
     ]
    },
    {
     "name": "stdout",
     "output_type": "stream",
     "text": [
      "[CV] ..................... n_estimators=10, max_depth=9, total=   1.8s\n",
      "[CV] n_estimators=10, max_depth=9 ....................................\n"
     ]
    },
    {
     "name": "stderr",
     "output_type": "stream",
     "text": [
      "[Parallel(n_jobs=1)]: Done   1 out of   1 | elapsed:    1.8s remaining:    0.0s\n"
     ]
    },
    {
     "name": "stdout",
     "output_type": "stream",
     "text": [
      "[CV] ..................... n_estimators=10, max_depth=9, total=   1.7s\n",
      "[CV] n_estimators=20, max_depth=13 ...................................\n",
      "[CV] .................... n_estimators=20, max_depth=13, total=   4.4s\n",
      "[CV] n_estimators=20, max_depth=13 ...................................\n",
      "[CV] .................... n_estimators=20, max_depth=13, total=   4.7s\n",
      "[CV] n_estimators=30, max_depth=11 ...................................\n",
      "[CV] .................... n_estimators=30, max_depth=11, total=   5.6s\n",
      "[CV] n_estimators=30, max_depth=11 ...................................\n",
      "[CV] .................... n_estimators=30, max_depth=11, total=   5.5s\n",
      "[CV] n_estimators=40, max_depth=11 ...................................\n",
      "[CV] .................... n_estimators=40, max_depth=11, total=   7.4s\n",
      "[CV] n_estimators=40, max_depth=11 ...................................\n",
      "[CV] .................... n_estimators=40, max_depth=11, total=   7.4s\n",
      "[CV] n_estimators=40, max_depth=9 ....................................\n",
      "[CV] ..................... n_estimators=40, max_depth=9, total=   6.1s\n",
      "[CV] n_estimators=40, max_depth=9 ....................................\n",
      "[CV] ..................... n_estimators=40, max_depth=9, total=   6.1s\n",
      "[CV] n_estimators=20, max_depth=11 ...................................\n",
      "[CV] .................... n_estimators=20, max_depth=11, total=   3.7s\n",
      "[CV] n_estimators=20, max_depth=11 ...................................\n",
      "[CV] .................... n_estimators=20, max_depth=11, total=   3.9s\n",
      "[CV] n_estimators=30, max_depth=13 ...................................\n",
      "[CV] .................... n_estimators=30, max_depth=13, total=   6.5s\n",
      "[CV] n_estimators=30, max_depth=13 ...................................\n",
      "[CV] .................... n_estimators=30, max_depth=13, total=   6.5s\n",
      "[CV] n_estimators=10, max_depth=13 ...................................\n",
      "[CV] .................... n_estimators=10, max_depth=13, total=   2.2s\n",
      "[CV] n_estimators=10, max_depth=13 ...................................\n",
      "[CV] .................... n_estimators=10, max_depth=13, total=   2.2s\n",
      "[CV] n_estimators=50, max_depth=13 ...................................\n",
      "[CV] .................... n_estimators=50, max_depth=13, total=  11.1s\n",
      "[CV] n_estimators=50, max_depth=13 ...................................\n",
      "[CV] .................... n_estimators=50, max_depth=13, total=  11.0s\n",
      "[CV] n_estimators=40, max_depth=13 ...................................\n",
      "[CV] .................... n_estimators=40, max_depth=13, total=   9.1s\n",
      "[CV] n_estimators=40, max_depth=13 ...................................\n",
      "[CV] .................... n_estimators=40, max_depth=13, total=   8.8s\n"
     ]
    },
    {
     "name": "stderr",
     "output_type": "stream",
     "text": [
      "[Parallel(n_jobs=1)]: Done  20 out of  20 | elapsed:  1.9min finished\n"
     ]
    },
    {
     "name": "stdout",
     "output_type": "stream",
     "text": [
      "CPU times: user 2min 15s, sys: 82 ms, total: 2min 15s\n",
      "Wall time: 2min 16s\n"
     ]
    },
    {
     "data": {
      "text/plain": [
       "RandomizedSearchCV(cv=2, error_score='raise-deprecating',\n",
       "                   estimator=RandomForestRegressor(bootstrap=True,\n",
       "                                                   criterion='mse',\n",
       "                                                   max_depth=None,\n",
       "                                                   max_features='auto',\n",
       "                                                   max_leaf_nodes=None,\n",
       "                                                   min_impurity_decrease=0.0,\n",
       "                                                   min_impurity_split=None,\n",
       "                                                   min_samples_leaf=1,\n",
       "                                                   min_samples_split=2,\n",
       "                                                   min_weight_fraction_leaf=0.0,\n",
       "                                                   n_estimators='warn',\n",
       "                                                   n_jobs=None, oob_score=False,\n",
       "                                                   random_state=12345,\n",
       "                                                   verbose=0,\n",
       "                                                   warm_start=False),\n",
       "                   iid='warn', n_iter=10, n_jobs=None,\n",
       "                   param_distributions={'max_depth': range(9, 15, 2),\n",
       "                                        'n_estimators': range(10, 51, 10)},\n",
       "                   pre_dispatch='2*n_jobs', random_state=12345, refit=True,\n",
       "                   return_train_score=False, scoring=None, verbose=2)"
      ]
     },
     "execution_count": 162,
     "metadata": {},
     "output_type": "execute_result"
    }
   ],
   "source": [
    "%%time\n",
    "forest_model.fit(features_train_le,target_train_le)"
   ]
  },
  {
   "cell_type": "code",
   "execution_count": 163,
   "metadata": {},
   "outputs": [
    {
     "data": {
      "text/plain": [
       "{'n_estimators': 50, 'max_depth': 13}"
      ]
     },
     "execution_count": 163,
     "metadata": {},
     "output_type": "execute_result"
    }
   ],
   "source": [
    "forest_model.best_params_"
   ]
  },
  {
   "cell_type": "markdown",
   "metadata": {},
   "source": [
    "#### Обучение на лучшем гиперпараметре"
   ]
  },
  {
   "cell_type": "code",
   "execution_count": 164,
   "metadata": {},
   "outputs": [],
   "source": [
    "forest = RandomForestRegressor(n_estimators = 50, max_depth = 13, random_state = 12345)"
   ]
  },
  {
   "cell_type": "code",
   "execution_count": 165,
   "metadata": {},
   "outputs": [],
   "source": [
    "start = time.time()\n",
    "forest.fit(features_train_le,target_train_le)\n",
    "end = time.time()\n",
    "fit_time = end-start"
   ]
  },
  {
   "cell_type": "code",
   "execution_count": 166,
   "metadata": {},
   "outputs": [],
   "source": [
    "start = time.time()\n",
    "predictions = forest.predict(features_valid_le)\n",
    "end = time.time()\n",
    "predict_time = end-start"
   ]
  },
  {
   "cell_type": "code",
   "execution_count": 167,
   "metadata": {},
   "outputs": [],
   "source": [
    "valid_score = mean_squared_error(target_valid_le, predictions)**0.5"
   ]
  },
  {
   "cell_type": "code",
   "execution_count": 168,
   "metadata": {},
   "outputs": [],
   "source": [
    "test_score = mean_squared_error(target_test_le, forest.predict(features_test_le))**0.5"
   ]
  },
  {
   "cell_type": "code",
   "execution_count": 169,
   "metadata": {},
   "outputs": [],
   "source": [
    "results.loc['forest'] = [valid_score,test_score,fit_time,predict_time]"
   ]
  },
  {
   "cell_type": "markdown",
   "metadata": {},
   "source": [
    "### Обучение модели CatBoost"
   ]
  },
  {
   "cell_type": "code",
   "execution_count": 170,
   "metadata": {},
   "outputs": [],
   "source": [
    "cat = CatBoostRegressor(depth = 6,iterations = 200, random_seed = 12345)"
   ]
  },
  {
   "cell_type": "code",
   "execution_count": 171,
   "metadata": {},
   "outputs": [
    {
     "name": "stdout",
     "output_type": "stream",
     "text": [
      "0:\tlearn: 4425.0224577\ttotal: 937ms\tremaining: 3m 6s\n",
      "1:\tlearn: 4341.6036020\ttotal: 1.74s\tremaining: 2m 52s\n",
      "2:\tlearn: 4262.0320144\ttotal: 2.44s\tremaining: 2m 39s\n",
      "3:\tlearn: 4184.4205030\ttotal: 3.13s\tremaining: 2m 33s\n",
      "4:\tlearn: 4110.7921836\ttotal: 3.73s\tremaining: 2m 25s\n",
      "5:\tlearn: 4038.0247649\ttotal: 4.53s\tremaining: 2m 26s\n",
      "6:\tlearn: 3967.9941848\ttotal: 5.33s\tremaining: 2m 26s\n",
      "7:\tlearn: 3900.9239818\ttotal: 6.12s\tremaining: 2m 26s\n",
      "8:\tlearn: 3835.9798805\ttotal: 6.83s\tremaining: 2m 24s\n",
      "9:\tlearn: 3773.5732197\ttotal: 7.63s\tremaining: 2m 24s\n",
      "10:\tlearn: 3715.6879860\ttotal: 8.43s\tremaining: 2m 24s\n",
      "11:\tlearn: 3659.0201696\ttotal: 9.22s\tremaining: 2m 24s\n",
      "12:\tlearn: 3603.4818357\ttotal: 9.93s\tremaining: 2m 22s\n",
      "13:\tlearn: 3549.6118650\ttotal: 10.6s\tremaining: 2m 21s\n",
      "14:\tlearn: 3497.9060002\ttotal: 11.4s\tremaining: 2m 20s\n",
      "15:\tlearn: 3447.2831353\ttotal: 12.2s\tremaining: 2m 20s\n",
      "16:\tlearn: 3397.7045894\ttotal: 13s\tremaining: 2m 20s\n",
      "17:\tlearn: 3348.2996688\ttotal: 13.6s\tremaining: 2m 17s\n",
      "18:\tlearn: 3302.1701957\ttotal: 14.4s\tremaining: 2m 17s\n",
      "19:\tlearn: 3258.8337290\ttotal: 15.2s\tremaining: 2m 17s\n",
      "20:\tlearn: 3217.8574910\ttotal: 16s\tremaining: 2m 16s\n",
      "21:\tlearn: 3178.5439316\ttotal: 16.7s\tremaining: 2m 15s\n",
      "22:\tlearn: 3139.3222741\ttotal: 17.4s\tremaining: 2m 14s\n",
      "23:\tlearn: 3102.0737100\ttotal: 18.2s\tremaining: 2m 13s\n",
      "24:\tlearn: 3066.1845550\ttotal: 18.9s\tremaining: 2m 12s\n",
      "25:\tlearn: 3030.2752579\ttotal: 19.6s\tremaining: 2m 11s\n",
      "26:\tlearn: 2995.4662839\ttotal: 20.2s\tremaining: 2m 9s\n",
      "27:\tlearn: 2963.5290850\ttotal: 21s\tremaining: 2m 9s\n",
      "28:\tlearn: 2931.4931199\ttotal: 21.7s\tremaining: 2m 8s\n",
      "29:\tlearn: 2901.6873016\ttotal: 22.5s\tremaining: 2m 7s\n",
      "30:\tlearn: 2874.1059330\ttotal: 23.1s\tremaining: 2m 6s\n",
      "31:\tlearn: 2845.9714479\ttotal: 23.9s\tremaining: 2m 5s\n",
      "32:\tlearn: 2819.6311880\ttotal: 24.6s\tremaining: 2m 4s\n",
      "33:\tlearn: 2792.6273185\ttotal: 25.3s\tremaining: 2m 3s\n",
      "34:\tlearn: 2766.8945815\ttotal: 26s\tremaining: 2m 2s\n",
      "35:\tlearn: 2741.3328020\ttotal: 26.8s\tremaining: 2m 2s\n",
      "36:\tlearn: 2717.9041065\ttotal: 27.5s\tremaining: 2m 1s\n",
      "37:\tlearn: 2694.8341150\ttotal: 28.1s\tremaining: 1m 59s\n",
      "38:\tlearn: 2672.7260483\ttotal: 28.8s\tremaining: 1m 58s\n",
      "39:\tlearn: 2651.8940873\ttotal: 29.5s\tremaining: 1m 58s\n",
      "40:\tlearn: 2632.1609788\ttotal: 30.1s\tremaining: 1m 56s\n",
      "41:\tlearn: 2612.1680139\ttotal: 30.9s\tremaining: 1m 56s\n",
      "42:\tlearn: 2593.3586811\ttotal: 31.6s\tremaining: 1m 55s\n",
      "43:\tlearn: 2573.3109359\ttotal: 32.4s\tremaining: 1m 54s\n",
      "44:\tlearn: 2553.2056481\ttotal: 33.1s\tremaining: 1m 53s\n",
      "45:\tlearn: 2534.2159999\ttotal: 33.9s\tremaining: 1m 53s\n",
      "46:\tlearn: 2516.4179048\ttotal: 34.6s\tremaining: 1m 52s\n",
      "47:\tlearn: 2501.1543326\ttotal: 35.3s\tremaining: 1m 51s\n",
      "48:\tlearn: 2486.2209022\ttotal: 36s\tremaining: 1m 50s\n",
      "49:\tlearn: 2468.5284127\ttotal: 36.8s\tremaining: 1m 50s\n",
      "50:\tlearn: 2451.8648402\ttotal: 37.4s\tremaining: 1m 49s\n",
      "51:\tlearn: 2436.6194624\ttotal: 38.2s\tremaining: 1m 48s\n",
      "52:\tlearn: 2420.7509664\ttotal: 39s\tremaining: 1m 48s\n",
      "53:\tlearn: 2405.7748009\ttotal: 39.7s\tremaining: 1m 47s\n",
      "54:\tlearn: 2390.8800770\ttotal: 40.4s\tremaining: 1m 46s\n",
      "55:\tlearn: 2376.6472359\ttotal: 41.2s\tremaining: 1m 45s\n",
      "56:\tlearn: 2362.3819160\ttotal: 41.8s\tremaining: 1m 44s\n",
      "57:\tlearn: 2349.8802363\ttotal: 42.6s\tremaining: 1m 44s\n",
      "58:\tlearn: 2337.4279543\ttotal: 43.4s\tremaining: 1m 43s\n",
      "59:\tlearn: 2324.9051652\ttotal: 44s\tremaining: 1m 42s\n",
      "60:\tlearn: 2313.0357609\ttotal: 44.7s\tremaining: 1m 41s\n",
      "61:\tlearn: 2302.4078294\ttotal: 45.4s\tremaining: 1m 41s\n",
      "62:\tlearn: 2291.0908165\ttotal: 46.1s\tremaining: 1m 40s\n",
      "63:\tlearn: 2281.0440237\ttotal: 46.7s\tremaining: 1m 39s\n",
      "64:\tlearn: 2271.1169046\ttotal: 47.4s\tremaining: 1m 38s\n",
      "65:\tlearn: 2262.1725605\ttotal: 47.9s\tremaining: 1m 37s\n",
      "66:\tlearn: 2252.9715084\ttotal: 48.5s\tremaining: 1m 36s\n",
      "67:\tlearn: 2244.0675448\ttotal: 49.2s\tremaining: 1m 35s\n",
      "68:\tlearn: 2234.8855941\ttotal: 50s\tremaining: 1m 34s\n",
      "69:\tlearn: 2225.9078997\ttotal: 50.7s\tremaining: 1m 34s\n",
      "70:\tlearn: 2217.8527478\ttotal: 51.4s\tremaining: 1m 33s\n",
      "71:\tlearn: 2210.2108328\ttotal: 52.1s\tremaining: 1m 32s\n",
      "72:\tlearn: 2201.5478325\ttotal: 52.9s\tremaining: 1m 31s\n",
      "73:\tlearn: 2194.5910567\ttotal: 53.6s\tremaining: 1m 31s\n",
      "74:\tlearn: 2187.3273270\ttotal: 54.4s\tremaining: 1m 30s\n",
      "75:\tlearn: 2180.3210902\ttotal: 55.1s\tremaining: 1m 29s\n",
      "76:\tlearn: 2173.3472257\ttotal: 55.8s\tremaining: 1m 29s\n",
      "77:\tlearn: 2166.6276685\ttotal: 56.5s\tremaining: 1m 28s\n",
      "78:\tlearn: 2160.3424052\ttotal: 57.1s\tremaining: 1m 27s\n",
      "79:\tlearn: 2153.9432746\ttotal: 57.8s\tremaining: 1m 26s\n",
      "80:\tlearn: 2148.4477893\ttotal: 58.6s\tremaining: 1m 26s\n",
      "81:\tlearn: 2142.1655134\ttotal: 59.4s\tremaining: 1m 25s\n",
      "82:\tlearn: 2136.6684685\ttotal: 1m\tremaining: 1m 24s\n",
      "83:\tlearn: 2131.1762926\ttotal: 1m\tremaining: 1m 23s\n",
      "84:\tlearn: 2126.2842687\ttotal: 1m 1s\tremaining: 1m 23s\n",
      "85:\tlearn: 2121.0139139\ttotal: 1m 2s\tremaining: 1m 22s\n",
      "86:\tlearn: 2116.0536411\ttotal: 1m 2s\tremaining: 1m 21s\n",
      "87:\tlearn: 2111.2544892\ttotal: 1m 3s\tremaining: 1m 20s\n",
      "88:\tlearn: 2106.5933032\ttotal: 1m 4s\tremaining: 1m 20s\n",
      "89:\tlearn: 2102.2576534\ttotal: 1m 5s\tremaining: 1m 19s\n",
      "90:\tlearn: 2097.1260172\ttotal: 1m 5s\tremaining: 1m 18s\n",
      "91:\tlearn: 2093.1593464\ttotal: 1m 6s\tremaining: 1m 17s\n",
      "92:\tlearn: 2088.8509937\ttotal: 1m 7s\tremaining: 1m 17s\n",
      "93:\tlearn: 2084.9510909\ttotal: 1m 7s\tremaining: 1m 16s\n",
      "94:\tlearn: 2080.8471066\ttotal: 1m 8s\tremaining: 1m 15s\n",
      "95:\tlearn: 2076.8019845\ttotal: 1m 9s\tremaining: 1m 14s\n",
      "96:\tlearn: 2072.6808365\ttotal: 1m 9s\tremaining: 1m 14s\n",
      "97:\tlearn: 2068.6050516\ttotal: 1m 10s\tremaining: 1m 13s\n",
      "98:\tlearn: 2064.8776624\ttotal: 1m 11s\tremaining: 1m 12s\n",
      "99:\tlearn: 2060.9169921\ttotal: 1m 12s\tremaining: 1m 12s\n",
      "100:\tlearn: 2057.3160135\ttotal: 1m 12s\tremaining: 1m 11s\n",
      "101:\tlearn: 2054.2018013\ttotal: 1m 13s\tremaining: 1m 10s\n",
      "102:\tlearn: 2051.0323710\ttotal: 1m 14s\tremaining: 1m 10s\n",
      "103:\tlearn: 2047.7326993\ttotal: 1m 15s\tremaining: 1m 9s\n",
      "104:\tlearn: 2044.6754326\ttotal: 1m 15s\tremaining: 1m 8s\n",
      "105:\tlearn: 2041.6226766\ttotal: 1m 16s\tremaining: 1m 8s\n",
      "106:\tlearn: 2038.8191728\ttotal: 1m 17s\tremaining: 1m 7s\n",
      "107:\tlearn: 2035.5877496\ttotal: 1m 18s\tremaining: 1m 6s\n",
      "108:\tlearn: 2033.2818563\ttotal: 1m 18s\tremaining: 1m 5s\n",
      "109:\tlearn: 2030.9692213\ttotal: 1m 19s\tremaining: 1m 4s\n",
      "110:\tlearn: 2028.4508308\ttotal: 1m 20s\tremaining: 1m 4s\n",
      "111:\tlearn: 2025.9387729\ttotal: 1m 20s\tremaining: 1m 3s\n",
      "112:\tlearn: 2023.6079647\ttotal: 1m 21s\tremaining: 1m 2s\n",
      "113:\tlearn: 2021.2878057\ttotal: 1m 22s\tremaining: 1m 2s\n",
      "114:\tlearn: 2018.7850871\ttotal: 1m 23s\tremaining: 1m 1s\n",
      "115:\tlearn: 2016.4518297\ttotal: 1m 23s\tremaining: 1m\n",
      "116:\tlearn: 2013.7646207\ttotal: 1m 24s\tremaining: 59.9s\n",
      "117:\tlearn: 2011.3531737\ttotal: 1m 25s\tremaining: 59.3s\n",
      "118:\tlearn: 2009.1773401\ttotal: 1m 26s\tremaining: 58.5s\n",
      "119:\tlearn: 2006.9423305\ttotal: 1m 26s\tremaining: 57.8s\n",
      "120:\tlearn: 2004.6259689\ttotal: 1m 27s\tremaining: 57.1s\n",
      "121:\tlearn: 2002.5190958\ttotal: 1m 28s\tremaining: 56.4s\n",
      "122:\tlearn: 2000.5268092\ttotal: 1m 28s\tremaining: 55.6s\n",
      "123:\tlearn: 1998.3953882\ttotal: 1m 29s\tremaining: 54.9s\n",
      "124:\tlearn: 1996.3270475\ttotal: 1m 30s\tremaining: 54.2s\n",
      "125:\tlearn: 1994.3456482\ttotal: 1m 31s\tremaining: 53.6s\n",
      "126:\tlearn: 1992.3940501\ttotal: 1m 31s\tremaining: 52.8s\n",
      "127:\tlearn: 1990.3358596\ttotal: 1m 32s\tremaining: 52.2s\n",
      "128:\tlearn: 1988.4148389\ttotal: 1m 33s\tremaining: 51.5s\n",
      "129:\tlearn: 1986.7205384\ttotal: 1m 34s\tremaining: 50.8s\n",
      "130:\tlearn: 1984.7018475\ttotal: 1m 35s\tremaining: 50.1s\n",
      "131:\tlearn: 1982.4491927\ttotal: 1m 35s\tremaining: 49.3s\n",
      "132:\tlearn: 1980.6713479\ttotal: 1m 36s\tremaining: 48.6s\n",
      "133:\tlearn: 1978.9107594\ttotal: 1m 37s\tremaining: 48s\n",
      "134:\tlearn: 1977.4329932\ttotal: 1m 38s\tremaining: 47.2s\n",
      "135:\tlearn: 1975.3854484\ttotal: 1m 38s\tremaining: 46.5s\n",
      "136:\tlearn: 1974.0330635\ttotal: 1m 39s\tremaining: 45.8s\n",
      "137:\tlearn: 1972.0696122\ttotal: 1m 40s\tremaining: 45s\n",
      "138:\tlearn: 1970.5484497\ttotal: 1m 40s\tremaining: 44.2s\n",
      "139:\tlearn: 1968.8639701\ttotal: 1m 41s\tremaining: 43.5s\n",
      "140:\tlearn: 1967.4080552\ttotal: 1m 42s\tremaining: 42.8s\n",
      "141:\tlearn: 1966.1931563\ttotal: 1m 42s\tremaining: 42s\n",
      "142:\tlearn: 1964.2403456\ttotal: 1m 43s\tremaining: 41.3s\n",
      "143:\tlearn: 1962.4255749\ttotal: 1m 44s\tremaining: 40.5s\n",
      "144:\tlearn: 1960.9924585\ttotal: 1m 44s\tremaining: 39.8s\n",
      "145:\tlearn: 1959.4555525\ttotal: 1m 45s\tremaining: 39.1s\n",
      "146:\tlearn: 1957.9949020\ttotal: 1m 46s\tremaining: 38.4s\n",
      "147:\tlearn: 1956.7473724\ttotal: 1m 47s\tremaining: 37.6s\n",
      "148:\tlearn: 1955.3407784\ttotal: 1m 47s\tremaining: 36.9s\n",
      "149:\tlearn: 1954.1406718\ttotal: 1m 48s\tremaining: 36.2s\n",
      "150:\tlearn: 1952.5935806\ttotal: 1m 49s\tremaining: 35.5s\n",
      "151:\tlearn: 1951.1790076\ttotal: 1m 50s\tremaining: 34.8s\n",
      "152:\tlearn: 1949.4834351\ttotal: 1m 50s\tremaining: 34s\n",
      "153:\tlearn: 1947.9401008\ttotal: 1m 51s\tremaining: 33.3s\n",
      "154:\tlearn: 1946.2732247\ttotal: 1m 52s\tremaining: 32.6s\n",
      "155:\tlearn: 1944.9693456\ttotal: 1m 52s\tremaining: 31.8s\n",
      "156:\tlearn: 1943.6745829\ttotal: 1m 53s\tremaining: 31.1s\n",
      "157:\tlearn: 1942.5569222\ttotal: 1m 54s\tremaining: 30.4s\n",
      "158:\tlearn: 1941.4426416\ttotal: 1m 55s\tremaining: 29.7s\n",
      "159:\tlearn: 1940.4017143\ttotal: 1m 55s\tremaining: 29s\n",
      "160:\tlearn: 1938.5829478\ttotal: 1m 56s\tremaining: 28.2s\n",
      "161:\tlearn: 1937.2027285\ttotal: 1m 57s\tremaining: 27.5s\n",
      "162:\tlearn: 1935.9523585\ttotal: 1m 57s\tremaining: 26.8s\n",
      "163:\tlearn: 1934.4073338\ttotal: 1m 58s\tremaining: 26s\n",
      "164:\tlearn: 1932.7905252\ttotal: 1m 59s\tremaining: 25.3s\n",
      "165:\tlearn: 1931.7504265\ttotal: 1m 59s\tremaining: 24.6s\n",
      "166:\tlearn: 1930.5833387\ttotal: 2m\tremaining: 23.8s\n",
      "167:\tlearn: 1929.5006402\ttotal: 2m 1s\tremaining: 23.1s\n",
      "168:\tlearn: 1928.1725645\ttotal: 2m 2s\tremaining: 22.4s\n",
      "169:\tlearn: 1927.0697419\ttotal: 2m 2s\tremaining: 21.7s\n",
      "170:\tlearn: 1925.9403835\ttotal: 2m 3s\tremaining: 21s\n",
      "171:\tlearn: 1924.5785662\ttotal: 2m 4s\tremaining: 20.2s\n",
      "172:\tlearn: 1923.7571705\ttotal: 2m 4s\tremaining: 19.5s\n",
      "173:\tlearn: 1922.8240091\ttotal: 2m 5s\tremaining: 18.7s\n",
      "174:\tlearn: 1921.8993890\ttotal: 2m 6s\tremaining: 18s\n",
      "175:\tlearn: 1920.8644933\ttotal: 2m 6s\tremaining: 17.3s\n",
      "176:\tlearn: 1919.9522014\ttotal: 2m 7s\tremaining: 16.6s\n",
      "177:\tlearn: 1919.0107375\ttotal: 2m 8s\tremaining: 15.9s\n",
      "178:\tlearn: 1917.9905501\ttotal: 2m 8s\tremaining: 15.1s\n",
      "179:\tlearn: 1917.3051753\ttotal: 2m 9s\tremaining: 14.4s\n",
      "180:\tlearn: 1916.5216234\ttotal: 2m 10s\tremaining: 13.7s\n",
      "181:\tlearn: 1915.7364405\ttotal: 2m 11s\tremaining: 13s\n",
      "182:\tlearn: 1915.0233844\ttotal: 2m 11s\tremaining: 12.2s\n",
      "183:\tlearn: 1913.9398824\ttotal: 2m 12s\tremaining: 11.5s\n",
      "184:\tlearn: 1913.0841158\ttotal: 2m 13s\tremaining: 10.8s\n",
      "185:\tlearn: 1912.1818446\ttotal: 2m 14s\tremaining: 10.1s\n",
      "186:\tlearn: 1911.3952867\ttotal: 2m 14s\tremaining: 9.37s\n",
      "187:\tlearn: 1910.6797460\ttotal: 2m 15s\tremaining: 8.64s\n",
      "188:\tlearn: 1910.0184806\ttotal: 2m 16s\tremaining: 7.92s\n",
      "189:\tlearn: 1909.1266429\ttotal: 2m 16s\tremaining: 7.2s\n",
      "190:\tlearn: 1908.2848609\ttotal: 2m 17s\tremaining: 6.48s\n",
      "191:\tlearn: 1907.3208506\ttotal: 2m 18s\tremaining: 5.76s\n",
      "192:\tlearn: 1906.7738488\ttotal: 2m 18s\tremaining: 5.04s\n",
      "193:\tlearn: 1906.1837498\ttotal: 2m 19s\tremaining: 4.32s\n",
      "194:\tlearn: 1905.4157930\ttotal: 2m 20s\tremaining: 3.6s\n",
      "195:\tlearn: 1904.5451323\ttotal: 2m 21s\tremaining: 2.88s\n",
      "196:\tlearn: 1903.4214447\ttotal: 2m 21s\tremaining: 2.16s\n",
      "197:\tlearn: 1902.8649571\ttotal: 2m 22s\tremaining: 1.44s\n",
      "198:\tlearn: 1902.4040250\ttotal: 2m 23s\tremaining: 719ms\n",
      "199:\tlearn: 1901.4089277\ttotal: 2m 23s\tremaining: 0us\n"
     ]
    }
   ],
   "source": [
    "start = time.time()\n",
    "cat.fit(features_train, target_train, cat_features=cat_features)\n",
    "end = time.time()\n",
    "fit_time = end-start"
   ]
  },
  {
   "cell_type": "code",
   "execution_count": 172,
   "metadata": {},
   "outputs": [],
   "source": [
    "start = time.time()\n",
    "predictions = cat.predict(features_valid)\n",
    "end = time.time()\n",
    "predict_time = end-start"
   ]
  },
  {
   "cell_type": "code",
   "execution_count": 173,
   "metadata": {},
   "outputs": [],
   "source": [
    "valid_score = mean_squared_error(target_valid, predictions)**0.5"
   ]
  },
  {
   "cell_type": "code",
   "execution_count": 174,
   "metadata": {
    "scrolled": true
   },
   "outputs": [],
   "source": [
    "test_score = mean_squared_error(target_test, cat.predict(features_test))**0.5"
   ]
  },
  {
   "cell_type": "code",
   "execution_count": 175,
   "metadata": {},
   "outputs": [],
   "source": [
    "results.loc['catboost'] = [valid_score,test_score,fit_time,predict_time]"
   ]
  },
  {
   "cell_type": "markdown",
   "metadata": {},
   "source": [
    "### Обучение модели lightgbm"
   ]
  },
  {
   "cell_type": "code",
   "execution_count": 176,
   "metadata": {},
   "outputs": [],
   "source": [
    "lgbm = LGBMRegressor (max_depth = 6, n_estimators = 800, random_state = 12345)"
   ]
  },
  {
   "cell_type": "code",
   "execution_count": 177,
   "metadata": {},
   "outputs": [],
   "source": [
    "start = time.time()\n",
    "lgbm.fit(features_train, target_train, categorical_feature = cat_features)\n",
    "end = time.time()\n",
    "fit_time = end-start"
   ]
  },
  {
   "cell_type": "code",
   "execution_count": 178,
   "metadata": {},
   "outputs": [],
   "source": [
    "start = time.time()\n",
    "predictions = lgbm.predict(features_valid)\n",
    "end = time.time()\n",
    "predict_time = end-start"
   ]
  },
  {
   "cell_type": "code",
   "execution_count": 179,
   "metadata": {},
   "outputs": [],
   "source": [
    "valid_score = mean_squared_error(target_valid, predictions)**0.5"
   ]
  },
  {
   "cell_type": "code",
   "execution_count": 180,
   "metadata": {},
   "outputs": [],
   "source": [
    "test_score = mean_squared_error(target_test, lgbm.predict(features_test))**0.5"
   ]
  },
  {
   "cell_type": "code",
   "execution_count": 181,
   "metadata": {},
   "outputs": [],
   "source": [
    "results.loc['lgbm'] = [valid_score,test_score,fit_time,predict_time]"
   ]
  },
  {
   "cell_type": "markdown",
   "metadata": {},
   "source": [
    "## Анализ моделей"
   ]
  },
  {
   "cell_type": "code",
   "execution_count": 182,
   "metadata": {},
   "outputs": [
    {
     "data": {
      "text/html": [
       "<div>\n",
       "<style scoped>\n",
       "    .dataframe tbody tr th:only-of-type {\n",
       "        vertical-align: middle;\n",
       "    }\n",
       "\n",
       "    .dataframe tbody tr th {\n",
       "        vertical-align: top;\n",
       "    }\n",
       "\n",
       "    .dataframe thead th {\n",
       "        text-align: right;\n",
       "    }\n",
       "</style>\n",
       "<table border=\"1\" class=\"dataframe\">\n",
       "  <thead>\n",
       "    <tr style=\"text-align: right;\">\n",
       "      <th></th>\n",
       "      <th>valid_score</th>\n",
       "      <th>test_score</th>\n",
       "      <th>fit_time</th>\n",
       "      <th>predict_time</th>\n",
       "    </tr>\n",
       "  </thead>\n",
       "  <tbody>\n",
       "    <tr>\n",
       "      <td>tree</td>\n",
       "      <td>1980.237940</td>\n",
       "      <td>1947.758669</td>\n",
       "      <td>0.637003</td>\n",
       "      <td>0.015649</td>\n",
       "    </tr>\n",
       "    <tr>\n",
       "      <td>forest</td>\n",
       "      <td>1781.557135</td>\n",
       "      <td>1762.287744</td>\n",
       "      <td>20.542026</td>\n",
       "      <td>0.608544</td>\n",
       "    </tr>\n",
       "    <tr>\n",
       "      <td>catboost</td>\n",
       "      <td>1910.325236</td>\n",
       "      <td>1883.158949</td>\n",
       "      <td>146.605955</td>\n",
       "      <td>0.258134</td>\n",
       "    </tr>\n",
       "    <tr>\n",
       "      <td>lgbm</td>\n",
       "      <td>1603.295529</td>\n",
       "      <td>1591.524481</td>\n",
       "      <td>44.879563</td>\n",
       "      <td>9.224775</td>\n",
       "    </tr>\n",
       "  </tbody>\n",
       "</table>\n",
       "</div>"
      ],
      "text/plain": [
       "          valid_score   test_score    fit_time  predict_time\n",
       "tree      1980.237940  1947.758669    0.637003      0.015649\n",
       "forest    1781.557135  1762.287744   20.542026      0.608544\n",
       "catboost  1910.325236  1883.158949  146.605955      0.258134\n",
       "lgbm      1603.295529  1591.524481   44.879563      9.224775"
      ]
     },
     "execution_count": 182,
     "metadata": {},
     "output_type": "execute_result"
    }
   ],
   "source": [
    "results"
   ]
  },
  {
   "cell_type": "markdown",
   "metadata": {},
   "source": [
    "### Вывод\n",
    "Модель LGBM победила по показателю RMSE и соотношению RMSE к fit_time. Однако стоит заметить, что этой модели требуется значительное время для предсказания. Если у нас стоит задача уменьшить время на предсказание и есть возможность увеличить время на обучение, то под такие задачи больше бы подошла модель CatBoost. \n",
    "\n",
    "При работе на локальном компьютере CatBoost показывает намного лучше показатели :\n",
    " - valid_score 1694.465363 \n",
    " - test_score 1675.100321\n",
    " - fit_time 82.788634\n",
    " - predict_time 0.247361\n"
   ]
  }
 ],
 "metadata": {
  "ExecuteTimeLog": [
   {
    "duration": 1270,
    "start_time": "2021-09-29T18:04:51.295Z"
   },
   {
    "duration": 1073,
    "start_time": "2021-09-29T18:04:52.567Z"
   },
   {
    "duration": 11,
    "start_time": "2021-09-29T18:04:53.643Z"
   },
   {
    "duration": 17,
    "start_time": "2021-09-29T18:04:53.657Z"
   },
   {
    "duration": 144,
    "start_time": "2021-09-29T18:04:53.676Z"
   },
   {
    "duration": 318,
    "start_time": "2021-09-29T18:04:53.821Z"
   },
   {
    "duration": 51,
    "start_time": "2021-09-29T18:04:54.141Z"
   },
   {
    "duration": 14,
    "start_time": "2021-09-29T18:04:54.194Z"
   },
   {
    "duration": 62,
    "start_time": "2021-09-29T18:04:54.210Z"
   },
   {
    "duration": 42,
    "start_time": "2021-09-29T18:04:54.274Z"
   },
   {
    "duration": 116,
    "start_time": "2021-09-29T18:04:54.318Z"
   },
   {
    "duration": 1094,
    "start_time": "2021-09-29T18:04:54.436Z"
   },
   {
    "duration": 137,
    "start_time": "2021-09-29T18:04:55.532Z"
   },
   {
    "duration": 14,
    "start_time": "2021-09-29T18:04:55.671Z"
   },
   {
    "duration": 38,
    "start_time": "2021-09-29T18:04:55.687Z"
   },
   {
    "duration": 53,
    "start_time": "2021-09-29T18:04:55.727Z"
   },
   {
    "duration": 13,
    "start_time": "2021-09-29T18:04:55.782Z"
   },
   {
    "duration": 24,
    "start_time": "2021-09-29T18:04:55.797Z"
   },
   {
    "duration": 43,
    "start_time": "2021-09-29T18:04:55.822Z"
   },
   {
    "duration": 23,
    "start_time": "2021-09-29T18:04:55.867Z"
   },
   {
    "duration": 2,
    "start_time": "2021-09-29T18:04:55.892Z"
   },
   {
    "duration": 165,
    "start_time": "2021-09-29T18:04:55.896Z"
   },
   {
    "duration": 9,
    "start_time": "2021-09-29T18:04:56.067Z"
   },
   {
    "duration": 97,
    "start_time": "2021-09-29T18:04:56.079Z"
   },
   {
    "duration": 341,
    "start_time": "2021-09-29T18:04:56.177Z"
   },
   {
    "duration": 148,
    "start_time": "2021-09-29T18:04:56.520Z"
   },
   {
    "duration": 7,
    "start_time": "2021-09-29T18:04:56.670Z"
   },
   {
    "duration": 6,
    "start_time": "2021-09-29T18:04:56.678Z"
   },
   {
    "duration": 3833,
    "start_time": "2021-09-29T18:04:56.686Z"
   },
   {
    "duration": 3,
    "start_time": "2021-09-29T18:05:00.521Z"
   },
   {
    "duration": 20,
    "start_time": "2021-09-29T18:05:00.526Z"
   },
   {
    "duration": 622,
    "start_time": "2021-09-29T18:05:00.548Z"
   },
   {
    "duration": 14,
    "start_time": "2021-09-29T18:05:01.173Z"
   },
   {
    "duration": 4,
    "start_time": "2021-09-29T18:05:01.189Z"
   },
   {
    "duration": 28,
    "start_time": "2021-09-29T18:05:01.195Z"
   },
   {
    "duration": 9,
    "start_time": "2021-09-29T18:05:01.225Z"
   },
   {
    "duration": 20,
    "start_time": "2021-09-29T18:05:01.236Z"
   },
   {
    "duration": 123347,
    "start_time": "2021-09-29T18:05:01.258Z"
   },
   {
    "duration": 4,
    "start_time": "2021-09-29T18:07:04.607Z"
   },
   {
    "duration": 7,
    "start_time": "2021-09-29T18:07:04.613Z"
   },
   {
    "duration": 20414,
    "start_time": "2021-09-29T18:07:04.622Z"
   },
   {
    "duration": 464,
    "start_time": "2021-09-29T18:07:25.038Z"
   },
   {
    "duration": 5,
    "start_time": "2021-09-29T18:07:25.503Z"
   },
   {
    "duration": 488,
    "start_time": "2021-09-29T18:07:25.510Z"
   },
   {
    "duration": 6,
    "start_time": "2021-09-29T18:07:26.000Z"
   },
   {
    "duration": 5,
    "start_time": "2021-09-29T18:07:26.009Z"
   },
   {
    "duration": 103785,
    "start_time": "2021-09-29T18:07:26.017Z"
   },
   {
    "duration": 162,
    "start_time": "2021-09-29T18:09:09.804Z"
   },
   {
    "duration": 3,
    "start_time": "2021-09-29T18:09:09.968Z"
   },
   {
    "duration": 198,
    "start_time": "2021-09-29T18:09:09.973Z"
   },
   {
    "duration": 5,
    "start_time": "2021-09-29T18:09:10.173Z"
   },
   {
    "duration": 5,
    "start_time": "2021-09-29T18:09:10.180Z"
   },
   {
    "duration": 142073,
    "start_time": "2021-09-29T18:09:10.187Z"
   },
   {
    "duration": 7307,
    "start_time": "2021-09-29T18:11:32.262Z"
   },
   {
    "duration": 4,
    "start_time": "2021-09-29T18:11:39.571Z"
   },
   {
    "duration": 7390,
    "start_time": "2021-09-29T18:11:39.577Z"
   },
   {
    "duration": 6,
    "start_time": "2021-09-29T18:11:46.969Z"
   },
   {
    "duration": 19,
    "start_time": "2021-09-29T18:11:46.977Z"
   },
   {
    "duration": 4,
    "start_time": "2021-09-29T18:14:21.303Z"
   },
   {
    "duration": 3,
    "start_time": "2021-09-29T18:14:27.846Z"
   },
   {
    "duration": 34013,
    "start_time": "2021-09-29T18:14:27.852Z"
   },
   {
    "duration": 8382,
    "start_time": "2021-09-29T18:15:01.867Z"
   },
   {
    "duration": 4,
    "start_time": "2021-09-29T18:15:10.252Z"
   },
   {
    "duration": 8326,
    "start_time": "2021-09-29T18:15:10.258Z"
   },
   {
    "duration": 4,
    "start_time": "2021-09-29T18:15:18.586Z"
   },
   {
    "duration": 12,
    "start_time": "2021-09-29T18:15:18.591Z"
   },
   {
    "duration": 3,
    "start_time": "2021-09-29T18:16:18.596Z"
   },
   {
    "duration": 3,
    "start_time": "2021-09-29T18:16:24.185Z"
   },
   {
    "duration": 20046,
    "start_time": "2021-09-29T18:16:24.191Z"
   },
   {
    "duration": 459,
    "start_time": "2021-09-29T18:16:44.239Z"
   },
   {
    "duration": 4,
    "start_time": "2021-09-29T18:16:44.700Z"
   },
   {
    "duration": 464,
    "start_time": "2021-09-29T18:16:44.706Z"
   },
   {
    "duration": 4,
    "start_time": "2021-09-29T18:16:45.171Z"
   },
   {
    "duration": 18,
    "start_time": "2021-09-29T18:16:45.177Z"
   },
   {
    "duration": 98189,
    "start_time": "2021-09-29T18:16:45.197Z"
   },
   {
    "duration": 74,
    "start_time": "2021-09-29T18:18:23.388Z"
   },
   {
    "duration": 4,
    "start_time": "2021-09-29T18:18:23.463Z"
   },
   {
    "duration": 117,
    "start_time": "2021-09-29T18:18:23.549Z"
   },
   {
    "duration": 4,
    "start_time": "2021-09-29T18:18:23.668Z"
   },
   {
    "duration": 79,
    "start_time": "2021-09-29T18:18:23.674Z"
   },
   {
    "duration": 47010,
    "start_time": "2021-09-29T18:18:23.755Z"
   },
   {
    "duration": 8221,
    "start_time": "2021-09-29T18:19:10.767Z"
   },
   {
    "duration": 4,
    "start_time": "2021-09-29T18:19:18.990Z"
   },
   {
    "duration": 8300,
    "start_time": "2021-09-29T18:19:19.049Z"
   },
   {
    "duration": 3,
    "start_time": "2021-09-29T18:19:27.352Z"
   },
   {
    "duration": 13,
    "start_time": "2021-09-29T18:19:27.357Z"
   },
   {
    "duration": 15,
    "start_time": "2021-09-29T18:20:47.467Z"
   },
   {
    "duration": 21863,
    "start_time": "2021-09-29T18:20:48.380Z"
   },
   {
    "duration": 3,
    "start_time": "2021-09-29T18:21:14.924Z"
   },
   {
    "duration": 63629,
    "start_time": "2021-09-29T18:21:15.469Z"
   },
   {
    "duration": 11,
    "start_time": "2021-09-29T18:22:33.905Z"
   },
   {
    "duration": 99078,
    "start_time": "2021-09-29T18:22:38.110Z"
   },
   {
    "duration": 97,
    "start_time": "2021-09-29T18:27:23.165Z"
   },
   {
    "duration": 5,
    "start_time": "2021-09-29T18:27:24.054Z"
   },
   {
    "duration": 105,
    "start_time": "2021-09-29T18:27:24.654Z"
   },
   {
    "duration": 4,
    "start_time": "2021-09-29T18:27:25.221Z"
   },
   {
    "duration": 8,
    "start_time": "2021-09-29T18:27:28.314Z"
   },
   {
    "duration": 8,
    "start_time": "2021-09-29T18:27:47.182Z"
   },
   {
    "duration": 120,
    "start_time": "2021-09-30T08:50:10.727Z"
   },
   {
    "duration": 6,
    "start_time": "2021-09-30T08:58:28.513Z"
   },
   {
    "duration": 1223,
    "start_time": "2021-09-30T08:58:28.522Z"
   },
   {
    "duration": 9,
    "start_time": "2021-09-30T08:58:29.748Z"
   },
   {
    "duration": 21,
    "start_time": "2021-09-30T08:58:29.760Z"
   },
   {
    "duration": 174,
    "start_time": "2021-09-30T08:58:29.783Z"
   },
   {
    "duration": 326,
    "start_time": "2021-09-30T08:58:29.960Z"
   },
   {
    "duration": 70,
    "start_time": "2021-09-30T08:58:30.289Z"
   },
   {
    "duration": 18,
    "start_time": "2021-09-30T08:58:30.362Z"
   },
   {
    "duration": 53,
    "start_time": "2021-09-30T08:58:30.382Z"
   },
   {
    "duration": 71,
    "start_time": "2021-09-30T08:58:30.438Z"
   },
   {
    "duration": 165,
    "start_time": "2021-09-30T08:58:30.511Z"
   },
   {
    "duration": 1804,
    "start_time": "2021-09-30T08:58:30.679Z"
   },
   {
    "duration": 127,
    "start_time": "2021-09-30T08:58:32.486Z"
   },
   {
    "duration": 15,
    "start_time": "2021-09-30T08:58:32.616Z"
   },
   {
    "duration": 70,
    "start_time": "2021-09-30T08:58:32.633Z"
   },
   {
    "duration": 33,
    "start_time": "2021-09-30T08:58:32.705Z"
   },
   {
    "duration": 27,
    "start_time": "2021-09-30T08:58:32.741Z"
   },
   {
    "duration": 35,
    "start_time": "2021-09-30T08:58:32.770Z"
   },
   {
    "duration": 67,
    "start_time": "2021-09-30T08:58:32.810Z"
   },
   {
    "duration": 35,
    "start_time": "2021-09-30T08:58:32.881Z"
   },
   {
    "duration": 5,
    "start_time": "2021-09-30T08:58:32.918Z"
   },
   {
    "duration": 223,
    "start_time": "2021-09-30T08:58:32.925Z"
   },
   {
    "duration": 11,
    "start_time": "2021-09-30T08:58:33.150Z"
   },
   {
    "duration": 96,
    "start_time": "2021-09-30T08:58:33.164Z"
   },
   {
    "duration": 3,
    "start_time": "2021-09-30T08:58:33.263Z"
   },
   {
    "duration": 985,
    "start_time": "2021-09-30T08:58:49.806Z"
   },
   {
    "duration": 56,
    "start_time": "2021-09-30T08:58:59.404Z"
   },
   {
    "duration": 19,
    "start_time": "2021-09-30T08:59:15.064Z"
   },
   {
    "duration": 19,
    "start_time": "2021-09-30T08:59:24.486Z"
   },
   {
    "duration": 892,
    "start_time": "2021-09-30T08:59:39.278Z"
   },
   {
    "duration": 344,
    "start_time": "2021-09-30T08:59:41.693Z"
   },
   {
    "duration": 900,
    "start_time": "2021-09-30T09:01:00.518Z"
   },
   {
    "duration": 21,
    "start_time": "2021-09-30T09:01:01.421Z"
   },
   {
    "duration": 22,
    "start_time": "2021-09-30T09:01:03.934Z"
   },
   {
    "duration": 5,
    "start_time": "2021-09-30T09:06:21.871Z"
   },
   {
    "duration": 801,
    "start_time": "2021-09-30T09:07:02.820Z"
   },
   {
    "duration": 23,
    "start_time": "2021-09-30T09:07:25.582Z"
   },
   {
    "duration": 21,
    "start_time": "2021-09-30T09:11:03.915Z"
   },
   {
    "duration": 672,
    "start_time": "2021-09-30T09:11:30.574Z"
   },
   {
    "duration": 23,
    "start_time": "2021-09-30T09:11:39.941Z"
   },
   {
    "duration": 940,
    "start_time": "2021-09-30T09:12:08.876Z"
   },
   {
    "duration": 25,
    "start_time": "2021-09-30T09:12:09.819Z"
   },
   {
    "duration": 914,
    "start_time": "2021-09-30T09:14:09.788Z"
   },
   {
    "duration": 21,
    "start_time": "2021-09-30T09:14:10.705Z"
   },
   {
    "duration": 952,
    "start_time": "2021-09-30T09:14:35.883Z"
   },
   {
    "duration": 31,
    "start_time": "2021-09-30T09:14:36.841Z"
   },
   {
    "duration": 2349,
    "start_time": "2021-09-30T09:16:07.640Z"
   },
   {
    "duration": 41,
    "start_time": "2021-09-30T09:16:09.993Z"
   },
   {
    "duration": 1667,
    "start_time": "2021-09-30T09:17:04.846Z"
   },
   {
    "duration": 43,
    "start_time": "2021-09-30T09:17:06.516Z"
   },
   {
    "duration": 5,
    "start_time": "2021-09-30T09:17:51.715Z"
   },
   {
    "duration": 1204,
    "start_time": "2021-09-30T09:17:51.724Z"
   },
   {
    "duration": 5,
    "start_time": "2021-09-30T09:17:52.931Z"
   },
   {
    "duration": 32,
    "start_time": "2021-09-30T09:17:52.938Z"
   },
   {
    "duration": 174,
    "start_time": "2021-09-30T09:17:52.973Z"
   },
   {
    "duration": 359,
    "start_time": "2021-09-30T09:17:53.150Z"
   },
   {
    "duration": 63,
    "start_time": "2021-09-30T09:17:53.512Z"
   },
   {
    "duration": 18,
    "start_time": "2021-09-30T09:17:53.578Z"
   },
   {
    "duration": 67,
    "start_time": "2021-09-30T09:17:53.599Z"
   },
   {
    "duration": 42,
    "start_time": "2021-09-30T09:17:53.669Z"
   },
   {
    "duration": 170,
    "start_time": "2021-09-30T09:17:53.713Z"
   },
   {
    "duration": 2652,
    "start_time": "2021-09-30T09:17:53.886Z"
   },
   {
    "duration": 183,
    "start_time": "2021-09-30T09:17:56.542Z"
   },
   {
    "duration": 30,
    "start_time": "2021-09-30T09:17:56.729Z"
   },
   {
    "duration": 66,
    "start_time": "2021-09-30T09:17:56.762Z"
   },
   {
    "duration": 66,
    "start_time": "2021-09-30T09:17:56.832Z"
   },
   {
    "duration": 27,
    "start_time": "2021-09-30T09:17:56.900Z"
   },
   {
    "duration": 70,
    "start_time": "2021-09-30T09:17:56.930Z"
   },
   {
    "duration": 58,
    "start_time": "2021-09-30T09:17:57.008Z"
   },
   {
    "duration": 41,
    "start_time": "2021-09-30T09:17:57.070Z"
   },
   {
    "duration": 4,
    "start_time": "2021-09-30T09:17:57.114Z"
   },
   {
    "duration": 285,
    "start_time": "2021-09-30T09:17:57.121Z"
   },
   {
    "duration": 11,
    "start_time": "2021-09-30T09:17:57.409Z"
   },
   {
    "duration": 147,
    "start_time": "2021-09-30T09:17:57.423Z"
   },
   {
    "duration": 6,
    "start_time": "2021-09-30T09:17:57.574Z"
   },
   {
    "duration": 1501,
    "start_time": "2021-09-30T09:17:57.584Z"
   },
   {
    "duration": 8,
    "start_time": "2021-09-30T09:17:59.087Z"
   },
   {
    "duration": 19,
    "start_time": "2021-09-30T09:17:59.098Z"
   },
   {
    "duration": 4138,
    "start_time": "2021-09-30T09:17:59.119Z"
   },
   {
    "duration": 5,
    "start_time": "2021-09-30T09:18:03.259Z"
   },
   {
    "duration": 14,
    "start_time": "2021-09-30T09:18:03.266Z"
   },
   {
    "duration": 630,
    "start_time": "2021-09-30T09:18:03.283Z"
   },
   {
    "duration": 19,
    "start_time": "2021-09-30T09:18:03.915Z"
   },
   {
    "duration": 21,
    "start_time": "2021-09-30T09:18:03.936Z"
   },
   {
    "duration": 20,
    "start_time": "2021-09-30T09:18:03.960Z"
   },
   {
    "duration": 6,
    "start_time": "2021-09-30T09:18:03.982Z"
   },
   {
    "duration": 10,
    "start_time": "2021-09-30T09:18:03.990Z"
   },
   {
    "duration": 153155,
    "start_time": "2021-09-30T09:18:04.003Z"
   },
   {
    "duration": 6,
    "start_time": "2021-09-30T09:20:37.161Z"
   },
   {
    "duration": 4,
    "start_time": "2021-09-30T09:20:37.170Z"
   },
   {
    "duration": 30695,
    "start_time": "2021-09-30T09:20:37.177Z"
   },
   {
    "duration": 743,
    "start_time": "2021-09-30T09:21:07.875Z"
   },
   {
    "duration": 6,
    "start_time": "2021-09-30T09:21:08.621Z"
   },
   {
    "duration": 604,
    "start_time": "2021-09-30T09:21:08.630Z"
   },
   {
    "duration": 6,
    "start_time": "2021-09-30T09:21:09.237Z"
   },
   {
    "duration": 11,
    "start_time": "2021-09-30T09:21:33.438Z"
   },
   {
    "duration": 6,
    "start_time": "2021-09-30T09:23:13.266Z"
   },
   {
    "duration": 1273,
    "start_time": "2021-09-30T09:23:13.274Z"
   },
   {
    "duration": 8,
    "start_time": "2021-09-30T09:23:14.550Z"
   },
   {
    "duration": 27,
    "start_time": "2021-09-30T09:23:14.560Z"
   },
   {
    "duration": 181,
    "start_time": "2021-09-30T09:23:14.590Z"
   },
   {
    "duration": 316,
    "start_time": "2021-09-30T09:23:14.774Z"
   },
   {
    "duration": 65,
    "start_time": "2021-09-30T09:23:15.094Z"
   },
   {
    "duration": 17,
    "start_time": "2021-09-30T09:23:15.162Z"
   },
   {
    "duration": 43,
    "start_time": "2021-09-30T09:23:15.182Z"
   },
   {
    "duration": 77,
    "start_time": "2021-09-30T09:23:15.227Z"
   },
   {
    "duration": 171,
    "start_time": "2021-09-30T09:23:15.307Z"
   },
   {
    "duration": 2087,
    "start_time": "2021-09-30T09:23:15.481Z"
   },
   {
    "duration": 131,
    "start_time": "2021-09-30T09:23:17.571Z"
   },
   {
    "duration": 17,
    "start_time": "2021-09-30T09:23:17.705Z"
   },
   {
    "duration": 79,
    "start_time": "2021-09-30T09:23:17.725Z"
   },
   {
    "duration": 35,
    "start_time": "2021-09-30T09:23:17.807Z"
   },
   {
    "duration": 22,
    "start_time": "2021-09-30T09:23:17.858Z"
   },
   {
    "duration": 38,
    "start_time": "2021-09-30T09:23:17.882Z"
   },
   {
    "duration": 55,
    "start_time": "2021-09-30T09:23:17.928Z"
   },
   {
    "duration": 35,
    "start_time": "2021-09-30T09:23:17.988Z"
   },
   {
    "duration": 5,
    "start_time": "2021-09-30T09:23:18.025Z"
   },
   {
    "duration": 197,
    "start_time": "2021-09-30T09:23:18.059Z"
   },
   {
    "duration": 9,
    "start_time": "2021-09-30T09:23:18.258Z"
   },
   {
    "duration": 105,
    "start_time": "2021-09-30T09:23:18.269Z"
   },
   {
    "duration": 4,
    "start_time": "2021-09-30T09:23:18.376Z"
   },
   {
    "duration": 1564,
    "start_time": "2021-09-30T09:23:18.383Z"
   },
   {
    "duration": 12,
    "start_time": "2021-09-30T09:23:19.949Z"
   },
   {
    "duration": 9,
    "start_time": "2021-09-30T09:23:19.963Z"
   },
   {
    "duration": 4228,
    "start_time": "2021-09-30T09:23:19.974Z"
   },
   {
    "duration": 5,
    "start_time": "2021-09-30T09:23:24.204Z"
   },
   {
    "duration": 37,
    "start_time": "2021-09-30T09:23:24.211Z"
   },
   {
    "duration": 660,
    "start_time": "2021-09-30T09:23:24.250Z"
   },
   {
    "duration": 19,
    "start_time": "2021-09-30T09:23:24.913Z"
   },
   {
    "duration": 23,
    "start_time": "2021-09-30T09:23:24.934Z"
   },
   {
    "duration": 20,
    "start_time": "2021-09-30T09:23:24.964Z"
   },
   {
    "duration": 6,
    "start_time": "2021-09-30T09:23:24.986Z"
   },
   {
    "duration": 23,
    "start_time": "2021-09-30T09:23:24.995Z"
   },
   {
    "duration": 136606,
    "start_time": "2021-09-30T09:23:25.021Z"
   },
   {
    "duration": 6,
    "start_time": "2021-09-30T09:25:41.631Z"
   },
   {
    "duration": 4,
    "start_time": "2021-09-30T09:25:41.659Z"
   },
   {
    "duration": 20554,
    "start_time": "2021-09-30T09:25:41.666Z"
   },
   {
    "duration": 612,
    "start_time": "2021-09-30T09:26:02.222Z"
   },
   {
    "duration": 4,
    "start_time": "2021-09-30T09:26:02.837Z"
   },
   {
    "duration": 626,
    "start_time": "2021-09-30T09:26:02.843Z"
   },
   {
    "duration": 6,
    "start_time": "2021-09-30T09:26:03.471Z"
   },
   {
    "duration": 8,
    "start_time": "2021-09-30T09:26:03.479Z"
   },
   {
    "duration": 146612,
    "start_time": "2021-09-30T09:26:03.490Z"
   },
   {
    "duration": 262,
    "start_time": "2021-09-30T09:28:30.104Z"
   },
   {
    "duration": 6,
    "start_time": "2021-09-30T09:28:30.369Z"
   },
   {
    "duration": 197,
    "start_time": "2021-09-30T09:28:30.378Z"
   },
   {
    "duration": 7,
    "start_time": "2021-09-30T09:28:30.577Z"
   },
   {
    "duration": 4,
    "start_time": "2021-09-30T09:28:30.658Z"
   },
   {
    "duration": 44908,
    "start_time": "2021-09-30T09:28:30.664Z"
   },
   {
    "duration": 9228,
    "start_time": "2021-09-30T09:29:15.574Z"
   },
   {
    "duration": 4,
    "start_time": "2021-09-30T09:29:24.863Z"
   },
   {
    "duration": 9207,
    "start_time": "2021-09-30T09:29:24.869Z"
   },
   {
    "duration": 6,
    "start_time": "2021-09-30T09:29:34.079Z"
   },
   {
    "duration": 14,
    "start_time": "2021-09-30T09:29:34.087Z"
   }
  ],
  "kernelspec": {
   "display_name": "Python 3",
   "language": "python",
   "name": "python3"
  },
  "language_info": {
   "codemirror_mode": {
    "name": "ipython",
    "version": 3
   },
   "file_extension": ".py",
   "mimetype": "text/x-python",
   "name": "python",
   "nbconvert_exporter": "python",
   "pygments_lexer": "ipython3",
   "version": "3.7.8"
  },
  "toc": {
   "base_numbering": 1,
   "nav_menu": {},
   "number_sections": true,
   "sideBar": true,
   "skip_h1_title": true,
   "title_cell": "Table of Contents",
   "title_sidebar": "Contents",
   "toc_cell": false,
   "toc_position": {
    "height": "calc(100% - 180px)",
    "left": "10px",
    "top": "150px",
    "width": "323.6px"
   },
   "toc_section_display": true,
   "toc_window_display": true
  }
 },
 "nbformat": 4,
 "nbformat_minor": 2
}
