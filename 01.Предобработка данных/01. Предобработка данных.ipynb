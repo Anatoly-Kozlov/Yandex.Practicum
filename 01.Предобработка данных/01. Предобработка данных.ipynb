{
 "cells": [
  {
   "cell_type": "markdown",
   "metadata": {},
   "source": [
    "# Исследование надёжности заёмщиков\n",
    "\n",
    "Заказчик — кредитный отдел банка. Нужно разобраться, влияет ли семейное положение и количество детей клиента на факт погашения кредита в срок. Входные данные от банка — статистика о платёжеспособности клиентов.\n",
    "\n",
    "Результаты исследования будут учтены при построении модели **кредитного скоринга** — специальной системы, которая оценивает способность потенциального заёмщика вернуть кредит банку."
   ]
  },
  {
   "cell_type": "markdown",
   "metadata": {},
   "source": [
    "## Откроим файл с данными и изучим общую информацию"
   ]
  },
  {
   "cell_type": "code",
   "execution_count": null,
   "metadata": {},
   "outputs": [],
   "source": [
    "import pandas as pd\n",
    "from pymystem3 import Mystem\n",
    "from collections import Counter"
   ]
  },
  {
   "cell_type": "code",
   "execution_count": 18,
   "metadata": {
    "scrolled": true
   },
   "outputs": [
    {
     "name": "stdout",
     "output_type": "stream",
     "text": [
      "<class 'pandas.core.frame.DataFrame'>\n",
      "RangeIndex: 21525 entries, 0 to 21524\n",
      "Data columns (total 12 columns):\n",
      "children            21525 non-null int64\n",
      "days_employed       19351 non-null float64\n",
      "dob_years           21525 non-null int64\n",
      "education           21525 non-null object\n",
      "education_id        21525 non-null int64\n",
      "family_status       21525 non-null object\n",
      "family_status_id    21525 non-null int64\n",
      "gender              21525 non-null object\n",
      "income_type         21525 non-null object\n",
      "debt                21525 non-null int64\n",
      "total_income        19351 non-null float64\n",
      "purpose             21525 non-null object\n",
      "dtypes: float64(2), int64(5), object(5)\n",
      "memory usage: 2.0+ MB\n",
      "None\n"
     ]
    }
   ],
   "source": [
    "data = pd.read_csv('/datasets/data.csv')\n",
    "print(data.info())"
   ]
  },
  {
   "cell_type": "markdown",
   "metadata": {},
   "source": [
    "**Вывод**\n",
    "Столбцы days_employed и total_income имеют пропуски, причем в одинаковом количестве."
   ]
  },
  {
   "cell_type": "code",
   "execution_count": 19,
   "metadata": {
    "scrolled": false
   },
   "outputs": [
    {
     "name": "stdout",
     "output_type": "stream",
     "text": [
      "           children  days_employed     dob_years  education_id  \\\n",
      "count  21525.000000   19351.000000  21525.000000  21525.000000   \n",
      "mean       0.538908   63046.497661     43.293380      0.817236   \n",
      "std        1.381587  140827.311974     12.574584      0.548138   \n",
      "min       -1.000000  -18388.949901      0.000000      0.000000   \n",
      "25%        0.000000   -2747.423625     33.000000      1.000000   \n",
      "50%        0.000000   -1203.369529     42.000000      1.000000   \n",
      "75%        1.000000    -291.095954     53.000000      1.000000   \n",
      "max       20.000000  401755.400475     75.000000      4.000000   \n",
      "\n",
      "       family_status_id          debt  total_income  \n",
      "count      21525.000000  21525.000000  1.935100e+04  \n",
      "mean           0.972544      0.080883  1.674223e+05  \n",
      "std            1.420324      0.272661  1.029716e+05  \n",
      "min            0.000000      0.000000  2.066726e+04  \n",
      "25%            0.000000      0.000000  1.030532e+05  \n",
      "50%            0.000000      0.000000  1.450179e+05  \n",
      "75%            1.000000      0.000000  2.034351e+05  \n",
      "max            4.000000      1.000000  2.265604e+06  \n"
     ]
    }
   ],
   "source": [
    "print(data.describe())"
   ]
  },
  {
   "cell_type": "markdown",
   "metadata": {},
   "source": [
    "## Предобработка данных"
   ]
  },
  {
   "cell_type": "markdown",
   "metadata": {},
   "source": [
    "### Обработка пропусков"
   ]
  },
  {
   "cell_type": "markdown",
   "metadata": {},
   "source": [
    "Пропуски по зарплате заполнены на основании среднего по профессии.\n",
    "Пропуски в общем трудовом стаже решил заполнить нулями, потому что эта колонка не участвует в дальнейшем анализе."
   ]
  },
  {
   "cell_type": "code",
   "execution_count": 20,
   "metadata": {
    "scrolled": true
   },
   "outputs": [],
   "source": [
    "data['total_income'] = data.groupby('income_type')['total_income'].apply(lambda x:x.fillna(x.mean()))\n",
    "data['days_employed'] = data['days_employed'].fillna(0)"
   ]
  },
  {
   "cell_type": "markdown",
   "metadata": {},
   "source": [
    "### Замена типа данных"
   ]
  },
  {
   "cell_type": "code",
   "execution_count": 21,
   "metadata": {
    "scrolled": true
   },
   "outputs": [],
   "source": [
    "data['days_employed'] = data['days_employed'].astype('int')\n",
    "data['total_income'] = data['total_income'].astype('int')"
   ]
  },
  {
   "cell_type": "markdown",
   "metadata": {},
   "source": [
    "**Вывод**\n",
    "Заменен вещественный тип данных на целочисленный методом astype()"
   ]
  },
  {
   "cell_type": "markdown",
   "metadata": {},
   "source": [
    "### Обработка дубликатов"
   ]
  },
  {
   "cell_type": "code",
   "execution_count": 22,
   "metadata": {
    "scrolled": false
   },
   "outputs": [
    {
     "name": "stdout",
     "output_type": "stream",
     "text": [
      "71\n"
     ]
    }
   ],
   "source": [
    "data['education'] = data['education'].str.lower()\n",
    "data['family_status'] = data['family_status'].str.lower()\n",
    "data['children'] = data['children'].abs()\n",
    "data['days_employed'] = data['days_employed'].abs()\n",
    "print(data.duplicated().sum()) "
   ]
  },
  {
   "cell_type": "markdown",
   "metadata": {},
   "source": [
    "**Вывод** В количественных столбцах children и days_employed убраны минусы методом abs(). Текст изменен на строчный в столбцах education и family_status методом lower()"
   ]
  },
  {
   "cell_type": "markdown",
   "metadata": {},
   "source": [
    "Обнаружены дубликаты строк, удаляем их методом drop_duplicates()"
   ]
  },
  {
   "cell_type": "code",
   "execution_count": 23,
   "metadata": {
    "scrolled": true
   },
   "outputs": [
    {
     "name": "stdout",
     "output_type": "stream",
     "text": [
      "0\n"
     ]
    }
   ],
   "source": [
    "data = data.drop_duplicates().reset_index(drop = True)\n",
    "print(data.duplicated().sum()) "
   ]
  },
  {
   "cell_type": "markdown",
   "metadata": {},
   "source": [
    "### Лемматизация"
   ]
  },
  {
   "cell_type": "markdown",
   "metadata": {},
   "source": [
    "Определение характерных лемм в форулировках целей кредитования"
   ]
  },
  {
   "cell_type": "code",
   "execution_count": 24,
   "metadata": {
    "scrolled": true
   },
   "outputs": [
    {
     "name": "stdout",
     "output_type": "stream",
     "text": [
      "Counter({' ': 55023, 'недвижимость': 6351, 'покупка': 5897, 'жилье': 4460, 'автомобиль': 4306, 'образование': 4013, 'с': 2918, 'операция': 2604, 'свадьба': 2324, 'свой': 2230, 'на': 2222, 'строительство': 1878, 'высокий': 1374, 'получение': 1314, 'коммерческий': 1311, 'для': 1289, 'жилой': 1230, 'сделка': 941, 'дополнительный': 906, 'заниматься': 904, 'подержать': 853, 'проведение': 768, 'сыграть': 765, 'сдача': 651, 'семья': 638, 'собственный': 635, 'со': 627, 'ремонт': 607, 'приобретение': 461, 'профильный': 436, 'подержанный': 111, ' \\n': 1})\n"
     ]
    }
   ],
   "source": [
    "m = Mystem()\n",
    "\n",
    "purpose =''\n",
    "for row in data['purpose']:\n",
    "    purpose += str(row)\n",
    "    purpose += \" \"\n",
    "lemmas = m.lemmatize(purpose)\n",
    "\n",
    "print(Counter(lemmas))"
   ]
  },
  {
   "cell_type": "markdown",
   "metadata": {},
   "source": [
    "Добавляем новый столбец purpose_type с унификацией целей кредитования"
   ]
  },
  {
   "cell_type": "code",
   "execution_count": 25,
   "metadata": {
    "scrolled": false
   },
   "outputs": [
    {
     "name": "stdout",
     "output_type": "stream",
     "text": [
      "                      purpose  purpose_type\n",
      "0               покупка жилья  недвижимость\n",
      "1     приобретение автомобиля    автомобиль\n",
      "2               покупка жилья  недвижимость\n",
      "3  дополнительное образование   образование\n",
      "4             сыграть свадьбу       свадьба\n",
      "5               покупка жилья  недвижимость\n",
      "6           операции с жильем  недвижимость\n",
      "7                 образование   образование\n",
      "8       на проведение свадьбы       свадьба\n",
      "9     покупка жилья для семьи  недвижимость\n"
     ]
    }
   ],
   "source": [
    "\n",
    "def get_purpose_type(data_purpose):\n",
    "    purpose_lemma = m.lemmatize(data_purpose)\n",
    "    if  ('недвижимость' in purpose_lemma) or ('жилье' in purpose_lemma):\n",
    "        return  'недвижимость'\n",
    "    if  'автомобиль' in purpose_lemma:\n",
    "        return  'автомобиль'\n",
    "    if  'образование' in purpose_lemma:\n",
    "        return  'образование'\n",
    "    if  'свадьба' in purpose_lemma:\n",
    "        return  'свадьба'\n",
    "    return 'прочее'\n",
    "data['purpose_type'] = data['purpose'].apply(get_purpose_type)\n",
    "print(data[['purpose','purpose_type']].head(10))\n",
    "    "
   ]
  },
  {
   "cell_type": "markdown",
   "metadata": {},
   "source": [
    "Проверяем что у нас осталось в \"прочих\" целях "
   ]
  },
  {
   "cell_type": "code",
   "execution_count": 26,
   "metadata": {
    "scrolled": true
   },
   "outputs": [
    {
     "name": "stdout",
     "output_type": "stream",
     "text": [
      "Empty DataFrame\n",
      "Columns: [children, days_employed, dob_years, education, education_id, family_status, family_status_id, gender, income_type, debt, total_income, purpose, purpose_type]\n",
      "Index: []\n"
     ]
    }
   ],
   "source": [
    "print(data.loc[data['purpose_type'] == 'прочее'])"
   ]
  },
  {
   "cell_type": "markdown",
   "metadata": {},
   "source": [
    "**Вывод**\n",
    "Создана колонка 'purpose_type' с классификацией целей кредитования по следующими видами:\n",
    " 'недвижимость'\n",
    " 'автомобиль'\n",
    " 'образование'\n",
    " 'свадьба'"
   ]
  },
  {
   "cell_type": "markdown",
   "metadata": {},
   "source": [
    "### Категоризация данных"
   ]
  },
  {
   "cell_type": "markdown",
   "metadata": {},
   "source": [
    "Создаем словарь education_dict"
   ]
  },
  {
   "cell_type": "code",
   "execution_count": 27,
   "metadata": {
    "scrolled": true
   },
   "outputs": [
    {
     "name": "stdout",
     "output_type": "stream",
     "text": [
      "             education  education_id\n",
      "0               высшее             0\n",
      "1              среднее             1\n",
      "2  неоконченное высшее             2\n",
      "3            начальное             3\n",
      "4       ученая степень             4\n"
     ]
    }
   ],
   "source": [
    "education_dict = data[['education','education_id']]\n",
    "education_dict = education_dict.drop_duplicates().reset_index(drop = True)\n",
    "print(education_dict)"
   ]
  },
  {
   "cell_type": "markdown",
   "metadata": {},
   "source": [
    "Создаем словарь family_status_dict"
   ]
  },
  {
   "cell_type": "code",
   "execution_count": 28,
   "metadata": {
    "scrolled": true
   },
   "outputs": [
    {
     "name": "stdout",
     "output_type": "stream",
     "text": [
      "           family_status  family_status_id\n",
      "0        женат / замужем                 0\n",
      "1       гражданский брак                 1\n",
      "2         вдовец / вдова                 2\n",
      "3              в разводе                 3\n",
      "4  не женат / не замужем                 4\n"
     ]
    }
   ],
   "source": [
    "family_status_dict = data[['family_status','family_status_id']]\n",
    "family_status_dict = family_status_dict.drop_duplicates().reset_index(drop = True)\n",
    "print(family_status_dict)"
   ]
  },
  {
   "cell_type": "markdown",
   "metadata": {},
   "source": [
    "**Вывод**\n",
    "Созданы словари для колонок family_status и education"
   ]
  },
  {
   "cell_type": "markdown",
   "metadata": {},
   "source": [
    "## Ответим на вопросы"
   ]
  },
  {
   "cell_type": "markdown",
   "metadata": {},
   "source": [
    "- Есть ли зависимость между наличием детей и возвратом кредита в срок?"
   ]
  },
  {
   "cell_type": "code",
   "execution_count": 29,
   "metadata": {
    "scrolled": true
   },
   "outputs": [
    {
     "name": "stdout",
     "output_type": "stream",
     "text": [
      "Доля просроченных кредитов среди заемщиков имеющих детей: 9.2%\n",
      "Доля просроченных кредитов среди заемщиков не имеющих детей: 7.5%\n",
      "Кол-во заемщиков имеющих детей: 7363\n",
      "Кол-во заемщиков не имеющих детей: 14091\n"
     ]
    }
   ],
   "source": [
    "debt_with_children =  data.loc[data['children']>0]['debt'].sum() / data.loc[data['children']>0]['debt'].count()\n",
    "print(\"Доля просроченных кредитов среди заемщиков имеющих детей: {:.1%}\".format(debt_with_children))\n",
    "debt_without_children =  data.loc[data['children']==0]['debt'].sum() / data.loc[data['children']==0]['debt'].count()\n",
    "print(\"Доля просроченных кредитов среди заемщиков не имеющих детей: {:.1%}\".format(debt_without_children))\n",
    "print(\"Кол-во заемщиков имеющих детей:\",data.loc[data['children']>0]['children'].count())\n",
    "print(\"Кол-во заемщиков не имеющих детей:\",data.loc[data['children']==0]['children'].count())"
   ]
  },
  {
   "cell_type": "markdown",
   "metadata": {},
   "source": [
    "**Вывод**\n",
    "Доля просроченных кредитов среди заемщиков не имеющих детей на 1,7% ниже, чем у заемщиков имеющих детей. Зависимость имеется."
   ]
  },
  {
   "cell_type": "markdown",
   "metadata": {},
   "source": [
    "- Есть ли зависимость между семейным положением и возвратом кредита в срок?"
   ]
  },
  {
   "cell_type": "code",
   "execution_count": 30,
   "metadata": {
    "scrolled": true
   },
   "outputs": [
    {
     "name": "stdout",
     "output_type": "stream",
     "text": [
      "                       count  debt  dept_percent\n",
      "family_status                                   \n",
      "не женат / не замужем   2810   274      0.097509\n",
      "гражданский брак        4151   388      0.093471\n",
      "женат / замужем        12339   931      0.075452\n",
      "в разводе               1195    85      0.071130\n",
      "вдовец / вдова           959    63      0.065693\n"
     ]
    }
   ],
   "source": [
    "data_family_status = data.groupby(['family_status']).agg({'family_status':'count','debt':'sum'})\n",
    "data_family_status = data_family_status.rename(columns={'family_status': 'count'})\n",
    "data_family_status['dept_percent'] = data_family_status['debt']/data_family_status['count']\n",
    "print(data_family_status.sort_values(by = 'dept_percent', ascending = False))\n"
   ]
  },
  {
   "cell_type": "markdown",
   "metadata": {},
   "source": [
    "**Вывод**\n",
    "Зависимость есть. Чаще всего просрочку по кредиту допускают заемщики с семейным статусом \"не женат / не замужем\". Самые дисциплинированные заемщики с семейным статусом \"вдовец / вдова\"."
   ]
  },
  {
   "cell_type": "markdown",
   "metadata": {},
   "source": [
    "- Есть ли зависимость между уровнем дохода и возвратом кредита в срок?"
   ]
  },
  {
   "cell_type": "markdown",
   "metadata": {},
   "source": [
    "Разделяем уровень дохода на категории"
   ]
  },
  {
   "cell_type": "code",
   "execution_count": 31,
   "metadata": {
    "scrolled": true
   },
   "outputs": [
    {
     "name": "stdout",
     "output_type": "stream",
     "text": [
      "   total_income        total_income_type\n",
      "0        253875           более 200 тыс.\n",
      "1        112080  от 100 тыс. до 150 тыс.\n",
      "2        145885  от 100 тыс. до 150 тыс.\n",
      "3        267628           более 200 тыс.\n",
      "4        158616  от 150 тыс. до 200 тыс.\n"
     ]
    }
   ],
   "source": [
    "def get_total_income_type (total_income):\n",
    "    if total_income < 100000:\n",
    "        return 'менее 100 тыс.'\n",
    "    if total_income < 150000:\n",
    "        return 'от 100 тыс. до 150 тыс.'\n",
    "    if total_income < 200000:\n",
    "        return 'от 150 тыс. до 200 тыс.'\n",
    "    return 'более 200 тыс.'\n",
    "data['total_income_type'] = data['total_income'].apply(get_total_income_type)\n",
    "print(data[['total_income','total_income_type']].head())"
   ]
  },
  {
   "cell_type": "code",
   "execution_count": 32,
   "metadata": {
    "scrolled": true
   },
   "outputs": [
    {
     "name": "stdout",
     "output_type": "stream",
     "text": [
      "                         count  debt  dept_percent\n",
      "total_income_type                                 \n",
      "от 150 тыс. до 200 тыс.   5333   473      0.088693\n",
      "от 100 тыс. до 150 тыс.   6090   526      0.086371\n",
      "менее 100 тыс.            4463   354      0.079319\n",
      "более 200 тыс.            5568   388      0.069684\n"
     ]
    }
   ],
   "source": [
    "data_total_income = data.groupby(['total_income_type']).agg({'total_income':'count','debt':'sum'})\n",
    "data_total_income = data_total_income.rename(columns={'total_income': 'count'})\n",
    "data_total_income['dept_percent'] = data_total_income['debt']/data_total_income['count']\n",
    "print(data_total_income.sort_values(by = 'dept_percent', ascending = False))"
   ]
  },
  {
   "cell_type": "markdown",
   "metadata": {},
   "source": [
    "**Вывод**\n",
    "Зависимость присутствует. Просрочку по кредитам чаще допускают заемщики со средним достатком (от 100 тыс. до 200 тыс.). Наиболее ответственно к кредитам относятся заещики с доходом более 200 тыс."
   ]
  },
  {
   "cell_type": "code",
   "execution_count": 33,
   "metadata": {
    "scrolled": true
   },
   "outputs": [
    {
     "name": "stdout",
     "output_type": "stream",
     "text": [
      "0.25    107623.0\n",
      "0.50    151887.0\n",
      "0.75    202417.0\n",
      "Name: total_income, dtype: float64\n"
     ]
    }
   ],
   "source": [
    "print(data['total_income'].quantile([.25, .5,.75]))"
   ]
  },
  {
   "cell_type": "markdown",
   "metadata": {},
   "source": [
    "- Как разные цели кредита влияют на его возврат в срок?"
   ]
  },
  {
   "cell_type": "code",
   "execution_count": 34,
   "metadata": {
    "scrolled": true
   },
   "outputs": [
    {
     "name": "stdout",
     "output_type": "stream",
     "text": [
      "              count  debt  dept_percent\n",
      "purpose_type                           \n",
      "автомобиль     4306   403      0.093590\n",
      "образование    4013   370      0.092200\n",
      "свадьба        2324   186      0.080034\n",
      "недвижимость  10811   782      0.072334\n"
     ]
    }
   ],
   "source": [
    "data_purpose = data.groupby(['purpose_type']).agg({'purpose_type':'count','debt':'sum'})\n",
    "data_purpose = data_purpose.rename(columns={'purpose_type': 'count'})\n",
    "data_purpose['dept_percent'] = data_purpose['debt']/data_purpose['count']\n",
    "print(data_purpose.sort_values(by = 'dept_percent', ascending = False))"
   ]
  },
  {
   "cell_type": "markdown",
   "metadata": {},
   "source": [
    "**Вывод**\n",
    "Зависимость присутствует. Просрочку по кредиту чаще допускают заемщики, которые его взяли на автомобиль или образование."
   ]
  },
  {
   "cell_type": "markdown",
   "metadata": {},
   "source": [
    "## Общий вывод"
   ]
  },
  {
   "cell_type": "markdown",
   "metadata": {},
   "source": [
    "На риск невозврата в срок кредита влияют:\n",
    "- наличие детей (выще риск у имеющих детей)\n",
    "- семейное положение (выше риск у заемщиков со статусом \"не женат / не замужем\")\n",
    "- уровень дохода (выше риск у заемщиков со среднем доходом 100-200 тыс)\n",
    "- цель кредита (выше риск у заемщиков, которые берут кредит на покупку автомобиля или образование)"
   ]
  }
 ],
 "metadata": {
  "ExecuteTimeLog": [
   {
    "duration": 672,
    "start_time": "2022-02-04T13:29:02.681Z"
   },
   {
    "duration": 28,
    "start_time": "2022-02-04T13:29:03.355Z"
   },
   {
    "duration": 11,
    "start_time": "2022-02-04T13:29:03.385Z"
   },
   {
    "duration": 20,
    "start_time": "2022-02-04T13:29:03.398Z"
   },
   {
    "duration": 40,
    "start_time": "2022-02-04T13:29:03.420Z"
   },
   {
    "duration": 31,
    "start_time": "2022-02-04T13:29:03.462Z"
   },
   {
    "duration": 2529,
    "start_time": "2022-02-04T13:29:03.495Z"
   },
   {
    "duration": 3127,
    "start_time": "2022-02-04T13:29:06.027Z"
   },
   {
    "duration": 6,
    "start_time": "2022-02-04T13:29:09.156Z"
   },
   {
    "duration": 22,
    "start_time": "2022-02-04T13:29:09.164Z"
   },
   {
    "duration": 13,
    "start_time": "2022-02-04T13:29:09.188Z"
   },
   {
    "duration": 37,
    "start_time": "2022-02-04T13:29:09.203Z"
   },
   {
    "duration": 19,
    "start_time": "2022-02-04T13:29:09.241Z"
   },
   {
    "duration": 17,
    "start_time": "2022-02-04T13:29:09.261Z"
   },
   {
    "duration": 11,
    "start_time": "2022-02-04T13:29:09.280Z"
   },
   {
    "duration": 7,
    "start_time": "2022-02-04T13:29:09.318Z"
   },
   {
    "duration": 15,
    "start_time": "2022-02-04T13:29:09.327Z"
   },
   {
    "duration": 64,
    "start_time": "2022-02-04T13:29:25.836Z"
   },
   {
    "duration": 26,
    "start_time": "2022-02-04T13:29:25.902Z"
   },
   {
    "duration": 10,
    "start_time": "2022-02-04T13:29:25.930Z"
   },
   {
    "duration": 4,
    "start_time": "2022-02-04T13:29:25.942Z"
   },
   {
    "duration": 43,
    "start_time": "2022-02-04T13:29:25.948Z"
   },
   {
    "duration": 51,
    "start_time": "2022-02-04T13:29:25.993Z"
   },
   {
    "duration": 2654,
    "start_time": "2022-02-04T13:29:26.046Z"
   },
   {
    "duration": 3065,
    "start_time": "2022-02-04T13:29:28.703Z"
   },
   {
    "duration": 6,
    "start_time": "2022-02-04T13:29:31.771Z"
   },
   {
    "duration": 17,
    "start_time": "2022-02-04T13:29:31.779Z"
   },
   {
    "duration": 27,
    "start_time": "2022-02-04T13:29:31.798Z"
   },
   {
    "duration": 22,
    "start_time": "2022-02-04T13:29:31.827Z"
   },
   {
    "duration": 14,
    "start_time": "2022-02-04T13:29:31.851Z"
   },
   {
    "duration": 25,
    "start_time": "2022-02-04T13:29:31.867Z"
   },
   {
    "duration": 46,
    "start_time": "2022-02-04T13:29:31.894Z"
   },
   {
    "duration": 19,
    "start_time": "2022-02-04T13:29:31.942Z"
   },
   {
    "duration": 16,
    "start_time": "2022-02-04T13:29:31.963Z"
   }
  ],
  "kernelspec": {
   "display_name": "Python 3",
   "language": "python",
   "name": "python3"
  },
  "language_info": {
   "codemirror_mode": {
    "name": "ipython",
    "version": 3
   },
   "file_extension": ".py",
   "mimetype": "text/x-python",
   "name": "python",
   "nbconvert_exporter": "python",
   "pygments_lexer": "ipython3",
   "version": "3.7.10"
  },
  "toc": {
   "base_numbering": 1,
   "nav_menu": {},
   "number_sections": true,
   "sideBar": true,
   "skip_h1_title": true,
   "title_cell": "Table of Contents",
   "title_sidebar": "Contents",
   "toc_cell": false,
   "toc_position": {
    "height": "calc(100% - 180px)",
    "left": "10px",
    "top": "150px",
    "width": "353.6px"
   },
   "toc_section_display": true,
   "toc_window_display": true
  }
 },
 "nbformat": 4,
 "nbformat_minor": 2
}
