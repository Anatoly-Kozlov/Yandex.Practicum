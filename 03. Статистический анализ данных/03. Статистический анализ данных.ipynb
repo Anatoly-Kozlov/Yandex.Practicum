{
 "cells": [
  {
   "cell_type": "markdown",
   "metadata": {},
   "source": [
    "## Описание проекта\n",
    "Вы аналитик компании «Мегалайн» — федерального оператора сотовой связи. Клиентам предлагают два тарифных плана: «Смарт» и «Ультра». Чтобы скорректировать рекламный бюджет, коммерческий департамент хочет понять, какой тариф приносит больше денег.\n",
    "\n",
    "\n",
    "Вам предстоит сделать предварительный анализ тарифов на небольшой выборке клиентов. В вашем распоряжении данные 500 пользователей «Мегалайна»: кто они, откуда, каким тарифом пользуются, сколько звонков и сообщений каждый отправил за 2018 год. Нужно проанализировать поведение клиентов и сделать вывод — какой тариф лучше."
   ]
  },
  {
   "cell_type": "markdown",
   "metadata": {},
   "source": [
    "## Изучение данных из файла"
   ]
  },
  {
   "cell_type": "markdown",
   "metadata": {},
   "source": [
    "### Таблица users"
   ]
  },
  {
   "cell_type": "code",
   "execution_count": 65,
   "metadata": {
    "scrolled": true
   },
   "outputs": [
    {
     "name": "stdout",
     "output_type": "stream",
     "text": [
      "<class 'pandas.core.frame.DataFrame'>\n",
      "RangeIndex: 500 entries, 0 to 499\n",
      "Data columns (total 8 columns):\n",
      "user_id       500 non-null int64\n",
      "age           500 non-null int64\n",
      "churn_date    38 non-null object\n",
      "city          500 non-null object\n",
      "first_name    500 non-null object\n",
      "last_name     500 non-null object\n",
      "reg_date      500 non-null object\n",
      "tariff        500 non-null object\n",
      "dtypes: int64(2), object(6)\n",
      "memory usage: 31.4+ KB\n"
     ]
    }
   ],
   "source": [
    "import pandas as pd\n",
    "df_users = pd.read_csv('/datasets/users.csv')\n",
    "df_users.info()"
   ]
  },
  {
   "cell_type": "code",
   "execution_count": 66,
   "metadata": {},
   "outputs": [
    {
     "data": {
      "text/html": [
       "<div>\n",
       "<style scoped>\n",
       "    .dataframe tbody tr th:only-of-type {\n",
       "        vertical-align: middle;\n",
       "    }\n",
       "\n",
       "    .dataframe tbody tr th {\n",
       "        vertical-align: top;\n",
       "    }\n",
       "\n",
       "    .dataframe thead th {\n",
       "        text-align: right;\n",
       "    }\n",
       "</style>\n",
       "<table border=\"1\" class=\"dataframe\">\n",
       "  <thead>\n",
       "    <tr style=\"text-align: right;\">\n",
       "      <th></th>\n",
       "      <th>user_id</th>\n",
       "      <th>age</th>\n",
       "      <th>churn_date</th>\n",
       "      <th>city</th>\n",
       "      <th>first_name</th>\n",
       "      <th>last_name</th>\n",
       "      <th>reg_date</th>\n",
       "      <th>tariff</th>\n",
       "    </tr>\n",
       "  </thead>\n",
       "  <tbody>\n",
       "    <tr>\n",
       "      <td>0</td>\n",
       "      <td>1000</td>\n",
       "      <td>52</td>\n",
       "      <td>NaN</td>\n",
       "      <td>Краснодар</td>\n",
       "      <td>Рафаил</td>\n",
       "      <td>Верещагин</td>\n",
       "      <td>2018-05-25</td>\n",
       "      <td>ultra</td>\n",
       "    </tr>\n",
       "    <tr>\n",
       "      <td>1</td>\n",
       "      <td>1001</td>\n",
       "      <td>41</td>\n",
       "      <td>NaN</td>\n",
       "      <td>Москва</td>\n",
       "      <td>Иван</td>\n",
       "      <td>Ежов</td>\n",
       "      <td>2018-11-01</td>\n",
       "      <td>smart</td>\n",
       "    </tr>\n",
       "    <tr>\n",
       "      <td>2</td>\n",
       "      <td>1002</td>\n",
       "      <td>59</td>\n",
       "      <td>NaN</td>\n",
       "      <td>Стерлитамак</td>\n",
       "      <td>Евгений</td>\n",
       "      <td>Абрамович</td>\n",
       "      <td>2018-06-17</td>\n",
       "      <td>smart</td>\n",
       "    </tr>\n",
       "    <tr>\n",
       "      <td>3</td>\n",
       "      <td>1003</td>\n",
       "      <td>23</td>\n",
       "      <td>NaN</td>\n",
       "      <td>Москва</td>\n",
       "      <td>Белла</td>\n",
       "      <td>Белякова</td>\n",
       "      <td>2018-08-17</td>\n",
       "      <td>ultra</td>\n",
       "    </tr>\n",
       "    <tr>\n",
       "      <td>4</td>\n",
       "      <td>1004</td>\n",
       "      <td>68</td>\n",
       "      <td>NaN</td>\n",
       "      <td>Новокузнецк</td>\n",
       "      <td>Татьяна</td>\n",
       "      <td>Авдеенко</td>\n",
       "      <td>2018-05-14</td>\n",
       "      <td>ultra</td>\n",
       "    </tr>\n",
       "  </tbody>\n",
       "</table>\n",
       "</div>"
      ],
      "text/plain": [
       "   user_id  age churn_date         city first_name  last_name    reg_date  \\\n",
       "0     1000   52        NaN    Краснодар     Рафаил  Верещагин  2018-05-25   \n",
       "1     1001   41        NaN       Москва       Иван       Ежов  2018-11-01   \n",
       "2     1002   59        NaN  Стерлитамак    Евгений  Абрамович  2018-06-17   \n",
       "3     1003   23        NaN       Москва      Белла   Белякова  2018-08-17   \n",
       "4     1004   68        NaN  Новокузнецк    Татьяна   Авдеенко  2018-05-14   \n",
       "\n",
       "  tariff  \n",
       "0  ultra  \n",
       "1  smart  \n",
       "2  smart  \n",
       "3  ultra  \n",
       "4  ultra  "
      ]
     },
     "execution_count": 66,
     "metadata": {},
     "output_type": "execute_result"
    }
   ],
   "source": [
    "df_users.head()"
   ]
  },
  {
   "cell_type": "code",
   "execution_count": 67,
   "metadata": {
    "scrolled": true
   },
   "outputs": [
    {
     "data": {
      "text/html": [
       "<div>\n",
       "<style scoped>\n",
       "    .dataframe tbody tr th:only-of-type {\n",
       "        vertical-align: middle;\n",
       "    }\n",
       "\n",
       "    .dataframe tbody tr th {\n",
       "        vertical-align: top;\n",
       "    }\n",
       "\n",
       "    .dataframe thead th {\n",
       "        text-align: right;\n",
       "    }\n",
       "</style>\n",
       "<table border=\"1\" class=\"dataframe\">\n",
       "  <thead>\n",
       "    <tr style=\"text-align: right;\">\n",
       "      <th></th>\n",
       "      <th>user_id</th>\n",
       "      <th>age</th>\n",
       "    </tr>\n",
       "  </thead>\n",
       "  <tbody>\n",
       "    <tr>\n",
       "      <td>count</td>\n",
       "      <td>500.000000</td>\n",
       "      <td>500.00000</td>\n",
       "    </tr>\n",
       "    <tr>\n",
       "      <td>mean</td>\n",
       "      <td>1249.500000</td>\n",
       "      <td>46.58800</td>\n",
       "    </tr>\n",
       "    <tr>\n",
       "      <td>std</td>\n",
       "      <td>144.481833</td>\n",
       "      <td>16.66763</td>\n",
       "    </tr>\n",
       "    <tr>\n",
       "      <td>min</td>\n",
       "      <td>1000.000000</td>\n",
       "      <td>18.00000</td>\n",
       "    </tr>\n",
       "    <tr>\n",
       "      <td>25%</td>\n",
       "      <td>1124.750000</td>\n",
       "      <td>32.00000</td>\n",
       "    </tr>\n",
       "    <tr>\n",
       "      <td>50%</td>\n",
       "      <td>1249.500000</td>\n",
       "      <td>46.00000</td>\n",
       "    </tr>\n",
       "    <tr>\n",
       "      <td>75%</td>\n",
       "      <td>1374.250000</td>\n",
       "      <td>62.00000</td>\n",
       "    </tr>\n",
       "    <tr>\n",
       "      <td>max</td>\n",
       "      <td>1499.000000</td>\n",
       "      <td>75.00000</td>\n",
       "    </tr>\n",
       "  </tbody>\n",
       "</table>\n",
       "</div>"
      ],
      "text/plain": [
       "           user_id        age\n",
       "count   500.000000  500.00000\n",
       "mean   1249.500000   46.58800\n",
       "std     144.481833   16.66763\n",
       "min    1000.000000   18.00000\n",
       "25%    1124.750000   32.00000\n",
       "50%    1249.500000   46.00000\n",
       "75%    1374.250000   62.00000\n",
       "max    1499.000000   75.00000"
      ]
     },
     "execution_count": 67,
     "metadata": {},
     "output_type": "execute_result"
    }
   ],
   "source": [
    "df_users.describe()"
   ]
  },
  {
   "cell_type": "markdown",
   "metadata": {},
   "source": [
    "Пустые ячейки только в столбце churn_date, но это нормально, т.к. означает, что тариф еще действует на момент выгрузки.\n",
    "\n",
    "\n",
    "При необходимости можно перевести столбцы churn_date и reg_date в формат даты"
   ]
  },
  {
   "cell_type": "markdown",
   "metadata": {},
   "source": [
    "### Таблица calls"
   ]
  },
  {
   "cell_type": "code",
   "execution_count": 68,
   "metadata": {},
   "outputs": [
    {
     "name": "stdout",
     "output_type": "stream",
     "text": [
      "<class 'pandas.core.frame.DataFrame'>\n",
      "RangeIndex: 202607 entries, 0 to 202606\n",
      "Data columns (total 4 columns):\n",
      "id           202607 non-null object\n",
      "call_date    202607 non-null object\n",
      "duration     202607 non-null float64\n",
      "user_id      202607 non-null int64\n",
      "dtypes: float64(1), int64(1), object(2)\n",
      "memory usage: 6.2+ MB\n"
     ]
    }
   ],
   "source": [
    "df_calls = pd.read_csv('/datasets/calls.csv')\n",
    "df_calls.info()"
   ]
  },
  {
   "cell_type": "code",
   "execution_count": 69,
   "metadata": {},
   "outputs": [
    {
     "data": {
      "text/html": [
       "<div>\n",
       "<style scoped>\n",
       "    .dataframe tbody tr th:only-of-type {\n",
       "        vertical-align: middle;\n",
       "    }\n",
       "\n",
       "    .dataframe tbody tr th {\n",
       "        vertical-align: top;\n",
       "    }\n",
       "\n",
       "    .dataframe thead th {\n",
       "        text-align: right;\n",
       "    }\n",
       "</style>\n",
       "<table border=\"1\" class=\"dataframe\">\n",
       "  <thead>\n",
       "    <tr style=\"text-align: right;\">\n",
       "      <th></th>\n",
       "      <th>id</th>\n",
       "      <th>call_date</th>\n",
       "      <th>duration</th>\n",
       "      <th>user_id</th>\n",
       "    </tr>\n",
       "  </thead>\n",
       "  <tbody>\n",
       "    <tr>\n",
       "      <td>0</td>\n",
       "      <td>1000_0</td>\n",
       "      <td>2018-07-25</td>\n",
       "      <td>0.00</td>\n",
       "      <td>1000</td>\n",
       "    </tr>\n",
       "    <tr>\n",
       "      <td>1</td>\n",
       "      <td>1000_1</td>\n",
       "      <td>2018-08-17</td>\n",
       "      <td>0.00</td>\n",
       "      <td>1000</td>\n",
       "    </tr>\n",
       "    <tr>\n",
       "      <td>2</td>\n",
       "      <td>1000_2</td>\n",
       "      <td>2018-06-11</td>\n",
       "      <td>2.85</td>\n",
       "      <td>1000</td>\n",
       "    </tr>\n",
       "    <tr>\n",
       "      <td>3</td>\n",
       "      <td>1000_3</td>\n",
       "      <td>2018-09-21</td>\n",
       "      <td>13.80</td>\n",
       "      <td>1000</td>\n",
       "    </tr>\n",
       "    <tr>\n",
       "      <td>4</td>\n",
       "      <td>1000_4</td>\n",
       "      <td>2018-12-15</td>\n",
       "      <td>5.18</td>\n",
       "      <td>1000</td>\n",
       "    </tr>\n",
       "  </tbody>\n",
       "</table>\n",
       "</div>"
      ],
      "text/plain": [
       "       id   call_date  duration  user_id\n",
       "0  1000_0  2018-07-25      0.00     1000\n",
       "1  1000_1  2018-08-17      0.00     1000\n",
       "2  1000_2  2018-06-11      2.85     1000\n",
       "3  1000_3  2018-09-21     13.80     1000\n",
       "4  1000_4  2018-12-15      5.18     1000"
      ]
     },
     "execution_count": 69,
     "metadata": {},
     "output_type": "execute_result"
    }
   ],
   "source": [
    "df_calls.head()"
   ]
  },
  {
   "cell_type": "code",
   "execution_count": 70,
   "metadata": {
    "scrolled": true
   },
   "outputs": [
    {
     "data": {
      "text/html": [
       "<div>\n",
       "<style scoped>\n",
       "    .dataframe tbody tr th:only-of-type {\n",
       "        vertical-align: middle;\n",
       "    }\n",
       "\n",
       "    .dataframe tbody tr th {\n",
       "        vertical-align: top;\n",
       "    }\n",
       "\n",
       "    .dataframe thead th {\n",
       "        text-align: right;\n",
       "    }\n",
       "</style>\n",
       "<table border=\"1\" class=\"dataframe\">\n",
       "  <thead>\n",
       "    <tr style=\"text-align: right;\">\n",
       "      <th></th>\n",
       "      <th>duration</th>\n",
       "      <th>user_id</th>\n",
       "    </tr>\n",
       "  </thead>\n",
       "  <tbody>\n",
       "    <tr>\n",
       "      <td>count</td>\n",
       "      <td>202607.000000</td>\n",
       "      <td>202607.000000</td>\n",
       "    </tr>\n",
       "    <tr>\n",
       "      <td>mean</td>\n",
       "      <td>6.755887</td>\n",
       "      <td>1253.940619</td>\n",
       "    </tr>\n",
       "    <tr>\n",
       "      <td>std</td>\n",
       "      <td>5.843365</td>\n",
       "      <td>144.722751</td>\n",
       "    </tr>\n",
       "    <tr>\n",
       "      <td>min</td>\n",
       "      <td>0.000000</td>\n",
       "      <td>1000.000000</td>\n",
       "    </tr>\n",
       "    <tr>\n",
       "      <td>25%</td>\n",
       "      <td>1.300000</td>\n",
       "      <td>1126.000000</td>\n",
       "    </tr>\n",
       "    <tr>\n",
       "      <td>50%</td>\n",
       "      <td>6.000000</td>\n",
       "      <td>1260.000000</td>\n",
       "    </tr>\n",
       "    <tr>\n",
       "      <td>75%</td>\n",
       "      <td>10.700000</td>\n",
       "      <td>1379.000000</td>\n",
       "    </tr>\n",
       "    <tr>\n",
       "      <td>max</td>\n",
       "      <td>38.000000</td>\n",
       "      <td>1499.000000</td>\n",
       "    </tr>\n",
       "  </tbody>\n",
       "</table>\n",
       "</div>"
      ],
      "text/plain": [
       "            duration        user_id\n",
       "count  202607.000000  202607.000000\n",
       "mean        6.755887    1253.940619\n",
       "std         5.843365     144.722751\n",
       "min         0.000000    1000.000000\n",
       "25%         1.300000    1126.000000\n",
       "50%         6.000000    1260.000000\n",
       "75%        10.700000    1379.000000\n",
       "max        38.000000    1499.000000"
      ]
     },
     "execution_count": 70,
     "metadata": {},
     "output_type": "execute_result"
    }
   ],
   "source": [
    "df_calls.describe()"
   ]
  },
  {
   "cell_type": "markdown",
   "metadata": {},
   "source": [
    "Пустых значений нет.\n",
    "\n",
    "call_date можно перевести в формат даты.\n",
    "\n",
    "duration округлить до целых значений и подумать что делать с нулевыми значениями"
   ]
  },
  {
   "cell_type": "markdown",
   "metadata": {},
   "source": [
    "### Таблица messages (информация о сообщениях)"
   ]
  },
  {
   "cell_type": "code",
   "execution_count": 71,
   "metadata": {},
   "outputs": [
    {
     "name": "stdout",
     "output_type": "stream",
     "text": [
      "<class 'pandas.core.frame.DataFrame'>\n",
      "RangeIndex: 123036 entries, 0 to 123035\n",
      "Data columns (total 3 columns):\n",
      "id              123036 non-null object\n",
      "message_date    123036 non-null object\n",
      "user_id         123036 non-null int64\n",
      "dtypes: int64(1), object(2)\n",
      "memory usage: 2.8+ MB\n"
     ]
    }
   ],
   "source": [
    "df_messages = pd.read_csv('/datasets/messages.csv')\n",
    "df_messages.info()"
   ]
  },
  {
   "cell_type": "code",
   "execution_count": 72,
   "metadata": {
    "scrolled": true
   },
   "outputs": [
    {
     "data": {
      "text/html": [
       "<div>\n",
       "<style scoped>\n",
       "    .dataframe tbody tr th:only-of-type {\n",
       "        vertical-align: middle;\n",
       "    }\n",
       "\n",
       "    .dataframe tbody tr th {\n",
       "        vertical-align: top;\n",
       "    }\n",
       "\n",
       "    .dataframe thead th {\n",
       "        text-align: right;\n",
       "    }\n",
       "</style>\n",
       "<table border=\"1\" class=\"dataframe\">\n",
       "  <thead>\n",
       "    <tr style=\"text-align: right;\">\n",
       "      <th></th>\n",
       "      <th>id</th>\n",
       "      <th>message_date</th>\n",
       "      <th>user_id</th>\n",
       "    </tr>\n",
       "  </thead>\n",
       "  <tbody>\n",
       "    <tr>\n",
       "      <td>0</td>\n",
       "      <td>1000_0</td>\n",
       "      <td>2018-06-27</td>\n",
       "      <td>1000</td>\n",
       "    </tr>\n",
       "    <tr>\n",
       "      <td>1</td>\n",
       "      <td>1000_1</td>\n",
       "      <td>2018-10-08</td>\n",
       "      <td>1000</td>\n",
       "    </tr>\n",
       "    <tr>\n",
       "      <td>2</td>\n",
       "      <td>1000_2</td>\n",
       "      <td>2018-08-04</td>\n",
       "      <td>1000</td>\n",
       "    </tr>\n",
       "    <tr>\n",
       "      <td>3</td>\n",
       "      <td>1000_3</td>\n",
       "      <td>2018-06-16</td>\n",
       "      <td>1000</td>\n",
       "    </tr>\n",
       "    <tr>\n",
       "      <td>4</td>\n",
       "      <td>1000_4</td>\n",
       "      <td>2018-12-05</td>\n",
       "      <td>1000</td>\n",
       "    </tr>\n",
       "  </tbody>\n",
       "</table>\n",
       "</div>"
      ],
      "text/plain": [
       "       id message_date  user_id\n",
       "0  1000_0   2018-06-27     1000\n",
       "1  1000_1   2018-10-08     1000\n",
       "2  1000_2   2018-08-04     1000\n",
       "3  1000_3   2018-06-16     1000\n",
       "4  1000_4   2018-12-05     1000"
      ]
     },
     "execution_count": 72,
     "metadata": {},
     "output_type": "execute_result"
    }
   ],
   "source": [
    "df_messages.head()"
   ]
  },
  {
   "cell_type": "markdown",
   "metadata": {},
   "source": [
    "Пустых значений нет.\n",
    "\n",
    "message_date можно перевести в формат даты."
   ]
  },
  {
   "cell_type": "markdown",
   "metadata": {},
   "source": [
    "### Таблица internet (информация об интернет-сессиях)"
   ]
  },
  {
   "cell_type": "code",
   "execution_count": 73,
   "metadata": {},
   "outputs": [
    {
     "name": "stdout",
     "output_type": "stream",
     "text": [
      "<class 'pandas.core.frame.DataFrame'>\n",
      "RangeIndex: 149396 entries, 0 to 149395\n",
      "Data columns (total 5 columns):\n",
      "Unnamed: 0      149396 non-null int64\n",
      "id              149396 non-null object\n",
      "mb_used         149396 non-null float64\n",
      "session_date    149396 non-null object\n",
      "user_id         149396 non-null int64\n",
      "dtypes: float64(1), int64(2), object(2)\n",
      "memory usage: 5.7+ MB\n"
     ]
    }
   ],
   "source": [
    "df_internet = pd.read_csv('/datasets/internet.csv')\n",
    "df_internet.info()"
   ]
  },
  {
   "cell_type": "code",
   "execution_count": 74,
   "metadata": {},
   "outputs": [
    {
     "data": {
      "text/html": [
       "<div>\n",
       "<style scoped>\n",
       "    .dataframe tbody tr th:only-of-type {\n",
       "        vertical-align: middle;\n",
       "    }\n",
       "\n",
       "    .dataframe tbody tr th {\n",
       "        vertical-align: top;\n",
       "    }\n",
       "\n",
       "    .dataframe thead th {\n",
       "        text-align: right;\n",
       "    }\n",
       "</style>\n",
       "<table border=\"1\" class=\"dataframe\">\n",
       "  <thead>\n",
       "    <tr style=\"text-align: right;\">\n",
       "      <th></th>\n",
       "      <th>Unnamed: 0</th>\n",
       "      <th>id</th>\n",
       "      <th>mb_used</th>\n",
       "      <th>session_date</th>\n",
       "      <th>user_id</th>\n",
       "    </tr>\n",
       "  </thead>\n",
       "  <tbody>\n",
       "    <tr>\n",
       "      <td>0</td>\n",
       "      <td>0</td>\n",
       "      <td>1000_0</td>\n",
       "      <td>112.95</td>\n",
       "      <td>2018-11-25</td>\n",
       "      <td>1000</td>\n",
       "    </tr>\n",
       "    <tr>\n",
       "      <td>1</td>\n",
       "      <td>1</td>\n",
       "      <td>1000_1</td>\n",
       "      <td>1052.81</td>\n",
       "      <td>2018-09-07</td>\n",
       "      <td>1000</td>\n",
       "    </tr>\n",
       "    <tr>\n",
       "      <td>2</td>\n",
       "      <td>2</td>\n",
       "      <td>1000_2</td>\n",
       "      <td>1197.26</td>\n",
       "      <td>2018-06-25</td>\n",
       "      <td>1000</td>\n",
       "    </tr>\n",
       "    <tr>\n",
       "      <td>3</td>\n",
       "      <td>3</td>\n",
       "      <td>1000_3</td>\n",
       "      <td>550.27</td>\n",
       "      <td>2018-08-22</td>\n",
       "      <td>1000</td>\n",
       "    </tr>\n",
       "    <tr>\n",
       "      <td>4</td>\n",
       "      <td>4</td>\n",
       "      <td>1000_4</td>\n",
       "      <td>302.56</td>\n",
       "      <td>2018-09-24</td>\n",
       "      <td>1000</td>\n",
       "    </tr>\n",
       "    <tr>\n",
       "      <td>5</td>\n",
       "      <td>5</td>\n",
       "      <td>1000_5</td>\n",
       "      <td>399.97</td>\n",
       "      <td>2018-10-02</td>\n",
       "      <td>1000</td>\n",
       "    </tr>\n",
       "    <tr>\n",
       "      <td>6</td>\n",
       "      <td>6</td>\n",
       "      <td>1000_6</td>\n",
       "      <td>540.08</td>\n",
       "      <td>2018-09-07</td>\n",
       "      <td>1000</td>\n",
       "    </tr>\n",
       "    <tr>\n",
       "      <td>7</td>\n",
       "      <td>7</td>\n",
       "      <td>1000_7</td>\n",
       "      <td>415.70</td>\n",
       "      <td>2018-07-11</td>\n",
       "      <td>1000</td>\n",
       "    </tr>\n",
       "    <tr>\n",
       "      <td>8</td>\n",
       "      <td>8</td>\n",
       "      <td>1000_8</td>\n",
       "      <td>505.40</td>\n",
       "      <td>2018-10-08</td>\n",
       "      <td>1000</td>\n",
       "    </tr>\n",
       "    <tr>\n",
       "      <td>9</td>\n",
       "      <td>9</td>\n",
       "      <td>1000_9</td>\n",
       "      <td>345.54</td>\n",
       "      <td>2018-09-03</td>\n",
       "      <td>1000</td>\n",
       "    </tr>\n",
       "  </tbody>\n",
       "</table>\n",
       "</div>"
      ],
      "text/plain": [
       "   Unnamed: 0      id  mb_used session_date  user_id\n",
       "0           0  1000_0   112.95   2018-11-25     1000\n",
       "1           1  1000_1  1052.81   2018-09-07     1000\n",
       "2           2  1000_2  1197.26   2018-06-25     1000\n",
       "3           3  1000_3   550.27   2018-08-22     1000\n",
       "4           4  1000_4   302.56   2018-09-24     1000\n",
       "5           5  1000_5   399.97   2018-10-02     1000\n",
       "6           6  1000_6   540.08   2018-09-07     1000\n",
       "7           7  1000_7   415.70   2018-07-11     1000\n",
       "8           8  1000_8   505.40   2018-10-08     1000\n",
       "9           9  1000_9   345.54   2018-09-03     1000"
      ]
     },
     "execution_count": 74,
     "metadata": {},
     "output_type": "execute_result"
    }
   ],
   "source": [
    "df_internet.head(10)"
   ]
  },
  {
   "cell_type": "code",
   "execution_count": 75,
   "metadata": {},
   "outputs": [
    {
     "data": {
      "text/html": [
       "<div>\n",
       "<style scoped>\n",
       "    .dataframe tbody tr th:only-of-type {\n",
       "        vertical-align: middle;\n",
       "    }\n",
       "\n",
       "    .dataframe tbody tr th {\n",
       "        vertical-align: top;\n",
       "    }\n",
       "\n",
       "    .dataframe thead th {\n",
       "        text-align: right;\n",
       "    }\n",
       "</style>\n",
       "<table border=\"1\" class=\"dataframe\">\n",
       "  <thead>\n",
       "    <tr style=\"text-align: right;\">\n",
       "      <th></th>\n",
       "      <th>Unnamed: 0</th>\n",
       "      <th>mb_used</th>\n",
       "      <th>user_id</th>\n",
       "    </tr>\n",
       "  </thead>\n",
       "  <tbody>\n",
       "    <tr>\n",
       "      <td>count</td>\n",
       "      <td>149396.000000</td>\n",
       "      <td>149396.000000</td>\n",
       "      <td>149396.000000</td>\n",
       "    </tr>\n",
       "    <tr>\n",
       "      <td>mean</td>\n",
       "      <td>74697.500000</td>\n",
       "      <td>370.192426</td>\n",
       "      <td>1252.099842</td>\n",
       "    </tr>\n",
       "    <tr>\n",
       "      <td>std</td>\n",
       "      <td>43127.054745</td>\n",
       "      <td>278.300951</td>\n",
       "      <td>144.050823</td>\n",
       "    </tr>\n",
       "    <tr>\n",
       "      <td>min</td>\n",
       "      <td>0.000000</td>\n",
       "      <td>0.000000</td>\n",
       "      <td>1000.000000</td>\n",
       "    </tr>\n",
       "    <tr>\n",
       "      <td>25%</td>\n",
       "      <td>37348.750000</td>\n",
       "      <td>138.187500</td>\n",
       "      <td>1130.000000</td>\n",
       "    </tr>\n",
       "    <tr>\n",
       "      <td>50%</td>\n",
       "      <td>74697.500000</td>\n",
       "      <td>348.015000</td>\n",
       "      <td>1251.000000</td>\n",
       "    </tr>\n",
       "    <tr>\n",
       "      <td>75%</td>\n",
       "      <td>112046.250000</td>\n",
       "      <td>559.552500</td>\n",
       "      <td>1380.000000</td>\n",
       "    </tr>\n",
       "    <tr>\n",
       "      <td>max</td>\n",
       "      <td>149395.000000</td>\n",
       "      <td>1724.830000</td>\n",
       "      <td>1499.000000</td>\n",
       "    </tr>\n",
       "  </tbody>\n",
       "</table>\n",
       "</div>"
      ],
      "text/plain": [
       "          Unnamed: 0        mb_used        user_id\n",
       "count  149396.000000  149396.000000  149396.000000\n",
       "mean    74697.500000     370.192426    1252.099842\n",
       "std     43127.054745     278.300951     144.050823\n",
       "min         0.000000       0.000000    1000.000000\n",
       "25%     37348.750000     138.187500    1130.000000\n",
       "50%     74697.500000     348.015000    1251.000000\n",
       "75%    112046.250000     559.552500    1380.000000\n",
       "max    149395.000000    1724.830000    1499.000000"
      ]
     },
     "execution_count": 75,
     "metadata": {},
     "output_type": "execute_result"
    }
   ],
   "source": [
    "df_internet.describe()"
   ]
  },
  {
   "cell_type": "markdown",
   "metadata": {},
   "source": [
    "Пустых значений нет.\n",
    "\n",
    "session_date можно перевести в формат даты.\n",
    "\n",
    "Unnamed: 0 дублирует индексы, его можно убрать."
   ]
  },
  {
   "cell_type": "markdown",
   "metadata": {},
   "source": [
    "### Таблица tariffs (информация о тарифах)"
   ]
  },
  {
   "cell_type": "code",
   "execution_count": 76,
   "metadata": {},
   "outputs": [
    {
     "name": "stdout",
     "output_type": "stream",
     "text": [
      "<class 'pandas.core.frame.DataFrame'>\n",
      "RangeIndex: 2 entries, 0 to 1\n",
      "Data columns (total 8 columns):\n",
      "messages_included        2 non-null int64\n",
      "mb_per_month_included    2 non-null int64\n",
      "minutes_included         2 non-null int64\n",
      "rub_monthly_fee          2 non-null int64\n",
      "rub_per_gb               2 non-null int64\n",
      "rub_per_message          2 non-null int64\n",
      "rub_per_minute           2 non-null int64\n",
      "tariff_name              2 non-null object\n",
      "dtypes: int64(7), object(1)\n",
      "memory usage: 256.0+ bytes\n"
     ]
    }
   ],
   "source": [
    "df_tariffs = pd.read_csv('/datasets/tariffs.csv')\n",
    "df_tariffs.info()"
   ]
  },
  {
   "cell_type": "code",
   "execution_count": 77,
   "metadata": {},
   "outputs": [
    {
     "data": {
      "text/html": [
       "<div>\n",
       "<style scoped>\n",
       "    .dataframe tbody tr th:only-of-type {\n",
       "        vertical-align: middle;\n",
       "    }\n",
       "\n",
       "    .dataframe tbody tr th {\n",
       "        vertical-align: top;\n",
       "    }\n",
       "\n",
       "    .dataframe thead th {\n",
       "        text-align: right;\n",
       "    }\n",
       "</style>\n",
       "<table border=\"1\" class=\"dataframe\">\n",
       "  <thead>\n",
       "    <tr style=\"text-align: right;\">\n",
       "      <th></th>\n",
       "      <th>messages_included</th>\n",
       "      <th>mb_per_month_included</th>\n",
       "      <th>minutes_included</th>\n",
       "      <th>rub_monthly_fee</th>\n",
       "      <th>rub_per_gb</th>\n",
       "      <th>rub_per_message</th>\n",
       "      <th>rub_per_minute</th>\n",
       "      <th>tariff_name</th>\n",
       "    </tr>\n",
       "  </thead>\n",
       "  <tbody>\n",
       "    <tr>\n",
       "      <td>0</td>\n",
       "      <td>50</td>\n",
       "      <td>15360</td>\n",
       "      <td>500</td>\n",
       "      <td>550</td>\n",
       "      <td>200</td>\n",
       "      <td>3</td>\n",
       "      <td>3</td>\n",
       "      <td>smart</td>\n",
       "    </tr>\n",
       "    <tr>\n",
       "      <td>1</td>\n",
       "      <td>1000</td>\n",
       "      <td>30720</td>\n",
       "      <td>3000</td>\n",
       "      <td>1950</td>\n",
       "      <td>150</td>\n",
       "      <td>1</td>\n",
       "      <td>1</td>\n",
       "      <td>ultra</td>\n",
       "    </tr>\n",
       "  </tbody>\n",
       "</table>\n",
       "</div>"
      ],
      "text/plain": [
       "   messages_included  mb_per_month_included  minutes_included  \\\n",
       "0                 50                  15360               500   \n",
       "1               1000                  30720              3000   \n",
       "\n",
       "   rub_monthly_fee  rub_per_gb  rub_per_message  rub_per_minute tariff_name  \n",
       "0              550         200                3               3       smart  \n",
       "1             1950         150                1               1       ultra  "
      ]
     },
     "execution_count": 77,
     "metadata": {},
     "output_type": "execute_result"
    }
   ],
   "source": [
    "df_tariffs.head(10)"
   ]
  },
  {
   "cell_type": "code",
   "execution_count": 78,
   "metadata": {
    "scrolled": true
   },
   "outputs": [
    {
     "data": {
      "text/html": [
       "<div>\n",
       "<style scoped>\n",
       "    .dataframe tbody tr th:only-of-type {\n",
       "        vertical-align: middle;\n",
       "    }\n",
       "\n",
       "    .dataframe tbody tr th {\n",
       "        vertical-align: top;\n",
       "    }\n",
       "\n",
       "    .dataframe thead th {\n",
       "        text-align: right;\n",
       "    }\n",
       "</style>\n",
       "<table border=\"1\" class=\"dataframe\">\n",
       "  <thead>\n",
       "    <tr style=\"text-align: right;\">\n",
       "      <th></th>\n",
       "      <th>messages_included</th>\n",
       "      <th>mb_per_month_included</th>\n",
       "      <th>minutes_included</th>\n",
       "      <th>rub_monthly_fee</th>\n",
       "      <th>rub_per_gb</th>\n",
       "      <th>rub_per_message</th>\n",
       "      <th>rub_per_minute</th>\n",
       "    </tr>\n",
       "  </thead>\n",
       "  <tbody>\n",
       "    <tr>\n",
       "      <td>count</td>\n",
       "      <td>2.000000</td>\n",
       "      <td>2.000000</td>\n",
       "      <td>2.000000</td>\n",
       "      <td>2.000000</td>\n",
       "      <td>2.000000</td>\n",
       "      <td>2.000000</td>\n",
       "      <td>2.000000</td>\n",
       "    </tr>\n",
       "    <tr>\n",
       "      <td>mean</td>\n",
       "      <td>525.000000</td>\n",
       "      <td>23040.000000</td>\n",
       "      <td>1750.000000</td>\n",
       "      <td>1250.000000</td>\n",
       "      <td>175.000000</td>\n",
       "      <td>2.000000</td>\n",
       "      <td>2.000000</td>\n",
       "    </tr>\n",
       "    <tr>\n",
       "      <td>std</td>\n",
       "      <td>671.751442</td>\n",
       "      <td>10861.160159</td>\n",
       "      <td>1767.766953</td>\n",
       "      <td>989.949494</td>\n",
       "      <td>35.355339</td>\n",
       "      <td>1.414214</td>\n",
       "      <td>1.414214</td>\n",
       "    </tr>\n",
       "    <tr>\n",
       "      <td>min</td>\n",
       "      <td>50.000000</td>\n",
       "      <td>15360.000000</td>\n",
       "      <td>500.000000</td>\n",
       "      <td>550.000000</td>\n",
       "      <td>150.000000</td>\n",
       "      <td>1.000000</td>\n",
       "      <td>1.000000</td>\n",
       "    </tr>\n",
       "    <tr>\n",
       "      <td>25%</td>\n",
       "      <td>287.500000</td>\n",
       "      <td>19200.000000</td>\n",
       "      <td>1125.000000</td>\n",
       "      <td>900.000000</td>\n",
       "      <td>162.500000</td>\n",
       "      <td>1.500000</td>\n",
       "      <td>1.500000</td>\n",
       "    </tr>\n",
       "    <tr>\n",
       "      <td>50%</td>\n",
       "      <td>525.000000</td>\n",
       "      <td>23040.000000</td>\n",
       "      <td>1750.000000</td>\n",
       "      <td>1250.000000</td>\n",
       "      <td>175.000000</td>\n",
       "      <td>2.000000</td>\n",
       "      <td>2.000000</td>\n",
       "    </tr>\n",
       "    <tr>\n",
       "      <td>75%</td>\n",
       "      <td>762.500000</td>\n",
       "      <td>26880.000000</td>\n",
       "      <td>2375.000000</td>\n",
       "      <td>1600.000000</td>\n",
       "      <td>187.500000</td>\n",
       "      <td>2.500000</td>\n",
       "      <td>2.500000</td>\n",
       "    </tr>\n",
       "    <tr>\n",
       "      <td>max</td>\n",
       "      <td>1000.000000</td>\n",
       "      <td>30720.000000</td>\n",
       "      <td>3000.000000</td>\n",
       "      <td>1950.000000</td>\n",
       "      <td>200.000000</td>\n",
       "      <td>3.000000</td>\n",
       "      <td>3.000000</td>\n",
       "    </tr>\n",
       "  </tbody>\n",
       "</table>\n",
       "</div>"
      ],
      "text/plain": [
       "       messages_included  mb_per_month_included  minutes_included  \\\n",
       "count           2.000000               2.000000          2.000000   \n",
       "mean          525.000000           23040.000000       1750.000000   \n",
       "std           671.751442           10861.160159       1767.766953   \n",
       "min            50.000000           15360.000000        500.000000   \n",
       "25%           287.500000           19200.000000       1125.000000   \n",
       "50%           525.000000           23040.000000       1750.000000   \n",
       "75%           762.500000           26880.000000       2375.000000   \n",
       "max          1000.000000           30720.000000       3000.000000   \n",
       "\n",
       "       rub_monthly_fee  rub_per_gb  rub_per_message  rub_per_minute  \n",
       "count         2.000000    2.000000         2.000000        2.000000  \n",
       "mean       1250.000000  175.000000         2.000000        2.000000  \n",
       "std         989.949494   35.355339         1.414214        1.414214  \n",
       "min         550.000000  150.000000         1.000000        1.000000  \n",
       "25%         900.000000  162.500000         1.500000        1.500000  \n",
       "50%        1250.000000  175.000000         2.000000        2.000000  \n",
       "75%        1600.000000  187.500000         2.500000        2.500000  \n",
       "max        1950.000000  200.000000         3.000000        3.000000  "
      ]
     },
     "execution_count": 78,
     "metadata": {},
     "output_type": "execute_result"
    }
   ],
   "source": [
    "df_tariffs.describe()"
   ]
  },
  {
   "cell_type": "markdown",
   "metadata": {},
   "source": [
    "Пустых значений нет."
   ]
  },
  {
   "cell_type": "markdown",
   "metadata": {},
   "source": [
    "## Предобработка данных"
   ]
  },
  {
   "cell_type": "markdown",
   "metadata": {},
   "source": [
    "### Таблица users"
   ]
  },
  {
   "cell_type": "code",
   "execution_count": 79,
   "metadata": {},
   "outputs": [
    {
     "data": {
      "text/html": [
       "<div>\n",
       "<style scoped>\n",
       "    .dataframe tbody tr th:only-of-type {\n",
       "        vertical-align: middle;\n",
       "    }\n",
       "\n",
       "    .dataframe tbody tr th {\n",
       "        vertical-align: top;\n",
       "    }\n",
       "\n",
       "    .dataframe thead th {\n",
       "        text-align: right;\n",
       "    }\n",
       "</style>\n",
       "<table border=\"1\" class=\"dataframe\">\n",
       "  <thead>\n",
       "    <tr style=\"text-align: right;\">\n",
       "      <th></th>\n",
       "      <th>user_id</th>\n",
       "      <th>age</th>\n",
       "      <th>churn_date</th>\n",
       "      <th>city</th>\n",
       "      <th>first_name</th>\n",
       "      <th>last_name</th>\n",
       "      <th>reg_date</th>\n",
       "      <th>tariff</th>\n",
       "    </tr>\n",
       "  </thead>\n",
       "  <tbody>\n",
       "    <tr>\n",
       "      <td>0</td>\n",
       "      <td>1000</td>\n",
       "      <td>52</td>\n",
       "      <td>NaN</td>\n",
       "      <td>Краснодар</td>\n",
       "      <td>Рафаил</td>\n",
       "      <td>Верещагин</td>\n",
       "      <td>2018-05-25</td>\n",
       "      <td>ultra</td>\n",
       "    </tr>\n",
       "    <tr>\n",
       "      <td>1</td>\n",
       "      <td>1001</td>\n",
       "      <td>41</td>\n",
       "      <td>NaN</td>\n",
       "      <td>Москва</td>\n",
       "      <td>Иван</td>\n",
       "      <td>Ежов</td>\n",
       "      <td>2018-11-01</td>\n",
       "      <td>smart</td>\n",
       "    </tr>\n",
       "    <tr>\n",
       "      <td>2</td>\n",
       "      <td>1002</td>\n",
       "      <td>59</td>\n",
       "      <td>NaN</td>\n",
       "      <td>Стерлитамак</td>\n",
       "      <td>Евгений</td>\n",
       "      <td>Абрамович</td>\n",
       "      <td>2018-06-17</td>\n",
       "      <td>smart</td>\n",
       "    </tr>\n",
       "    <tr>\n",
       "      <td>3</td>\n",
       "      <td>1003</td>\n",
       "      <td>23</td>\n",
       "      <td>NaN</td>\n",
       "      <td>Москва</td>\n",
       "      <td>Белла</td>\n",
       "      <td>Белякова</td>\n",
       "      <td>2018-08-17</td>\n",
       "      <td>ultra</td>\n",
       "    </tr>\n",
       "    <tr>\n",
       "      <td>4</td>\n",
       "      <td>1004</td>\n",
       "      <td>68</td>\n",
       "      <td>NaN</td>\n",
       "      <td>Новокузнецк</td>\n",
       "      <td>Татьяна</td>\n",
       "      <td>Авдеенко</td>\n",
       "      <td>2018-05-14</td>\n",
       "      <td>ultra</td>\n",
       "    </tr>\n",
       "  </tbody>\n",
       "</table>\n",
       "</div>"
      ],
      "text/plain": [
       "   user_id  age churn_date         city first_name  last_name    reg_date  \\\n",
       "0     1000   52        NaN    Краснодар     Рафаил  Верещагин  2018-05-25   \n",
       "1     1001   41        NaN       Москва       Иван       Ежов  2018-11-01   \n",
       "2     1002   59        NaN  Стерлитамак    Евгений  Абрамович  2018-06-17   \n",
       "3     1003   23        NaN       Москва      Белла   Белякова  2018-08-17   \n",
       "4     1004   68        NaN  Новокузнецк    Татьяна   Авдеенко  2018-05-14   \n",
       "\n",
       "  tariff  \n",
       "0  ultra  \n",
       "1  smart  \n",
       "2  smart  \n",
       "3  ultra  \n",
       "4  ultra  "
      ]
     },
     "execution_count": 79,
     "metadata": {},
     "output_type": "execute_result"
    }
   ],
   "source": [
    "df_users.head()"
   ]
  },
  {
   "cell_type": "code",
   "execution_count": 80,
   "metadata": {},
   "outputs": [
    {
     "name": "stdout",
     "output_type": "stream",
     "text": [
      "<class 'pandas.core.frame.DataFrame'>\n",
      "RangeIndex: 500 entries, 0 to 499\n",
      "Data columns (total 8 columns):\n",
      "user_id       500 non-null int64\n",
      "age           500 non-null int64\n",
      "churn_date    38 non-null datetime64[ns]\n",
      "city          500 non-null object\n",
      "first_name    500 non-null object\n",
      "last_name     500 non-null object\n",
      "reg_date      500 non-null datetime64[ns]\n",
      "tariff        500 non-null object\n",
      "dtypes: datetime64[ns](2), int64(2), object(4)\n",
      "memory usage: 31.4+ KB\n"
     ]
    }
   ],
   "source": [
    "df_users['reg_date'] = pd.to_datetime(\n",
    "    df_users['reg_date'], format='%Y-%m-%d'\n",
    ")\n",
    "df_users['churn_date'] = pd.to_datetime(\n",
    "    df_users['churn_date'], format='%Y-%m-%d'\n",
    ")\n",
    "df_users.info()"
   ]
  },
  {
   "cell_type": "markdown",
   "metadata": {},
   "source": [
    "### Таблица calls"
   ]
  },
  {
   "cell_type": "code",
   "execution_count": 81,
   "metadata": {},
   "outputs": [
    {
     "name": "stdout",
     "output_type": "stream",
     "text": [
      "<class 'pandas.core.frame.DataFrame'>\n",
      "RangeIndex: 202607 entries, 0 to 202606\n",
      "Data columns (total 4 columns):\n",
      "id           202607 non-null object\n",
      "call_date    202607 non-null object\n",
      "duration     202607 non-null float64\n",
      "user_id      202607 non-null int64\n",
      "dtypes: float64(1), int64(1), object(2)\n",
      "memory usage: 6.2+ MB\n"
     ]
    }
   ],
   "source": [
    "df_calls.info()"
   ]
  },
  {
   "cell_type": "code",
   "execution_count": 82,
   "metadata": {},
   "outputs": [
    {
     "data": {
      "text/html": [
       "<div>\n",
       "<style scoped>\n",
       "    .dataframe tbody tr th:only-of-type {\n",
       "        vertical-align: middle;\n",
       "    }\n",
       "\n",
       "    .dataframe tbody tr th {\n",
       "        vertical-align: top;\n",
       "    }\n",
       "\n",
       "    .dataframe thead th {\n",
       "        text-align: right;\n",
       "    }\n",
       "</style>\n",
       "<table border=\"1\" class=\"dataframe\">\n",
       "  <thead>\n",
       "    <tr style=\"text-align: right;\">\n",
       "      <th></th>\n",
       "      <th>id</th>\n",
       "      <th>call_date</th>\n",
       "      <th>duration</th>\n",
       "      <th>user_id</th>\n",
       "    </tr>\n",
       "  </thead>\n",
       "  <tbody>\n",
       "    <tr>\n",
       "      <td>0</td>\n",
       "      <td>1000_0</td>\n",
       "      <td>2018-07-25</td>\n",
       "      <td>0.00</td>\n",
       "      <td>1000</td>\n",
       "    </tr>\n",
       "    <tr>\n",
       "      <td>1</td>\n",
       "      <td>1000_1</td>\n",
       "      <td>2018-08-17</td>\n",
       "      <td>0.00</td>\n",
       "      <td>1000</td>\n",
       "    </tr>\n",
       "    <tr>\n",
       "      <td>2</td>\n",
       "      <td>1000_2</td>\n",
       "      <td>2018-06-11</td>\n",
       "      <td>2.85</td>\n",
       "      <td>1000</td>\n",
       "    </tr>\n",
       "    <tr>\n",
       "      <td>3</td>\n",
       "      <td>1000_3</td>\n",
       "      <td>2018-09-21</td>\n",
       "      <td>13.80</td>\n",
       "      <td>1000</td>\n",
       "    </tr>\n",
       "    <tr>\n",
       "      <td>4</td>\n",
       "      <td>1000_4</td>\n",
       "      <td>2018-12-15</td>\n",
       "      <td>5.18</td>\n",
       "      <td>1000</td>\n",
       "    </tr>\n",
       "  </tbody>\n",
       "</table>\n",
       "</div>"
      ],
      "text/plain": [
       "       id   call_date  duration  user_id\n",
       "0  1000_0  2018-07-25      0.00     1000\n",
       "1  1000_1  2018-08-17      0.00     1000\n",
       "2  1000_2  2018-06-11      2.85     1000\n",
       "3  1000_3  2018-09-21     13.80     1000\n",
       "4  1000_4  2018-12-15      5.18     1000"
      ]
     },
     "execution_count": 82,
     "metadata": {},
     "output_type": "execute_result"
    }
   ],
   "source": [
    "df_calls.head()"
   ]
  },
  {
   "cell_type": "code",
   "execution_count": 83,
   "metadata": {},
   "outputs": [],
   "source": [
    "df_calls['call_date'] = pd.to_datetime(\n",
    "    df_calls['call_date'], format='%Y-%m-%d'\n",
    ")"
   ]
  },
  {
   "cell_type": "code",
   "execution_count": 84,
   "metadata": {},
   "outputs": [
    {
     "data": {
      "text/plain": [
       "39613"
      ]
     },
     "execution_count": 84,
     "metadata": {},
     "output_type": "execute_result"
    }
   ],
   "source": [
    "df_calls[df_calls['duration'] == 0]['duration'].count()"
   ]
  },
  {
   "cell_type": "markdown",
   "metadata": {},
   "source": [
    "Имеем почти 40 тыс. пропущенных звонков с нулевой продолжительностью. Фактически услуга по этим звонкам не оказана, но при расчете она будет влиять на среднюю продолжительность разговора. Уберем эти записи."
   ]
  },
  {
   "cell_type": "code",
   "execution_count": 85,
   "metadata": {},
   "outputs": [],
   "source": [
    "df_calls = df_calls.query(\"duration != 0\")"
   ]
  },
  {
   "cell_type": "markdown",
   "metadata": {},
   "source": [
    "Заведем колонку duration_round где будем хранить округленное количество минут каждого разговора"
   ]
  },
  {
   "cell_type": "code",
   "execution_count": 86,
   "metadata": {},
   "outputs": [
    {
     "data": {
      "text/html": [
       "<div>\n",
       "<style scoped>\n",
       "    .dataframe tbody tr th:only-of-type {\n",
       "        vertical-align: middle;\n",
       "    }\n",
       "\n",
       "    .dataframe tbody tr th {\n",
       "        vertical-align: top;\n",
       "    }\n",
       "\n",
       "    .dataframe thead th {\n",
       "        text-align: right;\n",
       "    }\n",
       "</style>\n",
       "<table border=\"1\" class=\"dataframe\">\n",
       "  <thead>\n",
       "    <tr style=\"text-align: right;\">\n",
       "      <th></th>\n",
       "      <th>id</th>\n",
       "      <th>call_date</th>\n",
       "      <th>duration</th>\n",
       "      <th>user_id</th>\n",
       "      <th>duration_round</th>\n",
       "    </tr>\n",
       "  </thead>\n",
       "  <tbody>\n",
       "    <tr>\n",
       "      <td>2</td>\n",
       "      <td>1000_2</td>\n",
       "      <td>2018-06-11</td>\n",
       "      <td>2.85</td>\n",
       "      <td>1000</td>\n",
       "      <td>3.0</td>\n",
       "    </tr>\n",
       "    <tr>\n",
       "      <td>3</td>\n",
       "      <td>1000_3</td>\n",
       "      <td>2018-09-21</td>\n",
       "      <td>13.80</td>\n",
       "      <td>1000</td>\n",
       "      <td>14.0</td>\n",
       "    </tr>\n",
       "    <tr>\n",
       "      <td>4</td>\n",
       "      <td>1000_4</td>\n",
       "      <td>2018-12-15</td>\n",
       "      <td>5.18</td>\n",
       "      <td>1000</td>\n",
       "      <td>6.0</td>\n",
       "    </tr>\n",
       "    <tr>\n",
       "      <td>7</td>\n",
       "      <td>1000_7</td>\n",
       "      <td>2018-08-22</td>\n",
       "      <td>18.31</td>\n",
       "      <td>1000</td>\n",
       "      <td>19.0</td>\n",
       "    </tr>\n",
       "    <tr>\n",
       "      <td>8</td>\n",
       "      <td>1000_8</td>\n",
       "      <td>2018-09-15</td>\n",
       "      <td>18.44</td>\n",
       "      <td>1000</td>\n",
       "      <td>19.0</td>\n",
       "    </tr>\n",
       "  </tbody>\n",
       "</table>\n",
       "</div>"
      ],
      "text/plain": [
       "       id  call_date  duration  user_id  duration_round\n",
       "2  1000_2 2018-06-11      2.85     1000             3.0\n",
       "3  1000_3 2018-09-21     13.80     1000            14.0\n",
       "4  1000_4 2018-12-15      5.18     1000             6.0\n",
       "7  1000_7 2018-08-22     18.31     1000            19.0\n",
       "8  1000_8 2018-09-15     18.44     1000            19.0"
      ]
     },
     "execution_count": 86,
     "metadata": {},
     "output_type": "execute_result"
    }
   ],
   "source": [
    "import numpy as np\n",
    "df_calls['duration_round'] = np.ceil(df_calls['duration'])\n",
    "df_calls.head()"
   ]
  },
  {
   "cell_type": "markdown",
   "metadata": {},
   "source": [
    "Переведем в int столбец duration_round"
   ]
  },
  {
   "cell_type": "code",
   "execution_count": 87,
   "metadata": {},
   "outputs": [],
   "source": [
    "df_calls['duration_round'] = df_calls['duration_round'].astype(int)"
   ]
  },
  {
   "cell_type": "markdown",
   "metadata": {},
   "source": [
    "Посчитаем количество сделанных звонков и израсходованных минут разговора по месяцам"
   ]
  },
  {
   "cell_type": "code",
   "execution_count": 88,
   "metadata": {
    "scrolled": false
   },
   "outputs": [
    {
     "data": {
      "text/html": [
       "<div>\n",
       "<style scoped>\n",
       "    .dataframe tbody tr th:only-of-type {\n",
       "        vertical-align: middle;\n",
       "    }\n",
       "\n",
       "    .dataframe tbody tr th {\n",
       "        vertical-align: top;\n",
       "    }\n",
       "\n",
       "    .dataframe thead th {\n",
       "        text-align: right;\n",
       "    }\n",
       "</style>\n",
       "<table border=\"1\" class=\"dataframe\">\n",
       "  <thead>\n",
       "    <tr style=\"text-align: right;\">\n",
       "      <th></th>\n",
       "      <th>user_id</th>\n",
       "      <th>month</th>\n",
       "      <th>calls_count</th>\n",
       "      <th>calls_duration</th>\n",
       "      <th>calls_duration_round</th>\n",
       "    </tr>\n",
       "  </thead>\n",
       "  <tbody>\n",
       "    <tr>\n",
       "      <td>0</td>\n",
       "      <td>1000</td>\n",
       "      <td>5</td>\n",
       "      <td>17</td>\n",
       "      <td>150.06</td>\n",
       "      <td>159</td>\n",
       "    </tr>\n",
       "    <tr>\n",
       "      <td>1</td>\n",
       "      <td>1000</td>\n",
       "      <td>6</td>\n",
       "      <td>28</td>\n",
       "      <td>158.90</td>\n",
       "      <td>172</td>\n",
       "    </tr>\n",
       "    <tr>\n",
       "      <td>2</td>\n",
       "      <td>1000</td>\n",
       "      <td>7</td>\n",
       "      <td>41</td>\n",
       "      <td>318.80</td>\n",
       "      <td>340</td>\n",
       "    </tr>\n",
       "    <tr>\n",
       "      <td>3</td>\n",
       "      <td>1000</td>\n",
       "      <td>8</td>\n",
       "      <td>42</td>\n",
       "      <td>389.87</td>\n",
       "      <td>408</td>\n",
       "    </tr>\n",
       "    <tr>\n",
       "      <td>4</td>\n",
       "      <td>1000</td>\n",
       "      <td>9</td>\n",
       "      <td>46</td>\n",
       "      <td>440.14</td>\n",
       "      <td>466</td>\n",
       "    </tr>\n",
       "  </tbody>\n",
       "</table>\n",
       "</div>"
      ],
      "text/plain": [
       "   user_id  month  calls_count  calls_duration  calls_duration_round\n",
       "0     1000      5           17          150.06                   159\n",
       "1     1000      6           28          158.90                   172\n",
       "2     1000      7           41          318.80                   340\n",
       "3     1000      8           42          389.87                   408\n",
       "4     1000      9           46          440.14                   466"
      ]
     },
     "execution_count": 88,
     "metadata": {},
     "output_type": "execute_result"
    }
   ],
   "source": [
    "df_calls['month'] = df_calls['call_date'].dt.month\n",
    "df_calls_count = df_calls.groupby(by = ['user_id','month']).agg({'duration':['count','sum'],'duration_round':'sum'})\n",
    "df_calls_count.reset_index(inplace=True)\n",
    "df_calls_count.columns = ['user_id','month','calls_count','calls_duration','calls_duration_round']\n",
    "df_calls_count.head()"
   ]
  },
  {
   "cell_type": "markdown",
   "metadata": {},
   "source": [
    "### Таблица messages"
   ]
  },
  {
   "cell_type": "code",
   "execution_count": 89,
   "metadata": {},
   "outputs": [
    {
     "data": {
      "text/html": [
       "<div>\n",
       "<style scoped>\n",
       "    .dataframe tbody tr th:only-of-type {\n",
       "        vertical-align: middle;\n",
       "    }\n",
       "\n",
       "    .dataframe tbody tr th {\n",
       "        vertical-align: top;\n",
       "    }\n",
       "\n",
       "    .dataframe thead th {\n",
       "        text-align: right;\n",
       "    }\n",
       "</style>\n",
       "<table border=\"1\" class=\"dataframe\">\n",
       "  <thead>\n",
       "    <tr style=\"text-align: right;\">\n",
       "      <th></th>\n",
       "      <th>id</th>\n",
       "      <th>message_date</th>\n",
       "      <th>user_id</th>\n",
       "    </tr>\n",
       "  </thead>\n",
       "  <tbody>\n",
       "    <tr>\n",
       "      <td>0</td>\n",
       "      <td>1000_0</td>\n",
       "      <td>2018-06-27</td>\n",
       "      <td>1000</td>\n",
       "    </tr>\n",
       "    <tr>\n",
       "      <td>1</td>\n",
       "      <td>1000_1</td>\n",
       "      <td>2018-10-08</td>\n",
       "      <td>1000</td>\n",
       "    </tr>\n",
       "    <tr>\n",
       "      <td>2</td>\n",
       "      <td>1000_2</td>\n",
       "      <td>2018-08-04</td>\n",
       "      <td>1000</td>\n",
       "    </tr>\n",
       "    <tr>\n",
       "      <td>3</td>\n",
       "      <td>1000_3</td>\n",
       "      <td>2018-06-16</td>\n",
       "      <td>1000</td>\n",
       "    </tr>\n",
       "    <tr>\n",
       "      <td>4</td>\n",
       "      <td>1000_4</td>\n",
       "      <td>2018-12-05</td>\n",
       "      <td>1000</td>\n",
       "    </tr>\n",
       "  </tbody>\n",
       "</table>\n",
       "</div>"
      ],
      "text/plain": [
       "       id message_date  user_id\n",
       "0  1000_0   2018-06-27     1000\n",
       "1  1000_1   2018-10-08     1000\n",
       "2  1000_2   2018-08-04     1000\n",
       "3  1000_3   2018-06-16     1000\n",
       "4  1000_4   2018-12-05     1000"
      ]
     },
     "execution_count": 89,
     "metadata": {},
     "output_type": "execute_result"
    }
   ],
   "source": [
    "df_messages.head()"
   ]
  },
  {
   "cell_type": "code",
   "execution_count": 90,
   "metadata": {},
   "outputs": [
    {
     "name": "stdout",
     "output_type": "stream",
     "text": [
      "<class 'pandas.core.frame.DataFrame'>\n",
      "RangeIndex: 123036 entries, 0 to 123035\n",
      "Data columns (total 3 columns):\n",
      "id              123036 non-null object\n",
      "message_date    123036 non-null object\n",
      "user_id         123036 non-null int64\n",
      "dtypes: int64(1), object(2)\n",
      "memory usage: 2.8+ MB\n"
     ]
    }
   ],
   "source": [
    "df_messages.info()"
   ]
  },
  {
   "cell_type": "code",
   "execution_count": 91,
   "metadata": {},
   "outputs": [
    {
     "name": "stdout",
     "output_type": "stream",
     "text": [
      "<class 'pandas.core.frame.DataFrame'>\n",
      "RangeIndex: 123036 entries, 0 to 123035\n",
      "Data columns (total 3 columns):\n",
      "id              123036 non-null object\n",
      "message_date    123036 non-null datetime64[ns]\n",
      "user_id         123036 non-null int64\n",
      "dtypes: datetime64[ns](1), int64(1), object(1)\n",
      "memory usage: 2.8+ MB\n"
     ]
    }
   ],
   "source": [
    "df_messages['message_date'] = pd.to_datetime(\n",
    "    df_messages['message_date'], format='%Y-%m-%d'\n",
    ")\n",
    "df_messages.info()"
   ]
  },
  {
   "cell_type": "markdown",
   "metadata": {},
   "source": [
    "Посчитаем количество отправленных сообщений по месяцам"
   ]
  },
  {
   "cell_type": "code",
   "execution_count": 92,
   "metadata": {},
   "outputs": [
    {
     "data": {
      "text/html": [
       "<div>\n",
       "<style scoped>\n",
       "    .dataframe tbody tr th:only-of-type {\n",
       "        vertical-align: middle;\n",
       "    }\n",
       "\n",
       "    .dataframe tbody tr th {\n",
       "        vertical-align: top;\n",
       "    }\n",
       "\n",
       "    .dataframe thead th {\n",
       "        text-align: right;\n",
       "    }\n",
       "</style>\n",
       "<table border=\"1\" class=\"dataframe\">\n",
       "  <thead>\n",
       "    <tr style=\"text-align: right;\">\n",
       "      <th></th>\n",
       "      <th>user_id</th>\n",
       "      <th>month</th>\n",
       "      <th>messages_count</th>\n",
       "    </tr>\n",
       "  </thead>\n",
       "  <tbody>\n",
       "    <tr>\n",
       "      <td>0</td>\n",
       "      <td>1000</td>\n",
       "      <td>5</td>\n",
       "      <td>22</td>\n",
       "    </tr>\n",
       "    <tr>\n",
       "      <td>1</td>\n",
       "      <td>1000</td>\n",
       "      <td>6</td>\n",
       "      <td>60</td>\n",
       "    </tr>\n",
       "    <tr>\n",
       "      <td>2</td>\n",
       "      <td>1000</td>\n",
       "      <td>7</td>\n",
       "      <td>75</td>\n",
       "    </tr>\n",
       "    <tr>\n",
       "      <td>3</td>\n",
       "      <td>1000</td>\n",
       "      <td>8</td>\n",
       "      <td>81</td>\n",
       "    </tr>\n",
       "    <tr>\n",
       "      <td>4</td>\n",
       "      <td>1000</td>\n",
       "      <td>9</td>\n",
       "      <td>57</td>\n",
       "    </tr>\n",
       "  </tbody>\n",
       "</table>\n",
       "</div>"
      ],
      "text/plain": [
       "   user_id  month  messages_count\n",
       "0     1000      5              22\n",
       "1     1000      6              60\n",
       "2     1000      7              75\n",
       "3     1000      8              81\n",
       "4     1000      9              57"
      ]
     },
     "execution_count": 92,
     "metadata": {},
     "output_type": "execute_result"
    }
   ],
   "source": [
    "df_messages['month'] = df_messages['message_date'].dt.month\n",
    "df_messages_count = df_messages.groupby(by = ['user_id','month']).agg({'id':'count'})\n",
    "df_messages_count.reset_index(inplace=True)\n",
    "df_messages_count.columns = ['user_id','month','messages_count']\n",
    "df_messages_count.head()"
   ]
  },
  {
   "cell_type": "markdown",
   "metadata": {},
   "source": [
    "### Таблица internet"
   ]
  },
  {
   "cell_type": "code",
   "execution_count": 93,
   "metadata": {},
   "outputs": [
    {
     "name": "stdout",
     "output_type": "stream",
     "text": [
      "<class 'pandas.core.frame.DataFrame'>\n",
      "RangeIndex: 149396 entries, 0 to 149395\n",
      "Data columns (total 5 columns):\n",
      "Unnamed: 0      149396 non-null int64\n",
      "id              149396 non-null object\n",
      "mb_used         149396 non-null float64\n",
      "session_date    149396 non-null object\n",
      "user_id         149396 non-null int64\n",
      "dtypes: float64(1), int64(2), object(2)\n",
      "memory usage: 5.7+ MB\n"
     ]
    }
   ],
   "source": [
    "df_internet.info()"
   ]
  },
  {
   "cell_type": "code",
   "execution_count": 94,
   "metadata": {},
   "outputs": [
    {
     "data": {
      "text/plain": [
       "Index(['Unnamed: 0', 'id', 'mb_used', 'session_date', 'user_id'], dtype='object')"
      ]
     },
     "execution_count": 94,
     "metadata": {},
     "output_type": "execute_result"
    }
   ],
   "source": [
    "df_internet.columns"
   ]
  },
  {
   "cell_type": "code",
   "execution_count": 95,
   "metadata": {},
   "outputs": [],
   "source": [
    "df_internet = df_internet.drop(columns= 'Unnamed: 0')"
   ]
  },
  {
   "cell_type": "code",
   "execution_count": 96,
   "metadata": {},
   "outputs": [
    {
     "name": "stdout",
     "output_type": "stream",
     "text": [
      "<class 'pandas.core.frame.DataFrame'>\n",
      "RangeIndex: 149396 entries, 0 to 149395\n",
      "Data columns (total 4 columns):\n",
      "id              149396 non-null object\n",
      "mb_used         149396 non-null float64\n",
      "session_date    149396 non-null datetime64[ns]\n",
      "user_id         149396 non-null int64\n",
      "dtypes: datetime64[ns](1), float64(1), int64(1), object(1)\n",
      "memory usage: 4.6+ MB\n"
     ]
    }
   ],
   "source": [
    "df_internet['session_date'] = pd.to_datetime(\n",
    "    df_internet['session_date'], format='%Y-%m-%d'\n",
    ")\n",
    "df_internet.info()"
   ]
  },
  {
   "cell_type": "markdown",
   "metadata": {},
   "source": [
    "Уберем нулевые показатели МБ и округлим МБ в большую сторону."
   ]
  },
  {
   "cell_type": "code",
   "execution_count": 97,
   "metadata": {},
   "outputs": [],
   "source": [
    "df_internet =  df_internet.query('mb_used != 0')\n",
    "df_internet['mb_used'] = np.ceil(df_internet['mb_used'])"
   ]
  },
  {
   "cell_type": "markdown",
   "metadata": {},
   "source": [
    "Посчитаем объем израсходованного интернет-трафика по месяцам"
   ]
  },
  {
   "cell_type": "code",
   "execution_count": 98,
   "metadata": {},
   "outputs": [
    {
     "data": {
      "text/html": [
       "<div>\n",
       "<style scoped>\n",
       "    .dataframe tbody tr th:only-of-type {\n",
       "        vertical-align: middle;\n",
       "    }\n",
       "\n",
       "    .dataframe tbody tr th {\n",
       "        vertical-align: top;\n",
       "    }\n",
       "\n",
       "    .dataframe thead th {\n",
       "        text-align: right;\n",
       "    }\n",
       "</style>\n",
       "<table border=\"1\" class=\"dataframe\">\n",
       "  <thead>\n",
       "    <tr style=\"text-align: right;\">\n",
       "      <th></th>\n",
       "      <th>user_id</th>\n",
       "      <th>month</th>\n",
       "      <th>mb_used</th>\n",
       "    </tr>\n",
       "  </thead>\n",
       "  <tbody>\n",
       "    <tr>\n",
       "      <td>0</td>\n",
       "      <td>1000</td>\n",
       "      <td>5</td>\n",
       "      <td>2256.0</td>\n",
       "    </tr>\n",
       "    <tr>\n",
       "      <td>1</td>\n",
       "      <td>1000</td>\n",
       "      <td>6</td>\n",
       "      <td>23257.0</td>\n",
       "    </tr>\n",
       "    <tr>\n",
       "      <td>2</td>\n",
       "      <td>1000</td>\n",
       "      <td>7</td>\n",
       "      <td>14016.0</td>\n",
       "    </tr>\n",
       "    <tr>\n",
       "      <td>3</td>\n",
       "      <td>1000</td>\n",
       "      <td>8</td>\n",
       "      <td>14070.0</td>\n",
       "    </tr>\n",
       "    <tr>\n",
       "      <td>4</td>\n",
       "      <td>1000</td>\n",
       "      <td>9</td>\n",
       "      <td>14581.0</td>\n",
       "    </tr>\n",
       "  </tbody>\n",
       "</table>\n",
       "</div>"
      ],
      "text/plain": [
       "   user_id  month  mb_used\n",
       "0     1000      5   2256.0\n",
       "1     1000      6  23257.0\n",
       "2     1000      7  14016.0\n",
       "3     1000      8  14070.0\n",
       "4     1000      9  14581.0"
      ]
     },
     "execution_count": 98,
     "metadata": {},
     "output_type": "execute_result"
    }
   ],
   "source": [
    "df_internet['month'] = df_internet['session_date'].dt.month\n",
    "df_internet_count = df_internet.groupby(by = ['user_id','month']).agg({'mb_used':'sum'})\n",
    "df_internet_count.reset_index(inplace=True)\n",
    "df_internet_count.columns = ['user_id','month','mb_used']\n",
    "df_internet_count.head()"
   ]
  },
  {
   "cell_type": "markdown",
   "metadata": {},
   "source": [
    "Объединим данные по сводным таблицам calls, message, internet."
   ]
  },
  {
   "cell_type": "code",
   "execution_count": 99,
   "metadata": {},
   "outputs": [
    {
     "data": {
      "text/html": [
       "<div>\n",
       "<style scoped>\n",
       "    .dataframe tbody tr th:only-of-type {\n",
       "        vertical-align: middle;\n",
       "    }\n",
       "\n",
       "    .dataframe tbody tr th {\n",
       "        vertical-align: top;\n",
       "    }\n",
       "\n",
       "    .dataframe thead th {\n",
       "        text-align: right;\n",
       "    }\n",
       "</style>\n",
       "<table border=\"1\" class=\"dataframe\">\n",
       "  <thead>\n",
       "    <tr style=\"text-align: right;\">\n",
       "      <th></th>\n",
       "      <th>user_id</th>\n",
       "      <th>month</th>\n",
       "      <th>calls_count</th>\n",
       "      <th>calls_duration</th>\n",
       "      <th>calls_duration_round</th>\n",
       "    </tr>\n",
       "  </thead>\n",
       "  <tbody>\n",
       "    <tr>\n",
       "      <td>0</td>\n",
       "      <td>1000</td>\n",
       "      <td>5</td>\n",
       "      <td>17</td>\n",
       "      <td>150.06</td>\n",
       "      <td>159</td>\n",
       "    </tr>\n",
       "    <tr>\n",
       "      <td>1</td>\n",
       "      <td>1000</td>\n",
       "      <td>6</td>\n",
       "      <td>28</td>\n",
       "      <td>158.90</td>\n",
       "      <td>172</td>\n",
       "    </tr>\n",
       "    <tr>\n",
       "      <td>2</td>\n",
       "      <td>1000</td>\n",
       "      <td>7</td>\n",
       "      <td>41</td>\n",
       "      <td>318.80</td>\n",
       "      <td>340</td>\n",
       "    </tr>\n",
       "    <tr>\n",
       "      <td>3</td>\n",
       "      <td>1000</td>\n",
       "      <td>8</td>\n",
       "      <td>42</td>\n",
       "      <td>389.87</td>\n",
       "      <td>408</td>\n",
       "    </tr>\n",
       "    <tr>\n",
       "      <td>4</td>\n",
       "      <td>1000</td>\n",
       "      <td>9</td>\n",
       "      <td>46</td>\n",
       "      <td>440.14</td>\n",
       "      <td>466</td>\n",
       "    </tr>\n",
       "  </tbody>\n",
       "</table>\n",
       "</div>"
      ],
      "text/plain": [
       "   user_id  month  calls_count  calls_duration  calls_duration_round\n",
       "0     1000      5           17          150.06                   159\n",
       "1     1000      6           28          158.90                   172\n",
       "2     1000      7           41          318.80                   340\n",
       "3     1000      8           42          389.87                   408\n",
       "4     1000      9           46          440.14                   466"
      ]
     },
     "execution_count": 99,
     "metadata": {},
     "output_type": "execute_result"
    }
   ],
   "source": [
    "df_calls_count.head()"
   ]
  },
  {
   "cell_type": "code",
   "execution_count": 100,
   "metadata": {},
   "outputs": [
    {
     "data": {
      "text/html": [
       "<div>\n",
       "<style scoped>\n",
       "    .dataframe tbody tr th:only-of-type {\n",
       "        vertical-align: middle;\n",
       "    }\n",
       "\n",
       "    .dataframe tbody tr th {\n",
       "        vertical-align: top;\n",
       "    }\n",
       "\n",
       "    .dataframe thead th {\n",
       "        text-align: right;\n",
       "    }\n",
       "</style>\n",
       "<table border=\"1\" class=\"dataframe\">\n",
       "  <thead>\n",
       "    <tr style=\"text-align: right;\">\n",
       "      <th></th>\n",
       "      <th>user_id</th>\n",
       "      <th>month</th>\n",
       "      <th>messages_count</th>\n",
       "    </tr>\n",
       "  </thead>\n",
       "  <tbody>\n",
       "    <tr>\n",
       "      <td>0</td>\n",
       "      <td>1000</td>\n",
       "      <td>5</td>\n",
       "      <td>22</td>\n",
       "    </tr>\n",
       "    <tr>\n",
       "      <td>1</td>\n",
       "      <td>1000</td>\n",
       "      <td>6</td>\n",
       "      <td>60</td>\n",
       "    </tr>\n",
       "    <tr>\n",
       "      <td>2</td>\n",
       "      <td>1000</td>\n",
       "      <td>7</td>\n",
       "      <td>75</td>\n",
       "    </tr>\n",
       "    <tr>\n",
       "      <td>3</td>\n",
       "      <td>1000</td>\n",
       "      <td>8</td>\n",
       "      <td>81</td>\n",
       "    </tr>\n",
       "    <tr>\n",
       "      <td>4</td>\n",
       "      <td>1000</td>\n",
       "      <td>9</td>\n",
       "      <td>57</td>\n",
       "    </tr>\n",
       "  </tbody>\n",
       "</table>\n",
       "</div>"
      ],
      "text/plain": [
       "   user_id  month  messages_count\n",
       "0     1000      5              22\n",
       "1     1000      6              60\n",
       "2     1000      7              75\n",
       "3     1000      8              81\n",
       "4     1000      9              57"
      ]
     },
     "execution_count": 100,
     "metadata": {},
     "output_type": "execute_result"
    }
   ],
   "source": [
    "df_messages_count.head()"
   ]
  },
  {
   "cell_type": "code",
   "execution_count": 101,
   "metadata": {},
   "outputs": [
    {
     "data": {
      "text/html": [
       "<div>\n",
       "<style scoped>\n",
       "    .dataframe tbody tr th:only-of-type {\n",
       "        vertical-align: middle;\n",
       "    }\n",
       "\n",
       "    .dataframe tbody tr th {\n",
       "        vertical-align: top;\n",
       "    }\n",
       "\n",
       "    .dataframe thead th {\n",
       "        text-align: right;\n",
       "    }\n",
       "</style>\n",
       "<table border=\"1\" class=\"dataframe\">\n",
       "  <thead>\n",
       "    <tr style=\"text-align: right;\">\n",
       "      <th></th>\n",
       "      <th>user_id</th>\n",
       "      <th>month</th>\n",
       "      <th>calls_count</th>\n",
       "      <th>calls_duration</th>\n",
       "      <th>calls_duration_round</th>\n",
       "      <th>messages_count</th>\n",
       "      <th>mb_used</th>\n",
       "    </tr>\n",
       "  </thead>\n",
       "  <tbody>\n",
       "    <tr>\n",
       "      <td>0</td>\n",
       "      <td>1000</td>\n",
       "      <td>5</td>\n",
       "      <td>17.0</td>\n",
       "      <td>150.06</td>\n",
       "      <td>159.0</td>\n",
       "      <td>22.0</td>\n",
       "      <td>2256.0</td>\n",
       "    </tr>\n",
       "    <tr>\n",
       "      <td>1</td>\n",
       "      <td>1000</td>\n",
       "      <td>6</td>\n",
       "      <td>28.0</td>\n",
       "      <td>158.90</td>\n",
       "      <td>172.0</td>\n",
       "      <td>60.0</td>\n",
       "      <td>23257.0</td>\n",
       "    </tr>\n",
       "    <tr>\n",
       "      <td>2</td>\n",
       "      <td>1000</td>\n",
       "      <td>7</td>\n",
       "      <td>41.0</td>\n",
       "      <td>318.80</td>\n",
       "      <td>340.0</td>\n",
       "      <td>75.0</td>\n",
       "      <td>14016.0</td>\n",
       "    </tr>\n",
       "    <tr>\n",
       "      <td>3</td>\n",
       "      <td>1000</td>\n",
       "      <td>8</td>\n",
       "      <td>42.0</td>\n",
       "      <td>389.87</td>\n",
       "      <td>408.0</td>\n",
       "      <td>81.0</td>\n",
       "      <td>14070.0</td>\n",
       "    </tr>\n",
       "    <tr>\n",
       "      <td>4</td>\n",
       "      <td>1000</td>\n",
       "      <td>9</td>\n",
       "      <td>46.0</td>\n",
       "      <td>440.14</td>\n",
       "      <td>466.0</td>\n",
       "      <td>57.0</td>\n",
       "      <td>14581.0</td>\n",
       "    </tr>\n",
       "    <tr>\n",
       "      <td>...</td>\n",
       "      <td>...</td>\n",
       "      <td>...</td>\n",
       "      <td>...</td>\n",
       "      <td>...</td>\n",
       "      <td>...</td>\n",
       "      <td>...</td>\n",
       "      <td>...</td>\n",
       "    </tr>\n",
       "    <tr>\n",
       "      <td>3209</td>\n",
       "      <td>1489</td>\n",
       "      <td>10</td>\n",
       "      <td>NaN</td>\n",
       "      <td>NaN</td>\n",
       "      <td>NaN</td>\n",
       "      <td>21.0</td>\n",
       "      <td>19588.0</td>\n",
       "    </tr>\n",
       "    <tr>\n",
       "      <td>3210</td>\n",
       "      <td>1489</td>\n",
       "      <td>11</td>\n",
       "      <td>NaN</td>\n",
       "      <td>NaN</td>\n",
       "      <td>NaN</td>\n",
       "      <td>20.0</td>\n",
       "      <td>17516.0</td>\n",
       "    </tr>\n",
       "    <tr>\n",
       "      <td>3211</td>\n",
       "      <td>1489</td>\n",
       "      <td>12</td>\n",
       "      <td>NaN</td>\n",
       "      <td>NaN</td>\n",
       "      <td>NaN</td>\n",
       "      <td>35.0</td>\n",
       "      <td>17341.0</td>\n",
       "    </tr>\n",
       "    <tr>\n",
       "      <td>3212</td>\n",
       "      <td>1240</td>\n",
       "      <td>2</td>\n",
       "      <td>NaN</td>\n",
       "      <td>NaN</td>\n",
       "      <td>NaN</td>\n",
       "      <td>NaN</td>\n",
       "      <td>961.0</td>\n",
       "    </tr>\n",
       "    <tr>\n",
       "      <td>3213</td>\n",
       "      <td>1476</td>\n",
       "      <td>4</td>\n",
       "      <td>NaN</td>\n",
       "      <td>NaN</td>\n",
       "      <td>NaN</td>\n",
       "      <td>NaN</td>\n",
       "      <td>531.0</td>\n",
       "    </tr>\n",
       "  </tbody>\n",
       "</table>\n",
       "<p>3214 rows × 7 columns</p>\n",
       "</div>"
      ],
      "text/plain": [
       "      user_id  month  calls_count  calls_duration  calls_duration_round  \\\n",
       "0        1000      5         17.0          150.06                 159.0   \n",
       "1        1000      6         28.0          158.90                 172.0   \n",
       "2        1000      7         41.0          318.80                 340.0   \n",
       "3        1000      8         42.0          389.87                 408.0   \n",
       "4        1000      9         46.0          440.14                 466.0   \n",
       "...       ...    ...          ...             ...                   ...   \n",
       "3209     1489     10          NaN             NaN                   NaN   \n",
       "3210     1489     11          NaN             NaN                   NaN   \n",
       "3211     1489     12          NaN             NaN                   NaN   \n",
       "3212     1240      2          NaN             NaN                   NaN   \n",
       "3213     1476      4          NaN             NaN                   NaN   \n",
       "\n",
       "      messages_count  mb_used  \n",
       "0               22.0   2256.0  \n",
       "1               60.0  23257.0  \n",
       "2               75.0  14016.0  \n",
       "3               81.0  14070.0  \n",
       "4               57.0  14581.0  \n",
       "...              ...      ...  \n",
       "3209            21.0  19588.0  \n",
       "3210            20.0  17516.0  \n",
       "3211            35.0  17341.0  \n",
       "3212             NaN    961.0  \n",
       "3213             NaN    531.0  \n",
       "\n",
       "[3214 rows x 7 columns]"
      ]
     },
     "execution_count": 101,
     "metadata": {},
     "output_type": "execute_result"
    }
   ],
   "source": [
    "df_stat = df_calls_count.merge(df_messages_count, on=['user_id','month'], how='outer')\n",
    "df_stat = df_stat.merge(df_internet_count, on=['user_id','month'], how='outer')\n",
    "df_stat"
   ]
  },
  {
   "cell_type": "markdown",
   "metadata": {},
   "source": [
    "Добавим в df_stat информацию о наименовании тарифа"
   ]
  },
  {
   "cell_type": "code",
   "execution_count": 102,
   "metadata": {},
   "outputs": [
    {
     "data": {
      "text/html": [
       "<div>\n",
       "<style scoped>\n",
       "    .dataframe tbody tr th:only-of-type {\n",
       "        vertical-align: middle;\n",
       "    }\n",
       "\n",
       "    .dataframe tbody tr th {\n",
       "        vertical-align: top;\n",
       "    }\n",
       "\n",
       "    .dataframe thead th {\n",
       "        text-align: right;\n",
       "    }\n",
       "</style>\n",
       "<table border=\"1\" class=\"dataframe\">\n",
       "  <thead>\n",
       "    <tr style=\"text-align: right;\">\n",
       "      <th></th>\n",
       "      <th>user_id</th>\n",
       "      <th>month</th>\n",
       "      <th>calls_count</th>\n",
       "      <th>calls_duration</th>\n",
       "      <th>calls_duration_round</th>\n",
       "      <th>messages_count</th>\n",
       "      <th>mb_used</th>\n",
       "      <th>tariff</th>\n",
       "      <th>city</th>\n",
       "    </tr>\n",
       "  </thead>\n",
       "  <tbody>\n",
       "    <tr>\n",
       "      <td>0</td>\n",
       "      <td>1000</td>\n",
       "      <td>5</td>\n",
       "      <td>17.0</td>\n",
       "      <td>150.06</td>\n",
       "      <td>159.0</td>\n",
       "      <td>22.0</td>\n",
       "      <td>2256.0</td>\n",
       "      <td>ultra</td>\n",
       "      <td>Краснодар</td>\n",
       "    </tr>\n",
       "    <tr>\n",
       "      <td>1</td>\n",
       "      <td>1000</td>\n",
       "      <td>6</td>\n",
       "      <td>28.0</td>\n",
       "      <td>158.90</td>\n",
       "      <td>172.0</td>\n",
       "      <td>60.0</td>\n",
       "      <td>23257.0</td>\n",
       "      <td>ultra</td>\n",
       "      <td>Краснодар</td>\n",
       "    </tr>\n",
       "    <tr>\n",
       "      <td>2</td>\n",
       "      <td>1000</td>\n",
       "      <td>7</td>\n",
       "      <td>41.0</td>\n",
       "      <td>318.80</td>\n",
       "      <td>340.0</td>\n",
       "      <td>75.0</td>\n",
       "      <td>14016.0</td>\n",
       "      <td>ultra</td>\n",
       "      <td>Краснодар</td>\n",
       "    </tr>\n",
       "    <tr>\n",
       "      <td>3</td>\n",
       "      <td>1000</td>\n",
       "      <td>8</td>\n",
       "      <td>42.0</td>\n",
       "      <td>389.87</td>\n",
       "      <td>408.0</td>\n",
       "      <td>81.0</td>\n",
       "      <td>14070.0</td>\n",
       "      <td>ultra</td>\n",
       "      <td>Краснодар</td>\n",
       "    </tr>\n",
       "    <tr>\n",
       "      <td>4</td>\n",
       "      <td>1000</td>\n",
       "      <td>9</td>\n",
       "      <td>46.0</td>\n",
       "      <td>440.14</td>\n",
       "      <td>466.0</td>\n",
       "      <td>57.0</td>\n",
       "      <td>14581.0</td>\n",
       "      <td>ultra</td>\n",
       "      <td>Краснодар</td>\n",
       "    </tr>\n",
       "  </tbody>\n",
       "</table>\n",
       "</div>"
      ],
      "text/plain": [
       "   user_id  month  calls_count  calls_duration  calls_duration_round  \\\n",
       "0     1000      5         17.0          150.06                 159.0   \n",
       "1     1000      6         28.0          158.90                 172.0   \n",
       "2     1000      7         41.0          318.80                 340.0   \n",
       "3     1000      8         42.0          389.87                 408.0   \n",
       "4     1000      9         46.0          440.14                 466.0   \n",
       "\n",
       "   messages_count  mb_used tariff       city  \n",
       "0            22.0   2256.0  ultra  Краснодар  \n",
       "1            60.0  23257.0  ultra  Краснодар  \n",
       "2            75.0  14016.0  ultra  Краснодар  \n",
       "3            81.0  14070.0  ultra  Краснодар  \n",
       "4            57.0  14581.0  ultra  Краснодар  "
      ]
     },
     "execution_count": 102,
     "metadata": {},
     "output_type": "execute_result"
    }
   ],
   "source": [
    "df_stat = df_stat.merge(df_users[['user_id','tariff','city']], on=['user_id'], how='left')\n",
    "df_stat.head()"
   ]
  },
  {
   "cell_type": "markdown",
   "metadata": {},
   "source": [
    "Добавим в df_stat информацию о тарифных условиях"
   ]
  },
  {
   "cell_type": "code",
   "execution_count": 103,
   "metadata": {},
   "outputs": [
    {
     "data": {
      "text/html": [
       "<div>\n",
       "<style scoped>\n",
       "    .dataframe tbody tr th:only-of-type {\n",
       "        vertical-align: middle;\n",
       "    }\n",
       "\n",
       "    .dataframe tbody tr th {\n",
       "        vertical-align: top;\n",
       "    }\n",
       "\n",
       "    .dataframe thead th {\n",
       "        text-align: right;\n",
       "    }\n",
       "</style>\n",
       "<table border=\"1\" class=\"dataframe\">\n",
       "  <thead>\n",
       "    <tr style=\"text-align: right;\">\n",
       "      <th></th>\n",
       "      <th>user_id</th>\n",
       "      <th>month</th>\n",
       "      <th>calls_count</th>\n",
       "      <th>calls_duration</th>\n",
       "      <th>calls_duration_round</th>\n",
       "      <th>messages_count</th>\n",
       "      <th>mb_used</th>\n",
       "      <th>tariff</th>\n",
       "      <th>city</th>\n",
       "      <th>messages_included</th>\n",
       "      <th>mb_per_month_included</th>\n",
       "      <th>minutes_included</th>\n",
       "      <th>rub_monthly_fee</th>\n",
       "      <th>rub_per_gb</th>\n",
       "      <th>rub_per_message</th>\n",
       "      <th>rub_per_minute</th>\n",
       "    </tr>\n",
       "  </thead>\n",
       "  <tbody>\n",
       "    <tr>\n",
       "      <td>0</td>\n",
       "      <td>1000</td>\n",
       "      <td>5</td>\n",
       "      <td>17.0</td>\n",
       "      <td>150.06</td>\n",
       "      <td>159.0</td>\n",
       "      <td>22.0</td>\n",
       "      <td>2256.0</td>\n",
       "      <td>ultra</td>\n",
       "      <td>Краснодар</td>\n",
       "      <td>1000</td>\n",
       "      <td>30720</td>\n",
       "      <td>3000</td>\n",
       "      <td>1950</td>\n",
       "      <td>150</td>\n",
       "      <td>1</td>\n",
       "      <td>1</td>\n",
       "    </tr>\n",
       "    <tr>\n",
       "      <td>1</td>\n",
       "      <td>1000</td>\n",
       "      <td>6</td>\n",
       "      <td>28.0</td>\n",
       "      <td>158.90</td>\n",
       "      <td>172.0</td>\n",
       "      <td>60.0</td>\n",
       "      <td>23257.0</td>\n",
       "      <td>ultra</td>\n",
       "      <td>Краснодар</td>\n",
       "      <td>1000</td>\n",
       "      <td>30720</td>\n",
       "      <td>3000</td>\n",
       "      <td>1950</td>\n",
       "      <td>150</td>\n",
       "      <td>1</td>\n",
       "      <td>1</td>\n",
       "    </tr>\n",
       "    <tr>\n",
       "      <td>2</td>\n",
       "      <td>1000</td>\n",
       "      <td>7</td>\n",
       "      <td>41.0</td>\n",
       "      <td>318.80</td>\n",
       "      <td>340.0</td>\n",
       "      <td>75.0</td>\n",
       "      <td>14016.0</td>\n",
       "      <td>ultra</td>\n",
       "      <td>Краснодар</td>\n",
       "      <td>1000</td>\n",
       "      <td>30720</td>\n",
       "      <td>3000</td>\n",
       "      <td>1950</td>\n",
       "      <td>150</td>\n",
       "      <td>1</td>\n",
       "      <td>1</td>\n",
       "    </tr>\n",
       "    <tr>\n",
       "      <td>3</td>\n",
       "      <td>1000</td>\n",
       "      <td>8</td>\n",
       "      <td>42.0</td>\n",
       "      <td>389.87</td>\n",
       "      <td>408.0</td>\n",
       "      <td>81.0</td>\n",
       "      <td>14070.0</td>\n",
       "      <td>ultra</td>\n",
       "      <td>Краснодар</td>\n",
       "      <td>1000</td>\n",
       "      <td>30720</td>\n",
       "      <td>3000</td>\n",
       "      <td>1950</td>\n",
       "      <td>150</td>\n",
       "      <td>1</td>\n",
       "      <td>1</td>\n",
       "    </tr>\n",
       "    <tr>\n",
       "      <td>4</td>\n",
       "      <td>1000</td>\n",
       "      <td>9</td>\n",
       "      <td>46.0</td>\n",
       "      <td>440.14</td>\n",
       "      <td>466.0</td>\n",
       "      <td>57.0</td>\n",
       "      <td>14581.0</td>\n",
       "      <td>ultra</td>\n",
       "      <td>Краснодар</td>\n",
       "      <td>1000</td>\n",
       "      <td>30720</td>\n",
       "      <td>3000</td>\n",
       "      <td>1950</td>\n",
       "      <td>150</td>\n",
       "      <td>1</td>\n",
       "      <td>1</td>\n",
       "    </tr>\n",
       "  </tbody>\n",
       "</table>\n",
       "</div>"
      ],
      "text/plain": [
       "   user_id  month  calls_count  calls_duration  calls_duration_round  \\\n",
       "0     1000      5         17.0          150.06                 159.0   \n",
       "1     1000      6         28.0          158.90                 172.0   \n",
       "2     1000      7         41.0          318.80                 340.0   \n",
       "3     1000      8         42.0          389.87                 408.0   \n",
       "4     1000      9         46.0          440.14                 466.0   \n",
       "\n",
       "   messages_count  mb_used tariff       city  messages_included  \\\n",
       "0            22.0   2256.0  ultra  Краснодар               1000   \n",
       "1            60.0  23257.0  ultra  Краснодар               1000   \n",
       "2            75.0  14016.0  ultra  Краснодар               1000   \n",
       "3            81.0  14070.0  ultra  Краснодар               1000   \n",
       "4            57.0  14581.0  ultra  Краснодар               1000   \n",
       "\n",
       "   mb_per_month_included  minutes_included  rub_monthly_fee  rub_per_gb  \\\n",
       "0                  30720              3000             1950         150   \n",
       "1                  30720              3000             1950         150   \n",
       "2                  30720              3000             1950         150   \n",
       "3                  30720              3000             1950         150   \n",
       "4                  30720              3000             1950         150   \n",
       "\n",
       "   rub_per_message  rub_per_minute  \n",
       "0                1               1  \n",
       "1                1               1  \n",
       "2                1               1  \n",
       "3                1               1  \n",
       "4                1               1  "
      ]
     },
     "execution_count": 103,
     "metadata": {},
     "output_type": "execute_result"
    }
   ],
   "source": [
    "df_stat = df_stat.merge(df_tariffs, left_on='tariff', right_on = 'tariff_name', how='left')\n",
    "df_stat = df_stat.drop(columns= 'tariff_name')\n",
    "df_stat.head()"
   ]
  },
  {
   "cell_type": "code",
   "execution_count": 104,
   "metadata": {},
   "outputs": [
    {
     "data": {
      "text/plain": [
       "user_id                    0\n",
       "month                      0\n",
       "calls_count               46\n",
       "calls_duration            46\n",
       "calls_duration_round      46\n",
       "messages_count           497\n",
       "mb_used                   13\n",
       "tariff                     0\n",
       "city                       0\n",
       "messages_included          0\n",
       "mb_per_month_included      0\n",
       "minutes_included           0\n",
       "rub_monthly_fee            0\n",
       "rub_per_gb                 0\n",
       "rub_per_message            0\n",
       "rub_per_minute             0\n",
       "dtype: int64"
      ]
     },
     "execution_count": 104,
     "metadata": {},
     "output_type": "execute_result"
    }
   ],
   "source": [
    "df_stat.isnull().sum()"
   ]
  },
  {
   "cell_type": "markdown",
   "metadata": {},
   "source": [
    "Заполним пропущенные значения нулями, т.к. наличие пустых значений говорит о том, что клиент не пользовался услугой"
   ]
  },
  {
   "cell_type": "code",
   "execution_count": 105,
   "metadata": {},
   "outputs": [],
   "source": [
    "df_stat.fillna(0, inplace = True)"
   ]
  },
  {
   "cell_type": "code",
   "execution_count": 106,
   "metadata": {},
   "outputs": [
    {
     "data": {
      "text/html": [
       "<div>\n",
       "<style scoped>\n",
       "    .dataframe tbody tr th:only-of-type {\n",
       "        vertical-align: middle;\n",
       "    }\n",
       "\n",
       "    .dataframe tbody tr th {\n",
       "        vertical-align: top;\n",
       "    }\n",
       "\n",
       "    .dataframe thead th {\n",
       "        text-align: right;\n",
       "    }\n",
       "</style>\n",
       "<table border=\"1\" class=\"dataframe\">\n",
       "  <thead>\n",
       "    <tr style=\"text-align: right;\">\n",
       "      <th></th>\n",
       "      <th>user_id</th>\n",
       "      <th>month</th>\n",
       "      <th>calls_count</th>\n",
       "      <th>calls_duration</th>\n",
       "      <th>calls_duration_round</th>\n",
       "      <th>messages_count</th>\n",
       "      <th>mb_used</th>\n",
       "      <th>tariff</th>\n",
       "      <th>city</th>\n",
       "      <th>messages_included</th>\n",
       "      <th>mb_per_month_included</th>\n",
       "      <th>minutes_included</th>\n",
       "      <th>rub_monthly_fee</th>\n",
       "      <th>rub_per_gb</th>\n",
       "      <th>rub_per_message</th>\n",
       "      <th>rub_per_minute</th>\n",
       "      <th>revenue</th>\n",
       "    </tr>\n",
       "  </thead>\n",
       "  <tbody>\n",
       "    <tr>\n",
       "      <td>0</td>\n",
       "      <td>1000</td>\n",
       "      <td>5</td>\n",
       "      <td>17.0</td>\n",
       "      <td>150.06</td>\n",
       "      <td>159.0</td>\n",
       "      <td>22.0</td>\n",
       "      <td>2256.0</td>\n",
       "      <td>ultra</td>\n",
       "      <td>Краснодар</td>\n",
       "      <td>1000</td>\n",
       "      <td>30720</td>\n",
       "      <td>3000</td>\n",
       "      <td>1950</td>\n",
       "      <td>150</td>\n",
       "      <td>1</td>\n",
       "      <td>1</td>\n",
       "      <td>1950.0</td>\n",
       "    </tr>\n",
       "    <tr>\n",
       "      <td>1</td>\n",
       "      <td>1000</td>\n",
       "      <td>6</td>\n",
       "      <td>28.0</td>\n",
       "      <td>158.90</td>\n",
       "      <td>172.0</td>\n",
       "      <td>60.0</td>\n",
       "      <td>23257.0</td>\n",
       "      <td>ultra</td>\n",
       "      <td>Краснодар</td>\n",
       "      <td>1000</td>\n",
       "      <td>30720</td>\n",
       "      <td>3000</td>\n",
       "      <td>1950</td>\n",
       "      <td>150</td>\n",
       "      <td>1</td>\n",
       "      <td>1</td>\n",
       "      <td>1950.0</td>\n",
       "    </tr>\n",
       "    <tr>\n",
       "      <td>2</td>\n",
       "      <td>1000</td>\n",
       "      <td>7</td>\n",
       "      <td>41.0</td>\n",
       "      <td>318.80</td>\n",
       "      <td>340.0</td>\n",
       "      <td>75.0</td>\n",
       "      <td>14016.0</td>\n",
       "      <td>ultra</td>\n",
       "      <td>Краснодар</td>\n",
       "      <td>1000</td>\n",
       "      <td>30720</td>\n",
       "      <td>3000</td>\n",
       "      <td>1950</td>\n",
       "      <td>150</td>\n",
       "      <td>1</td>\n",
       "      <td>1</td>\n",
       "      <td>1950.0</td>\n",
       "    </tr>\n",
       "    <tr>\n",
       "      <td>3</td>\n",
       "      <td>1000</td>\n",
       "      <td>8</td>\n",
       "      <td>42.0</td>\n",
       "      <td>389.87</td>\n",
       "      <td>408.0</td>\n",
       "      <td>81.0</td>\n",
       "      <td>14070.0</td>\n",
       "      <td>ultra</td>\n",
       "      <td>Краснодар</td>\n",
       "      <td>1000</td>\n",
       "      <td>30720</td>\n",
       "      <td>3000</td>\n",
       "      <td>1950</td>\n",
       "      <td>150</td>\n",
       "      <td>1</td>\n",
       "      <td>1</td>\n",
       "      <td>1950.0</td>\n",
       "    </tr>\n",
       "    <tr>\n",
       "      <td>4</td>\n",
       "      <td>1000</td>\n",
       "      <td>9</td>\n",
       "      <td>46.0</td>\n",
       "      <td>440.14</td>\n",
       "      <td>466.0</td>\n",
       "      <td>57.0</td>\n",
       "      <td>14581.0</td>\n",
       "      <td>ultra</td>\n",
       "      <td>Краснодар</td>\n",
       "      <td>1000</td>\n",
       "      <td>30720</td>\n",
       "      <td>3000</td>\n",
       "      <td>1950</td>\n",
       "      <td>150</td>\n",
       "      <td>1</td>\n",
       "      <td>1</td>\n",
       "      <td>1950.0</td>\n",
       "    </tr>\n",
       "  </tbody>\n",
       "</table>\n",
       "</div>"
      ],
      "text/plain": [
       "   user_id  month  calls_count  calls_duration  calls_duration_round  \\\n",
       "0     1000      5         17.0          150.06                 159.0   \n",
       "1     1000      6         28.0          158.90                 172.0   \n",
       "2     1000      7         41.0          318.80                 340.0   \n",
       "3     1000      8         42.0          389.87                 408.0   \n",
       "4     1000      9         46.0          440.14                 466.0   \n",
       "\n",
       "   messages_count  mb_used tariff       city  messages_included  \\\n",
       "0            22.0   2256.0  ultra  Краснодар               1000   \n",
       "1            60.0  23257.0  ultra  Краснодар               1000   \n",
       "2            75.0  14016.0  ultra  Краснодар               1000   \n",
       "3            81.0  14070.0  ultra  Краснодар               1000   \n",
       "4            57.0  14581.0  ultra  Краснодар               1000   \n",
       "\n",
       "   mb_per_month_included  minutes_included  rub_monthly_fee  rub_per_gb  \\\n",
       "0                  30720              3000             1950         150   \n",
       "1                  30720              3000             1950         150   \n",
       "2                  30720              3000             1950         150   \n",
       "3                  30720              3000             1950         150   \n",
       "4                  30720              3000             1950         150   \n",
       "\n",
       "   rub_per_message  rub_per_minute  revenue  \n",
       "0                1               1   1950.0  \n",
       "1                1               1   1950.0  \n",
       "2                1               1   1950.0  \n",
       "3                1               1   1950.0  \n",
       "4                1               1   1950.0  "
      ]
     },
     "execution_count": 106,
     "metadata": {},
     "output_type": "execute_result"
    }
   ],
   "source": [
    "import math\n",
    "def get_revenue (row):\n",
    "    revenue = row['rub_monthly_fee']\n",
    "    if row['calls_duration_round'] > row['minutes_included']:\n",
    "        revenue += (row['calls_duration_round'] - row['minutes_included']) * row['rub_per_minute']\n",
    "    if row['messages_count'] > row['messages_included']:\n",
    "        revenue += (row['messages_count'] - row['messages_included']) * row['rub_per_message']\n",
    "    if row['mb_used']>row['mb_per_month_included']:\n",
    "        revenue += math.ceil((row['mb_used']-row['mb_per_month_included'])/1024) * row['rub_per_gb']\n",
    "    return revenue\n",
    "df_stat['revenue'] = df_stat.apply(get_revenue, axis = 1)\n",
    "df_stat.head()"
   ]
  },
  {
   "cell_type": "markdown",
   "metadata": {},
   "source": [
    "## Анализ данных"
   ]
  },
  {
   "cell_type": "markdown",
   "metadata": {},
   "source": [
    "Посмотрим сколько минут разговора нужно пользователям разных тарифов в месяц"
   ]
  },
  {
   "cell_type": "code",
   "execution_count": 107,
   "metadata": {},
   "outputs": [
    {
     "data": {
      "text/plain": [
       "<matplotlib.axes._subplots.AxesSubplot at 0x7f13ce625f90>"
      ]
     },
     "execution_count": 107,
     "metadata": {},
     "output_type": "execute_result"
    },
    {
     "data": {
      "image/png": "[encoded data removed]",
      "text/plain": [
       "<Figure size 432x288 with 1 Axes>"
      ]
     },
     "metadata": {
      "needs_background": "light"
     },
     "output_type": "display_data"
    }
   ],
   "source": [
    "df_stat.pivot_table(index = 'month', values='calls_duration_round', columns = 'tariff').plot( grid = True,style = '-o')"
   ]
  },
  {
   "cell_type": "code",
   "execution_count": 108,
   "metadata": {
    "scrolled": true
   },
   "outputs": [
    {
     "data": {
      "text/plain": [
       "array([[<matplotlib.axes._subplots.AxesSubplot object at 0x7f13b124ab50>]],\n",
       "      dtype=object)"
      ]
     },
     "execution_count": 108,
     "metadata": {},
     "output_type": "execute_result"
    },
    {
     "data": {
      "image/png": "[encoded data removed]",
      "text/plain": [
       "<Figure size 432x288 with 1 Axes>"
      ]
     },
     "metadata": {
      "needs_background": "light"
     },
     "output_type": "display_data"
    },
    {
     "data": {
      "image/png": "[encoded data removed]",
      "text/plain": [
       "<Figure size 432x288 with 1 Axes>"
      ]
     },
     "metadata": {
      "needs_background": "light"
     },
     "output_type": "display_data"
    }
   ],
   "source": [
    "# гистограммы распределения\n",
    "df_stat[df_stat['tariff'] == \"ultra\"].hist(column = 'calls_duration_round')\n",
    "df_stat[df_stat['tariff'] != \"ultra\"].hist(column = 'calls_duration_round')"
   ]
  },
  {
   "cell_type": "code",
   "execution_count": 109,
   "metadata": {},
   "outputs": [
    {
     "name": "stdout",
     "output_type": "stream",
     "text": [
      "Данные по calls_duration_round тариф ultra:\n",
      "Среднее значение:  526.6233502538071\n",
      "Дисперсия:  100873.63339730098\n",
      "Стандартное отклонение:  317.6060978591264\n",
      "\n",
      "Данные по calls_duration_round тариф smart:\n",
      "Среднее значение:  417.9349484073576\n",
      "Дисперсия:  36219.31578434428\n",
      "Стандартное отклонение:  190.31372988921288\n",
      "\n"
     ]
    }
   ],
   "source": [
    "# посчитаем среднее значение, дисперсию и стандартное отклонение по calls_duration\n",
    "ultra_calls_duration_mean = df_stat[df_stat['tariff'] == \"ultra\"]['calls_duration_round'].mean()\n",
    "ultra_calls_duration_variance = np.var(df_stat[df_stat['tariff'] == \"ultra\"]['calls_duration_round'],ddof = 1)\n",
    "ultra_calls_duration_std = np.sqrt(ultra_calls_duration_variance)\n",
    "\n",
    "print(\"Данные по calls_duration_round тариф ultra:\")\n",
    "print(\"Среднее значение: \", ultra_calls_duration_mean)\n",
    "print(\"Дисперсия: \", ultra_calls_duration_variance)\n",
    "print(\"Стандартное отклонение: \", ultra_calls_duration_std)\n",
    "print()\n",
    "\n",
    "smart_calls_duration_mean = df_stat[df_stat['tariff'] == \"smart\"]['calls_duration_round'].mean()\n",
    "smart_calls_duration_variance = np.var(df_stat[df_stat['tariff'] == \"smart\"]['calls_duration_round'], ddof=1)\n",
    "smart_calls_duration_std = np.sqrt(smart_calls_duration_variance)\n",
    "\n",
    "print(\"Данные по calls_duration_round тариф smart:\")\n",
    "print(\"Среднее значение: \", smart_calls_duration_mean)\n",
    "print(\"Дисперсия: \", smart_calls_duration_variance)\n",
    "print(\"Стандартное отклонение: \", smart_calls_duration_std)\n",
    "print()\n"
   ]
  },
  {
   "cell_type": "markdown",
   "metadata": {},
   "source": [
    "Посмотрим сколько сообщений нужно пользователям разных тарифов в месяц"
   ]
  },
  {
   "cell_type": "code",
   "execution_count": 110,
   "metadata": {
    "scrolled": true
   },
   "outputs": [
    {
     "data": {
      "text/plain": [
       "<matplotlib.axes._subplots.AxesSubplot at 0x7f13b11577d0>"
      ]
     },
     "execution_count": 110,
     "metadata": {},
     "output_type": "execute_result"
    },
    {
     "data": {
      "image/png": "[encoded data removed]",
      "text/plain": [
       "<Figure size 432x288 with 1 Axes>"
      ]
     },
     "metadata": {
      "needs_background": "light"
     },
     "output_type": "display_data"
    }
   ],
   "source": [
    "df_stat.pivot_table(index = 'month', values='messages_count', columns = 'tariff').plot( grid = True,style = '-o')"
   ]
  },
  {
   "cell_type": "code",
   "execution_count": 111,
   "metadata": {
    "scrolled": true
   },
   "outputs": [
    {
     "data": {
      "text/plain": [
       "array([[<matplotlib.axes._subplots.AxesSubplot object at 0x7f13b105c6d0>]],\n",
       "      dtype=object)"
      ]
     },
     "execution_count": 111,
     "metadata": {},
     "output_type": "execute_result"
    },
    {
     "data": {
      "image/png": "[encoded data removed]",
      "text/plain": [
       "<Figure size 432x288 with 1 Axes>"
      ]
     },
     "metadata": {
      "needs_background": "light"
     },
     "output_type": "display_data"
    },
    {
     "data": {
      "image/png": "[encoded data removed]",
      "text/plain": [
       "<Figure size 432x288 with 1 Axes>"
      ]
     },
     "metadata": {
      "needs_background": "light"
     },
     "output_type": "display_data"
    }
   ],
   "source": [
    "# гистограммы распределения\n",
    "df_stat[df_stat['tariff'] == \"ultra\"].hist(column = 'messages_count',bins = 30)\n",
    "df_stat[df_stat['tariff'] != \"ultra\"].hist(column = 'messages_count',bins = 30)"
   ]
  },
  {
   "cell_type": "code",
   "execution_count": 112,
   "metadata": {},
   "outputs": [
    {
     "name": "stdout",
     "output_type": "stream",
     "text": [
      "Данные по messages_count тариф ultra:\n",
      "Среднее значение:  49.36345177664975\n",
      "Дисперсия:  2285.2661425446736\n",
      "Стандартное отклонение:  47.804457350174715\n",
      "\n",
      "Данные по messages_count тариф smart:\n",
      "Среднее значение:  33.384028712427096\n",
      "Дисперсия:  796.8129584480083\n",
      "Стандартное отклонение:  28.22787555676141\n",
      "\n"
     ]
    }
   ],
   "source": [
    "# посчитаем среднее значение, дисперсию и стандартное отклонение по messages_count\n",
    "ultra_messages_count_mean = df_stat[df_stat['tariff'] == \"ultra\"]['messages_count'].mean()\n",
    "ultra_messages_count_variance = np.var(df_stat[df_stat['tariff'] == \"ultra\"]['messages_count'], ddof=1)\n",
    "ultra_messages_count_std = np.sqrt(ultra_messages_count_variance)\n",
    "\n",
    "print(\"Данные по messages_count тариф ultra:\")\n",
    "print(\"Среднее значение: \", ultra_messages_count_mean)\n",
    "print(\"Дисперсия: \", ultra_messages_count_variance)\n",
    "print(\"Стандартное отклонение: \", ultra_messages_count_std)\n",
    "print()\n",
    "\n",
    "smart_messages_count_mean = df_stat[df_stat['tariff'] == \"smart\"]['messages_count'].mean()\n",
    "smart_messages_count_variance = np.var(df_stat[df_stat['tariff'] == \"smart\"]['messages_count'], ddof=1)\n",
    "smart_messages_count_std = np.sqrt(smart_messages_count_variance)\n",
    "\n",
    "print(\"Данные по messages_count тариф smart:\")\n",
    "print(\"Среднее значение: \", smart_messages_count_mean)\n",
    "print(\"Дисперсия: \", smart_messages_count_variance)\n",
    "print(\"Стандартное отклонение: \", smart_messages_count_std)\n",
    "print()\n"
   ]
  },
  {
   "cell_type": "markdown",
   "metadata": {},
   "source": [
    "Посмотрим сколько интернет-трафика нужно пользователям разных тарифов в месяц"
   ]
  },
  {
   "cell_type": "code",
   "execution_count": 113,
   "metadata": {},
   "outputs": [
    {
     "data": {
      "text/plain": [
       "<matplotlib.axes._subplots.AxesSubplot at 0x7f13b0efb290>"
      ]
     },
     "execution_count": 113,
     "metadata": {},
     "output_type": "execute_result"
    },
    {
     "data": {
      "image/png": "[encoded data removed]",
      "text/plain": [
       "<Figure size 432x288 with 1 Axes>"
      ]
     },
     "metadata": {
      "needs_background": "light"
     },
     "output_type": "display_data"
    }
   ],
   "source": [
    "df_stat.pivot_table(index = 'month', values='mb_used', columns = 'tariff').plot( grid = True,style = '-o')"
   ]
  },
  {
   "cell_type": "code",
   "execution_count": 114,
   "metadata": {},
   "outputs": [
    {
     "data": {
      "text/plain": [
       "array([[<matplotlib.axes._subplots.AxesSubplot object at 0x7f13b10918d0>]],\n",
       "      dtype=object)"
      ]
     },
     "execution_count": 114,
     "metadata": {},
     "output_type": "execute_result"
    },
    {
     "data": {
      "image/png": "[encoded data removed]",
      "text/plain": [
       "<Figure size 432x288 with 1 Axes>"
      ]
     },
     "metadata": {
      "needs_background": "light"
     },
     "output_type": "display_data"
    },
    {
     "data": {
      "image/png": "[encoded data removed]",
      "text/plain": [
       "<Figure size 432x288 with 1 Axes>"
      ]
     },
     "metadata": {
      "needs_background": "light"
     },
     "output_type": "display_data"
    }
   ],
   "source": [
    "# гистограммы распределения\n",
    "df_stat[df_stat['tariff'] == \"ultra\"].hist(column = 'mb_used',bins = 30)\n",
    "df_stat[df_stat['tariff'] != \"ultra\"].hist(column = 'mb_used',bins = 30)"
   ]
  },
  {
   "cell_type": "code",
   "execution_count": 115,
   "metadata": {
    "scrolled": true
   },
   "outputs": [
    {
     "name": "stdout",
     "output_type": "stream",
     "text": [
      "Данные по mb_used тариф ultra:\n",
      "Среднее значение:  19486.90152284264\n",
      "Дисперсия:  101935621.04821923\n",
      "Стандартное отклонение:  10096.317202238608\n",
      "\n",
      "Данные по mb_used тариф smart:\n",
      "Среднее значение:  16229.188425302826\n",
      "Дисперсия:  34545911.12695753\n",
      "Стандартное отклонение:  5877.576977544193\n"
     ]
    }
   ],
   "source": [
    "# посчитаем среднее значение, дисперсию и стандартное отклонение по mb_used\n",
    "ultra_mb_used_mean = df_stat[df_stat['tariff'] == \"ultra\"]['mb_used'].mean()\n",
    "ultra_mb_used_variance = np.var(df_stat[df_stat['tariff'] == \"ultra\"]['mb_used'],ddof = 1)\n",
    "ultra_mb_used_std = np.sqrt(ultra_mb_used_variance)\n",
    "\n",
    "print(\"Данные по mb_used тариф ultra:\")\n",
    "print(\"Среднее значение: \", ultra_mb_used_mean)\n",
    "print(\"Дисперсия: \", ultra_mb_used_variance)\n",
    "print(\"Стандартное отклонение: \", ultra_mb_used_std)\n",
    "print()\n",
    "\n",
    "smart_mb_used_mean = df_stat[df_stat['tariff'] == \"smart\"]['mb_used'].mean()\n",
    "smart_mb_used_variance = np.var(df_stat[df_stat['tariff'] == \"smart\"]['mb_used'],ddof = 1)\n",
    "smart_mb_used_std = np.sqrt(smart_mb_used_variance)\n",
    "\n",
    "print(\"Данные по mb_used тариф smart:\")\n",
    "print(\"Среднее значение: \", smart_mb_used_mean)\n",
    "print(\"Дисперсия: \", smart_mb_used_variance)\n",
    "print(\"Стандартное отклонение: \", smart_mb_used_std)"
   ]
  },
  {
   "cell_type": "markdown",
   "metadata": {},
   "source": [
    "Проанализируем выручку"
   ]
  },
  {
   "cell_type": "code",
   "execution_count": 116,
   "metadata": {},
   "outputs": [
    {
     "data": {
      "text/plain": [
       "<matplotlib.axes._subplots.AxesSubplot at 0x7f13b1099150>"
      ]
     },
     "execution_count": 116,
     "metadata": {},
     "output_type": "execute_result"
    },
    {
     "data": {
      "image/png": "[encoded data removed]",
      "text/plain": [
       "<Figure size 432x288 with 1 Axes>"
      ]
     },
     "metadata": {
      "needs_background": "light"
     },
     "output_type": "display_data"
    }
   ],
   "source": [
    "df_stat.pivot_table(index = 'month', values='revenue', columns = 'tariff').plot( grid = True,style = '-o')"
   ]
  },
  {
   "cell_type": "code",
   "execution_count": 117,
   "metadata": {
    "scrolled": true
   },
   "outputs": [
    {
     "data": {
      "text/plain": [
       "array([[<matplotlib.axes._subplots.AxesSubplot object at 0x7f13b0dab0d0>]],\n",
       "      dtype=object)"
      ]
     },
     "execution_count": 117,
     "metadata": {},
     "output_type": "execute_result"
    },
    {
     "data": {
      "image/png": "[encoded data removed]",
      "text/plain": [
       "<Figure size 432x288 with 1 Axes>"
      ]
     },
     "metadata": {
      "needs_background": "light"
     },
     "output_type": "display_data"
    },
    {
     "data": {
      "image/png": "[encoded data removed]",
      "text/plain": [
       "<Figure size 432x288 with 1 Axes>"
      ]
     },
     "metadata": {
      "needs_background": "light"
     },
     "output_type": "display_data"
    }
   ],
   "source": [
    "# гистограммы распределения\n",
    "df_stat[df_stat['tariff'] == \"ultra\"].hist(column = 'revenue',bins = 30)\n",
    "df_stat[df_stat['tariff'] != \"ultra\"].hist(column = 'revenue',bins = 30)"
   ]
  },
  {
   "cell_type": "code",
   "execution_count": 118,
   "metadata": {},
   "outputs": [
    {
     "data": {
      "text/plain": [
       "count     985.000000\n",
       "mean     2071.065990\n",
       "std       378.802377\n",
       "min      1950.000000\n",
       "25%      1950.000000\n",
       "50%      1950.000000\n",
       "75%      1950.000000\n",
       "max      4800.000000\n",
       "Name: revenue, dtype: float64"
      ]
     },
     "execution_count": 118,
     "metadata": {},
     "output_type": "execute_result"
    }
   ],
   "source": [
    "# статистика выручки по тарифу Ультра\n",
    "df_stat[df_stat['tariff'] == \"ultra\"]['revenue'].describe()"
   ]
  },
  {
   "cell_type": "code",
   "execution_count": 119,
   "metadata": {},
   "outputs": [
    {
     "data": {
      "text/plain": [
       "count    2229.000000\n",
       "mean     1294.639300\n",
       "std       820.933202\n",
       "min       550.000000\n",
       "25%       550.000000\n",
       "50%      1038.000000\n",
       "75%      1750.000000\n",
       "max      6770.000000\n",
       "Name: revenue, dtype: float64"
      ]
     },
     "execution_count": 119,
     "metadata": {},
     "output_type": "execute_result"
    }
   ],
   "source": [
    "# статистика выручки по тарифу Смарт\n",
    "df_stat[df_stat['tariff'] == \"smart\"]['revenue'].describe()"
   ]
  },
  {
   "cell_type": "code",
   "execution_count": 120,
   "metadata": {},
   "outputs": [
    {
     "data": {
      "text/html": [
       "<div>\n",
       "<style scoped>\n",
       "    .dataframe tbody tr th:only-of-type {\n",
       "        vertical-align: middle;\n",
       "    }\n",
       "\n",
       "    .dataframe tbody tr th {\n",
       "        vertical-align: top;\n",
       "    }\n",
       "\n",
       "    .dataframe thead th {\n",
       "        text-align: right;\n",
       "    }\n",
       "</style>\n",
       "<table border=\"1\" class=\"dataframe\">\n",
       "  <thead>\n",
       "    <tr style=\"text-align: right;\">\n",
       "      <th></th>\n",
       "      <th>sum</th>\n",
       "      <th>count</th>\n",
       "      <th>mean</th>\n",
       "      <th>std</th>\n",
       "      <th>var</th>\n",
       "    </tr>\n",
       "    <tr>\n",
       "      <th>tariff</th>\n",
       "      <th></th>\n",
       "      <th></th>\n",
       "      <th></th>\n",
       "      <th></th>\n",
       "      <th></th>\n",
       "    </tr>\n",
       "  </thead>\n",
       "  <tbody>\n",
       "    <tr>\n",
       "      <td>smart</td>\n",
       "      <td>2885751.0</td>\n",
       "      <td>2229</td>\n",
       "      <td>1294.63930</td>\n",
       "      <td>820.933202</td>\n",
       "      <td>673931.321363</td>\n",
       "    </tr>\n",
       "    <tr>\n",
       "      <td>ultra</td>\n",
       "      <td>2040000.0</td>\n",
       "      <td>985</td>\n",
       "      <td>2071.06599</td>\n",
       "      <td>378.802377</td>\n",
       "      <td>143491.240560</td>\n",
       "    </tr>\n",
       "  </tbody>\n",
       "</table>\n",
       "</div>"
      ],
      "text/plain": [
       "              sum  count        mean         std            var\n",
       "tariff                                                         \n",
       "smart   2885751.0   2229  1294.63930  820.933202  673931.321363\n",
       "ultra   2040000.0    985  2071.06599  378.802377  143491.240560"
      ]
     },
     "execution_count": 120,
     "metadata": {},
     "output_type": "execute_result"
    }
   ],
   "source": [
    "df_stat.groupby('tariff')['revenue'].agg(['sum','count', 'mean', 'std','var'])"
   ]
  },
  {
   "cell_type": "markdown",
   "metadata": {},
   "source": [
    "### Вывод"
   ]
  },
  {
   "cell_type": "markdown",
   "metadata": {},
   "source": [
    "По выручке за год больше набрал тариф Смарт (2,8 млн против 2 млн). Такой результат получен за счет большего кол-ва клиентов (2.2 тыс месячных пакетов услуг за год против 1 тыс.). Средняя выручка от клиента в месяц больше у тарифа Ультра (2 тыс против 1.3 тыс), при этом стандартное отклонение больше у тарифа Смарт. Доход равный стоимости тарифа занимает 1 квартиль у тарифа Смарт и 3 квартиля у тарифа Ультра. Это говорит о том, что пользователи тарифа Смарт чаще и больше уходят за лимит тарифа, чем пользователи Ультра. "
   ]
  },
  {
   "cell_type": "markdown",
   "metadata": {},
   "source": [
    "Исходя из всего анализа мы видим, что тариф Смарт выходит за рамки лимитов по всему спектру услуг, именно из-за этого выручка по данному тарифу имеет такой сильный правый скос и даже средняя выручка куда больше абонентки. Если говорить про Ультру, то абоненты данного тарифа укладываются в рамки, по смс\\минутам имеют сильный недобор до лимитов, тогда как по интернету небольшой перерасход. Выручка со Смарта как видим куда менее стабильна."
   ]
  },
  {
   "cell_type": "markdown",
   "metadata": {},
   "source": [
    "## Проверка гипотез"
   ]
  },
  {
   "cell_type": "markdown",
   "metadata": {},
   "source": [
    "Сформируем гипотезы: \n",
    "\n",
    "Но - средняя выручка пользователей тарифов «Ультра» и «Смарт» не различается\n",
    "\n",
    "Н1 - средняя выручка пользователей тарифов «Ультра» и «Смарт» различается"
   ]
  },
  {
   "cell_type": "markdown",
   "metadata": {},
   "source": [
    "### Проверяем гипотезу, что средняя выручка пользователей тарифов «Ультра» и «Смарт» различается"
   ]
  },
  {
   "cell_type": "code",
   "execution_count": 121,
   "metadata": {},
   "outputs": [
    {
     "data": {
      "text/html": [
       "<div>\n",
       "<style scoped>\n",
       "    .dataframe tbody tr th:only-of-type {\n",
       "        vertical-align: middle;\n",
       "    }\n",
       "\n",
       "    .dataframe tbody tr th {\n",
       "        vertical-align: top;\n",
       "    }\n",
       "\n",
       "    .dataframe thead th {\n",
       "        text-align: right;\n",
       "    }\n",
       "</style>\n",
       "<table border=\"1\" class=\"dataframe\">\n",
       "  <thead>\n",
       "    <tr style=\"text-align: right;\">\n",
       "      <th></th>\n",
       "      <th>sum</th>\n",
       "      <th>count</th>\n",
       "      <th>mean</th>\n",
       "      <th>std</th>\n",
       "      <th>var</th>\n",
       "    </tr>\n",
       "    <tr>\n",
       "      <th>tariff</th>\n",
       "      <th></th>\n",
       "      <th></th>\n",
       "      <th></th>\n",
       "      <th></th>\n",
       "      <th></th>\n",
       "    </tr>\n",
       "  </thead>\n",
       "  <tbody>\n",
       "    <tr>\n",
       "      <td>smart</td>\n",
       "      <td>2885751.0</td>\n",
       "      <td>2229</td>\n",
       "      <td>1294.63930</td>\n",
       "      <td>820.933202</td>\n",
       "      <td>673931.321363</td>\n",
       "    </tr>\n",
       "    <tr>\n",
       "      <td>ultra</td>\n",
       "      <td>2040000.0</td>\n",
       "      <td>985</td>\n",
       "      <td>2071.06599</td>\n",
       "      <td>378.802377</td>\n",
       "      <td>143491.240560</td>\n",
       "    </tr>\n",
       "  </tbody>\n",
       "</table>\n",
       "</div>"
      ],
      "text/plain": [
       "              sum  count        mean         std            var\n",
       "tariff                                                         \n",
       "smart   2885751.0   2229  1294.63930  820.933202  673931.321363\n",
       "ultra   2040000.0    985  2071.06599  378.802377  143491.240560"
      ]
     },
     "execution_count": 121,
     "metadata": {},
     "output_type": "execute_result"
    }
   ],
   "source": [
    "df_stat.groupby('tariff')['revenue'].agg(['sum','count', 'mean', 'std','var'])"
   ]
  },
  {
   "cell_type": "code",
   "execution_count": 122,
   "metadata": {},
   "outputs": [
    {
     "name": "stdout",
     "output_type": "stream",
     "text": [
      "p-значение: 2.9776448000521676e-158\n",
      "Отвергаем нулевую гипотезу\n"
     ]
    }
   ],
   "source": [
    "from scipy import stats as st\n",
    "alpha = 0.05\n",
    "df_stat_ultra = df_stat[df_stat['tariff'] == \"ultra\"]\n",
    "df_stat_smart = df_stat[df_stat['tariff'] == \"smart\"]\n",
    "\n",
    "results = st.ttest_ind(df_stat_ultra['revenue'], df_stat_smart['revenue'])\n",
    "\n",
    "print('p-значение:', results.pvalue)\n",
    "\n",
    "if results.pvalue < alpha:\n",
    "    print(\"Отвергаем нулевую гипотезу\")\n",
    "else:\n",
    "    print(\"Не получилось отвергнуть нулевую гипотезу\")"
   ]
  },
  {
   "cell_type": "markdown",
   "metadata": {},
   "source": [
    "Нулевая гипотеза о том что средняя выручка пользователей тарифов «Ультра» и «Смарт» не различается отвергнута"
   ]
  },
  {
   "cell_type": "markdown",
   "metadata": {},
   "source": [
    "### Проверяем гипотезу о том, что средняя выручка пользователей из Москвы отличается от выручки пользователей из других регионов"
   ]
  },
  {
   "cell_type": "code",
   "execution_count": 123,
   "metadata": {},
   "outputs": [],
   "source": [
    "df_stat_ultra_moscow = df_stat_ultra[df_stat_ultra['city'] == \"Москва\"]\n",
    "df_stat_ultra_not_moscow = df_stat_ultra[df_stat_ultra['city'] != \"Москва\"]"
   ]
  },
  {
   "cell_type": "code",
   "execution_count": 124,
   "metadata": {},
   "outputs": [
    {
     "name": "stdout",
     "output_type": "stream",
     "text": [
      "p-значение: 0.8475623384854951\n",
      "Не получилось отвергнуть нулевую гипотезу\n"
     ]
    }
   ],
   "source": [
    "alpha = 0.05\n",
    "\n",
    "results = st.ttest_ind(df_stat_ultra_moscow['revenue'], df_stat_ultra_not_moscow['revenue'])\n",
    "\n",
    "print('p-значение:', results.pvalue)\n",
    "\n",
    "if results.pvalue < alpha:\n",
    "    print(\"Отвергаем нулевую гипотезу\")\n",
    "else:\n",
    "    print(\"Не получилось отвергнуть нулевую гипотезу\")"
   ]
  },
  {
   "cell_type": "markdown",
   "metadata": {},
   "source": [
    "Нулевая гипотеза о том, что средняя выручка пользователей с тарифом Ультра из Москвы не отличается от выручки пользователей из других регионов отвергнута."
   ]
  },
  {
   "cell_type": "code",
   "execution_count": 125,
   "metadata": {},
   "outputs": [],
   "source": [
    "df_stat_smart_moscow = df_stat_smart[df_stat_smart['city'] == \"Москва\"]\n",
    "df_stat_smart_not_moscow = df_stat_smart[df_stat_smart['city'] != \"Москва\"]"
   ]
  },
  {
   "cell_type": "code",
   "execution_count": 126,
   "metadata": {},
   "outputs": [
    {
     "name": "stdout",
     "output_type": "stream",
     "text": [
      "p-значение: 0.19196326570657848\n",
      "Не получилось отвергнуть нулевую гипотезу\n"
     ]
    }
   ],
   "source": [
    "alpha = 0.05\n",
    "\n",
    "results = st.ttest_ind(df_stat_smart_moscow['revenue'], df_stat_smart_not_moscow['revenue'])\n",
    "\n",
    "print('p-значение:', results.pvalue)\n",
    "\n",
    "if results.pvalue < alpha:\n",
    "    print(\"Отвергаем нулевую гипотезу\")\n",
    "else:\n",
    "    print(\"Не получилось отвергнуть нулевую гипотезу\")"
   ]
  },
  {
   "cell_type": "markdown",
   "metadata": {},
   "source": [
    "Нулевую гипотезу о том, что средняя выручка пользователей с тарифом Смарт из Москвы не отличается от выручки пользователей из других регионов отвергнуть не удалось."
   ]
  },
  {
   "cell_type": "markdown",
   "metadata": {},
   "source": [
    "Проанализируем выручку в разрезе городов Москва/не Москва не разделяя данные по тарифам."
   ]
  },
  {
   "cell_type": "markdown",
   "metadata": {},
   "source": [
    "Сформируем гипотезы: \n",
    "\n",
    "Но - средняя выручка пользователей в Москве и вне Москвы не различается\n",
    "\n",
    "Н1 - средняя выручка пользователей в Москве и вне Москвы различается"
   ]
  },
  {
   "cell_type": "code",
   "execution_count": 127,
   "metadata": {},
   "outputs": [],
   "source": [
    "df_stat_moscow = df_stat[df_stat['city'] == \"Москва\"]\n",
    "df_stat_not_moscow = df_stat[df_stat['city'] != \"Москва\"]"
   ]
  },
  {
   "cell_type": "code",
   "execution_count": 128,
   "metadata": {},
   "outputs": [
    {
     "name": "stdout",
     "output_type": "stream",
     "text": [
      "p-значение: 0.531666503831252\n",
      "Не получилось отвергнуть нулевую гипотезу\n"
     ]
    }
   ],
   "source": [
    "alpha = 0.05\n",
    "\n",
    "results = st.ttest_ind(df_stat_moscow['revenue'], df_stat_not_moscow['revenue'])\n",
    "\n",
    "print('p-значение:', results.pvalue)\n",
    "\n",
    "if results.pvalue < alpha:\n",
    "    print(\"Отвергаем нулевую гипотезу\")\n",
    "else:\n",
    "    print(\"Не получилось отвергнуть нулевую гипотезу\")"
   ]
  },
  {
   "cell_type": "markdown",
   "metadata": {},
   "source": [
    "Нулевая гипотеза не отвергнута, таким образом гипотеза о том, что средняя выручка в Москве и вне Москвы отличается - отвергнута."
   ]
  },
  {
   "cell_type": "markdown",
   "metadata": {},
   "source": [
    "## Общий вывод"
   ]
  },
  {
   "cell_type": "markdown",
   "metadata": {},
   "source": [
    "Гипотеза о том, что средняя выручка пользователей тарифов «Ультра» и «Смарт» различается - **не отвергнута**.\n",
    "\n",
    "Гипотеза о том, что средняя выручка в Москве и вне Москвы отличается - **отвергнута**."
   ]
  },
  {
   "cell_type": "markdown",
   "metadata": {},
   "source": [
    "В части самих тарифов:\n",
    "Годовая выручка по тарифу Смарт больше, чем по тарифу Ультра. Но это связано только с разностью в количестве клиентов.\n",
    "\n",
    "Средняя месячная выручка от клиента Ультра больше, чем от клиента Смарт. При этом у Ультра за границы тарифа в месяц выходят менее 25% выборки. Это говорит о том, что значительная часть клиентов оплачивает больше услуг, чем потребляет. Такая ситуация выгодна оператору.\n",
    "\n",
    "У тарифа смарт больше половины выборки потребляют сверх пакетного лимита. Это говорит о том, что есть потенциальная группа клиентов, которым можно предложить более дорогой тариф.\n",
    "\n",
    "Для оператора тариф Ультра лучше."
   ]
  }
 ],
 "metadata": {
  "ExecuteTimeLog": [
   {
    "duration": 356,
    "start_time": "2021-06-23T11:44:33.013Z"
   },
   {
    "duration": -291,
    "start_time": "2021-06-23T11:44:33.667Z"
   },
   {
    "duration": -310,
    "start_time": "2021-06-23T11:44:33.688Z"
   },
   {
    "duration": -330,
    "start_time": "2021-06-23T11:44:33.710Z"
   },
   {
    "duration": -351,
    "start_time": "2021-06-23T11:44:33.733Z"
   },
   {
    "duration": -367,
    "start_time": "2021-06-23T11:44:33.751Z"
   },
   {
    "duration": -383,
    "start_time": "2021-06-23T11:44:33.768Z"
   },
   {
    "duration": -390,
    "start_time": "2021-06-23T11:44:33.778Z"
   },
   {
    "duration": -415,
    "start_time": "2021-06-23T11:44:33.805Z"
   },
   {
    "duration": -429,
    "start_time": "2021-06-23T11:44:33.821Z"
   },
   {
    "duration": -436,
    "start_time": "2021-06-23T11:44:33.829Z"
   },
   {
    "duration": -462,
    "start_time": "2021-06-23T11:44:33.857Z"
   },
   {
    "duration": -490,
    "start_time": "2021-06-23T11:44:33.887Z"
   },
   {
    "duration": -512,
    "start_time": "2021-06-23T11:44:33.911Z"
   },
   {
    "duration": -559,
    "start_time": "2021-06-23T11:44:33.959Z"
   },
   {
    "duration": -589,
    "start_time": "2021-06-23T11:44:33.990Z"
   },
   {
    "duration": -623,
    "start_time": "2021-06-23T11:44:34.025Z"
   },
   {
    "duration": -655,
    "start_time": "2021-06-23T11:44:34.058Z"
   },
   {
    "duration": -671,
    "start_time": "2021-06-23T11:44:34.076Z"
   },
   {
    "duration": -696,
    "start_time": "2021-06-23T11:44:34.102Z"
   },
   {
    "duration": -711,
    "start_time": "2021-06-23T11:44:34.119Z"
   },
   {
    "duration": -724,
    "start_time": "2021-06-23T11:44:34.133Z"
   },
   {
    "duration": -739,
    "start_time": "2021-06-23T11:44:34.150Z"
   },
   {
    "duration": -754,
    "start_time": "2021-06-23T11:44:34.167Z"
   },
   {
    "duration": -768,
    "start_time": "2021-06-23T11:44:34.183Z"
   },
   {
    "duration": -804,
    "start_time": "2021-06-23T11:44:34.221Z"
   },
   {
    "duration": -771,
    "start_time": "2021-06-23T11:44:34.227Z"
   },
   {
    "duration": -785,
    "start_time": "2021-06-23T11:44:34.243Z"
   },
   {
    "duration": -791,
    "start_time": "2021-06-23T11:44:34.251Z"
   },
   {
    "duration": -811,
    "start_time": "2021-06-23T11:44:34.273Z"
   },
   {
    "duration": -815,
    "start_time": "2021-06-23T11:44:34.279Z"
   },
   {
    "duration": -827,
    "start_time": "2021-06-23T11:44:34.293Z"
   },
   {
    "duration": -858,
    "start_time": "2021-06-23T11:44:34.325Z"
   },
   {
    "duration": -867,
    "start_time": "2021-06-23T11:44:34.336Z"
   },
   {
    "duration": -879,
    "start_time": "2021-06-23T11:44:34.350Z"
   },
   {
    "duration": -893,
    "start_time": "2021-06-23T11:44:34.366Z"
   },
   {
    "duration": -909,
    "start_time": "2021-06-23T11:44:34.384Z"
   },
   {
    "duration": -925,
    "start_time": "2021-06-23T11:44:34.401Z"
   },
   {
    "duration": -940,
    "start_time": "2021-06-23T11:44:34.418Z"
   },
   {
    "duration": -961,
    "start_time": "2021-06-23T11:44:34.441Z"
   },
   {
    "duration": -969,
    "start_time": "2021-06-23T11:44:34.451Z"
   },
   {
    "duration": -982,
    "start_time": "2021-06-23T11:44:34.466Z"
   },
   {
    "duration": -998,
    "start_time": "2021-06-23T11:44:34.484Z"
   },
   {
    "duration": -1017,
    "start_time": "2021-06-23T11:44:34.504Z"
   },
   {
    "duration": -1034,
    "start_time": "2021-06-23T11:44:34.523Z"
   },
   {
    "duration": -1046,
    "start_time": "2021-06-23T11:44:34.537Z"
   },
   {
    "duration": -1064,
    "start_time": "2021-06-23T11:44:34.557Z"
   },
   {
    "duration": 275,
    "start_time": "2021-06-23T11:44:33.559Z"
   },
   {
    "duration": -885,
    "start_time": "2021-06-23T11:44:34.722Z"
   },
   {
    "duration": -892,
    "start_time": "2021-06-23T11:44:34.731Z"
   },
   {
    "duration": -910,
    "start_time": "2021-06-23T11:44:34.751Z"
   },
   {
    "duration": -924,
    "start_time": "2021-06-23T11:44:34.767Z"
   },
   {
    "duration": -940,
    "start_time": "2021-06-23T11:44:34.785Z"
   },
   {
    "duration": 772,
    "start_time": "2021-06-23T11:45:52.389Z"
   },
   {
    "duration": 23,
    "start_time": "2021-06-23T11:45:53.164Z"
   },
   {
    "duration": 23,
    "start_time": "2021-06-23T11:45:53.190Z"
   },
   {
    "duration": 232,
    "start_time": "2021-06-23T11:45:53.215Z"
   },
   {
    "duration": 16,
    "start_time": "2021-06-23T11:45:53.450Z"
   },
   {
    "duration": 41,
    "start_time": "2021-06-23T11:45:53.468Z"
   },
   {
    "duration": 145,
    "start_time": "2021-06-23T11:45:53.511Z"
   },
   {
    "duration": 10,
    "start_time": "2021-06-23T11:45:53.659Z"
   },
   {
    "duration": 197,
    "start_time": "2021-06-23T11:45:53.672Z"
   },
   {
    "duration": 12,
    "start_time": "2021-06-23T11:45:53.871Z"
   },
   {
    "duration": 43,
    "start_time": "2021-06-23T11:45:53.885Z"
   },
   {
    "duration": 23,
    "start_time": "2021-06-23T11:45:53.955Z"
   },
   {
    "duration": 14,
    "start_time": "2021-06-23T11:45:53.981Z"
   },
   {
    "duration": 49,
    "start_time": "2021-06-23T11:45:53.997Z"
   },
   {
    "duration": 15,
    "start_time": "2021-06-23T11:45:54.055Z"
   },
   {
    "duration": 16,
    "start_time": "2021-06-23T11:45:54.073Z"
   },
   {
    "duration": 30,
    "start_time": "2021-06-23T11:45:54.092Z"
   },
   {
    "duration": 12,
    "start_time": "2021-06-23T11:45:54.156Z"
   },
   {
    "duration": 43,
    "start_time": "2021-06-23T11:45:54.170Z"
   },
   {
    "duration": 40,
    "start_time": "2021-06-23T11:45:54.216Z"
   },
   {
    "duration": 26,
    "start_time": "2021-06-23T11:45:54.258Z"
   },
   {
    "duration": 15,
    "start_time": "2021-06-23T11:45:54.287Z"
   },
   {
    "duration": 104,
    "start_time": "2021-06-23T11:45:54.307Z"
   },
   {
    "duration": 10,
    "start_time": "2021-06-23T11:45:54.414Z"
   },
   {
    "duration": 36,
    "start_time": "2021-06-23T11:45:54.426Z"
   },
   {
    "duration": 36,
    "start_time": "2021-06-23T11:45:54.464Z"
   },
   {
    "duration": 68,
    "start_time": "2021-06-23T11:45:54.502Z"
   },
   {
    "duration": 22,
    "start_time": "2021-06-23T11:45:54.572Z"
   },
   {
    "duration": 4,
    "start_time": "2021-06-23T11:45:54.597Z"
   },
   {
    "duration": 16,
    "start_time": "2021-06-23T11:45:54.603Z"
   },
   {
    "duration": 72,
    "start_time": "2021-06-23T11:45:54.622Z"
   },
   {
    "duration": 66,
    "start_time": "2021-06-23T11:45:54.696Z"
   },
   {
    "duration": 11,
    "start_time": "2021-06-23T11:45:54.764Z"
   },
   {
    "duration": 9,
    "start_time": "2021-06-23T11:45:54.778Z"
   },
   {
    "duration": 66,
    "start_time": "2021-06-23T11:45:54.790Z"
   },
   {
    "duration": 25,
    "start_time": "2021-06-23T11:45:54.858Z"
   },
   {
    "duration": 28,
    "start_time": "2021-06-23T11:45:54.885Z"
   },
   {
    "duration": 361,
    "start_time": "2021-06-23T11:45:54.915Z"
   },
   {
    "duration": 433,
    "start_time": "2021-06-23T11:45:55.279Z"
   },
   {
    "duration": 630,
    "start_time": "2021-06-23T11:45:55.716Z"
   },
   {
    "duration": 21,
    "start_time": "2021-06-23T11:45:56.357Z"
   },
   {
    "duration": 377,
    "start_time": "2021-06-23T11:45:56.381Z"
   },
   {
    "duration": 723,
    "start_time": "2021-06-23T11:45:56.761Z"
   },
   {
    "duration": 22,
    "start_time": "2021-06-23T11:45:57.487Z"
   },
   {
    "duration": 358,
    "start_time": "2021-06-23T11:45:57.512Z"
   },
   {
    "duration": 846,
    "start_time": "2021-06-23T11:45:57.874Z"
   },
   {
    "duration": 18,
    "start_time": "2021-06-23T11:45:58.722Z"
   },
   {
    "duration": 16,
    "start_time": "2021-06-23T11:45:58.755Z"
   },
   {
    "duration": 503,
    "start_time": "2021-06-23T11:45:58.774Z"
   },
   {
    "duration": 7,
    "start_time": "2021-06-23T11:45:59.279Z"
   },
   {
    "duration": 15,
    "start_time": "2021-06-23T11:45:59.289Z"
   },
   {
    "duration": 32,
    "start_time": "2021-06-23T11:45:59.307Z"
   },
   {
    "duration": 13,
    "start_time": "2021-06-23T11:45:59.342Z"
   },
   {
    "duration": 218,
    "start_time": "2021-06-23T11:47:17.889Z"
   },
   {
    "duration": 45,
    "start_time": "2021-06-23T11:47:42.909Z"
   },
   {
    "duration": 26,
    "start_time": "2021-06-23T11:47:42.957Z"
   },
   {
    "duration": 44,
    "start_time": "2021-06-23T11:47:42.987Z"
   },
   {
    "duration": 348,
    "start_time": "2021-06-23T11:47:43.055Z"
   },
   {
    "duration": 15,
    "start_time": "2021-06-23T11:47:43.406Z"
   },
   {
    "duration": 68,
    "start_time": "2021-06-23T11:47:43.424Z"
   },
   {
    "duration": 195,
    "start_time": "2021-06-23T11:47:43.496Z"
   },
   {
    "duration": 15,
    "start_time": "2021-06-23T11:47:43.696Z"
   },
   {
    "duration": 200,
    "start_time": "2021-06-23T11:47:43.714Z"
   },
   {
    "duration": 12,
    "start_time": "2021-06-23T11:47:43.916Z"
   },
   {
    "duration": 54,
    "start_time": "2021-06-23T11:47:43.931Z"
   },
   {
    "duration": 24,
    "start_time": "2021-06-23T11:47:43.988Z"
   },
   {
    "duration": 15,
    "start_time": "2021-06-23T11:47:44.015Z"
   },
   {
    "duration": 62,
    "start_time": "2021-06-23T11:47:44.033Z"
   },
   {
    "duration": 14,
    "start_time": "2021-06-23T11:47:44.098Z"
   },
   {
    "duration": 43,
    "start_time": "2021-06-23T11:47:44.114Z"
   },
   {
    "duration": 38,
    "start_time": "2021-06-23T11:47:44.159Z"
   },
   {
    "duration": 11,
    "start_time": "2021-06-23T11:47:44.199Z"
   },
   {
    "duration": 49,
    "start_time": "2021-06-23T11:47:44.213Z"
   },
   {
    "duration": 12,
    "start_time": "2021-06-23T11:47:44.265Z"
   },
   {
    "duration": 27,
    "start_time": "2021-06-23T11:47:44.280Z"
   },
   {
    "duration": 15,
    "start_time": "2021-06-23T11:47:44.309Z"
   },
   {
    "duration": 77,
    "start_time": "2021-06-23T11:47:44.358Z"
   },
   {
    "duration": 22,
    "start_time": "2021-06-23T11:47:44.439Z"
   },
   {
    "duration": 29,
    "start_time": "2021-06-23T11:47:44.464Z"
   },
   {
    "duration": 34,
    "start_time": "2021-06-23T11:47:44.496Z"
   },
   {
    "duration": 66,
    "start_time": "2021-06-23T11:47:44.533Z"
   },
   {
    "duration": 23,
    "start_time": "2021-06-23T11:47:44.603Z"
   },
   {
    "duration": 30,
    "start_time": "2021-06-23T11:47:44.628Z"
   },
   {
    "duration": 21,
    "start_time": "2021-06-23T11:47:44.660Z"
   },
   {
    "duration": 81,
    "start_time": "2021-06-23T11:47:44.684Z"
   },
   {
    "duration": 67,
    "start_time": "2021-06-23T11:47:44.769Z"
   },
   {
    "duration": 26,
    "start_time": "2021-06-23T11:47:44.839Z"
   },
   {
    "duration": 14,
    "start_time": "2021-06-23T11:47:44.868Z"
   },
   {
    "duration": 40,
    "start_time": "2021-06-23T11:47:44.885Z"
   },
   {
    "duration": 51,
    "start_time": "2021-06-23T11:47:44.928Z"
   },
   {
    "duration": 30,
    "start_time": "2021-06-23T11:47:44.982Z"
   },
   {
    "duration": 362,
    "start_time": "2021-06-23T11:47:45.015Z"
   },
   {
    "duration": 336,
    "start_time": "2021-06-23T11:47:45.379Z"
   },
   {
    "duration": 640,
    "start_time": "2021-06-23T11:47:45.717Z"
   },
   {
    "duration": 20,
    "start_time": "2021-06-23T11:47:46.359Z"
   },
   {
    "duration": 332,
    "start_time": "2021-06-23T11:47:46.381Z"
   },
   {
    "duration": 733,
    "start_time": "2021-06-23T11:47:46.715Z"
   },
   {
    "duration": 20,
    "start_time": "2021-06-23T11:47:47.451Z"
   },
   {
    "duration": 352,
    "start_time": "2021-06-23T11:47:47.474Z"
   },
   {
    "duration": 717,
    "start_time": "2021-06-23T11:47:47.829Z"
   },
   {
    "duration": 19,
    "start_time": "2021-06-23T11:47:48.555Z"
   },
   {
    "duration": 22,
    "start_time": "2021-06-23T11:47:48.576Z"
   },
   {
    "duration": 12,
    "start_time": "2021-06-23T11:47:48.600Z"
   },
   {
    "duration": 17,
    "start_time": "2021-06-23T11:47:48.614Z"
   },
   {
    "duration": 32,
    "start_time": "2021-06-23T11:47:48.633Z"
   },
   {
    "duration": 20,
    "start_time": "2021-06-23T11:47:48.667Z"
   },
   {
    "duration": 18,
    "start_time": "2021-06-23T11:47:48.689Z"
   },
   {
    "duration": 829,
    "start_time": "2021-06-24T10:43:27.953Z"
   },
   {
    "duration": 23,
    "start_time": "2021-06-24T10:43:28.784Z"
   },
   {
    "duration": 24,
    "start_time": "2021-06-24T10:43:28.810Z"
   },
   {
    "duration": 239,
    "start_time": "2021-06-24T10:43:28.837Z"
   },
   {
    "duration": 11,
    "start_time": "2021-06-24T10:43:29.078Z"
   },
   {
    "duration": 38,
    "start_time": "2021-06-24T10:43:29.092Z"
   },
   {
    "duration": 149,
    "start_time": "2021-06-24T10:43:29.132Z"
   },
   {
    "duration": 10,
    "start_time": "2021-06-24T10:43:29.285Z"
   },
   {
    "duration": 203,
    "start_time": "2021-06-24T10:43:29.297Z"
   },
   {
    "duration": 12,
    "start_time": "2021-06-24T10:43:29.503Z"
   },
   {
    "duration": 61,
    "start_time": "2021-06-24T10:43:29.517Z"
   },
   {
    "duration": 21,
    "start_time": "2021-06-24T10:43:29.581Z"
   },
   {
    "duration": 16,
    "start_time": "2021-06-24T10:43:29.605Z"
   },
   {
    "duration": 54,
    "start_time": "2021-06-24T10:43:29.623Z"
   },
   {
    "duration": 14,
    "start_time": "2021-06-24T10:43:29.679Z"
   },
   {
    "duration": 15,
    "start_time": "2021-06-24T10:43:29.695Z"
   },
   {
    "duration": 55,
    "start_time": "2021-06-24T10:43:29.712Z"
   },
   {
    "duration": 11,
    "start_time": "2021-06-24T10:43:29.769Z"
   },
   {
    "duration": 46,
    "start_time": "2021-06-24T10:43:29.782Z"
   },
   {
    "duration": 38,
    "start_time": "2021-06-24T10:43:29.830Z"
   },
   {
    "duration": 23,
    "start_time": "2021-06-24T10:43:29.871Z"
   },
   {
    "duration": 15,
    "start_time": "2021-06-24T10:43:29.896Z"
   },
   {
    "duration": 102,
    "start_time": "2021-06-24T10:43:29.916Z"
   },
   {
    "duration": 10,
    "start_time": "2021-06-24T10:43:30.020Z"
   },
   {
    "duration": 40,
    "start_time": "2021-06-24T10:43:30.032Z"
   },
   {
    "duration": 41,
    "start_time": "2021-06-24T10:43:30.074Z"
   },
   {
    "duration": 65,
    "start_time": "2021-06-24T10:43:30.117Z"
   },
   {
    "duration": 22,
    "start_time": "2021-06-24T10:43:30.184Z"
   },
   {
    "duration": 14,
    "start_time": "2021-06-24T10:43:30.208Z"
   },
   {
    "duration": 21,
    "start_time": "2021-06-24T10:43:30.224Z"
   },
   {
    "duration": 60,
    "start_time": "2021-06-24T10:43:30.247Z"
   },
   {
    "duration": 65,
    "start_time": "2021-06-24T10:43:30.309Z"
   },
   {
    "duration": 11,
    "start_time": "2021-06-24T10:43:30.376Z"
   },
   {
    "duration": 25,
    "start_time": "2021-06-24T10:43:30.389Z"
   },
   {
    "duration": 51,
    "start_time": "2021-06-24T10:43:30.416Z"
   },
   {
    "duration": 24,
    "start_time": "2021-06-24T10:43:30.469Z"
   },
   {
    "duration": 34,
    "start_time": "2021-06-24T10:43:30.495Z"
   },
   {
    "duration": 14,
    "start_time": "2021-06-24T10:43:30.531Z"
   },
   {
    "duration": 813,
    "start_time": "2021-06-25T14:42:28.950Z"
   },
   {
    "duration": 27,
    "start_time": "2021-06-25T14:42:29.766Z"
   },
   {
    "duration": 21,
    "start_time": "2021-06-25T14:42:29.796Z"
   },
   {
    "duration": 251,
    "start_time": "2021-06-25T14:42:29.820Z"
   },
   {
    "duration": 11,
    "start_time": "2021-06-25T14:42:30.073Z"
   },
   {
    "duration": 54,
    "start_time": "2021-06-25T14:42:30.087Z"
   },
   {
    "duration": 139,
    "start_time": "2021-06-25T14:42:30.143Z"
   },
   {
    "duration": 10,
    "start_time": "2021-06-25T14:42:30.286Z"
   },
   {
    "duration": 203,
    "start_time": "2021-06-25T14:42:30.300Z"
   },
   {
    "duration": 13,
    "start_time": "2021-06-25T14:42:30.505Z"
   },
   {
    "duration": 66,
    "start_time": "2021-06-25T14:42:30.520Z"
   },
   {
    "duration": 23,
    "start_time": "2021-06-25T14:42:30.588Z"
   },
   {
    "duration": 25,
    "start_time": "2021-06-25T14:42:30.613Z"
   },
   {
    "duration": 68,
    "start_time": "2021-06-25T14:42:30.640Z"
   },
   {
    "duration": 14,
    "start_time": "2021-06-25T14:42:30.711Z"
   },
   {
    "duration": 20,
    "start_time": "2021-06-25T14:42:30.727Z"
   },
   {
    "duration": 46,
    "start_time": "2021-06-25T14:42:30.749Z"
   },
   {
    "duration": 14,
    "start_time": "2021-06-25T14:42:30.797Z"
   },
   {
    "duration": 80,
    "start_time": "2021-06-25T14:42:30.813Z"
   },
   {
    "duration": 16,
    "start_time": "2021-06-25T14:42:30.896Z"
   },
   {
    "duration": 52,
    "start_time": "2021-06-25T14:42:30.915Z"
   },
   {
    "duration": 87,
    "start_time": "2021-06-25T14:42:30.970Z"
   },
   {
    "duration": 7,
    "start_time": "2021-06-25T14:42:31.067Z"
   },
   {
    "duration": 130,
    "start_time": "2021-06-25T14:42:31.078Z"
   },
   {
    "duration": 14,
    "start_time": "2021-06-25T14:42:31.211Z"
   },
   {
    "duration": 43,
    "start_time": "2021-06-25T14:42:31.228Z"
   },
   {
    "duration": 60,
    "start_time": "2021-06-25T14:42:31.274Z"
   },
   {
    "duration": 79,
    "start_time": "2021-06-25T14:42:31.337Z"
   },
   {
    "duration": 50,
    "start_time": "2021-06-25T14:42:31.419Z"
   },
   {
    "duration": 6,
    "start_time": "2021-06-25T14:42:31.472Z"
   },
   {
    "duration": 23,
    "start_time": "2021-06-25T14:42:31.481Z"
   },
   {
    "duration": 86,
    "start_time": "2021-06-25T14:42:31.507Z"
   },
   {
    "duration": 22,
    "start_time": "2021-06-25T14:42:31.597Z"
   },
   {
    "duration": 79,
    "start_time": "2021-06-25T14:42:31.623Z"
   },
   {
    "duration": 15,
    "start_time": "2021-06-25T14:42:31.705Z"
   },
   {
    "duration": 30,
    "start_time": "2021-06-25T14:42:31.723Z"
   },
   {
    "duration": 43,
    "start_time": "2021-06-25T14:42:31.756Z"
   },
   {
    "duration": 25,
    "start_time": "2021-06-25T14:42:31.802Z"
   },
   {
    "duration": 58,
    "start_time": "2021-06-25T14:42:31.829Z"
   },
   {
    "duration": 7,
    "start_time": "2021-06-25T14:42:31.890Z"
   },
   {
    "duration": 18,
    "start_time": "2021-06-25T14:42:31.899Z"
   },
   {
    "duration": 464,
    "start_time": "2021-06-25T14:42:31.920Z"
   },
   {
    "duration": 454,
    "start_time": "2021-06-25T14:42:32.387Z"
   },
   {
    "duration": 646,
    "start_time": "2021-06-25T14:42:32.843Z"
   },
   {
    "duration": 20,
    "start_time": "2021-06-25T14:42:33.491Z"
   },
   {
    "duration": 392,
    "start_time": "2021-06-25T14:42:33.513Z"
   },
   {
    "duration": 756,
    "start_time": "2021-06-25T14:42:33.907Z"
   },
   {
    "duration": 22,
    "start_time": "2021-06-25T14:42:34.666Z"
   },
   {
    "duration": 349,
    "start_time": "2021-06-25T14:42:34.690Z"
   },
   {
    "duration": 742,
    "start_time": "2021-06-25T14:42:35.042Z"
   },
   {
    "duration": 20,
    "start_time": "2021-06-25T14:42:35.787Z"
   },
   {
    "duration": 343,
    "start_time": "2021-06-25T14:42:35.810Z"
   },
   {
    "duration": 732,
    "start_time": "2021-06-25T14:42:36.155Z"
   },
   {
    "duration": 11,
    "start_time": "2021-06-25T14:42:36.889Z"
   },
   {
    "duration": 12,
    "start_time": "2021-06-25T14:42:36.902Z"
   },
   {
    "duration": 46,
    "start_time": "2021-06-25T14:42:36.917Z"
   },
   {
    "duration": 18,
    "start_time": "2021-06-25T14:42:36.966Z"
   },
   {
    "duration": 542,
    "start_time": "2021-06-25T14:42:36.986Z"
   },
   {
    "duration": 6,
    "start_time": "2021-06-25T14:42:37.531Z"
   },
   {
    "duration": 9,
    "start_time": "2021-06-25T14:42:37.539Z"
   },
   {
    "duration": 9,
    "start_time": "2021-06-25T14:42:37.563Z"
   },
   {
    "duration": 8,
    "start_time": "2021-06-25T14:42:37.574Z"
   },
   {
    "duration": 14,
    "start_time": "2021-06-25T14:42:37.585Z"
   },
   {
    "duration": 11,
    "start_time": "2021-06-25T14:42:37.601Z"
   },
   {
    "duration": 653,
    "start_time": "2022-02-05T12:10:33.564Z"
   },
   {
    "duration": 17,
    "start_time": "2022-02-05T12:10:34.219Z"
   },
   {
    "duration": 24,
    "start_time": "2022-02-05T12:10:34.238Z"
   },
   {
    "duration": 190,
    "start_time": "2022-02-05T12:10:34.264Z"
   },
   {
    "duration": 9,
    "start_time": "2022-02-05T12:10:34.456Z"
   },
   {
    "duration": 41,
    "start_time": "2022-02-05T12:10:34.467Z"
   },
   {
    "duration": 158,
    "start_time": "2022-02-05T12:10:34.510Z"
   },
   {
    "duration": 7,
    "start_time": "2022-02-05T12:10:34.671Z"
   },
   {
    "duration": 160,
    "start_time": "2022-02-05T12:10:34.680Z"
   },
   {
    "duration": 9,
    "start_time": "2022-02-05T12:10:34.842Z"
   },
   {
    "duration": 47,
    "start_time": "2022-02-05T12:10:34.853Z"
   },
   {
    "duration": 22,
    "start_time": "2022-02-05T12:10:34.902Z"
   },
   {
    "duration": 15,
    "start_time": "2022-02-05T12:10:34.926Z"
   },
   {
    "duration": 34,
    "start_time": "2022-02-05T12:10:34.943Z"
   },
   {
    "duration": 15,
    "start_time": "2022-02-05T12:10:34.979Z"
   },
   {
    "duration": 23,
    "start_time": "2022-02-05T12:10:34.995Z"
   },
   {
    "duration": 25,
    "start_time": "2022-02-05T12:10:35.020Z"
   },
   {
    "duration": 12,
    "start_time": "2022-02-05T12:10:35.047Z"
   },
   {
    "duration": 36,
    "start_time": "2022-02-05T12:10:35.061Z"
   },
   {
    "duration": 21,
    "start_time": "2022-02-05T12:10:35.099Z"
   },
   {
    "duration": 20,
    "start_time": "2022-02-05T12:10:35.122Z"
   },
   {
    "duration": 10,
    "start_time": "2022-02-05T12:10:35.144Z"
   },
   {
    "duration": 15,
    "start_time": "2022-02-05T12:10:35.158Z"
   },
   {
    "duration": 74,
    "start_time": "2022-02-05T12:10:35.175Z"
   },
   {
    "duration": 7,
    "start_time": "2022-02-05T12:10:35.251Z"
   },
   {
    "duration": 35,
    "start_time": "2022-02-05T12:10:35.259Z"
   },
   {
    "duration": 30,
    "start_time": "2022-02-05T12:10:35.296Z"
   },
   {
    "duration": 35,
    "start_time": "2022-02-05T12:10:35.328Z"
   },
   {
    "duration": 16,
    "start_time": "2022-02-05T12:10:35.365Z"
   },
   {
    "duration": 8,
    "start_time": "2022-02-05T12:10:35.383Z"
   },
   {
    "duration": 26,
    "start_time": "2022-02-05T12:10:35.392Z"
   },
   {
    "duration": 42,
    "start_time": "2022-02-05T12:10:35.420Z"
   },
   {
    "duration": 13,
    "start_time": "2022-02-05T12:10:35.464Z"
   },
   {
    "duration": 41,
    "start_time": "2022-02-05T12:10:35.478Z"
   },
   {
    "duration": 7,
    "start_time": "2022-02-05T12:10:35.521Z"
   },
   {
    "duration": 16,
    "start_time": "2022-02-05T12:10:35.530Z"
   },
   {
    "duration": 30,
    "start_time": "2022-02-05T12:10:35.548Z"
   },
   {
    "duration": 18,
    "start_time": "2022-02-05T12:10:35.580Z"
   },
   {
    "duration": 34,
    "start_time": "2022-02-05T12:10:35.601Z"
   },
   {
    "duration": 6,
    "start_time": "2022-02-05T12:10:35.637Z"
   },
   {
    "duration": 21,
    "start_time": "2022-02-05T12:10:35.645Z"
   },
   {
    "duration": 231,
    "start_time": "2022-02-05T12:10:35.668Z"
   },
   {
    "duration": 312,
    "start_time": "2022-02-05T12:10:35.901Z"
   },
   {
    "duration": 389,
    "start_time": "2022-02-05T12:10:36.218Z"
   },
   {
    "duration": 18,
    "start_time": "2022-02-05T12:10:36.609Z"
   },
   {
    "duration": 250,
    "start_time": "2022-02-05T12:10:36.628Z"
   },
   {
    "duration": 436,
    "start_time": "2022-02-05T12:10:36.879Z"
   },
   {
    "duration": 14,
    "start_time": "2022-02-05T12:10:37.317Z"
   },
   {
    "duration": 214,
    "start_time": "2022-02-05T12:10:37.333Z"
   },
   {
    "duration": 443,
    "start_time": "2022-02-05T12:10:37.549Z"
   },
   {
    "duration": 24,
    "start_time": "2022-02-05T12:10:37.994Z"
   },
   {
    "duration": 221,
    "start_time": "2022-02-05T12:10:38.020Z"
   },
   {
    "duration": 468,
    "start_time": "2022-02-05T12:10:38.243Z"
   },
   {
    "duration": 14,
    "start_time": "2022-02-05T12:10:38.712Z"
   },
   {
    "duration": 10,
    "start_time": "2022-02-05T12:10:38.727Z"
   },
   {
    "duration": 14,
    "start_time": "2022-02-05T12:10:38.738Z"
   },
   {
    "duration": 12,
    "start_time": "2022-02-05T12:10:38.753Z"
   },
   {
    "duration": 458,
    "start_time": "2022-02-05T12:10:38.767Z"
   },
   {
    "duration": 5,
    "start_time": "2022-02-05T12:10:39.227Z"
   },
   {
    "duration": 9,
    "start_time": "2022-02-05T12:10:39.234Z"
   },
   {
    "duration": 7,
    "start_time": "2022-02-05T12:10:39.244Z"
   },
   {
    "duration": 5,
    "start_time": "2022-02-05T12:10:39.253Z"
   },
   {
    "duration": 11,
    "start_time": "2022-02-05T12:10:39.260Z"
   },
   {
    "duration": 6,
    "start_time": "2022-02-05T12:10:39.273Z"
   },
   {
    "duration": 33,
    "start_time": "2022-02-05T12:52:24.293Z"
   },
   {
    "duration": 12,
    "start_time": "2022-02-05T12:52:24.328Z"
   },
   {
    "duration": 17,
    "start_time": "2022-02-05T12:52:24.342Z"
   },
   {
    "duration": 185,
    "start_time": "2022-02-05T12:52:24.366Z"
   },
   {
    "duration": 8,
    "start_time": "2022-02-05T12:52:24.552Z"
   },
   {
    "duration": 32,
    "start_time": "2022-02-05T12:52:24.562Z"
   },
   {
    "duration": 105,
    "start_time": "2022-02-05T12:52:24.596Z"
   },
   {
    "duration": 20,
    "start_time": "2022-02-05T12:52:24.703Z"
   },
   {
    "duration": 143,
    "start_time": "2022-02-05T12:52:24.725Z"
   },
   {
    "duration": 9,
    "start_time": "2022-02-05T12:52:24.869Z"
   },
   {
    "duration": 49,
    "start_time": "2022-02-05T12:52:24.880Z"
   },
   {
    "duration": 21,
    "start_time": "2022-02-05T12:52:24.931Z"
   },
   {
    "duration": 16,
    "start_time": "2022-02-05T12:52:24.953Z"
   },
   {
    "duration": 34,
    "start_time": "2022-02-05T12:52:24.971Z"
   },
   {
    "duration": 12,
    "start_time": "2022-02-05T12:52:25.007Z"
   },
   {
    "duration": 17,
    "start_time": "2022-02-05T12:52:25.021Z"
   },
   {
    "duration": 26,
    "start_time": "2022-02-05T12:52:25.041Z"
   },
   {
    "duration": 8,
    "start_time": "2022-02-05T12:52:25.070Z"
   },
   {
    "duration": 58,
    "start_time": "2022-02-05T12:52:25.080Z"
   },
   {
    "duration": 10,
    "start_time": "2022-02-05T12:52:25.140Z"
   },
   {
    "duration": 14,
    "start_time": "2022-02-05T12:52:25.152Z"
   },
   {
    "duration": 12,
    "start_time": "2022-02-05T12:52:25.168Z"
   },
   {
    "duration": 4,
    "start_time": "2022-02-05T12:52:25.182Z"
   },
   {
    "duration": 83,
    "start_time": "2022-02-05T12:52:25.188Z"
   },
   {
    "duration": 7,
    "start_time": "2022-02-05T12:52:25.274Z"
   },
   {
    "duration": 45,
    "start_time": "2022-02-05T12:52:25.284Z"
   },
   {
    "duration": 30,
    "start_time": "2022-02-05T12:52:25.331Z"
   },
   {
    "duration": 36,
    "start_time": "2022-02-05T12:52:25.363Z"
   },
   {
    "duration": 18,
    "start_time": "2022-02-05T12:52:25.419Z"
   },
   {
    "duration": 20,
    "start_time": "2022-02-05T12:52:25.439Z"
   },
   {
    "duration": 14,
    "start_time": "2022-02-05T12:52:25.462Z"
   },
   {
    "duration": 34,
    "start_time": "2022-02-05T12:52:25.478Z"
   },
   {
    "duration": 14,
    "start_time": "2022-02-05T12:52:25.514Z"
   },
   {
    "duration": 31,
    "start_time": "2022-02-05T12:52:25.530Z"
   },
   {
    "duration": 7,
    "start_time": "2022-02-05T12:52:25.563Z"
   },
   {
    "duration": 8,
    "start_time": "2022-02-05T12:52:25.572Z"
   },
   {
    "duration": 58,
    "start_time": "2022-02-05T12:52:25.582Z"
   },
   {
    "duration": 15,
    "start_time": "2022-02-05T12:52:25.642Z"
   },
   {
    "duration": 17,
    "start_time": "2022-02-05T12:52:25.658Z"
   },
   {
    "duration": 5,
    "start_time": "2022-02-05T12:52:25.677Z"
   },
   {
    "duration": 36,
    "start_time": "2022-02-05T12:52:25.683Z"
   },
   {
    "duration": 230,
    "start_time": "2022-02-05T12:52:25.721Z"
   },
   {
    "duration": 246,
    "start_time": "2022-02-05T12:52:25.954Z"
   },
   {
    "duration": 394,
    "start_time": "2022-02-05T12:52:26.202Z"
   },
   {
    "duration": 27,
    "start_time": "2022-02-05T12:52:26.598Z"
   },
   {
    "duration": 207,
    "start_time": "2022-02-05T12:52:26.626Z"
   },
   {
    "duration": 449,
    "start_time": "2022-02-05T12:52:26.835Z"
   },
   {
    "duration": 15,
    "start_time": "2022-02-05T12:52:27.286Z"
   },
   {
    "duration": 285,
    "start_time": "2022-02-05T12:52:27.302Z"
   },
   {
    "duration": 558,
    "start_time": "2022-02-05T12:52:27.589Z"
   },
   {
    "duration": 14,
    "start_time": "2022-02-05T12:52:28.149Z"
   },
   {
    "duration": 211,
    "start_time": "2022-02-05T12:52:28.165Z"
   },
   {
    "duration": 449,
    "start_time": "2022-02-05T12:52:28.378Z"
   },
   {
    "duration": 8,
    "start_time": "2022-02-05T12:52:28.829Z"
   },
   {
    "duration": 8,
    "start_time": "2022-02-05T12:52:28.839Z"
   },
   {
    "duration": 11,
    "start_time": "2022-02-05T12:52:28.849Z"
   },
   {
    "duration": 10,
    "start_time": "2022-02-05T12:52:28.862Z"
   },
   {
    "duration": 7,
    "start_time": "2022-02-05T12:52:28.875Z"
   },
   {
    "duration": 6,
    "start_time": "2022-02-05T12:52:28.919Z"
   },
   {
    "duration": 9,
    "start_time": "2022-02-05T12:52:28.926Z"
   },
   {
    "duration": 6,
    "start_time": "2022-02-05T12:52:28.936Z"
   },
   {
    "duration": 5,
    "start_time": "2022-02-05T12:52:28.944Z"
   },
   {
    "duration": 6,
    "start_time": "2022-02-05T12:52:28.951Z"
   },
   {
    "duration": 5,
    "start_time": "2022-02-05T12:52:28.958Z"
   }
  ],
  "kernelspec": {
   "display_name": "Python 3",
   "language": "python",
   "name": "python3"
  },
  "language_info": {
   "codemirror_mode": {
    "name": "ipython",
    "version": 3
   },
   "file_extension": ".py",
   "mimetype": "text/x-python",
   "name": "python",
   "nbconvert_exporter": "python",
   "pygments_lexer": "ipython3",
   "version": "3.7.8"
  },
  "toc": {
   "base_numbering": 1,
   "nav_menu": {},
   "number_sections": true,
   "sideBar": true,
   "skip_h1_title": true,
   "title_cell": "Table of Contents",
   "title_sidebar": "Contents",
   "toc_cell": false,
   "toc_position": {},
   "toc_section_display": true,
   "toc_window_display": true
  }
 },
 "nbformat": 4,
 "nbformat_minor": 5
}
