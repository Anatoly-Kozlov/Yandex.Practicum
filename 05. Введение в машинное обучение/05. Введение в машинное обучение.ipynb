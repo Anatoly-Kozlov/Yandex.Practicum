{
 "cells": [
  {
   "cell_type": "markdown",
   "metadata": {},
   "source": [
    "# Рекомендация тарифов"
   ]
  },
  {
   "cell_type": "markdown",
   "metadata": {},
   "source": [
    "В вашем распоряжении данные о поведении клиентов, которые уже перешли на эти тарифы (из проекта курса «Статистический анализ данных»). Нужно построить модель для задачи классификации, которая выберет подходящий тариф. Предобработка данных не понадобится — вы её уже сделали.\n",
    "\n",
    "Постройте модель с максимально большим значением *accuracy*. Чтобы сдать проект успешно, нужно довести долю правильных ответов по крайней мере до 0.75. Проверьте *accuracy* на тестовой выборке самостоятельно."
   ]
  },
  {
   "cell_type": "markdown",
   "metadata": {},
   "source": [
    "## Откройте и изучите файл"
   ]
  },
  {
   "cell_type": "code",
   "execution_count": 1,
   "metadata": {},
   "outputs": [],
   "source": [
    "import pandas as pd\n",
    "from sklearn.model_selection import train_test_split \n",
    "from sklearn.tree import DecisionTreeClassifier\n",
    "from sklearn.ensemble import RandomForestClassifier\n",
    "from sklearn.linear_model import LogisticRegression\n",
    "from sklearn.dummy import DummyClassifier\n",
    "import random\n",
    "from sklearn.metrics import accuracy_score\n",
    "\n",
    "import warnings\n",
    "warnings.simplefilter('ignore')"
   ]
  },
  {
   "cell_type": "code",
   "execution_count": 2,
   "metadata": {},
   "outputs": [
    {
     "name": "stdout",
     "output_type": "stream",
     "text": [
      "<class 'pandas.core.frame.DataFrame'>\n",
      "RangeIndex: 3214 entries, 0 to 3213\n",
      "Data columns (total 5 columns):\n",
      "calls       3214 non-null float64\n",
      "minutes     3214 non-null float64\n",
      "messages    3214 non-null float64\n",
      "mb_used     3214 non-null float64\n",
      "is_ultra    3214 non-null int64\n",
      "dtypes: float64(4), int64(1)\n",
      "memory usage: 125.7 KB\n"
     ]
    }
   ],
   "source": [
    "data = pd.read_csv('/datasets/users_behavior.csv')\n",
    "data.info()"
   ]
  },
  {
   "cell_type": "code",
   "execution_count": 3,
   "metadata": {},
   "outputs": [
    {
     "data": {
      "text/html": [
       "<div>\n",
       "<style scoped>\n",
       "    .dataframe tbody tr th:only-of-type {\n",
       "        vertical-align: middle;\n",
       "    }\n",
       "\n",
       "    .dataframe tbody tr th {\n",
       "        vertical-align: top;\n",
       "    }\n",
       "\n",
       "    .dataframe thead th {\n",
       "        text-align: right;\n",
       "    }\n",
       "</style>\n",
       "<table border=\"1\" class=\"dataframe\">\n",
       "  <thead>\n",
       "    <tr style=\"text-align: right;\">\n",
       "      <th></th>\n",
       "      <th>calls</th>\n",
       "      <th>minutes</th>\n",
       "      <th>messages</th>\n",
       "      <th>mb_used</th>\n",
       "      <th>is_ultra</th>\n",
       "    </tr>\n",
       "  </thead>\n",
       "  <tbody>\n",
       "    <tr>\n",
       "      <td>0</td>\n",
       "      <td>40.0</td>\n",
       "      <td>311.90</td>\n",
       "      <td>83.0</td>\n",
       "      <td>19915.42</td>\n",
       "      <td>0</td>\n",
       "    </tr>\n",
       "    <tr>\n",
       "      <td>1</td>\n",
       "      <td>85.0</td>\n",
       "      <td>516.75</td>\n",
       "      <td>56.0</td>\n",
       "      <td>22696.96</td>\n",
       "      <td>0</td>\n",
       "    </tr>\n",
       "    <tr>\n",
       "      <td>2</td>\n",
       "      <td>77.0</td>\n",
       "      <td>467.66</td>\n",
       "      <td>86.0</td>\n",
       "      <td>21060.45</td>\n",
       "      <td>0</td>\n",
       "    </tr>\n",
       "    <tr>\n",
       "      <td>3</td>\n",
       "      <td>106.0</td>\n",
       "      <td>745.53</td>\n",
       "      <td>81.0</td>\n",
       "      <td>8437.39</td>\n",
       "      <td>1</td>\n",
       "    </tr>\n",
       "    <tr>\n",
       "      <td>4</td>\n",
       "      <td>66.0</td>\n",
       "      <td>418.74</td>\n",
       "      <td>1.0</td>\n",
       "      <td>14502.75</td>\n",
       "      <td>0</td>\n",
       "    </tr>\n",
       "  </tbody>\n",
       "</table>\n",
       "</div>"
      ],
      "text/plain": [
       "   calls  minutes  messages   mb_used  is_ultra\n",
       "0   40.0   311.90      83.0  19915.42         0\n",
       "1   85.0   516.75      56.0  22696.96         0\n",
       "2   77.0   467.66      86.0  21060.45         0\n",
       "3  106.0   745.53      81.0   8437.39         1\n",
       "4   66.0   418.74       1.0  14502.75         0"
      ]
     },
     "execution_count": 3,
     "metadata": {},
     "output_type": "execute_result"
    }
   ],
   "source": [
    "data.head()"
   ]
  },
  {
   "cell_type": "code",
   "execution_count": 4,
   "metadata": {},
   "outputs": [
    {
     "data": {
      "text/html": [
       "<div>\n",
       "<style scoped>\n",
       "    .dataframe tbody tr th:only-of-type {\n",
       "        vertical-align: middle;\n",
       "    }\n",
       "\n",
       "    .dataframe tbody tr th {\n",
       "        vertical-align: top;\n",
       "    }\n",
       "\n",
       "    .dataframe thead th {\n",
       "        text-align: right;\n",
       "    }\n",
       "</style>\n",
       "<table border=\"1\" class=\"dataframe\">\n",
       "  <thead>\n",
       "    <tr style=\"text-align: right;\">\n",
       "      <th></th>\n",
       "      <th>calls</th>\n",
       "      <th>minutes</th>\n",
       "      <th>messages</th>\n",
       "      <th>mb_used</th>\n",
       "      <th>is_ultra</th>\n",
       "    </tr>\n",
       "  </thead>\n",
       "  <tbody>\n",
       "    <tr>\n",
       "      <td>count</td>\n",
       "      <td>3214.000000</td>\n",
       "      <td>3214.000000</td>\n",
       "      <td>3214.000000</td>\n",
       "      <td>3214.000000</td>\n",
       "      <td>3214.000000</td>\n",
       "    </tr>\n",
       "    <tr>\n",
       "      <td>mean</td>\n",
       "      <td>63.038892</td>\n",
       "      <td>438.208787</td>\n",
       "      <td>38.281269</td>\n",
       "      <td>17207.673836</td>\n",
       "      <td>0.306472</td>\n",
       "    </tr>\n",
       "    <tr>\n",
       "      <td>std</td>\n",
       "      <td>33.236368</td>\n",
       "      <td>234.569872</td>\n",
       "      <td>36.148326</td>\n",
       "      <td>7570.968246</td>\n",
       "      <td>0.461100</td>\n",
       "    </tr>\n",
       "    <tr>\n",
       "      <td>min</td>\n",
       "      <td>0.000000</td>\n",
       "      <td>0.000000</td>\n",
       "      <td>0.000000</td>\n",
       "      <td>0.000000</td>\n",
       "      <td>0.000000</td>\n",
       "    </tr>\n",
       "    <tr>\n",
       "      <td>25%</td>\n",
       "      <td>40.000000</td>\n",
       "      <td>274.575000</td>\n",
       "      <td>9.000000</td>\n",
       "      <td>12491.902500</td>\n",
       "      <td>0.000000</td>\n",
       "    </tr>\n",
       "    <tr>\n",
       "      <td>50%</td>\n",
       "      <td>62.000000</td>\n",
       "      <td>430.600000</td>\n",
       "      <td>30.000000</td>\n",
       "      <td>16943.235000</td>\n",
       "      <td>0.000000</td>\n",
       "    </tr>\n",
       "    <tr>\n",
       "      <td>75%</td>\n",
       "      <td>82.000000</td>\n",
       "      <td>571.927500</td>\n",
       "      <td>57.000000</td>\n",
       "      <td>21424.700000</td>\n",
       "      <td>1.000000</td>\n",
       "    </tr>\n",
       "    <tr>\n",
       "      <td>max</td>\n",
       "      <td>244.000000</td>\n",
       "      <td>1632.060000</td>\n",
       "      <td>224.000000</td>\n",
       "      <td>49745.730000</td>\n",
       "      <td>1.000000</td>\n",
       "    </tr>\n",
       "  </tbody>\n",
       "</table>\n",
       "</div>"
      ],
      "text/plain": [
       "             calls      minutes     messages       mb_used     is_ultra\n",
       "count  3214.000000  3214.000000  3214.000000   3214.000000  3214.000000\n",
       "mean     63.038892   438.208787    38.281269  17207.673836     0.306472\n",
       "std      33.236368   234.569872    36.148326   7570.968246     0.461100\n",
       "min       0.000000     0.000000     0.000000      0.000000     0.000000\n",
       "25%      40.000000   274.575000     9.000000  12491.902500     0.000000\n",
       "50%      62.000000   430.600000    30.000000  16943.235000     0.000000\n",
       "75%      82.000000   571.927500    57.000000  21424.700000     1.000000\n",
       "max     244.000000  1632.060000   224.000000  49745.730000     1.000000"
      ]
     },
     "execution_count": 4,
     "metadata": {},
     "output_type": "execute_result"
    }
   ],
   "source": [
    "data.describe()"
   ]
  },
  {
   "cell_type": "markdown",
   "metadata": {},
   "source": [
    "**Вывод**\n",
    "\n",
    "Предобработка данных не требуется, можем начинать анализ. "
   ]
  },
  {
   "cell_type": "markdown",
   "metadata": {},
   "source": [
    "## Разбейте данные на выборки"
   ]
  },
  {
   "cell_type": "markdown",
   "metadata": {},
   "source": [
    "Разделим данные в следующей пропорции\n",
    "- Обучающая выборка - 60%\n",
    "- Валидационная выборка - 20%\n",
    "- Тестовая выборка - 20%"
   ]
  },
  {
   "cell_type": "code",
   "execution_count": 5,
   "metadata": {},
   "outputs": [],
   "source": [
    "df_train, df_valid_test = train_test_split(data, test_size=0.4, random_state=12345, stratify = data['is_ultra']) \n",
    "df_valid, df_test = train_test_split(df_valid_test,test_size=0.5, random_state=12345, stratify = df_valid_test['is_ultra'])"
   ]
  },
  {
   "cell_type": "markdown",
   "metadata": {},
   "source": [
    "## Исследуйте модели"
   ]
  },
  {
   "cell_type": "markdown",
   "metadata": {},
   "source": [
    "Сохраним признаки в отдельных переменных"
   ]
  },
  {
   "cell_type": "code",
   "execution_count": 6,
   "metadata": {},
   "outputs": [],
   "source": [
    "features_train = df_train.drop('is_ultra', axis=1)\n",
    "target_train = df_train['is_ultra']\n",
    "\n",
    "features_valid = df_valid.drop('is_ultra', axis=1)\n",
    "target_valid = df_valid['is_ultra']\n",
    "\n",
    "features_test = df_test.drop('is_ultra', axis=1)\n",
    "target_test = df_test['is_ultra']"
   ]
  },
  {
   "cell_type": "code",
   "execution_count": 7,
   "metadata": {},
   "outputs": [
    {
     "name": "stdout",
     "output_type": "stream",
     "text": [
      "(1928, 4) (1928,)\n",
      "(643, 4) (643,)\n",
      "(643, 4) (643,)\n"
     ]
    }
   ],
   "source": [
    "print(features_train.shape,target_train.shape)\n",
    "print(features_valid.shape,target_valid.shape)\n",
    "print(features_test.shape,target_test.shape)"
   ]
  },
  {
   "cell_type": "markdown",
   "metadata": {},
   "source": [
    "- ### Модель решающего дерева"
   ]
  },
  {
   "cell_type": "code",
   "execution_count": 8,
   "metadata": {},
   "outputs": [
    {
     "name": "stdout",
     "output_type": "stream",
     "text": [
      "Accuracy лучшей модели решающего дерева: 0.7853810264385692\n",
      "Глубина дерева 5\n"
     ]
    }
   ],
   "source": [
    "best_model = None\n",
    "best_result = 0\n",
    "best_depth = 0\n",
    "for depth in range(1, 6):\n",
    "    model = DecisionTreeClassifier(random_state=12345, max_depth=depth)\n",
    "    model.fit(features_train, target_train) # обучим модель\n",
    "    predictions = model.predict(features_valid) # получим предсказания модели\n",
    "    result = accuracy_score(target_valid, predictions) # посчитаем качество модели на валидационной выборке\n",
    "    if result > best_result:\n",
    "        best_model = model\n",
    "        best_result = result\n",
    "        best_depth = depth\n",
    "        \n",
    "model_Decision_Tree = DecisionTreeClassifier(random_state=12345, max_depth=best_depth)\n",
    "model_Decision_Tree.fit(features_train, target_train)\n",
    "        \n",
    "print(\"Accuracy лучшей модели решающего дерева:\", best_result)\n",
    "print(\"Глубина дерева\", best_depth)"
   ]
  },
  {
   "cell_type": "markdown",
   "metadata": {},
   "source": [
    "- ### Модель случайный лес"
   ]
  },
  {
   "cell_type": "code",
   "execution_count": 9,
   "metadata": {},
   "outputs": [
    {
     "name": "stdout",
     "output_type": "stream",
     "text": [
      "Accuracy лучшей модели случайного леса: 0.7869362363919129\n",
      "n_estimators лучшей модели 10\n"
     ]
    }
   ],
   "source": [
    "best_model = None\n",
    "best_result = 0\n",
    "best_n_estimator = 0\n",
    "for est in range(1, 11):\n",
    "    model = RandomForestClassifier(random_state=12345, n_estimators=est) \n",
    "    model.fit(features_train, target_train)\n",
    "    result = model.score(features_valid, target_valid) # посчитаем качество модели на валидационной выборке\n",
    "    if result > best_result:\n",
    "        best_model = model\n",
    "        best_result = result\n",
    "        best_n_estimator = est\n",
    "\n",
    "model_Random_Forest = RandomForestClassifier(random_state=12345, n_estimators=best_n_estimator)\n",
    "model_Random_Forest.fit(features_train, target_train)\n",
    "\n",
    "print(\"Accuracy лучшей модели случайного леса:\", best_result)\n",
    "print(\"n_estimators лучшей модели\", best_n_estimator)"
   ]
  },
  {
   "cell_type": "code",
   "execution_count": 10,
   "metadata": {},
   "outputs": [
    {
     "name": "stdout",
     "output_type": "stream",
     "text": [
      "Accuracy лучшей модели случайного леса: 0.7962674961119751\n",
      "n_estimators лучшей модели 7\n",
      "max_depth лучшей модели 3\n"
     ]
    }
   ],
   "source": [
    "best_model = None\n",
    "best_result = 0\n",
    "best_n_estimator = 0\n",
    "best_depth = 0\n",
    "for est in range(1, 11):\n",
    "    for depth in range(1, 6):\n",
    "        model = RandomForestClassifier(random_state=12345, n_estimators=est, max_depth = depth) \n",
    "        model.fit(features_train, target_train)\n",
    "        result = model.score(features_valid, target_valid) # посчитаем качество модели на валидационной выборке\n",
    "        if result > best_result:\n",
    "            best_model = model\n",
    "            best_result = result\n",
    "            best_n_estimator = est\n",
    "            best_depth = depth\n",
    "\n",
    "model_Random_Forest = RandomForestClassifier(random_state=12345, n_estimators=best_n_estimator, max_depth = depth)\n",
    "model_Random_Forest.fit(features_train, target_train)\n",
    "\n",
    "print(\"Accuracy лучшей модели случайного леса:\", best_result)\n",
    "print(\"n_estimators лучшей модели\", best_n_estimator)\n",
    "print(\"max_depth лучшей модели\", best_depth)"
   ]
  },
  {
   "cell_type": "markdown",
   "metadata": {},
   "source": [
    "- ### Модель логистической регрессии"
   ]
  },
  {
   "cell_type": "code",
   "execution_count": 11,
   "metadata": {},
   "outputs": [
    {
     "name": "stdout",
     "output_type": "stream",
     "text": [
      "Accuracy модели логистической регрессии на валидационной выборке: 0.71850699844479\n"
     ]
    }
   ],
   "source": [
    "model_Log_Regression = LogisticRegression(random_state=12345)\n",
    "model_Log_Regression.fit(features_train, target_train)\n",
    "result = model_Log_Regression.score(features_valid, target_valid) \n",
    "print(\"Accuracy модели логистической регрессии на валидационной выборке:\", result)"
   ]
  },
  {
   "cell_type": "markdown",
   "metadata": {},
   "source": [
    "## Проверьте модель на тестовой выборке"
   ]
  },
  {
   "cell_type": "code",
   "execution_count": 12,
   "metadata": {},
   "outputs": [
    {
     "name": "stdout",
     "output_type": "stream",
     "text": [
      "Accuracy лучшей модели решающего дерева: 0.8118195956454122\n",
      "Accuracy лучшей модели случайного леса: 0.8055987558320373\n",
      "Accuracy модели логистической регрессии: 0.7107309486780715\n"
     ]
    }
   ],
   "source": [
    "predictions = model_Decision_Tree.predict(features_test)\n",
    "print(\"Accuracy лучшей модели решающего дерева:\", accuracy_score(target_test, predictions)) \n",
    "\n",
    "predictions = model_Random_Forest.predict(features_test)\n",
    "print(\"Accuracy лучшей модели случайного леса:\", accuracy_score(target_test, predictions))\n",
    "\n",
    "predictions = model_Log_Regression.predict(features_test)\n",
    "print(\"Accuracy модели логистической регрессии:\", accuracy_score(target_test, predictions))"
   ]
  },
  {
   "cell_type": "markdown",
   "metadata": {},
   "source": [
    "**Вывод**\n",
    "\n",
    "На тестовой выборке наилучшее Accuracy получилось у модели решающего дерева - 0,81"
   ]
  },
  {
   "cell_type": "markdown",
   "metadata": {},
   "source": [
    "## Проверьте модели на адекватность"
   ]
  },
  {
   "cell_type": "markdown",
   "metadata": {},
   "source": [
    "Проверим модель на адекватность с помощью DummyClassifier"
   ]
  },
  {
   "cell_type": "code",
   "execution_count": 13,
   "metadata": {},
   "outputs": [
    {
     "name": "stdout",
     "output_type": "stream",
     "text": [
      "Accuracy модели DummyClassifier с параметром most_frequent: 0.6936236391912908\n"
     ]
    }
   ],
   "source": [
    "model_dummy_clf = DummyClassifier(strategy=\"most_frequent\")\n",
    "model_dummy_clf.fit(features_train, target_train)\n",
    "predictions = model_dummy_clf.predict(features_test)\n",
    "print(\"Accuracy модели DummyClassifier с параметром most_frequent:\", accuracy_score(target_test, predictions))"
   ]
  },
  {
   "cell_type": "markdown",
   "metadata": {},
   "source": [
    "**Вывод**\n",
    "Модель решающего дерева дает выше Accuracy, чем ответы из DummyClassifier. Модель получилась адекватной."
   ]
  }
 ],
 "metadata": {
  "ExecuteTimeLog": [
   {
    "duration": 965,
    "start_time": "2021-07-19T10:36:27.593Z"
   },
   {
    "duration": 21,
    "start_time": "2021-07-19T10:36:28.560Z"
   },
   {
    "duration": 12,
    "start_time": "2021-07-19T10:36:28.583Z"
   },
   {
    "duration": 20,
    "start_time": "2021-07-19T10:36:28.597Z"
   },
   {
    "duration": 8,
    "start_time": "2021-07-19T10:36:28.618Z"
   },
   {
    "duration": 5,
    "start_time": "2021-07-19T10:36:28.641Z"
   },
   {
    "duration": 28,
    "start_time": "2021-07-19T10:36:28.647Z"
   },
   {
    "duration": 251,
    "start_time": "2021-07-19T10:36:28.677Z"
   },
   {
    "duration": 16,
    "start_time": "2021-07-19T10:36:28.930Z"
   },
   {
    "duration": 10,
    "start_time": "2021-07-19T10:36:28.948Z"
   },
   {
    "duration": 6,
    "start_time": "2021-07-19T10:36:28.959Z"
   },
   {
    "duration": 100,
    "start_time": "2021-07-19T10:39:52.186Z"
   },
   {
    "duration": 4,
    "start_time": "2021-07-19T10:45:29.279Z"
   },
   {
    "duration": 22,
    "start_time": "2021-07-19T10:45:29.286Z"
   },
   {
    "duration": 13,
    "start_time": "2021-07-19T10:45:29.309Z"
   },
   {
    "duration": 30,
    "start_time": "2021-07-19T10:45:29.324Z"
   },
   {
    "duration": 8,
    "start_time": "2021-07-19T10:45:29.355Z"
   },
   {
    "duration": 6,
    "start_time": "2021-07-19T10:45:29.365Z"
   },
   {
    "duration": 28,
    "start_time": "2021-07-19T10:45:29.372Z"
   },
   {
    "duration": 252,
    "start_time": "2021-07-19T10:45:29.402Z"
   },
   {
    "duration": 8,
    "start_time": "2021-07-19T10:45:29.656Z"
   },
   {
    "duration": 9,
    "start_time": "2021-07-19T10:45:29.666Z"
   },
   {
    "duration": 4,
    "start_time": "2021-07-19T10:45:29.677Z"
   },
   {
    "duration": 88,
    "start_time": "2021-07-20T07:01:52.644Z"
   },
   {
    "duration": 880,
    "start_time": "2021-07-20T07:02:33.687Z"
   },
   {
    "duration": 1285,
    "start_time": "2021-07-20T07:02:39.640Z"
   },
   {
    "duration": 28,
    "start_time": "2021-07-20T07:02:40.928Z"
   },
   {
    "duration": 22,
    "start_time": "2021-07-20T07:02:40.959Z"
   },
   {
    "duration": 46,
    "start_time": "2021-07-20T07:02:40.984Z"
   },
   {
    "duration": 11,
    "start_time": "2021-07-20T07:02:41.033Z"
   },
   {
    "duration": 8,
    "start_time": "2021-07-20T07:02:41.047Z"
   },
   {
    "duration": 351,
    "start_time": "2021-07-20T07:02:41.057Z"
   },
   {
    "duration": 155,
    "start_time": "2021-07-20T07:02:41.256Z"
   },
   {
    "duration": 142,
    "start_time": "2021-07-20T07:02:41.271Z"
   },
   {
    "duration": 136,
    "start_time": "2021-07-20T07:02:41.278Z"
   },
   {
    "duration": 127,
    "start_time": "2021-07-20T07:02:41.289Z"
   },
   {
    "duration": 114,
    "start_time": "2021-07-20T07:02:41.303Z"
   },
   {
    "duration": 5,
    "start_time": "2021-07-20T07:03:18.339Z"
   },
   {
    "duration": 7,
    "start_time": "2021-07-20T07:03:58.626Z"
   },
   {
    "duration": 5,
    "start_time": "2021-07-20T07:04:22.193Z"
   },
   {
    "duration": 5,
    "start_time": "2021-07-20T07:04:37.038Z"
   },
   {
    "duration": 5,
    "start_time": "2021-07-20T07:04:39.270Z"
   },
   {
    "duration": 6,
    "start_time": "2021-07-20T07:05:03.495Z"
   },
   {
    "duration": 90,
    "start_time": "2021-07-20T07:08:18.552Z"
   },
   {
    "duration": 894,
    "start_time": "2021-07-20T07:10:36.358Z"
   },
   {
    "duration": 354,
    "start_time": "2021-07-20T07:10:43.838Z"
   },
   {
    "duration": 99,
    "start_time": "2021-07-20T07:11:54.479Z"
   },
   {
    "duration": 923,
    "start_time": "2021-07-20T07:12:13.030Z"
   },
   {
    "duration": 361,
    "start_time": "2021-07-20T07:12:36.541Z"
   },
   {
    "duration": 16,
    "start_time": "2021-07-20T07:17:27.692Z"
   },
   {
    "duration": 285,
    "start_time": "2021-07-20T07:17:35.686Z"
   },
   {
    "duration": 386,
    "start_time": "2021-07-20T07:18:01.799Z"
   },
   {
    "duration": 306,
    "start_time": "2021-07-20T07:18:12.757Z"
   },
   {
    "duration": 281,
    "start_time": "2021-07-20T07:18:17.358Z"
   },
   {
    "duration": 16,
    "start_time": "2021-07-20T07:19:00.110Z"
   },
   {
    "duration": 16,
    "start_time": "2021-07-20T07:19:06.502Z"
   },
   {
    "duration": 16,
    "start_time": "2021-07-20T07:19:09.678Z"
   },
   {
    "duration": 18,
    "start_time": "2021-07-20T07:19:12.190Z"
   },
   {
    "duration": 16,
    "start_time": "2021-07-20T07:19:15.846Z"
   },
   {
    "duration": 17,
    "start_time": "2021-07-20T07:19:21.036Z"
   },
   {
    "duration": 16,
    "start_time": "2021-07-20T07:19:22.493Z"
   },
   {
    "duration": 15,
    "start_time": "2021-07-20T07:19:27.806Z"
   },
   {
    "duration": 15,
    "start_time": "2021-07-20T07:19:30.948Z"
   },
   {
    "duration": 14,
    "start_time": "2021-07-20T07:19:41.272Z"
   },
   {
    "duration": 11,
    "start_time": "2021-07-20T07:19:46.848Z"
   },
   {
    "duration": 11,
    "start_time": "2021-07-20T07:19:50.509Z"
   },
   {
    "duration": 11,
    "start_time": "2021-07-20T07:19:54.716Z"
   },
   {
    "duration": 1481,
    "start_time": "2021-07-20T07:19:59.517Z"
   },
   {
    "duration": 16,
    "start_time": "2021-07-20T07:20:07.422Z"
   },
   {
    "duration": 16,
    "start_time": "2021-07-20T07:20:13.413Z"
   },
   {
    "duration": 16,
    "start_time": "2021-07-20T07:20:18.933Z"
   },
   {
    "duration": 327,
    "start_time": "2021-07-20T07:32:43.960Z"
   },
   {
    "duration": 1132,
    "start_time": "2021-07-20T07:33:03.317Z"
   },
   {
    "duration": 1113,
    "start_time": "2021-07-20T07:33:12.724Z"
   },
   {
    "duration": 595,
    "start_time": "2021-07-20T07:34:10.869Z"
   },
   {
    "duration": 571,
    "start_time": "2021-07-20T07:34:51.875Z"
   },
   {
    "duration": 972,
    "start_time": "2021-07-20T07:35:16.612Z"
   },
   {
    "duration": 1038,
    "start_time": "2021-07-20T07:35:41.868Z"
   },
   {
    "duration": 962,
    "start_time": "2021-07-20T07:35:52.972Z"
   },
   {
    "duration": 1343,
    "start_time": "2021-07-20T10:28:40.785Z"
   },
   {
    "duration": 30,
    "start_time": "2021-07-20T10:28:42.130Z"
   },
   {
    "duration": 5,
    "start_time": "2021-07-20T10:28:47.547Z"
   },
   {
    "duration": 30,
    "start_time": "2021-07-20T10:28:47.555Z"
   },
   {
    "duration": 21,
    "start_time": "2021-07-20T10:28:47.589Z"
   },
   {
    "duration": 39,
    "start_time": "2021-07-20T10:28:47.613Z"
   },
   {
    "duration": 45,
    "start_time": "2021-07-20T10:28:47.655Z"
   },
   {
    "duration": 9,
    "start_time": "2021-07-20T10:28:47.703Z"
   },
   {
    "duration": 6,
    "start_time": "2021-07-20T10:28:47.716Z"
   },
   {
    "duration": 87,
    "start_time": "2021-07-20T10:28:47.725Z"
   },
   {
    "duration": 390,
    "start_time": "2021-07-20T10:28:47.814Z"
   },
   {
    "duration": 951,
    "start_time": "2021-07-20T10:28:48.207Z"
   },
   {
    "duration": 16,
    "start_time": "2021-07-20T10:28:49.161Z"
   },
   {
    "duration": 32,
    "start_time": "2021-07-20T10:28:49.180Z"
   },
   {
    "duration": 9,
    "start_time": "2021-07-20T10:28:49.214Z"
   },
   {
    "duration": 16,
    "start_time": "2021-07-20T10:28:49.226Z"
   },
   {
    "duration": 1331,
    "start_time": "2022-02-06T12:45:17.304Z"
   },
   {
    "duration": 26,
    "start_time": "2022-02-06T12:45:18.638Z"
   },
   {
    "duration": 21,
    "start_time": "2022-02-06T12:45:18.668Z"
   },
   {
    "duration": 35,
    "start_time": "2022-02-06T12:45:18.692Z"
   },
   {
    "duration": 13,
    "start_time": "2022-02-06T12:45:18.748Z"
   },
   {
    "duration": 9,
    "start_time": "2022-02-06T12:45:18.763Z"
   },
   {
    "duration": 9,
    "start_time": "2022-02-06T12:45:18.774Z"
   },
   {
    "duration": 74,
    "start_time": "2022-02-06T12:45:18.786Z"
   },
   {
    "duration": 422,
    "start_time": "2022-02-06T12:45:18.863Z"
   },
   {
    "duration": 966,
    "start_time": "2022-02-06T12:45:19.287Z"
   },
   {
    "duration": 16,
    "start_time": "2022-02-06T12:45:20.255Z"
   },
   {
    "duration": 13,
    "start_time": "2022-02-06T12:45:20.273Z"
   },
   {
    "duration": 8,
    "start_time": "2022-02-06T12:45:20.288Z"
   }
  ],
  "kernelspec": {
   "display_name": "Python 3",
   "language": "python",
   "name": "python3"
  },
  "language_info": {
   "codemirror_mode": {
    "name": "ipython",
    "version": 3
   },
   "file_extension": ".py",
   "mimetype": "text/x-python",
   "name": "python",
   "nbconvert_exporter": "python",
   "pygments_lexer": "ipython3",
   "version": "3.7.8"
  },
  "toc": {
   "base_numbering": 1,
   "nav_menu": {},
   "number_sections": true,
   "sideBar": true,
   "skip_h1_title": true,
   "title_cell": "Table of Contents",
   "title_sidebar": "Contents",
   "toc_cell": false,
   "toc_position": {},
   "toc_section_display": true,
   "toc_window_display": true
  }
 },
 "nbformat": 4,
 "nbformat_minor": 2
}
