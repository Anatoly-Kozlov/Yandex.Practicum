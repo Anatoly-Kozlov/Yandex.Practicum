{
 "cells": [
  {
   "cell_type": "markdown",
   "metadata": {
    "toc": true
   },
   "source": [
    "<h1>Содержание<span class=\"tocSkip\"></span></h1>\n",
    "<div class=\"toc\"><ul class=\"toc-item\"><li><span><a href=\"#Подготовка-данных\" data-toc-modified-id=\"Подготовка-данных-1\"><span class=\"toc-item-num\">1&nbsp;&nbsp;</span>Подготовка данных</a></span><ul class=\"toc-item\"><li><span><a href=\"#Проверим,-что-эффективность-обогащения-рассчитана-правильно.-Вычислим-её-на-обучающей-выборке-для-признака-rougher.output.recovery\" data-toc-modified-id=\"Проверим,-что-эффективность-обогащения-рассчитана-правильно.-Вычислим-её-на-обучающей-выборке-для-признака-rougher.output.recovery-1.1\"><span class=\"toc-item-num\">1.1&nbsp;&nbsp;</span>Проверим, что эффективность обогащения рассчитана правильно. Вычислим её на обучающей выборке для признака rougher.output.recovery</a></span><ul class=\"toc-item\"><li><span><a href=\"#Вывод:\" data-toc-modified-id=\"Вывод:-1.1.1\"><span class=\"toc-item-num\">1.1.1&nbsp;&nbsp;</span>Вывод:</a></span></li></ul></li><li><span><a href=\"#Проанализируем-признаки,-недоступные-в-тестовой-выборке.\" data-toc-modified-id=\"Проанализируем-признаки,-недоступные-в-тестовой-выборке.-1.2\"><span class=\"toc-item-num\">1.2&nbsp;&nbsp;</span>Проанализируем признаки, недоступные в тестовой выборке.</a></span><ul class=\"toc-item\"><li><span><a href=\"#Вывод:\" data-toc-modified-id=\"Вывод:-1.2.1\"><span class=\"toc-item-num\">1.2.1&nbsp;&nbsp;</span>Вывод:</a></span></li></ul></li><li><span><a href=\"#Проведем-предобработку-данных-в-df_train.\" data-toc-modified-id=\"Проведем-предобработку-данных-в-df_train.-1.3\"><span class=\"toc-item-num\">1.3&nbsp;&nbsp;</span>Проведем предобработку данных в df_train.</a></span></li><li><span><a href=\"#Проведем-предобработку-данных-в-df_test.\" data-toc-modified-id=\"Проведем-предобработку-данных-в-df_test.-1.4\"><span class=\"toc-item-num\">1.4&nbsp;&nbsp;</span>Проведем предобработку данных в df_test.</a></span><ul class=\"toc-item\"><li><span><a href=\"#Вывод:\" data-toc-modified-id=\"Вывод:-1.4.1\"><span class=\"toc-item-num\">1.4.1&nbsp;&nbsp;</span>Вывод:</a></span></li></ul></li><li><span><a href=\"#Переведем-во-всех-датасетах-даты-в-индексы\" data-toc-modified-id=\"Переведем-во-всех-датасетах-даты-в-индексы-1.5\"><span class=\"toc-item-num\">1.5&nbsp;&nbsp;</span>Переведем во всех датасетах даты в индексы</a></span></li><li><span><a href=\"#Промежуточный-вывод:\" data-toc-modified-id=\"Промежуточный-вывод:-1.6\"><span class=\"toc-item-num\">1.6&nbsp;&nbsp;</span>Промежуточный вывод:</a></span></li></ul></li><li><span><a href=\"#Анализ-данных\" data-toc-modified-id=\"Анализ-данных-2\"><span class=\"toc-item-num\">2&nbsp;&nbsp;</span>Анализ данных</a></span><ul class=\"toc-item\"><li><span><a href=\"#Посмотрим,-как-меняется-концентрация-металлов-(Au,-Ag,-Pb)-на-различных-этапах-очистки.\" data-toc-modified-id=\"Посмотрим,-как-меняется-концентрация-металлов-(Au,-Ag,-Pb)-на-различных-этапах-очистки.-2.1\"><span class=\"toc-item-num\">2.1&nbsp;&nbsp;</span>Посмотрим, как меняется концентрация металлов (Au, Ag, Pb) на различных этапах очистки.</a></span><ul class=\"toc-item\"><li><span><a href=\"#Вывод:\" data-toc-modified-id=\"Вывод:-2.1.1\"><span class=\"toc-item-num\">2.1.1&nbsp;&nbsp;</span>Вывод:</a></span></li></ul></li><li><span><a href=\"#Сравним-распределения-размеров-гранул-сырья-на-обучающей-и-тестовой-выборках.\" data-toc-modified-id=\"Сравним-распределения-размеров-гранул-сырья-на-обучающей-и-тестовой-выборках.-2.2\"><span class=\"toc-item-num\">2.2&nbsp;&nbsp;</span>Сравним распределения размеров гранул сырья на обучающей и тестовой выборках.</a></span><ul class=\"toc-item\"><li><span><a href=\"#Вывод:\" data-toc-modified-id=\"Вывод:-2.2.1\"><span class=\"toc-item-num\">2.2.1&nbsp;&nbsp;</span>Вывод:</a></span></li></ul></li><li><span><a href=\"#Исследуем-суммарную-концентрацию-всех-веществ-на-разных-стадиях:-в-сырье,-в-черновом-и-финальном-концентратах.\" data-toc-modified-id=\"Исследуем-суммарную-концентрацию-всех-веществ-на-разных-стадиях:-в-сырье,-в-черновом-и-финальном-концентратах.-2.3\"><span class=\"toc-item-num\">2.3&nbsp;&nbsp;</span>Исследуем суммарную концентрацию всех веществ на разных стадиях: в сырье, в черновом и финальном концентратах.</a></span><ul class=\"toc-item\"><li><span><a href=\"#Вывод:\" data-toc-modified-id=\"Вывод:-2.3.1\"><span class=\"toc-item-num\">2.3.1&nbsp;&nbsp;</span>Вывод:</a></span></li></ul></li></ul></li><li><span><a href=\"#Модель\" data-toc-modified-id=\"Модель-3\"><span class=\"toc-item-num\">3&nbsp;&nbsp;</span>Модель</a></span><ul class=\"toc-item\"><li><span><a href=\"#Напишем-функцию-для-вычисления-sMAPE\" data-toc-modified-id=\"Напишем-функцию-для-вычисления-sMAPE-3.1\"><span class=\"toc-item-num\">3.1&nbsp;&nbsp;</span>Напишем функцию для вычисления sMAPE</a></span></li><li><span><a href=\"#Разобьем-данные-df_train-на-target-и-predict\" data-toc-modified-id=\"Разобьем-данные-df_train-на-target-и-predict-3.2\"><span class=\"toc-item-num\">3.2&nbsp;&nbsp;</span>Разобьем данные df_train на target и predict</a></span></li><li><span><a href=\"#Разобьем-данные-df_test-на-target-и-predict-использую-также-данные-из-df_full\" data-toc-modified-id=\"Разобьем-данные-df_test-на-target-и-predict-использую-также-данные-из-df_full-3.3\"><span class=\"toc-item-num\">3.3&nbsp;&nbsp;</span>Разобьем данные df_test на target и predict использую также данные из df_full</a></span></li><li><span><a href=\"#Обучим-разные-модели-и-оцените-их-качество-кросс-валидацией.\" data-toc-modified-id=\"Обучим-разные-модели-и-оцените-их-качество-кросс-валидацией.-3.4\"><span class=\"toc-item-num\">3.4&nbsp;&nbsp;</span>Обучим разные модели и оцените их качество кросс-валидацией.</a></span><ul class=\"toc-item\"><li><span><a href=\"#Модель-решающего-дерева\" data-toc-modified-id=\"Модель-решающего-дерева-3.4.1\"><span class=\"toc-item-num\">3.4.1&nbsp;&nbsp;</span>Модель решающего дерева</a></span></li><li><span><a href=\"#Модель-случайный-лес\" data-toc-modified-id=\"Модель-случайный-лес-3.4.2\"><span class=\"toc-item-num\">3.4.2&nbsp;&nbsp;</span>Модель случайный лес</a></span></li><li><span><a href=\"#Вывод:\" data-toc-modified-id=\"Вывод:-3.4.3\"><span class=\"toc-item-num\">3.4.3&nbsp;&nbsp;</span>Вывод:</a></span></li></ul></li><li><span><a href=\"#Проверим-лучшие-модели-на-тестовой-выборке\" data-toc-modified-id=\"Проверим-лучшие-модели-на-тестовой-выборке-3.5\"><span class=\"toc-item-num\">3.5&nbsp;&nbsp;</span>Проверим лучшие модели на тестовой выборке</a></span><ul class=\"toc-item\"><li><span><a href=\"#Модель-решающего-дерева\" data-toc-modified-id=\"Модель-решающего-дерева-3.5.1\"><span class=\"toc-item-num\">3.5.1&nbsp;&nbsp;</span>Модель решающего дерева</a></span></li><li><span><a href=\"#Модель-случайный-лес\" data-toc-modified-id=\"Модель-случайный-лес-3.5.2\"><span class=\"toc-item-num\">3.5.2&nbsp;&nbsp;</span>Модель случайный лес</a></span></li><li><span><a href=\"#Вывод:\" data-toc-modified-id=\"Вывод:-3.5.3\"><span class=\"toc-item-num\">3.5.3&nbsp;&nbsp;</span>Вывод:</a></span></li></ul></li></ul></li><li><span><a href=\"#Основные-результаты-проекта:\" data-toc-modified-id=\"Основные-результаты-проекта:-4\"><span class=\"toc-item-num\">4&nbsp;&nbsp;</span>Основные результаты проекта:</a></span></li><li><span><a href=\"#Чек-лист-готовности-проекта\" data-toc-modified-id=\"Чек-лист-готовности-проекта-5\"><span class=\"toc-item-num\">5&nbsp;&nbsp;</span>Чек-лист готовности проекта</a></span></li></ul></div>"
   ]
  },
  {
   "cell_type": "markdown",
   "metadata": {},
   "source": [
    "# Восстановление золота из руды"
   ]
  },
  {
   "cell_type": "markdown",
   "metadata": {},
   "source": [
    "Подготовьте прототип модели машинного обучения для «Цифры». Компания разрабатывает решения для эффективной работы промышленных предприятий.\n",
    "\n",
    "Модель должна предсказать коэффициент восстановления золота из золотосодержащей руды. Используйте данные с параметрами добычи и очистки. \n",
    "\n",
    "Модель поможет оптимизировать производство, чтобы не запускать предприятие с убыточными характеристиками.\n",
    "\n",
    "Вам нужно:\n",
    "\n",
    "1. Подготовить данные;\n",
    "2. Провести исследовательский анализ данных;\n",
    "3. Построить и обучить модель.\n",
    "\n",
    "Чтобы выполнить проект, обращайтесь к библиотекам *pandas*, *matplotlib* и *sklearn.* Вам поможет их документация."
   ]
  },
  {
   "cell_type": "markdown",
   "metadata": {},
   "source": [
    "**Конечная цель проекта:**\n",
    "Обучить разные модели и оценить их качество кросс-валидацией. Выбрать лучшую модель и проверить её на тестовой выборке. \n",
    "Нужно спрогнозировать сразу две величины:\n",
    "- эффективность обогащения чернового концентрата rougher.output.recovery;\n",
    "- эффективность обогащения финального концентрата final.output.recovery."
   ]
  },
  {
   "cell_type": "markdown",
   "metadata": {},
   "source": [
    "## Подготовка данных"
   ]
  },
  {
   "cell_type": "code",
   "execution_count": 1,
   "metadata": {},
   "outputs": [],
   "source": [
    "import pandas as pd\n",
    "\n",
    "from sklearn.metrics import mean_absolute_error\n",
    "\n",
    "from matplotlib import pyplot\n",
    "\n",
    "from sklearn.tree import DecisionTreeRegressor\n",
    "from sklearn.ensemble import RandomForestRegressor\n",
    "from sklearn.linear_model import LogisticRegression\n",
    "\n",
    "from sklearn.preprocessing import StandardScaler\n",
    "\n",
    "from sklearn.model_selection import train_test_split\n",
    "from sklearn.model_selection import cross_val_score\n",
    "\n",
    "import warnings\n",
    "warnings.simplefilter('ignore')"
   ]
  },
  {
   "cell_type": "code",
   "execution_count": 2,
   "metadata": {},
   "outputs": [],
   "source": [
    "try:\n",
    "    df_train = pd.read_csv('C:\\\\Users\\\\user\\\\Yandex\\\\Praktika_8\\\\datasets\\\\gold_recovery_train_new.csv')\n",
    "    df_test = pd.read_csv('C:\\\\Users\\\\user\\\\Yandex\\\\Praktika_8\\\\datasets\\\\gold_recovery_test_new.csv')\n",
    "    df_full = pd.read_csv('C:\\\\Users\\\\user\\\\Yandex\\\\Praktika_8\\\\datasets\\\\gold_recovery_full_new.csv')\n",
    "except:\n",
    "    df_train = pd.read_csv('/datasets/gold_recovery_train_new.csv')\n",
    "    df_test = pd.read_csv('/datasets/gold_recovery_test_new.csv')\n",
    "    df_full = pd.read_csv('/datasets/gold_recovery_full_new.csv')    "
   ]
  },
  {
   "cell_type": "code",
   "execution_count": 3,
   "metadata": {},
   "outputs": [
    {
     "name": "stdout",
     "output_type": "stream",
     "text": [
      "<class 'pandas.core.frame.DataFrame'>\n",
      "RangeIndex: 14149 entries, 0 to 14148\n",
      "Data columns (total 87 columns):\n",
      "date                                                  14149 non-null object\n",
      "final.output.concentrate_ag                           14148 non-null float64\n",
      "final.output.concentrate_pb                           14148 non-null float64\n",
      "final.output.concentrate_sol                          13938 non-null float64\n",
      "final.output.concentrate_au                           14149 non-null float64\n",
      "final.output.recovery                                 14149 non-null float64\n",
      "final.output.tail_ag                                  14149 non-null float64\n",
      "final.output.tail_pb                                  14049 non-null float64\n",
      "final.output.tail_sol                                 14144 non-null float64\n",
      "final.output.tail_au                                  14149 non-null float64\n",
      "primary_cleaner.input.sulfate                         14129 non-null float64\n",
      "primary_cleaner.input.depressant                      14117 non-null float64\n",
      "primary_cleaner.input.feed_size                       14149 non-null float64\n",
      "primary_cleaner.input.xanthate                        14049 non-null float64\n",
      "primary_cleaner.output.concentrate_ag                 14149 non-null float64\n",
      "primary_cleaner.output.concentrate_pb                 14063 non-null float64\n",
      "primary_cleaner.output.concentrate_sol                13863 non-null float64\n",
      "primary_cleaner.output.concentrate_au                 14149 non-null float64\n",
      "primary_cleaner.output.tail_ag                        14148 non-null float64\n",
      "primary_cleaner.output.tail_pb                        14134 non-null float64\n",
      "primary_cleaner.output.tail_sol                       14103 non-null float64\n",
      "primary_cleaner.output.tail_au                        14149 non-null float64\n",
      "primary_cleaner.state.floatbank8_a_air                14145 non-null float64\n",
      "primary_cleaner.state.floatbank8_a_level              14148 non-null float64\n",
      "primary_cleaner.state.floatbank8_b_air                14145 non-null float64\n",
      "primary_cleaner.state.floatbank8_b_level              14148 non-null float64\n",
      "primary_cleaner.state.floatbank8_c_air                14147 non-null float64\n",
      "primary_cleaner.state.floatbank8_c_level              14148 non-null float64\n",
      "primary_cleaner.state.floatbank8_d_air                14146 non-null float64\n",
      "primary_cleaner.state.floatbank8_d_level              14148 non-null float64\n",
      "rougher.calculation.sulfate_to_au_concentrate         14148 non-null float64\n",
      "rougher.calculation.floatbank10_sulfate_to_au_feed    14148 non-null float64\n",
      "rougher.calculation.floatbank11_sulfate_to_au_feed    14148 non-null float64\n",
      "rougher.calculation.au_pb_ratio                       14149 non-null float64\n",
      "rougher.input.feed_ag                                 14149 non-null float64\n",
      "rougher.input.feed_pb                                 14049 non-null float64\n",
      "rougher.input.feed_rate                               14141 non-null float64\n",
      "rougher.input.feed_size                               14005 non-null float64\n",
      "rougher.input.feed_sol                                14071 non-null float64\n",
      "rougher.input.feed_au                                 14149 non-null float64\n",
      "rougher.input.floatbank10_sulfate                     14120 non-null float64\n",
      "rougher.input.floatbank10_xanthate                    14141 non-null float64\n",
      "rougher.input.floatbank11_sulfate                     14113 non-null float64\n",
      "rougher.input.floatbank11_xanthate                    13721 non-null float64\n",
      "rougher.output.concentrate_ag                         14149 non-null float64\n",
      "rougher.output.concentrate_pb                         14149 non-null float64\n",
      "rougher.output.concentrate_sol                        14127 non-null float64\n",
      "rougher.output.concentrate_au                         14149 non-null float64\n",
      "rougher.output.recovery                               14149 non-null float64\n",
      "rougher.output.tail_ag                                14148 non-null float64\n",
      "rougher.output.tail_pb                                14149 non-null float64\n",
      "rougher.output.tail_sol                               14149 non-null float64\n",
      "rougher.output.tail_au                                14149 non-null float64\n",
      "rougher.state.floatbank10_a_air                       14148 non-null float64\n",
      "rougher.state.floatbank10_a_level                     14148 non-null float64\n",
      "rougher.state.floatbank10_b_air                       14148 non-null float64\n",
      "rougher.state.floatbank10_b_level                     14148 non-null float64\n",
      "rougher.state.floatbank10_c_air                       14148 non-null float64\n",
      "rougher.state.floatbank10_c_level                     14148 non-null float64\n",
      "rougher.state.floatbank10_d_air                       14149 non-null float64\n",
      "rougher.state.floatbank10_d_level                     14149 non-null float64\n",
      "rougher.state.floatbank10_e_air                       13713 non-null float64\n",
      "rougher.state.floatbank10_e_level                     14149 non-null float64\n",
      "rougher.state.floatbank10_f_air                       14149 non-null float64\n",
      "rougher.state.floatbank10_f_level                     14149 non-null float64\n",
      "secondary_cleaner.output.tail_ag                      14147 non-null float64\n",
      "secondary_cleaner.output.tail_pb                      14139 non-null float64\n",
      "secondary_cleaner.output.tail_sol                     12544 non-null float64\n",
      "secondary_cleaner.output.tail_au                      14149 non-null float64\n",
      "secondary_cleaner.state.floatbank2_a_air              13932 non-null float64\n",
      "secondary_cleaner.state.floatbank2_a_level            14148 non-null float64\n",
      "secondary_cleaner.state.floatbank2_b_air              14128 non-null float64\n",
      "secondary_cleaner.state.floatbank2_b_level            14148 non-null float64\n",
      "secondary_cleaner.state.floatbank3_a_air              14145 non-null float64\n",
      "secondary_cleaner.state.floatbank3_a_level            14148 non-null float64\n",
      "secondary_cleaner.state.floatbank3_b_air              14148 non-null float64\n",
      "secondary_cleaner.state.floatbank3_b_level            14148 non-null float64\n",
      "secondary_cleaner.state.floatbank4_a_air              14143 non-null float64\n",
      "secondary_cleaner.state.floatbank4_a_level            14148 non-null float64\n",
      "secondary_cleaner.state.floatbank4_b_air              14148 non-null float64\n",
      "secondary_cleaner.state.floatbank4_b_level            14148 non-null float64\n",
      "secondary_cleaner.state.floatbank5_a_air              14148 non-null float64\n",
      "secondary_cleaner.state.floatbank5_a_level            14148 non-null float64\n",
      "secondary_cleaner.state.floatbank5_b_air              14148 non-null float64\n",
      "secondary_cleaner.state.floatbank5_b_level            14148 non-null float64\n",
      "secondary_cleaner.state.floatbank6_a_air              14147 non-null float64\n",
      "secondary_cleaner.state.floatbank6_a_level            14148 non-null float64\n",
      "dtypes: float64(86), object(1)\n",
      "memory usage: 9.4+ MB\n"
     ]
    }
   ],
   "source": [
    "df_train.info()"
   ]
  },
  {
   "cell_type": "code",
   "execution_count": 4,
   "metadata": {},
   "outputs": [
    {
     "name": "stdout",
     "output_type": "stream",
     "text": [
      "<class 'pandas.core.frame.DataFrame'>\n",
      "RangeIndex: 5290 entries, 0 to 5289\n",
      "Data columns (total 53 columns):\n",
      "date                                          5290 non-null object\n",
      "primary_cleaner.input.sulfate                 5286 non-null float64\n",
      "primary_cleaner.input.depressant              5285 non-null float64\n",
      "primary_cleaner.input.feed_size               5290 non-null float64\n",
      "primary_cleaner.input.xanthate                5286 non-null float64\n",
      "primary_cleaner.state.floatbank8_a_air        5290 non-null float64\n",
      "primary_cleaner.state.floatbank8_a_level      5290 non-null float64\n",
      "primary_cleaner.state.floatbank8_b_air        5290 non-null float64\n",
      "primary_cleaner.state.floatbank8_b_level      5290 non-null float64\n",
      "primary_cleaner.state.floatbank8_c_air        5290 non-null float64\n",
      "primary_cleaner.state.floatbank8_c_level      5290 non-null float64\n",
      "primary_cleaner.state.floatbank8_d_air        5290 non-null float64\n",
      "primary_cleaner.state.floatbank8_d_level      5290 non-null float64\n",
      "rougher.input.feed_ag                         5290 non-null float64\n",
      "rougher.input.feed_pb                         5290 non-null float64\n",
      "rougher.input.feed_rate                       5287 non-null float64\n",
      "rougher.input.feed_size                       5289 non-null float64\n",
      "rougher.input.feed_sol                        5269 non-null float64\n",
      "rougher.input.feed_au                         5290 non-null float64\n",
      "rougher.input.floatbank10_sulfate             5285 non-null float64\n",
      "rougher.input.floatbank10_xanthate            5290 non-null float64\n",
      "rougher.input.floatbank11_sulfate             5282 non-null float64\n",
      "rougher.input.floatbank11_xanthate            5265 non-null float64\n",
      "rougher.state.floatbank10_a_air               5290 non-null float64\n",
      "rougher.state.floatbank10_a_level             5290 non-null float64\n",
      "rougher.state.floatbank10_b_air               5290 non-null float64\n",
      "rougher.state.floatbank10_b_level             5290 non-null float64\n",
      "rougher.state.floatbank10_c_air               5290 non-null float64\n",
      "rougher.state.floatbank10_c_level             5290 non-null float64\n",
      "rougher.state.floatbank10_d_air               5290 non-null float64\n",
      "rougher.state.floatbank10_d_level             5290 non-null float64\n",
      "rougher.state.floatbank10_e_air               5290 non-null float64\n",
      "rougher.state.floatbank10_e_level             5290 non-null float64\n",
      "rougher.state.floatbank10_f_air               5290 non-null float64\n",
      "rougher.state.floatbank10_f_level             5290 non-null float64\n",
      "secondary_cleaner.state.floatbank2_a_air      5287 non-null float64\n",
      "secondary_cleaner.state.floatbank2_a_level    5290 non-null float64\n",
      "secondary_cleaner.state.floatbank2_b_air      5288 non-null float64\n",
      "secondary_cleaner.state.floatbank2_b_level    5290 non-null float64\n",
      "secondary_cleaner.state.floatbank3_a_air      5281 non-null float64\n",
      "secondary_cleaner.state.floatbank3_a_level    5290 non-null float64\n",
      "secondary_cleaner.state.floatbank3_b_air      5290 non-null float64\n",
      "secondary_cleaner.state.floatbank3_b_level    5290 non-null float64\n",
      "secondary_cleaner.state.floatbank4_a_air      5290 non-null float64\n",
      "secondary_cleaner.state.floatbank4_a_level    5290 non-null float64\n",
      "secondary_cleaner.state.floatbank4_b_air      5290 non-null float64\n",
      "secondary_cleaner.state.floatbank4_b_level    5290 non-null float64\n",
      "secondary_cleaner.state.floatbank5_a_air      5290 non-null float64\n",
      "secondary_cleaner.state.floatbank5_a_level    5290 non-null float64\n",
      "secondary_cleaner.state.floatbank5_b_air      5290 non-null float64\n",
      "secondary_cleaner.state.floatbank5_b_level    5290 non-null float64\n",
      "secondary_cleaner.state.floatbank6_a_air      5290 non-null float64\n",
      "secondary_cleaner.state.floatbank6_a_level    5290 non-null float64\n",
      "dtypes: float64(52), object(1)\n",
      "memory usage: 2.1+ MB\n"
     ]
    }
   ],
   "source": [
    "df_test.info()"
   ]
  },
  {
   "cell_type": "code",
   "execution_count": 5,
   "metadata": {},
   "outputs": [
    {
     "name": "stdout",
     "output_type": "stream",
     "text": [
      "<class 'pandas.core.frame.DataFrame'>\n",
      "RangeIndex: 19439 entries, 0 to 19438\n",
      "Data columns (total 87 columns):\n",
      "date                                                  19439 non-null object\n",
      "final.output.concentrate_ag                           19438 non-null float64\n",
      "final.output.concentrate_pb                           19438 non-null float64\n",
      "final.output.concentrate_sol                          19228 non-null float64\n",
      "final.output.concentrate_au                           19439 non-null float64\n",
      "final.output.recovery                                 19439 non-null float64\n",
      "final.output.tail_ag                                  19438 non-null float64\n",
      "final.output.tail_pb                                  19338 non-null float64\n",
      "final.output.tail_sol                                 19433 non-null float64\n",
      "final.output.tail_au                                  19439 non-null float64\n",
      "primary_cleaner.input.sulfate                         19415 non-null float64\n",
      "primary_cleaner.input.depressant                      19402 non-null float64\n",
      "primary_cleaner.input.feed_size                       19439 non-null float64\n",
      "primary_cleaner.input.xanthate                        19335 non-null float64\n",
      "primary_cleaner.output.concentrate_ag                 19439 non-null float64\n",
      "primary_cleaner.output.concentrate_pb                 19323 non-null float64\n",
      "primary_cleaner.output.concentrate_sol                19069 non-null float64\n",
      "primary_cleaner.output.concentrate_au                 19439 non-null float64\n",
      "primary_cleaner.output.tail_ag                        19435 non-null float64\n",
      "primary_cleaner.output.tail_pb                        19418 non-null float64\n",
      "primary_cleaner.output.tail_sol                       19377 non-null float64\n",
      "primary_cleaner.output.tail_au                        19439 non-null float64\n",
      "primary_cleaner.state.floatbank8_a_air                19435 non-null float64\n",
      "primary_cleaner.state.floatbank8_a_level              19438 non-null float64\n",
      "primary_cleaner.state.floatbank8_b_air                19435 non-null float64\n",
      "primary_cleaner.state.floatbank8_b_level              19438 non-null float64\n",
      "primary_cleaner.state.floatbank8_c_air                19437 non-null float64\n",
      "primary_cleaner.state.floatbank8_c_level              19438 non-null float64\n",
      "primary_cleaner.state.floatbank8_d_air                19436 non-null float64\n",
      "primary_cleaner.state.floatbank8_d_level              19438 non-null float64\n",
      "rougher.calculation.sulfate_to_au_concentrate         19437 non-null float64\n",
      "rougher.calculation.floatbank10_sulfate_to_au_feed    19437 non-null float64\n",
      "rougher.calculation.floatbank11_sulfate_to_au_feed    19437 non-null float64\n",
      "rougher.calculation.au_pb_ratio                       19439 non-null float64\n",
      "rougher.input.feed_ag                                 19439 non-null float64\n",
      "rougher.input.feed_pb                                 19339 non-null float64\n",
      "rougher.input.feed_rate                               19428 non-null float64\n",
      "rougher.input.feed_size                               19294 non-null float64\n",
      "rougher.input.feed_sol                                19340 non-null float64\n",
      "rougher.input.feed_au                                 19439 non-null float64\n",
      "rougher.input.floatbank10_sulfate                     19405 non-null float64\n",
      "rougher.input.floatbank10_xanthate                    19431 non-null float64\n",
      "rougher.input.floatbank11_sulfate                     19395 non-null float64\n",
      "rougher.input.floatbank11_xanthate                    18986 non-null float64\n",
      "rougher.output.concentrate_ag                         19439 non-null float64\n",
      "rougher.output.concentrate_pb                         19439 non-null float64\n",
      "rougher.output.concentrate_sol                        19416 non-null float64\n",
      "rougher.output.concentrate_au                         19439 non-null float64\n",
      "rougher.output.recovery                               19439 non-null float64\n",
      "rougher.output.tail_ag                                19438 non-null float64\n",
      "rougher.output.tail_pb                                19439 non-null float64\n",
      "rougher.output.tail_sol                               19439 non-null float64\n",
      "rougher.output.tail_au                                19439 non-null float64\n",
      "rougher.state.floatbank10_a_air                       19438 non-null float64\n",
      "rougher.state.floatbank10_a_level                     19438 non-null float64\n",
      "rougher.state.floatbank10_b_air                       19438 non-null float64\n",
      "rougher.state.floatbank10_b_level                     19438 non-null float64\n",
      "rougher.state.floatbank10_c_air                       19438 non-null float64\n",
      "rougher.state.floatbank10_c_level                     19438 non-null float64\n",
      "rougher.state.floatbank10_d_air                       19439 non-null float64\n",
      "rougher.state.floatbank10_d_level                     19439 non-null float64\n",
      "rougher.state.floatbank10_e_air                       19003 non-null float64\n",
      "rougher.state.floatbank10_e_level                     19439 non-null float64\n",
      "rougher.state.floatbank10_f_air                       19439 non-null float64\n",
      "rougher.state.floatbank10_f_level                     19439 non-null float64\n",
      "secondary_cleaner.output.tail_ag                      19437 non-null float64\n",
      "secondary_cleaner.output.tail_pb                      19427 non-null float64\n",
      "secondary_cleaner.output.tail_sol                     17691 non-null float64\n",
      "secondary_cleaner.output.tail_au                      19439 non-null float64\n",
      "secondary_cleaner.state.floatbank2_a_air              19219 non-null float64\n",
      "secondary_cleaner.state.floatbank2_a_level            19438 non-null float64\n",
      "secondary_cleaner.state.floatbank2_b_air              19416 non-null float64\n",
      "secondary_cleaner.state.floatbank2_b_level            19438 non-null float64\n",
      "secondary_cleaner.state.floatbank3_a_air              19426 non-null float64\n",
      "secondary_cleaner.state.floatbank3_a_level            19438 non-null float64\n",
      "secondary_cleaner.state.floatbank3_b_air              19438 non-null float64\n",
      "secondary_cleaner.state.floatbank3_b_level            19438 non-null float64\n",
      "secondary_cleaner.state.floatbank4_a_air              19433 non-null float64\n",
      "secondary_cleaner.state.floatbank4_a_level            19438 non-null float64\n",
      "secondary_cleaner.state.floatbank4_b_air              19438 non-null float64\n",
      "secondary_cleaner.state.floatbank4_b_level            19438 non-null float64\n",
      "secondary_cleaner.state.floatbank5_a_air              19438 non-null float64\n",
      "secondary_cleaner.state.floatbank5_a_level            19438 non-null float64\n",
      "secondary_cleaner.state.floatbank5_b_air              19438 non-null float64\n",
      "secondary_cleaner.state.floatbank5_b_level            19438 non-null float64\n",
      "secondary_cleaner.state.floatbank6_a_air              19437 non-null float64\n",
      "secondary_cleaner.state.floatbank6_a_level            19438 non-null float64\n",
      "dtypes: float64(86), object(1)\n",
      "memory usage: 12.9+ MB\n"
     ]
    }
   ],
   "source": [
    "df_full.info()"
   ]
  },
  {
   "cell_type": "markdown",
   "metadata": {},
   "source": [
    "### Проверим, что эффективность обогащения рассчитана правильно. Вычислим её на обучающей выборке для признака rougher.output.recovery"
   ]
  },
  {
   "cell_type": "code",
   "execution_count": 6,
   "metadata": {},
   "outputs": [],
   "source": [
    "# рассчитаем rougher.output.recovery\n",
    "c = df_train['rougher.output.concentrate_au']\n",
    "f = df_train['rougher.input.feed_au']\n",
    "t = df_train['rougher.output.tail_au']\n",
    "\n",
    "calc_rougher_output_recovery = (c*(f-t))/(f*(c-t))*100"
   ]
  },
  {
   "cell_type": "code",
   "execution_count": 7,
   "metadata": {},
   "outputs": [
    {
     "data": {
      "text/plain": [
       "9.682896147825551e-15"
      ]
     },
     "execution_count": 7,
     "metadata": {},
     "output_type": "execute_result"
    }
   ],
   "source": [
    "mean_absolute_error(calc_rougher_output_recovery, df_train['rougher.output.recovery'])"
   ]
  },
  {
   "cell_type": "markdown",
   "metadata": {},
   "source": [
    "#### Вывод: \n",
    "MAE ничтожно мала 9*10^(-15). Можно считать, что эффективность обогащения рассчитана правильно."
   ]
  },
  {
   "cell_type": "markdown",
   "metadata": {},
   "source": [
    "### Проанализируем признаки, недоступные в тестовой выборке."
   ]
  },
  {
   "cell_type": "code",
   "execution_count": 8,
   "metadata": {},
   "outputs": [
    {
     "data": {
      "text/plain": [
       "['date',\n",
       " 'primary_cleaner.input.sulfate',\n",
       " 'primary_cleaner.input.depressant',\n",
       " 'primary_cleaner.input.feed_size',\n",
       " 'primary_cleaner.input.xanthate',\n",
       " 'primary_cleaner.state.floatbank8_a_air',\n",
       " 'primary_cleaner.state.floatbank8_a_level',\n",
       " 'primary_cleaner.state.floatbank8_b_air',\n",
       " 'primary_cleaner.state.floatbank8_b_level',\n",
       " 'primary_cleaner.state.floatbank8_c_air',\n",
       " 'primary_cleaner.state.floatbank8_c_level',\n",
       " 'primary_cleaner.state.floatbank8_d_air',\n",
       " 'primary_cleaner.state.floatbank8_d_level',\n",
       " 'rougher.input.feed_ag',\n",
       " 'rougher.input.feed_pb',\n",
       " 'rougher.input.feed_rate',\n",
       " 'rougher.input.feed_size',\n",
       " 'rougher.input.feed_sol',\n",
       " 'rougher.input.feed_au',\n",
       " 'rougher.input.floatbank10_sulfate',\n",
       " 'rougher.input.floatbank10_xanthate',\n",
       " 'rougher.input.floatbank11_sulfate',\n",
       " 'rougher.input.floatbank11_xanthate',\n",
       " 'rougher.state.floatbank10_a_air',\n",
       " 'rougher.state.floatbank10_a_level',\n",
       " 'rougher.state.floatbank10_b_air',\n",
       " 'rougher.state.floatbank10_b_level',\n",
       " 'rougher.state.floatbank10_c_air',\n",
       " 'rougher.state.floatbank10_c_level',\n",
       " 'rougher.state.floatbank10_d_air',\n",
       " 'rougher.state.floatbank10_d_level',\n",
       " 'rougher.state.floatbank10_e_air',\n",
       " 'rougher.state.floatbank10_e_level',\n",
       " 'rougher.state.floatbank10_f_air',\n",
       " 'rougher.state.floatbank10_f_level',\n",
       " 'secondary_cleaner.state.floatbank2_a_air',\n",
       " 'secondary_cleaner.state.floatbank2_a_level',\n",
       " 'secondary_cleaner.state.floatbank2_b_air',\n",
       " 'secondary_cleaner.state.floatbank2_b_level',\n",
       " 'secondary_cleaner.state.floatbank3_a_air',\n",
       " 'secondary_cleaner.state.floatbank3_a_level',\n",
       " 'secondary_cleaner.state.floatbank3_b_air',\n",
       " 'secondary_cleaner.state.floatbank3_b_level',\n",
       " 'secondary_cleaner.state.floatbank4_a_air',\n",
       " 'secondary_cleaner.state.floatbank4_a_level',\n",
       " 'secondary_cleaner.state.floatbank4_b_air',\n",
       " 'secondary_cleaner.state.floatbank4_b_level',\n",
       " 'secondary_cleaner.state.floatbank5_a_air',\n",
       " 'secondary_cleaner.state.floatbank5_a_level',\n",
       " 'secondary_cleaner.state.floatbank5_b_air',\n",
       " 'secondary_cleaner.state.floatbank5_b_level',\n",
       " 'secondary_cleaner.state.floatbank6_a_air',\n",
       " 'secondary_cleaner.state.floatbank6_a_level']"
      ]
     },
     "execution_count": 8,
     "metadata": {},
     "output_type": "execute_result"
    }
   ],
   "source": [
    "# посмотрим какие признаки есть в тестовой выборке\n",
    "df_test.columns.tolist()"
   ]
  },
  {
   "cell_type": "code",
   "execution_count": 9,
   "metadata": {},
   "outputs": [
    {
     "data": {
      "text/plain": [
       "{'final.output.concentrate_ag',\n",
       " 'final.output.concentrate_au',\n",
       " 'final.output.concentrate_pb',\n",
       " 'final.output.concentrate_sol',\n",
       " 'final.output.recovery',\n",
       " 'final.output.tail_ag',\n",
       " 'final.output.tail_au',\n",
       " 'final.output.tail_pb',\n",
       " 'final.output.tail_sol',\n",
       " 'primary_cleaner.output.concentrate_ag',\n",
       " 'primary_cleaner.output.concentrate_au',\n",
       " 'primary_cleaner.output.concentrate_pb',\n",
       " 'primary_cleaner.output.concentrate_sol',\n",
       " 'primary_cleaner.output.tail_ag',\n",
       " 'primary_cleaner.output.tail_au',\n",
       " 'primary_cleaner.output.tail_pb',\n",
       " 'primary_cleaner.output.tail_sol',\n",
       " 'rougher.calculation.au_pb_ratio',\n",
       " 'rougher.calculation.floatbank10_sulfate_to_au_feed',\n",
       " 'rougher.calculation.floatbank11_sulfate_to_au_feed',\n",
       " 'rougher.calculation.sulfate_to_au_concentrate',\n",
       " 'rougher.output.concentrate_ag',\n",
       " 'rougher.output.concentrate_au',\n",
       " 'rougher.output.concentrate_pb',\n",
       " 'rougher.output.concentrate_sol',\n",
       " 'rougher.output.recovery',\n",
       " 'rougher.output.tail_ag',\n",
       " 'rougher.output.tail_au',\n",
       " 'rougher.output.tail_pb',\n",
       " 'rougher.output.tail_sol',\n",
       " 'secondary_cleaner.output.tail_ag',\n",
       " 'secondary_cleaner.output.tail_au',\n",
       " 'secondary_cleaner.output.tail_pb',\n",
       " 'secondary_cleaner.output.tail_sol'}"
      ]
     },
     "execution_count": 9,
     "metadata": {},
     "output_type": "execute_result"
    }
   ],
   "source": [
    "# посмотрим каких признаков нет в тестовой выборке\n",
    "set(df_train.columns) - set(df_test.columns)"
   ]
  },
  {
   "cell_type": "markdown",
   "metadata": {},
   "source": [
    "#### Вывод:\n",
    "В тестовой выборке недоступны признаки c типами параметров output — выходные параметры продукта и calculation — расчётные характеристики :\n",
    "\n",
    "- rougher (output , calculation)\n",
    "- primary_cleaner (output)\n",
    "- secondary_cleaner (output)\n",
    "- final (output)"
   ]
  },
  {
   "cell_type": "markdown",
   "metadata": {},
   "source": [
    "### Проведем предобработку данных в df_train."
   ]
  },
  {
   "cell_type": "code",
   "execution_count": 10,
   "metadata": {},
   "outputs": [
    {
     "data": {
      "text/html": [
       "<div>\n",
       "<style scoped>\n",
       "    .dataframe tbody tr th:only-of-type {\n",
       "        vertical-align: middle;\n",
       "    }\n",
       "\n",
       "    .dataframe tbody tr th {\n",
       "        vertical-align: top;\n",
       "    }\n",
       "\n",
       "    .dataframe thead th {\n",
       "        text-align: right;\n",
       "    }\n",
       "</style>\n",
       "<table border=\"1\" class=\"dataframe\">\n",
       "  <thead>\n",
       "    <tr style=\"text-align: right;\">\n",
       "      <th></th>\n",
       "      <th>percent</th>\n",
       "    </tr>\n",
       "  </thead>\n",
       "  <tbody>\n",
       "    <tr>\n",
       "      <td>secondary_cleaner.output.tail_sol</td>\n",
       "      <td>0.113436</td>\n",
       "    </tr>\n",
       "    <tr>\n",
       "      <td>rougher.state.floatbank10_e_air</td>\n",
       "      <td>0.030815</td>\n",
       "    </tr>\n",
       "    <tr>\n",
       "      <td>rougher.input.floatbank11_xanthate</td>\n",
       "      <td>0.030249</td>\n",
       "    </tr>\n",
       "    <tr>\n",
       "      <td>primary_cleaner.output.concentrate_sol</td>\n",
       "      <td>0.020213</td>\n",
       "    </tr>\n",
       "    <tr>\n",
       "      <td>secondary_cleaner.state.floatbank2_a_air</td>\n",
       "      <td>0.015337</td>\n",
       "    </tr>\n",
       "    <tr>\n",
       "      <td>...</td>\n",
       "      <td>...</td>\n",
       "    </tr>\n",
       "    <tr>\n",
       "      <td>secondary_cleaner.state.floatbank5_a_air</td>\n",
       "      <td>0.000071</td>\n",
       "    </tr>\n",
       "    <tr>\n",
       "      <td>rougher.output.tail_ag</td>\n",
       "      <td>0.000071</td>\n",
       "    </tr>\n",
       "    <tr>\n",
       "      <td>secondary_cleaner.state.floatbank5_a_level</td>\n",
       "      <td>0.000071</td>\n",
       "    </tr>\n",
       "    <tr>\n",
       "      <td>secondary_cleaner.state.floatbank5_b_air</td>\n",
       "      <td>0.000071</td>\n",
       "    </tr>\n",
       "    <tr>\n",
       "      <td>secondary_cleaner.state.floatbank5_b_level</td>\n",
       "      <td>0.000071</td>\n",
       "    </tr>\n",
       "  </tbody>\n",
       "</table>\n",
       "<p>62 rows × 1 columns</p>\n",
       "</div>"
      ],
      "text/plain": [
       "                                             percent\n",
       "secondary_cleaner.output.tail_sol           0.113436\n",
       "rougher.state.floatbank10_e_air             0.030815\n",
       "rougher.input.floatbank11_xanthate          0.030249\n",
       "primary_cleaner.output.concentrate_sol      0.020213\n",
       "secondary_cleaner.state.floatbank2_a_air    0.015337\n",
       "...                                              ...\n",
       "secondary_cleaner.state.floatbank5_a_air    0.000071\n",
       "rougher.output.tail_ag                      0.000071\n",
       "secondary_cleaner.state.floatbank5_a_level  0.000071\n",
       "secondary_cleaner.state.floatbank5_b_air    0.000071\n",
       "secondary_cleaner.state.floatbank5_b_level  0.000071\n",
       "\n",
       "[62 rows x 1 columns]"
      ]
     },
     "execution_count": 10,
     "metadata": {},
     "output_type": "execute_result"
    }
   ],
   "source": [
    "# посмотрим процент пропусков в колонках\n",
    "a = pd.DataFrame(df_train.isna().sum().sort_values(ascending = False)/len(df_train),columns = ['percent'])\n",
    "a[a['percent']>0]"
   ]
  },
  {
   "cell_type": "markdown",
   "metadata": {},
   "source": [
    "Заполним нецелевые признаки соседними по времени записями. Записи с отсутствующими целевыми признаками удалим."
   ]
  },
  {
   "cell_type": "code",
   "execution_count": 11,
   "metadata": {},
   "outputs": [],
   "source": [
    "target_list = ['rougher.output.recovery','final.output.recovery']\n",
    "features_list = list(set(df_train.columns) - set(target_list))\n",
    "df_train[features_list] = df_train[features_list].fillna(method = 'ffill')\n",
    "df_train.dropna(inplace = True)"
   ]
  },
  {
   "cell_type": "code",
   "execution_count": 12,
   "metadata": {},
   "outputs": [
    {
     "data": {
      "text/html": [
       "<div>\n",
       "<style scoped>\n",
       "    .dataframe tbody tr th:only-of-type {\n",
       "        vertical-align: middle;\n",
       "    }\n",
       "\n",
       "    .dataframe tbody tr th {\n",
       "        vertical-align: top;\n",
       "    }\n",
       "\n",
       "    .dataframe thead th {\n",
       "        text-align: right;\n",
       "    }\n",
       "</style>\n",
       "<table border=\"1\" class=\"dataframe\">\n",
       "  <thead>\n",
       "    <tr style=\"text-align: right;\">\n",
       "      <th></th>\n",
       "      <th>percent</th>\n",
       "    </tr>\n",
       "  </thead>\n",
       "  <tbody>\n",
       "  </tbody>\n",
       "</table>\n",
       "</div>"
      ],
      "text/plain": [
       "Empty DataFrame\n",
       "Columns: [percent]\n",
       "Index: []"
      ]
     },
     "execution_count": 12,
     "metadata": {},
     "output_type": "execute_result"
    }
   ],
   "source": [
    "a = pd.DataFrame(df_train.isna().sum().sort_values(ascending = False)/len(df_train),columns = ['percent'])\n",
    "a[a['percent']>0]"
   ]
  },
  {
   "cell_type": "markdown",
   "metadata": {},
   "source": [
    "### Проведем предобработку данных в df_test."
   ]
  },
  {
   "cell_type": "code",
   "execution_count": 13,
   "metadata": {},
   "outputs": [
    {
     "data": {
      "text/html": [
       "<div>\n",
       "<style scoped>\n",
       "    .dataframe tbody tr th:only-of-type {\n",
       "        vertical-align: middle;\n",
       "    }\n",
       "\n",
       "    .dataframe tbody tr th {\n",
       "        vertical-align: top;\n",
       "    }\n",
       "\n",
       "    .dataframe thead th {\n",
       "        text-align: right;\n",
       "    }\n",
       "</style>\n",
       "<table border=\"1\" class=\"dataframe\">\n",
       "  <thead>\n",
       "    <tr style=\"text-align: right;\">\n",
       "      <th></th>\n",
       "      <th>percent</th>\n",
       "    </tr>\n",
       "  </thead>\n",
       "  <tbody>\n",
       "    <tr>\n",
       "      <td>rougher.input.floatbank11_xanthate</td>\n",
       "      <td>0.004726</td>\n",
       "    </tr>\n",
       "    <tr>\n",
       "      <td>rougher.input.feed_sol</td>\n",
       "      <td>0.003970</td>\n",
       "    </tr>\n",
       "    <tr>\n",
       "      <td>secondary_cleaner.state.floatbank3_a_air</td>\n",
       "      <td>0.001701</td>\n",
       "    </tr>\n",
       "    <tr>\n",
       "      <td>rougher.input.floatbank11_sulfate</td>\n",
       "      <td>0.001512</td>\n",
       "    </tr>\n",
       "    <tr>\n",
       "      <td>primary_cleaner.input.depressant</td>\n",
       "      <td>0.000945</td>\n",
       "    </tr>\n",
       "    <tr>\n",
       "      <td>rougher.input.floatbank10_sulfate</td>\n",
       "      <td>0.000945</td>\n",
       "    </tr>\n",
       "    <tr>\n",
       "      <td>primary_cleaner.input.sulfate</td>\n",
       "      <td>0.000756</td>\n",
       "    </tr>\n",
       "    <tr>\n",
       "      <td>primary_cleaner.input.xanthate</td>\n",
       "      <td>0.000756</td>\n",
       "    </tr>\n",
       "    <tr>\n",
       "      <td>secondary_cleaner.state.floatbank2_a_air</td>\n",
       "      <td>0.000567</td>\n",
       "    </tr>\n",
       "    <tr>\n",
       "      <td>rougher.input.feed_rate</td>\n",
       "      <td>0.000567</td>\n",
       "    </tr>\n",
       "    <tr>\n",
       "      <td>secondary_cleaner.state.floatbank2_b_air</td>\n",
       "      <td>0.000378</td>\n",
       "    </tr>\n",
       "    <tr>\n",
       "      <td>rougher.input.feed_size</td>\n",
       "      <td>0.000189</td>\n",
       "    </tr>\n",
       "  </tbody>\n",
       "</table>\n",
       "</div>"
      ],
      "text/plain": [
       "                                           percent\n",
       "rougher.input.floatbank11_xanthate        0.004726\n",
       "rougher.input.feed_sol                    0.003970\n",
       "secondary_cleaner.state.floatbank3_a_air  0.001701\n",
       "rougher.input.floatbank11_sulfate         0.001512\n",
       "primary_cleaner.input.depressant          0.000945\n",
       "rougher.input.floatbank10_sulfate         0.000945\n",
       "primary_cleaner.input.sulfate             0.000756\n",
       "primary_cleaner.input.xanthate            0.000756\n",
       "secondary_cleaner.state.floatbank2_a_air  0.000567\n",
       "rougher.input.feed_rate                   0.000567\n",
       "secondary_cleaner.state.floatbank2_b_air  0.000378\n",
       "rougher.input.feed_size                   0.000189"
      ]
     },
     "execution_count": 13,
     "metadata": {},
     "output_type": "execute_result"
    }
   ],
   "source": [
    "a = pd.DataFrame(df_test.isna().sum().sort_values(ascending = False)/len(df_test),columns = ['percent'])\n",
    "a[a['percent']>0]"
   ]
  },
  {
   "cell_type": "markdown",
   "metadata": {},
   "source": [
    "#### Вывод:\n",
    "Процент пропусков незначительный. Удалим эти записи."
   ]
  },
  {
   "cell_type": "code",
   "execution_count": 14,
   "metadata": {},
   "outputs": [],
   "source": [
    "df_test.dropna(inplace=True)"
   ]
  },
  {
   "cell_type": "markdown",
   "metadata": {},
   "source": [
    "### Переведем во всех датасетах даты в индексы"
   ]
  },
  {
   "cell_type": "code",
   "execution_count": 15,
   "metadata": {},
   "outputs": [],
   "source": [
    "df_full.index = df_full['date'].values\n",
    "df_test.index = df_test['date'].values\n",
    "df_train.index = df_train['date'].values"
   ]
  },
  {
   "cell_type": "code",
   "execution_count": 16,
   "metadata": {},
   "outputs": [],
   "source": [
    "df_full.drop('date', axis =1, inplace = True)\n",
    "df_test.drop('date', axis =1, inplace = True)\n",
    "df_train.drop('date', axis =1, inplace = True)"
   ]
  },
  {
   "cell_type": "markdown",
   "metadata": {},
   "source": [
    "Проверим наличие дубликатов в данных."
   ]
  },
  {
   "cell_type": "code",
   "execution_count": 17,
   "metadata": {},
   "outputs": [
    {
     "data": {
      "text/plain": [
       "0"
      ]
     },
     "execution_count": 17,
     "metadata": {},
     "output_type": "execute_result"
    }
   ],
   "source": [
    "df_train.duplicated().sum()"
   ]
  },
  {
   "cell_type": "code",
   "execution_count": 18,
   "metadata": {},
   "outputs": [
    {
     "data": {
      "text/plain": [
       "0"
      ]
     },
     "execution_count": 18,
     "metadata": {},
     "output_type": "execute_result"
    }
   ],
   "source": [
    "df_full.duplicated().sum()"
   ]
  },
  {
   "cell_type": "code",
   "execution_count": 19,
   "metadata": {},
   "outputs": [
    {
     "data": {
      "text/plain": [
       "0"
      ]
     },
     "execution_count": 19,
     "metadata": {},
     "output_type": "execute_result"
    }
   ],
   "source": [
    "df_test.duplicated().sum()"
   ]
  },
  {
   "cell_type": "markdown",
   "metadata": {},
   "source": [
    "### Промежуточный вывод:\n",
    "Датасеты загружены. В df_train пропуски нецелевых признаков заполнены данными из соседних записей. В df_train пропуски удалены в связи с небольшим их количеством. Дубликаты в датасетах отсутствуют. Индексами в датасетах назначены данные из колонки date. \n",
    "\n",
    "В тестовой выборке недоступны признаки c типами параметров output — выходные параметры продукта и calculation — расчётные характеристики :\n",
    "\n",
    "- rougher (output , calculation)\n",
    "- primary_cleaner (output)\n",
    "- secondary_cleaner (output)\n",
    "- final (output)\n",
    "\n",
    "Проверено, что эффективность обогащения в df_train рассчитана правильно"
   ]
  },
  {
   "cell_type": "markdown",
   "metadata": {},
   "source": [
    "## Анализ данных"
   ]
  },
  {
   "cell_type": "markdown",
   "metadata": {},
   "source": [
    "### Посмотрим, как меняется концентрация металлов (Au, Ag, Pb) на различных этапах очистки."
   ]
  },
  {
   "cell_type": "code",
   "execution_count": 20,
   "metadata": {},
   "outputs": [],
   "source": [
    "# создадим функцию, которая будет рисовать распределения концентрации вещества на разных этапах\n",
    "def print_dynamic_of_concentrate(data,substance):\n",
    "    pyplot.hist(data['rougher.output.concentrate_'+substance], bins=50, alpha=0.5, label='Концентрация после флотации')\n",
    "    pyplot.hist(data['primary_cleaner.output.concentrate_'+substance],bins=50, alpha=0.5, label='Концентрация после первич. очистки')\n",
    "    pyplot.hist(data['final.output.concentrate_'+substance],bins=50, alpha=0.5, label='Финальная концентрация')\n",
    "    pyplot.legend(bbox_to_anchor=(1, 0.6))\n",
    "    #pyplot.xlim(left =1)\n",
    "    pyplot.grid(True)\n",
    "    pyplot.title('Концентрация '+substance)\n",
    "    pyplot.ylabel('Количество записей')  \n",
    "    pyplot.xlabel('Концентрация')\n",
    "    pyplot.show()\n",
    "    return"
   ]
  },
  {
   "cell_type": "code",
   "execution_count": 21,
   "metadata": {
    "scrolled": false
   },
   "outputs": [
    {
     "data": {
      "image/png": "[encoded data removed]",
      "text/plain": [
       "<Figure size 432x288 with 1 Axes>"
      ]
     },
     "metadata": {
      "needs_background": "light"
     },
     "output_type": "display_data"
    }
   ],
   "source": [
    "print_dynamic_of_concentrate(df_train,'au')"
   ]
  },
  {
   "cell_type": "markdown",
   "metadata": {},
   "source": [
    "Форма распределения нормальная, есть выбросы в районе нулевой отметки. Удалим их."
   ]
  },
  {
   "cell_type": "code",
   "execution_count": 22,
   "metadata": {},
   "outputs": [],
   "source": [
    "# сохраним исходный размер датасета перед началом редактирования\n",
    "len_df_train = len(df_train)"
   ]
  },
  {
   "cell_type": "code",
   "execution_count": 23,
   "metadata": {},
   "outputs": [],
   "source": [
    "df_train = df_train.loc[(df_train['rougher.output.concentrate_au']> 1) & \n",
    "                           (df_train['primary_cleaner.output.concentrate_au']> 1) &\n",
    "                           (df_train['final.output.concentrate_au']> 1)]"
   ]
  },
  {
   "cell_type": "code",
   "execution_count": 24,
   "metadata": {},
   "outputs": [
    {
     "data": {
      "image/png": "[encoded data removed]",
      "text/plain": [
       "<Figure size 432x288 with 1 Axes>"
      ]
     },
     "metadata": {
      "needs_background": "light"
     },
     "output_type": "display_data"
    }
   ],
   "source": [
    "print_dynamic_of_concentrate(df_train,'au')"
   ]
  },
  {
   "cell_type": "markdown",
   "metadata": {},
   "source": [
    "Теперь выбросов нет."
   ]
  },
  {
   "cell_type": "code",
   "execution_count": 25,
   "metadata": {
    "scrolled": true
   },
   "outputs": [
    {
     "data": {
      "image/png": "[encoded data removed]",
      "text/plain": [
       "<Figure size 432x288 with 1 Axes>"
      ]
     },
     "metadata": {
      "needs_background": "light"
     },
     "output_type": "display_data"
    }
   ],
   "source": [
    "print_dynamic_of_concentrate(df_train,'ag')"
   ]
  },
  {
   "cell_type": "markdown",
   "metadata": {},
   "source": [
    "Форма распределения тяготеет к нормальной, есть выбросы в районе нулевой отметки. Удалим их."
   ]
  },
  {
   "cell_type": "code",
   "execution_count": 26,
   "metadata": {},
   "outputs": [],
   "source": [
    "df_train = df_train.loc[(df_train['rougher.output.concentrate_ag']> 1) & \n",
    "                           (df_train['primary_cleaner.output.concentrate_ag']> 1) &\n",
    "                           (df_train['final.output.concentrate_ag']> 1)]"
   ]
  },
  {
   "cell_type": "code",
   "execution_count": 27,
   "metadata": {},
   "outputs": [
    {
     "data": {
      "image/png": "[encoded data removed]",
      "text/plain": [
       "<Figure size 432x288 with 1 Axes>"
      ]
     },
     "metadata": {
      "needs_background": "light"
     },
     "output_type": "display_data"
    }
   ],
   "source": [
    "print_dynamic_of_concentrate(df_train,'ag')"
   ]
  },
  {
   "cell_type": "markdown",
   "metadata": {},
   "source": [
    "Теперь выбросов нет."
   ]
  },
  {
   "cell_type": "code",
   "execution_count": 28,
   "metadata": {
    "scrolled": true
   },
   "outputs": [
    {
     "data": {
      "image/png": "[encoded data removed]",
      "text/plain": [
       "<Figure size 432x288 with 1 Axes>"
      ]
     },
     "metadata": {
      "needs_background": "light"
     },
     "output_type": "display_data"
    }
   ],
   "source": [
    "print_dynamic_of_concentrate(df_train,'pb')"
   ]
  },
  {
   "cell_type": "markdown",
   "metadata": {},
   "source": [
    "Форма распределения тяготеет к нормальной, есть выбросы в районе нулевой отметки. Удалим их."
   ]
  },
  {
   "cell_type": "markdown",
   "metadata": {},
   "source": [
    "Значения концентраций близкие к нулю могут быть связаны с сбоями в работе датчиков фиксирующих значений концентраций, запланированным отключением измерительного оборудования или сбоями в технологическом процессе."
   ]
  },
  {
   "cell_type": "code",
   "execution_count": 29,
   "metadata": {},
   "outputs": [],
   "source": [
    "df_train = df_train.loc[(df_train['rougher.output.concentrate_pb']> 1) & \n",
    "                           (df_train['primary_cleaner.output.concentrate_pb']> 1) &\n",
    "                           (df_train['final.output.concentrate_pb']> 1)]"
   ]
  },
  {
   "cell_type": "code",
   "execution_count": 30,
   "metadata": {},
   "outputs": [
    {
     "data": {
      "image/png": "[encoded data removed]",
      "text/plain": [
       "<Figure size 432x288 with 1 Axes>"
      ]
     },
     "metadata": {
      "needs_background": "light"
     },
     "output_type": "display_data"
    }
   ],
   "source": [
    "print_dynamic_of_concentrate(df_train,'pb')"
   ]
  },
  {
   "cell_type": "markdown",
   "metadata": {},
   "source": [
    "Теперь выбросов нет."
   ]
  },
  {
   "cell_type": "markdown",
   "metadata": {},
   "source": [
    "Выведем какой процент данных был удален в результате чистки от выбросов."
   ]
  },
  {
   "cell_type": "code",
   "execution_count": 31,
   "metadata": {},
   "outputs": [
    {
     "name": "stdout",
     "output_type": "stream",
     "text": [
      "Процент удаленных данных в результате чистки от выбросов 4.2%\n"
     ]
    }
   ],
   "source": [
    "new_len_df_train = len(df_train)\n",
    "print(\"Процент удаленных данных в результате чистки от выбросов {:.1f}%\".format((1-new_len_df_train/len_df_train)*100))"
   ]
  },
  {
   "cell_type": "markdown",
   "metadata": {},
   "source": [
    "#### Вывод:\n",
    "1. Концентрация  Au на каждом этапе растет. Причем распределения концентрации после каждого этапа практически не пересекаются.\n",
    "2. Концентрация  Ag после каждого этапа снижается\n",
    "3. Концентрация  Pb после первичной очистки увеличивается. Финальная концентрация консолидируется возле медианной концентрации по итогу первичной очистки."
   ]
  },
  {
   "cell_type": "markdown",
   "metadata": {},
   "source": [
    "### Сравним распределения размеров гранул сырья на обучающей и тестовой выборках."
   ]
  },
  {
   "cell_type": "code",
   "execution_count": 32,
   "metadata": {
    "scrolled": false
   },
   "outputs": [
    {
     "data": {
      "image/png": "[encoded data removed]",
      "text/plain": [
       "<Figure size 432x288 with 1 Axes>"
      ]
     },
     "metadata": {
      "needs_background": "light"
     },
     "output_type": "display_data"
    }
   ],
   "source": [
    "# создадим DataFrame с данными rougher.input.feed_size из тестовой и обучающей выборки\n",
    "df_feed_size = pd.concat([pd.Series(df_train['rougher.input.feed_size'],name='train_feed_size'), \n",
    "                          pd.Series(df_test['rougher.input.feed_size'],name = 'test_feed_size')], \n",
    "                         axis = 1)\n",
    "# выведем ящик c усами без выбросов\n",
    "df_feed_size.boxplot(showfliers=False);"
   ]
  },
  {
   "cell_type": "markdown",
   "metadata": {},
   "source": [
    "#### Вывод: \n",
    "Распределения различаются, но в целом сопоставимы."
   ]
  },
  {
   "cell_type": "markdown",
   "metadata": {},
   "source": [
    "Сравним средний и медианный размер частиц для обучающей и тестовой выборок."
   ]
  },
  {
   "cell_type": "code",
   "execution_count": 33,
   "metadata": {},
   "outputs": [
    {
     "name": "stdout",
     "output_type": "stream",
     "text": [
      "Средние размеры частиц df_train: 60 , df_test: 56 \n",
      "Медианные размеры частиц df_train: 55 , df_test: 51 \n"
     ]
    }
   ],
   "source": [
    "print('Средние размеры частиц df_train: {:,.0f} , df_test: {:,.0f} '.format(\n",
    "    df_train['rougher.input.feed_size'].mean(),df_test['rougher.input.feed_size'].mean()))\n",
    "\n",
    "print('Медианные размеры частиц df_train: {:,.0f} , df_test: {:,.0f} '.format(\n",
    "    df_train['rougher.input.feed_size'].median(),df_test['rougher.input.feed_size'].median()))"
   ]
  },
  {
   "cell_type": "markdown",
   "metadata": {},
   "source": [
    "Построим гистограмму распределения размера гранул"
   ]
  },
  {
   "cell_type": "code",
   "execution_count": 34,
   "metadata": {},
   "outputs": [
    {
     "data": {
      "image/png": "[encoded data removed]",
      "text/plain": [
       "<Figure size 432x288 with 1 Axes>"
      ]
     },
     "metadata": {
      "needs_background": "light"
     },
     "output_type": "display_data"
    }
   ],
   "source": [
    "pyplot.hist(df_train['rougher.input.feed_size'], bins=90, alpha=0.5, label='df_train')\n",
    "pyplot.hist(df_test['rougher.input.feed_size'],bins=90, alpha=0.5, label='df_test')\n",
    "pyplot.legend(bbox_to_anchor=(1, 0.6))\n",
    "pyplot.xlim(20,110)\n",
    "pyplot.grid(True)\n",
    "pyplot.title('Распределение размеров гранул сырья на обучающей и тестовой выборках.')\n",
    "pyplot.ylabel('Количество записей')  \n",
    "pyplot.xlabel('Размер частиц')\n",
    "pyplot.show()"
   ]
  },
  {
   "cell_type": "markdown",
   "metadata": {},
   "source": [
    "Распределения имеют положительную асимметрию. Виден длинный хвост и перекос вправо, вызванные наличием необычайно высоких значений. Слишком большие частицы смещают среднее значение вправо, и оно становится больше медианы. При этом частиц с размером менее 20 не наблюдается, это говорит о том, что на входе скорее всего установлен прибор для отсеивания малых частиц."
   ]
  },
  {
   "cell_type": "markdown",
   "metadata": {},
   "source": [
    "### Исследуем суммарную концентрацию всех веществ на разных стадиях: в сырье, в черновом и финальном концентратах. "
   ]
  },
  {
   "cell_type": "code",
   "execution_count": 35,
   "metadata": {},
   "outputs": [
    {
     "data": {
      "image/png": "[encoded data removed]",
      "text/plain": [
       "<Figure size 720x504 with 1 Axes>"
      ]
     },
     "metadata": {
      "needs_background": "light"
     },
     "output_type": "display_data"
    }
   ],
   "source": [
    "# создадим листы с наименованием этапов и веществ\n",
    "stage_dict = ['rougher.input.feed','rougher.output.concentrate','final.output.concentrate']\n",
    "substance_dict = ['ag','pb','au','sol']\n",
    "\n",
    "# создадим датафрейм для вычисления суммарных концентраций по этапам\n",
    "df_total_concentrate = pd.DataFrame(0,index= df_train.index,columns=stage_dict)\n",
    "\n",
    "# вычислим суммарные концентрации\n",
    "for stage in stage_dict:\n",
    "    for substance in substance_dict:\n",
    "        df_total_concentrate[stage] += df_train[stage+'_'+ substance]\n",
    "        \n",
    "# выведем распределение суммарных концентраций на экран\n",
    "df_total_concentrate.boxplot(figsize = (10,7), showfliers=False);"
   ]
  },
  {
   "cell_type": "markdown",
   "metadata": {},
   "source": [
    "#### Вывод:\n",
    "Суммарная концентрация всех веществ после флотации увеличивается. Финальная концентрация консолидируется возле медианной концентрации по итогу флотации."
   ]
  },
  {
   "cell_type": "markdown",
   "metadata": {},
   "source": [
    "## Модель"
   ]
  },
  {
   "cell_type": "markdown",
   "metadata": {},
   "source": [
    "### Напишем функцию для вычисления sMAPE"
   ]
  },
  {
   "cell_type": "code",
   "execution_count": 36,
   "metadata": {},
   "outputs": [],
   "source": [
    "def smape(target,predict):\n",
    "    for i in target.index:\n",
    "        s = abs(target[i]-predict[i])/((abs(target[i])+abs(predict[i]))/2)*100\n",
    "    return s/len(target)"
   ]
  },
  {
   "cell_type": "markdown",
   "metadata": {},
   "source": [
    "### Разобьем данные df_train на target и predict"
   ]
  },
  {
   "cell_type": "code",
   "execution_count": 37,
   "metadata": {},
   "outputs": [],
   "source": [
    "features = df_train.drop(['rougher.output.recovery','final.output.recovery'], axis=1)\n",
    "target = df_train[['rougher.output.recovery','final.output.recovery']]\n",
    "features_train, features_valid, target_train, target_valid = train_test_split(\n",
    "    features, target, test_size=0.25, random_state=12345)"
   ]
  },
  {
   "cell_type": "code",
   "execution_count": 38,
   "metadata": {},
   "outputs": [],
   "source": [
    "scaler = StandardScaler()\n",
    "scaler.fit(features_train)\n",
    "features_train = scaler.transform(features_train)\n",
    "features_valid = scaler.transform(features_valid)"
   ]
  },
  {
   "cell_type": "markdown",
   "metadata": {},
   "source": [
    "### Разобьем данные df_test на target и predict использую также данные из df_full"
   ]
  },
  {
   "cell_type": "code",
   "execution_count": 39,
   "metadata": {},
   "outputs": [],
   "source": [
    "features_test = df_test\n",
    "target_test = df_full.loc[df_test.index,['rougher.output.recovery','final.output.recovery']]"
   ]
  },
  {
   "cell_type": "markdown",
   "metadata": {},
   "source": [
    "### Обучим разные модели и оцените их качество кросс-валидацией."
   ]
  },
  {
   "cell_type": "markdown",
   "metadata": {},
   "source": [
    "#### Модель решающего дерева"
   ]
  },
  {
   "cell_type": "code",
   "execution_count": 40,
   "metadata": {},
   "outputs": [
    {
     "name": "stdout",
     "output_type": "stream",
     "text": [
      "13 7.39259752780618e-05\n"
     ]
    }
   ],
   "source": [
    "best_result = 100\n",
    "best_depth = 0\n",
    "for depth in range(1, 16):\n",
    "    model = DecisionTreeRegressor(random_state=12345, max_depth=depth)\n",
    "    model.fit(features_train, target_train) # обучим модель\n",
    "    predictions = pd.DataFrame(model.predict(features_valid), index = target_valid.index) # получим предсказания модели\n",
    "    total_smape = 0.25*smape(target_valid['rougher.output.recovery'],predictions[0])+0.75*smape(target_valid['final.output.recovery'],predictions[1]) \n",
    "    if total_smape < best_result:\n",
    "        best_result = total_smape\n",
    "        best_depth = depth\n",
    "print(best_depth, best_result)"
   ]
  },
  {
   "cell_type": "markdown",
   "metadata": {},
   "source": [
    "Проведем кросс валидацию"
   ]
  },
  {
   "cell_type": "code",
   "execution_count": 41,
   "metadata": {},
   "outputs": [
    {
     "name": "stdout",
     "output_type": "stream",
     "text": [
      "0.52820039073566\n"
     ]
    }
   ],
   "source": [
    "model = DecisionTreeRegressor(random_state=12345, max_depth = best_depth)\n",
    "scores = cross_val_score(model, features, target, cv=5) \n",
    "final_score = scores.mean()\n",
    "print(final_score)"
   ]
  },
  {
   "cell_type": "markdown",
   "metadata": {},
   "source": [
    "Модель решающего дерева рассмотрена с параметрами глубины в диапазоне (1,16). Лучший показатель total_smape показала модель с глубиной 13 (7*10^(-5)). Значение модели с глубиной 13 на кросс-валидации 0,52"
   ]
  },
  {
   "cell_type": "markdown",
   "metadata": {},
   "source": [
    "#### Модель случайный лес"
   ]
  },
  {
   "cell_type": "code",
   "execution_count": 42,
   "metadata": {},
   "outputs": [
    {
     "name": "stdout",
     "output_type": "stream",
     "text": [
      "11 20 0.0005525569288077748\n"
     ]
    }
   ],
   "source": [
    "best_result = 100\n",
    "best_depth = 0\n",
    "best_est = 0\n",
    "\n",
    "for depth in range(5, 12):\n",
    "    model = RandomForestRegressor(random_state=12345, max_depth=depth) \n",
    "    model.fit(features_train, target_train)\n",
    "    predictions = pd.DataFrame(model.predict(features_valid), index = target_valid.index) # получим предсказания модели\n",
    "    total_smape = 0.25*smape(target_valid['rougher.output.recovery'],predictions[0])+0.75*smape(target_valid['final.output.recovery'],predictions[1]) \n",
    "    if total_smape < best_result:\n",
    "        best_result = total_smape\n",
    "        best_depth = depth\n",
    "            \n",
    "best_result = 100               \n",
    "for est in range(20, 60, 10):\n",
    "    model = RandomForestRegressor(random_state=12345, n_estimators=est, max_depth=best_depth) \n",
    "    model.fit(features_train, target_train)\n",
    "    predictions = pd.DataFrame(model.predict(features_valid), index = target_valid.index) # получим предсказания модели\n",
    "    total_smape = 0.25*smape(target_valid['rougher.output.recovery'],predictions[0])+0.75*smape(target_valid['final.output.recovery'],predictions[1]) \n",
    "    if total_smape < best_result:\n",
    "        best_result = total_smape\n",
    "        best_depth = depth\n",
    "        best_est=est\n",
    "                       \n",
    "print(best_depth, best_est, best_result)"
   ]
  },
  {
   "cell_type": "markdown",
   "metadata": {},
   "source": [
    "Проведем кросс валидацию"
   ]
  },
  {
   "cell_type": "code",
   "execution_count": 43,
   "metadata": {},
   "outputs": [
    {
     "name": "stdout",
     "output_type": "stream",
     "text": [
      "0.8620742462643219\n"
     ]
    }
   ],
   "source": [
    "model = RandomForestRegressor(random_state=12345, n_estimators= best_est, max_depth=best_depth) \n",
    "scores = cross_val_score(model, features, target, cv=5) \n",
    "final_score = scores.mean()\n",
    "print(final_score)"
   ]
  },
  {
   "cell_type": "markdown",
   "metadata": {},
   "source": [
    "Модель случайного леса рассмотрена с параметрами глубины в диапазоне (5,12), а затем количество деревьев в диапазоне (20,60) с шагом 10. Лучший показатель total_smape (5*10^(-4)) показала модель с глубиной 11 и количеством деревьев 20. Значение модели с данными параметрами на кросс-валидации 0,86"
   ]
  },
  {
   "cell_type": "markdown",
   "metadata": {},
   "source": [
    "#### Вывод:\n",
    "У RandomForestRegressor final_score выше, чем у DecisionTreeRegressor. А вот по показателю total_smape ситуация обратная. Проверим обе модели на тестовой выборке"
   ]
  },
  {
   "cell_type": "markdown",
   "metadata": {},
   "source": [
    "### Проверим лучшие модели на тестовой выборке"
   ]
  },
  {
   "cell_type": "markdown",
   "metadata": {},
   "source": [
    "#### Модель решающего дерева"
   ]
  },
  {
   "cell_type": "code",
   "execution_count": 44,
   "metadata": {},
   "outputs": [
    {
     "name": "stdout",
     "output_type": "stream",
     "text": [
      "0.0001098193622377834\n"
     ]
    }
   ],
   "source": [
    "model = DecisionTreeRegressor(random_state=12345, max_depth=13)\n",
    "model.fit(features[df_test.columns], target) # обучим модель\n",
    "predictions = pd.DataFrame(model.predict(features_test), index = target_test.index) # получим предсказания модели\n",
    "total_smape = 0.25*smape(target_test['rougher.output.recovery'],predictions[0])+0.75*smape(target_test['final.output.recovery'],predictions[1]) \n",
    "print(total_smape)"
   ]
  },
  {
   "cell_type": "markdown",
   "metadata": {},
   "source": [
    "#### Модель случайный лес"
   ]
  },
  {
   "cell_type": "code",
   "execution_count": 45,
   "metadata": {},
   "outputs": [
    {
     "name": "stdout",
     "output_type": "stream",
     "text": [
      "0.00029607893034990266\n"
     ]
    }
   ],
   "source": [
    "model = RandomForestRegressor(random_state=12345, max_depth=11, n_estimators = 20) \n",
    "model.fit(features[df_test.columns], target) # обучим модель\n",
    "predictions = pd.DataFrame(model.predict(features_test), index = target_test.index) # получим предсказания модели\n",
    "total_smape = 0.25*smape(target_test['rougher.output.recovery'],predictions[0])+0.75*smape(target_test['final.output.recovery'],predictions[1]) \n",
    "print(total_smape)"
   ]
  },
  {
   "cell_type": "markdown",
   "metadata": {},
   "source": [
    "#### Вывод:\n",
    "На тестовой выборке лучший итоговый smape (0.0001) показала модель решающего дерева с параметрами:\n",
    "- max_depth=13 "
   ]
  },
  {
   "cell_type": "markdown",
   "metadata": {},
   "source": [
    "## Основные результаты проекта:\n",
    "1. На этапе подготовки данных:\n",
    "    - прочитаны датасеты загружены. \n",
    "    - проведена работа с пропусками в df_train(нецелевые признаки взяты из соседних записей, записи с пропусками по целевым удалены) и в df_test(записи с пропусками удалены).\n",
    "    -  проверено, что эффективность обогащения рассчитана правильно.\n",
    "    - обнаружено, что в тестовой выборке недоступны признаки c типами параметров output — выходные параметры продукта и calculation — расчётные характеристики.\n",
    "    - колонки с датами переведены в индексы.\n",
    "2. На этапе анализа данных:\n",
    "    - построены графики по динамике распределения концентрации веществ на разных этапах. Концентрация  Au на каждом этапе растет. Причем распределения концентрации после каждого этапа практически не пересекаются. Концентрация  Ag после каждого этапа снижается. Концентрация  Pb после первичной очистки увеличивается. Финальная концентрация консолидируется возле медианной концентрации по итогу первичной очистки.\n",
    "    - проведен сравнительный анализ размеров гранул сырья на обучающей и тестовой выборке (распределния разные , но в целом сопоставимые)\n",
    "    - исследована динамика суммарной концентрации веществ на разных этапах.Суммарная концентрация всех веществ после флотации увеличивается. Финальная концентрация консолидируется возле медианной концентрации по итогу флотации.\n",
    "3. Моделирование\n",
    "    - Обучены модели решающего дерева и случайного леса. Получилось , что у RandomForestRegressor final_score выше, чем у DecisionTreeRegressor. А вот по показателю total_smape ситуация обратная.\n",
    "    - при использовании моделей на тестовой выборке лучший итоговый smape (0.0001) показала модель решающего дерева с параметром max_depth=13"
   ]
  }
 ],
 "metadata": {
  "ExecuteTimeLog": [
   {
    "duration": 1458,
    "start_time": "2021-08-27T07:28:35.419Z"
   },
   {
    "duration": 1168,
    "start_time": "2021-08-27T07:28:36.880Z"
   },
   {
    "duration": 27,
    "start_time": "2021-08-27T07:28:38.051Z"
   },
   {
    "duration": 11,
    "start_time": "2021-08-27T07:28:38.081Z"
   },
   {
    "duration": 11,
    "start_time": "2021-08-27T07:28:38.095Z"
   },
   {
    "duration": 12,
    "start_time": "2021-08-27T07:28:38.108Z"
   },
   {
    "duration": 14,
    "start_time": "2021-08-27T07:28:38.123Z"
   },
   {
    "duration": 23,
    "start_time": "2021-08-27T07:28:38.161Z"
   },
   {
    "duration": 6,
    "start_time": "2021-08-27T07:28:38.188Z"
   },
   {
    "duration": 11,
    "start_time": "2021-08-27T07:28:38.197Z"
   },
   {
    "duration": 862,
    "start_time": "2021-08-27T07:28:38.211Z"
   },
   {
    "duration": 831,
    "start_time": "2021-08-27T07:28:39.076Z"
   },
   {
    "duration": 959,
    "start_time": "2021-08-27T07:28:39.909Z"
   },
   {
    "duration": 241,
    "start_time": "2021-08-27T07:28:40.870Z"
   },
   {
    "duration": 340,
    "start_time": "2021-08-27T07:28:41.114Z"
   },
   {
    "duration": 7,
    "start_time": "2021-08-27T07:28:41.461Z"
   },
   {
    "duration": 17,
    "start_time": "2021-08-27T07:28:41.478Z"
   },
   {
    "duration": 7991,
    "start_time": "2021-08-27T07:28:41.498Z"
   },
   {
    "duration": 47097,
    "start_time": "2021-08-27T07:28:49.492Z"
   },
   {
    "duration": 3,
    "start_time": "2021-08-27T07:29:36.591Z"
   },
   {
    "duration": 14,
    "start_time": "2021-08-27T07:29:36.596Z"
   },
   {
    "duration": 5,
    "start_time": "2021-08-27T07:29:36.612Z"
   },
   {
    "duration": 45,
    "start_time": "2021-08-27T07:29:36.621Z"
   },
   {
    "duration": 149147,
    "start_time": "2021-08-27T07:29:36.669Z"
   },
   {
    "duration": 5,
    "start_time": "2021-08-27T07:47:13.708Z"
   },
   {
    "duration": 24,
    "start_time": "2021-08-27T07:48:47.895Z"
   },
   {
    "duration": 398,
    "start_time": "2021-08-27T07:49:27.401Z"
   },
   {
    "duration": 5,
    "start_time": "2021-08-27T07:49:45.800Z"
   },
   {
    "duration": 27,
    "start_time": "2021-08-27T07:49:54.751Z"
   },
   {
    "duration": 25,
    "start_time": "2021-08-27T07:50:32.928Z"
   },
   {
    "duration": 480,
    "start_time": "2021-08-27T07:52:07.209Z"
   },
   {
    "duration": 7,
    "start_time": "2021-08-27T07:53:31.065Z"
   },
   {
    "duration": 635,
    "start_time": "2021-08-27T07:55:04.757Z"
   },
   {
    "duration": 9229,
    "start_time": "2021-08-27T07:55:59.595Z"
   },
   {
    "duration": 8776,
    "start_time": "2021-08-27T07:56:47.860Z"
   },
   {
    "duration": 4,
    "start_time": "2021-08-27T07:57:08.594Z"
   },
   {
    "duration": 5,
    "start_time": "2021-08-27T07:57:13.734Z"
   },
   {
    "duration": 133,
    "start_time": "2021-08-27T07:57:19.367Z"
   },
   {
    "duration": 6,
    "start_time": "2021-08-27T07:57:28.718Z"
   },
   {
    "duration": 13,
    "start_time": "2021-08-27T07:57:42.047Z"
   },
   {
    "duration": 358,
    "start_time": "2021-08-27T07:58:00.500Z"
   },
   {
    "duration": 9132,
    "start_time": "2021-08-27T07:59:09.280Z"
   },
   {
    "duration": 13,
    "start_time": "2021-08-27T07:59:25.496Z"
   },
   {
    "duration": -49,
    "start_time": "2021-08-27T07:59:43.469Z"
   },
   {
    "duration": 13,
    "start_time": "2021-08-27T07:59:51.127Z"
   },
   {
    "duration": -75,
    "start_time": "2021-08-27T08:00:08.169Z"
   },
   {
    "duration": 7,
    "start_time": "2021-08-27T08:00:31.414Z"
   },
   {
    "duration": 4,
    "start_time": "2021-08-27T08:00:49.167Z"
   },
   {
    "duration": 509,
    "start_time": "2021-08-27T08:01:16.503Z"
   },
   {
    "duration": 126,
    "start_time": "2021-08-27T08:01:32.961Z"
   },
   {
    "duration": 14,
    "start_time": "2021-08-27T08:01:44.568Z"
   },
   {
    "duration": 7,
    "start_time": "2021-08-27T08:01:54.912Z"
   },
   {
    "duration": 7,
    "start_time": "2021-08-27T08:02:13.551Z"
   },
   {
    "duration": -276,
    "start_time": "2021-08-27T08:02:26.806Z"
   },
   {
    "duration": 8,
    "start_time": "2021-08-27T08:02:46.991Z"
   },
   {
    "duration": 6020,
    "start_time": "2021-08-27T08:02:57.622Z"
   },
   {
    "duration": 127,
    "start_time": "2021-08-27T08:03:49.665Z"
   },
   {
    "duration": 5967,
    "start_time": "2021-08-27T08:03:52.416Z"
   },
   {
    "duration": 7,
    "start_time": "2021-08-27T08:04:08.537Z"
   },
   {
    "duration": 4,
    "start_time": "2021-08-27T08:04:51.812Z"
   },
   {
    "duration": 161,
    "start_time": "2021-08-27T08:04:55.173Z"
   },
   {
    "duration": 455,
    "start_time": "2021-08-27T08:07:47.951Z"
   },
   {
    "duration": 2449,
    "start_time": "2021-08-27T08:07:56.413Z"
   },
   {
    "duration": 17000,
    "start_time": "2021-08-27T08:09:06.503Z"
   },
   {
    "duration": 16416,
    "start_time": "2021-08-27T08:12:04.774Z"
   },
   {
    "duration": 147,
    "start_time": "2021-08-27T08:13:42.829Z"
   },
   {
    "duration": 6448,
    "start_time": "2021-08-27T08:14:32.456Z"
   },
   {
    "duration": 400,
    "start_time": "2021-08-27T08:29:16.683Z"
   },
   {
    "duration": 1614,
    "start_time": "2021-08-27T08:29:24.633Z"
   },
   {
    "duration": 1171,
    "start_time": "2021-08-27T08:29:26.250Z"
   },
   {
    "duration": 24,
    "start_time": "2021-08-27T08:29:27.424Z"
   },
   {
    "duration": 13,
    "start_time": "2021-08-27T08:29:27.466Z"
   },
   {
    "duration": 8,
    "start_time": "2021-08-27T08:29:27.482Z"
   },
   {
    "duration": 11,
    "start_time": "2021-08-27T08:29:27.493Z"
   },
   {
    "duration": 9,
    "start_time": "2021-08-27T08:29:27.508Z"
   },
   {
    "duration": 64,
    "start_time": "2021-08-27T08:29:27.523Z"
   },
   {
    "duration": 10,
    "start_time": "2021-08-27T08:29:27.591Z"
   },
   {
    "duration": 9,
    "start_time": "2021-08-27T08:29:27.605Z"
   },
   {
    "duration": 894,
    "start_time": "2021-08-27T08:29:27.617Z"
   },
   {
    "duration": 871,
    "start_time": "2021-08-27T08:29:28.513Z"
   },
   {
    "duration": 919,
    "start_time": "2021-08-27T08:29:29.387Z"
   },
   {
    "duration": 245,
    "start_time": "2021-08-27T08:29:30.308Z"
   },
   {
    "duration": 338,
    "start_time": "2021-08-27T08:29:30.561Z"
   },
   {
    "duration": 5,
    "start_time": "2021-08-27T08:29:30.901Z"
   },
   {
    "duration": 49,
    "start_time": "2021-08-27T08:29:30.908Z"
   },
   {
    "duration": 34,
    "start_time": "2021-08-27T08:29:30.963Z"
   },
   {
    "duration": 18092,
    "start_time": "2021-08-27T08:29:30.999Z"
   },
   {
    "duration": 6435,
    "start_time": "2021-08-27T08:29:49.093Z"
   },
   {
    "duration": 79874,
    "start_time": "2021-08-27T08:30:04.512Z"
   },
   {
    "duration": 125678,
    "start_time": "2021-08-27T08:31:42.230Z"
   },
   {
    "duration": 168709,
    "start_time": "2021-08-27T08:40:57.954Z"
   },
   {
    "duration": 98,
    "start_time": "2021-08-27T08:48:48.141Z"
   },
   {
    "duration": 118,
    "start_time": "2021-08-27T08:51:05.119Z"
   },
   {
    "duration": 32,
    "start_time": "2021-08-27T09:04:26.443Z"
   },
   {
    "duration": 362,
    "start_time": "2021-08-27T09:07:58.589Z"
   },
   {
    "duration": 5,
    "start_time": "2021-08-27T09:08:42.445Z"
   },
   {
    "duration": 31,
    "start_time": "2021-08-27T09:08:48.037Z"
   },
   {
    "duration": 5,
    "start_time": "2021-08-27T09:09:11.498Z"
   },
   {
    "duration": 30,
    "start_time": "2021-08-27T09:09:14.156Z"
   },
   {
    "duration": 384,
    "start_time": "2021-08-27T09:09:34.609Z"
   },
   {
    "duration": 47,
    "start_time": "2021-08-27T09:10:07.139Z"
   },
   {
    "duration": 32,
    "start_time": "2021-08-27T09:10:11.644Z"
   },
   {
    "duration": 30,
    "start_time": "2021-08-27T09:10:13.464Z"
   },
   {
    "duration": 359,
    "start_time": "2021-08-27T09:10:20.591Z"
   },
   {
    "duration": 12,
    "start_time": "2021-08-27T09:10:23.123Z"
   },
   {
    "duration": 32,
    "start_time": "2021-08-27T09:10:25.480Z"
   },
   {
    "duration": 8353,
    "start_time": "2021-08-27T09:10:48.788Z"
   },
   {
    "duration": 5,
    "start_time": "2021-08-27T09:11:08.056Z"
   },
   {
    "duration": 1221,
    "start_time": "2021-08-27T09:11:08.064Z"
   },
   {
    "duration": 23,
    "start_time": "2021-08-27T09:11:09.288Z"
   },
   {
    "duration": 7,
    "start_time": "2021-08-27T09:11:09.313Z"
   },
   {
    "duration": 12,
    "start_time": "2021-08-27T09:11:09.322Z"
   },
   {
    "duration": 27,
    "start_time": "2021-08-27T09:11:09.336Z"
   },
   {
    "duration": 13,
    "start_time": "2021-08-27T09:11:09.367Z"
   },
   {
    "duration": 28,
    "start_time": "2021-08-27T09:11:09.383Z"
   },
   {
    "duration": 7,
    "start_time": "2021-08-27T09:11:09.413Z"
   },
   {
    "duration": 12,
    "start_time": "2021-08-27T09:11:09.423Z"
   },
   {
    "duration": 800,
    "start_time": "2021-08-27T09:11:09.438Z"
   },
   {
    "duration": 1168,
    "start_time": "2021-08-27T09:11:10.241Z"
   },
   {
    "duration": 958,
    "start_time": "2021-08-27T09:11:11.411Z"
   },
   {
    "duration": 256,
    "start_time": "2021-08-27T09:11:12.371Z"
   },
   {
    "duration": 352,
    "start_time": "2021-08-27T09:11:12.629Z"
   },
   {
    "duration": 5,
    "start_time": "2021-08-27T09:11:12.983Z"
   },
   {
    "duration": 32,
    "start_time": "2021-08-27T09:11:12.990Z"
   },
   {
    "duration": 52,
    "start_time": "2021-08-27T09:11:13.025Z"
   },
   {
    "duration": 5,
    "start_time": "2021-08-27T09:11:22.836Z"
   },
   {
    "duration": 12,
    "start_time": "2021-08-27T09:11:34.796Z"
   },
   {
    "duration": 48,
    "start_time": "2021-08-27T09:12:11.333Z"
   },
   {
    "duration": 10183,
    "start_time": "2021-08-27T09:12:33.701Z"
   },
   {
    "duration": 18,
    "start_time": "2021-08-27T09:13:15.243Z"
   },
   {
    "duration": 8,
    "start_time": "2021-08-27T09:14:05.390Z"
   },
   {
    "duration": 1532,
    "start_time": "2021-08-27T09:15:38.125Z"
   },
   {
    "duration": 3,
    "start_time": "2021-08-27T09:16:16.154Z"
   },
   {
    "duration": 2192,
    "start_time": "2021-08-27T09:39:31.625Z"
   },
   {
    "duration": 13,
    "start_time": "2021-08-27T09:40:20.728Z"
   },
   {
    "duration": 33667,
    "start_time": "2021-08-27T09:40:27.056Z"
   },
   {
    "duration": 2067,
    "start_time": "2021-08-27T09:41:07.212Z"
   },
   {
    "duration": 1475,
    "start_time": "2021-08-27T09:42:17.566Z"
   },
   {
    "duration": 28748,
    "start_time": "2021-08-27T09:43:01.434Z"
   },
   {
    "duration": 16,
    "start_time": "2021-08-27T09:54:33.384Z"
   },
   {
    "duration": 23,
    "start_time": "2021-08-27T09:55:38.721Z"
   },
   {
    "duration": 137,
    "start_time": "2021-08-27T09:58:44.368Z"
   },
   {
    "duration": 4,
    "start_time": "2021-08-27T16:51:53.188Z"
   },
   {
    "duration": 14,
    "start_time": "2021-08-27T16:52:17.535Z"
   },
   {
    "duration": 2571,
    "start_time": "2021-08-27T16:52:29.710Z"
   },
   {
    "duration": 15,
    "start_time": "2021-08-27T16:52:45.055Z"
   },
   {
    "duration": 7,
    "start_time": "2021-08-27T16:54:57.378Z"
   },
   {
    "duration": 1447,
    "start_time": "2021-08-27T16:54:57.388Z"
   },
   {
    "duration": 37,
    "start_time": "2021-08-27T16:54:58.838Z"
   },
   {
    "duration": 17,
    "start_time": "2021-08-27T16:54:58.878Z"
   },
   {
    "duration": 25,
    "start_time": "2021-08-27T16:54:58.897Z"
   },
   {
    "duration": 7,
    "start_time": "2021-08-27T16:54:58.925Z"
   },
   {
    "duration": 7,
    "start_time": "2021-08-27T16:54:58.963Z"
   },
   {
    "duration": 7,
    "start_time": "2021-08-27T16:54:58.973Z"
   },
   {
    "duration": 9,
    "start_time": "2021-08-27T16:54:58.982Z"
   },
   {
    "duration": 32,
    "start_time": "2021-08-27T16:54:58.993Z"
   },
   {
    "duration": 35,
    "start_time": "2021-08-27T16:54:59.027Z"
   },
   {
    "duration": 15,
    "start_time": "2021-08-27T16:54:59.065Z"
   },
   {
    "duration": 6,
    "start_time": "2021-08-27T16:54:59.083Z"
   },
   {
    "duration": 15,
    "start_time": "2021-08-27T16:54:59.092Z"
   },
   {
    "duration": 952,
    "start_time": "2021-08-27T16:54:59.110Z"
   },
   {
    "duration": 925,
    "start_time": "2021-08-27T16:55:00.064Z"
   },
   {
    "duration": 1065,
    "start_time": "2021-08-27T16:55:00.992Z"
   },
   {
    "duration": 287,
    "start_time": "2021-08-27T16:55:02.061Z"
   },
   {
    "duration": 410,
    "start_time": "2021-08-27T16:55:02.352Z"
   },
   {
    "duration": 4,
    "start_time": "2021-08-27T16:55:02.766Z"
   },
   {
    "duration": 45,
    "start_time": "2021-08-27T16:55:02.772Z"
   },
   {
    "duration": 38,
    "start_time": "2021-08-27T16:55:02.819Z"
   },
   {
    "duration": 12,
    "start_time": "2021-08-27T16:55:02.861Z"
   },
   {
    "duration": 17316,
    "start_time": "2021-08-27T16:55:02.875Z"
   },
   {
    "duration": 7098,
    "start_time": "2021-08-27T16:55:20.193Z"
   },
   {
    "duration": 147583,
    "start_time": "2021-08-27T16:55:27.294Z"
   },
   {
    "duration": 1432,
    "start_time": "2021-08-27T16:58:52.944Z"
   },
   {
    "duration": 1746,
    "start_time": "2021-08-27T16:58:54.379Z"
   },
   {
    "duration": 34,
    "start_time": "2021-08-27T16:58:56.128Z"
   },
   {
    "duration": 15,
    "start_time": "2021-08-27T16:58:56.165Z"
   },
   {
    "duration": 28,
    "start_time": "2021-08-27T16:58:56.183Z"
   },
   {
    "duration": 14,
    "start_time": "2021-08-27T16:58:56.214Z"
   },
   {
    "duration": 41,
    "start_time": "2021-08-27T16:58:56.231Z"
   },
   {
    "duration": 12,
    "start_time": "2021-08-27T16:58:56.276Z"
   },
   {
    "duration": 21,
    "start_time": "2021-08-27T16:58:56.292Z"
   },
   {
    "duration": 31,
    "start_time": "2021-08-27T16:58:56.316Z"
   },
   {
    "duration": 15,
    "start_time": "2021-08-27T16:58:56.350Z"
   },
   {
    "duration": 22,
    "start_time": "2021-08-27T16:58:56.368Z"
   },
   {
    "duration": 5,
    "start_time": "2021-08-27T16:58:56.393Z"
   },
   {
    "duration": 44,
    "start_time": "2021-08-27T16:59:07.991Z"
   },
   {
    "duration": 41,
    "start_time": "2021-08-27T16:59:08.699Z"
   },
   {
    "duration": 40,
    "start_time": "2021-08-27T16:59:09.570Z"
   },
   {
    "duration": 739,
    "start_time": "2021-08-27T16:59:14.255Z"
   },
   {
    "duration": 468,
    "start_time": "2021-08-27T16:59:30.576Z"
   },
   {
    "duration": 13,
    "start_time": "2021-08-27T16:59:39.743Z"
   },
   {
    "duration": 39,
    "start_time": "2021-08-27T16:59:47.699Z"
   },
   {
    "duration": 5,
    "start_time": "2021-08-27T17:00:58.832Z"
   },
   {
    "duration": 1127,
    "start_time": "2021-08-27T17:00:58.839Z"
   },
   {
    "duration": 25,
    "start_time": "2021-08-27T17:00:59.969Z"
   },
   {
    "duration": 16,
    "start_time": "2021-08-27T17:00:59.996Z"
   },
   {
    "duration": 58,
    "start_time": "2021-08-27T17:01:00.014Z"
   },
   {
    "duration": 6,
    "start_time": "2021-08-27T17:01:00.074Z"
   },
   {
    "duration": 13,
    "start_time": "2021-08-27T17:01:00.085Z"
   },
   {
    "duration": 11,
    "start_time": "2021-08-27T17:01:00.101Z"
   },
   {
    "duration": 16,
    "start_time": "2021-08-27T17:01:00.114Z"
   },
   {
    "duration": 44,
    "start_time": "2021-08-27T17:01:00.133Z"
   },
   {
    "duration": 7,
    "start_time": "2021-08-27T17:01:00.179Z"
   },
   {
    "duration": 16,
    "start_time": "2021-08-27T17:01:00.189Z"
   },
   {
    "duration": 6,
    "start_time": "2021-08-27T17:01:00.208Z"
   },
   {
    "duration": 74,
    "start_time": "2021-08-27T17:01:00.217Z"
   },
   {
    "duration": 16,
    "start_time": "2021-08-27T17:01:00.293Z"
   },
   {
    "duration": 878,
    "start_time": "2021-08-27T17:01:00.312Z"
   },
   {
    "duration": 892,
    "start_time": "2021-08-27T17:01:01.192Z"
   },
   {
    "duration": 960,
    "start_time": "2021-08-27T17:01:02.086Z"
   },
   {
    "duration": 272,
    "start_time": "2021-08-27T17:01:03.050Z"
   },
   {
    "duration": 657,
    "start_time": "2021-08-27T17:01:03.324Z"
   },
   {
    "duration": 4,
    "start_time": "2021-08-27T17:01:03.984Z"
   },
   {
    "duration": 90,
    "start_time": "2021-08-27T17:01:03.991Z"
   },
   {
    "duration": 32,
    "start_time": "2021-08-27T17:01:04.084Z"
   },
   {
    "duration": 10,
    "start_time": "2021-08-27T17:01:04.118Z"
   },
   {
    "duration": 16824,
    "start_time": "2021-08-27T17:01:04.131Z"
   },
   {
    "duration": 6634,
    "start_time": "2021-08-27T17:01:20.957Z"
   },
   {
    "duration": 128524,
    "start_time": "2021-08-27T17:01:27.594Z"
   },
   {
    "duration": 182514,
    "start_time": "2021-08-27T17:03:36.121Z"
   },
   {
    "duration": 1536,
    "start_time": "2021-08-27T17:06:38.639Z"
   },
   {
    "duration": -673,
    "start_time": "2021-08-27T17:06:40.851Z"
   },
   {
    "duration": 5,
    "start_time": "2021-08-27T17:11:05.539Z"
   },
   {
    "duration": 2454,
    "start_time": "2021-08-27T17:11:05.546Z"
   },
   {
    "duration": 26,
    "start_time": "2021-08-27T17:11:08.004Z"
   },
   {
    "duration": 48,
    "start_time": "2021-08-27T17:11:08.033Z"
   },
   {
    "duration": 27,
    "start_time": "2021-08-27T17:11:08.084Z"
   },
   {
    "duration": 8,
    "start_time": "2021-08-27T17:11:08.114Z"
   },
   {
    "duration": 42,
    "start_time": "2021-08-27T17:11:08.127Z"
   },
   {
    "duration": 10,
    "start_time": "2021-08-27T17:11:08.173Z"
   },
   {
    "duration": 7,
    "start_time": "2021-08-27T17:11:08.186Z"
   },
   {
    "duration": 23,
    "start_time": "2021-08-27T17:11:08.196Z"
   },
   {
    "duration": 45,
    "start_time": "2021-08-27T17:11:08.222Z"
   },
   {
    "duration": 18,
    "start_time": "2021-08-27T17:11:08.272Z"
   },
   {
    "duration": 6,
    "start_time": "2021-08-27T17:11:08.292Z"
   },
   {
    "duration": 19,
    "start_time": "2021-08-27T17:11:08.301Z"
   },
   {
    "duration": 43,
    "start_time": "2021-08-27T17:11:08.323Z"
   },
   {
    "duration": 886,
    "start_time": "2021-08-27T17:11:08.368Z"
   },
   {
    "duration": 847,
    "start_time": "2021-08-27T17:11:09.256Z"
   },
   {
    "duration": 983,
    "start_time": "2021-08-27T17:11:10.105Z"
   },
   {
    "duration": 273,
    "start_time": "2021-08-27T17:11:11.093Z"
   },
   {
    "duration": 374,
    "start_time": "2021-08-27T17:11:11.369Z"
   },
   {
    "duration": 4,
    "start_time": "2021-08-27T17:11:11.746Z"
   },
   {
    "duration": 34,
    "start_time": "2021-08-27T17:11:11.752Z"
   },
   {
    "duration": 28,
    "start_time": "2021-08-27T17:11:11.788Z"
   },
   {
    "duration": 47,
    "start_time": "2021-08-27T17:11:11.819Z"
   },
   {
    "duration": 17297,
    "start_time": "2021-08-27T17:11:11.869Z"
   },
   {
    "duration": 6892,
    "start_time": "2021-08-27T17:11:29.170Z"
   },
   {
    "duration": 133338,
    "start_time": "2021-08-27T17:11:36.064Z"
   },
   {
    "duration": 176173,
    "start_time": "2021-08-27T17:13:49.405Z"
   },
   {
    "duration": 1491,
    "start_time": "2021-08-27T17:16:45.580Z"
   },
   {
    "duration": -806,
    "start_time": "2021-08-27T17:16:47.880Z"
   },
   {
    "duration": 9,
    "start_time": "2021-08-27T17:22:11.167Z"
   },
   {
    "duration": 7,
    "start_time": "2021-08-27T17:23:09.150Z"
   },
   {
    "duration": 9,
    "start_time": "2021-08-27T17:23:25.639Z"
   },
   {
    "duration": 1987,
    "start_time": "2021-08-27T17:23:35.892Z"
   },
   {
    "duration": 40780,
    "start_time": "2021-08-27T17:23:40.230Z"
   },
   {
    "duration": 1630,
    "start_time": "2021-08-28T09:56:22.678Z"
   },
   {
    "duration": 939,
    "start_time": "2021-08-28T09:56:24.311Z"
   },
   {
    "duration": 37,
    "start_time": "2021-08-28T09:56:25.253Z"
   },
   {
    "duration": 21,
    "start_time": "2021-08-28T09:56:25.293Z"
   },
   {
    "duration": 28,
    "start_time": "2021-08-28T09:56:25.317Z"
   },
   {
    "duration": 8,
    "start_time": "2021-08-28T09:56:25.384Z"
   },
   {
    "duration": 12,
    "start_time": "2021-08-28T09:56:25.395Z"
   },
   {
    "duration": 6,
    "start_time": "2021-08-28T09:56:25.413Z"
   },
   {
    "duration": 9,
    "start_time": "2021-08-28T09:56:25.423Z"
   },
   {
    "duration": 67,
    "start_time": "2021-08-28T09:56:25.435Z"
   },
   {
    "duration": 6,
    "start_time": "2021-08-28T09:56:25.504Z"
   },
   {
    "duration": 15,
    "start_time": "2021-08-28T09:56:25.513Z"
   },
   {
    "duration": 52,
    "start_time": "2021-08-28T09:56:25.531Z"
   },
   {
    "duration": 7,
    "start_time": "2021-08-28T09:56:25.585Z"
   },
   {
    "duration": 22,
    "start_time": "2021-08-28T09:56:25.595Z"
   },
   {
    "duration": 9,
    "start_time": "2021-08-28T09:56:25.619Z"
   },
   {
    "duration": 853,
    "start_time": "2021-08-28T09:56:25.631Z"
   },
   {
    "duration": 911,
    "start_time": "2021-08-28T09:56:26.487Z"
   },
   {
    "duration": 953,
    "start_time": "2021-08-28T09:56:27.401Z"
   },
   {
    "duration": 1121,
    "start_time": "2021-08-28T09:56:28.357Z"
   },
   {
    "duration": 416,
    "start_time": "2021-08-28T09:56:29.481Z"
   },
   {
    "duration": 5,
    "start_time": "2021-08-28T09:56:29.900Z"
   },
   {
    "duration": 32,
    "start_time": "2021-08-28T09:56:29.910Z"
   },
   {
    "duration": 50,
    "start_time": "2021-08-28T09:56:29.945Z"
   },
   {
    "duration": 16,
    "start_time": "2021-08-28T09:56:29.998Z"
   },
   {
    "duration": 14595,
    "start_time": "2021-08-28T09:56:30.016Z"
   },
   {
    "duration": 6829,
    "start_time": "2021-08-28T09:56:44.614Z"
   },
   {
    "duration": 144042,
    "start_time": "2021-08-28T09:56:51.446Z"
   },
   {
    "duration": 165706,
    "start_time": "2021-08-28T09:59:15.491Z"
   },
   {
    "duration": 1280,
    "start_time": "2021-08-28T10:02:01.199Z"
   },
   {
    "duration": 26368,
    "start_time": "2021-08-28T10:02:02.483Z"
   },
   {
    "duration": 360,
    "start_time": "2021-08-30T06:54:59.197Z"
   },
   {
    "duration": 328,
    "start_time": "2021-08-30T06:55:09.059Z"
   },
   {
    "duration": 1540,
    "start_time": "2021-08-30T06:55:17.754Z"
   },
   {
    "duration": 1103,
    "start_time": "2021-08-30T06:55:19.297Z"
   },
   {
    "duration": 33,
    "start_time": "2021-08-30T06:55:20.403Z"
   },
   {
    "duration": 19,
    "start_time": "2021-08-30T06:55:20.439Z"
   },
   {
    "duration": 59,
    "start_time": "2021-08-30T06:55:20.461Z"
   },
   {
    "duration": 13,
    "start_time": "2021-08-30T06:55:20.523Z"
   },
   {
    "duration": 10,
    "start_time": "2021-08-30T06:55:20.538Z"
   },
   {
    "duration": 6,
    "start_time": "2021-08-30T06:55:20.551Z"
   },
   {
    "duration": 6,
    "start_time": "2021-08-30T06:55:20.560Z"
   },
   {
    "duration": 62,
    "start_time": "2021-08-30T06:55:20.569Z"
   },
   {
    "duration": 3,
    "start_time": "2021-08-30T06:55:20.633Z"
   },
   {
    "duration": 6,
    "start_time": "2021-08-30T06:55:23.748Z"
   },
   {
    "duration": 7,
    "start_time": "2021-08-30T06:56:05.723Z"
   },
   {
    "duration": 7,
    "start_time": "2021-08-30T06:56:32.836Z"
   },
   {
    "duration": 462,
    "start_time": "2021-08-30T07:04:04.764Z"
   },
   {
    "duration": 294,
    "start_time": "2021-08-30T07:05:03.674Z"
   },
   {
    "duration": 332,
    "start_time": "2021-08-30T07:05:30.037Z"
   },
   {
    "duration": 5,
    "start_time": "2021-08-30T07:05:53.125Z"
   },
   {
    "duration": 4,
    "start_time": "2021-08-30T07:06:00.060Z"
   },
   {
    "duration": 7,
    "start_time": "2021-08-30T07:06:16.036Z"
   },
   {
    "duration": 13,
    "start_time": "2021-08-30T07:08:05.895Z"
   },
   {
    "duration": 7,
    "start_time": "2021-08-30T07:08:10.054Z"
   },
   {
    "duration": 326,
    "start_time": "2021-08-30T07:08:19.683Z"
   },
   {
    "duration": 12,
    "start_time": "2021-08-30T07:08:33.618Z"
   },
   {
    "duration": 7,
    "start_time": "2021-08-30T07:08:40.887Z"
   },
   {
    "duration": 340,
    "start_time": "2021-08-30T07:10:08.707Z"
   },
   {
    "duration": 24,
    "start_time": "2021-08-30T07:11:00.738Z"
   },
   {
    "duration": 309,
    "start_time": "2021-08-30T07:12:31.802Z"
   },
   {
    "duration": 319,
    "start_time": "2021-08-30T07:12:58.940Z"
   },
   {
    "duration": 4,
    "start_time": "2021-08-30T07:13:08.493Z"
   },
   {
    "duration": 8,
    "start_time": "2021-08-30T07:13:20.327Z"
   },
   {
    "duration": 319,
    "start_time": "2021-08-30T07:13:29.112Z"
   },
   {
    "duration": 7,
    "start_time": "2021-08-30T07:13:59.837Z"
   },
   {
    "duration": 10,
    "start_time": "2021-08-30T07:14:03.227Z"
   },
   {
    "duration": 8,
    "start_time": "2021-08-30T07:14:12.660Z"
   },
   {
    "duration": 330,
    "start_time": "2021-08-30T07:15:58.172Z"
   },
   {
    "duration": 15,
    "start_time": "2021-08-30T07:16:52.949Z"
   },
   {
    "duration": 20,
    "start_time": "2021-08-30T07:17:07.394Z"
   },
   {
    "duration": 14,
    "start_time": "2021-08-30T07:17:14.338Z"
   },
   {
    "duration": 20,
    "start_time": "2021-08-30T07:17:15.452Z"
   },
   {
    "duration": 13,
    "start_time": "2021-08-30T07:17:44.232Z"
   },
   {
    "duration": 23,
    "start_time": "2021-08-30T07:17:45.114Z"
   },
   {
    "duration": 326,
    "start_time": "2021-08-30T07:18:02.835Z"
   },
   {
    "duration": 9,
    "start_time": "2021-08-30T07:18:41.525Z"
   },
   {
    "duration": 14,
    "start_time": "2021-08-30T07:19:00.112Z"
   },
   {
    "duration": 5,
    "start_time": "2021-08-30T07:21:33.189Z"
   },
   {
    "duration": 1773,
    "start_time": "2021-08-30T07:21:33.196Z"
   },
   {
    "duration": 25,
    "start_time": "2021-08-30T07:21:34.972Z"
   },
   {
    "duration": 33,
    "start_time": "2021-08-30T07:21:34.999Z"
   },
   {
    "duration": 27,
    "start_time": "2021-08-30T07:21:35.035Z"
   },
   {
    "duration": 8,
    "start_time": "2021-08-30T07:21:35.066Z"
   },
   {
    "duration": 8,
    "start_time": "2021-08-30T07:21:35.117Z"
   },
   {
    "duration": 10,
    "start_time": "2021-08-30T07:21:35.128Z"
   },
   {
    "duration": 6,
    "start_time": "2021-08-30T07:21:35.140Z"
   },
   {
    "duration": 22,
    "start_time": "2021-08-30T07:21:35.149Z"
   },
   {
    "duration": 3,
    "start_time": "2021-08-30T07:21:35.174Z"
   },
   {
    "duration": 1386,
    "start_time": "2021-08-30T07:21:35.179Z"
   },
   {
    "duration": 313,
    "start_time": "2021-08-30T07:21:36.255Z"
   },
   {
    "duration": 292,
    "start_time": "2021-08-30T07:21:36.278Z"
   },
   {
    "duration": 273,
    "start_time": "2021-08-30T07:21:36.298Z"
   },
   {
    "duration": 259,
    "start_time": "2021-08-30T07:21:36.314Z"
   },
   {
    "duration": 233,
    "start_time": "2021-08-30T07:21:36.341Z"
   },
   {
    "duration": 216,
    "start_time": "2021-08-30T07:21:36.360Z"
   },
   {
    "duration": 200,
    "start_time": "2021-08-30T07:21:36.377Z"
   },
   {
    "duration": 184,
    "start_time": "2021-08-30T07:21:36.394Z"
   },
   {
    "duration": 169,
    "start_time": "2021-08-30T07:21:36.410Z"
   },
   {
    "duration": 142,
    "start_time": "2021-08-30T07:21:36.438Z"
   },
   {
    "duration": 126,
    "start_time": "2021-08-30T07:21:36.456Z"
   },
   {
    "duration": 111,
    "start_time": "2021-08-30T07:21:36.472Z"
   },
   {
    "duration": 96,
    "start_time": "2021-08-30T07:21:36.488Z"
   },
   {
    "duration": 80,
    "start_time": "2021-08-30T07:21:36.505Z"
   },
   {
    "duration": 29,
    "start_time": "2021-08-30T07:21:36.557Z"
   },
   {
    "duration": 20,
    "start_time": "2021-08-30T07:21:36.568Z"
   },
   {
    "duration": 13,
    "start_time": "2021-08-30T07:21:36.576Z"
   },
   {
    "duration": 1,
    "start_time": "2021-08-30T07:21:36.590Z"
   },
   {
    "duration": -14,
    "start_time": "2021-08-30T07:21:36.606Z"
   },
   {
    "duration": -29,
    "start_time": "2021-08-30T07:21:36.622Z"
   },
   {
    "duration": -47,
    "start_time": "2021-08-30T07:21:36.641Z"
   },
   {
    "duration": 343,
    "start_time": "2021-08-30T07:22:06.895Z"
   },
   {
    "duration": 330,
    "start_time": "2021-08-30T07:23:50.204Z"
   },
   {
    "duration": 13,
    "start_time": "2021-08-30T07:24:58.310Z"
   },
   {
    "duration": 20,
    "start_time": "2021-08-30T07:25:00.566Z"
   },
   {
    "duration": 20,
    "start_time": "2021-08-30T07:25:34.323Z"
   },
   {
    "duration": 109,
    "start_time": "2021-08-30T07:25:58.373Z"
   },
   {
    "duration": 64,
    "start_time": "2021-08-30T07:25:59.366Z"
   },
   {
    "duration": 4,
    "start_time": "2021-08-30T07:26:16.664Z"
   },
   {
    "duration": 1096,
    "start_time": "2021-08-30T07:26:16.673Z"
   },
   {
    "duration": 23,
    "start_time": "2021-08-30T07:26:17.771Z"
   },
   {
    "duration": 33,
    "start_time": "2021-08-30T07:26:17.797Z"
   },
   {
    "duration": 25,
    "start_time": "2021-08-30T07:26:17.833Z"
   },
   {
    "duration": 6,
    "start_time": "2021-08-30T07:26:17.861Z"
   },
   {
    "duration": 7,
    "start_time": "2021-08-30T07:26:17.869Z"
   },
   {
    "duration": 40,
    "start_time": "2021-08-30T07:26:17.879Z"
   },
   {
    "duration": 8,
    "start_time": "2021-08-30T07:26:17.922Z"
   },
   {
    "duration": 44,
    "start_time": "2021-08-30T07:26:17.932Z"
   },
   {
    "duration": 3,
    "start_time": "2021-08-30T07:26:17.979Z"
   },
   {
    "duration": 100,
    "start_time": "2021-08-30T07:26:21.216Z"
   },
   {
    "duration": 63,
    "start_time": "2021-08-30T07:26:21.876Z"
   },
   {
    "duration": 70,
    "start_time": "2021-08-30T07:26:57.777Z"
   },
   {
    "duration": 171,
    "start_time": "2021-08-30T07:29:40.242Z"
   },
   {
    "duration": 65,
    "start_time": "2021-08-30T07:29:45.395Z"
   },
   {
    "duration": 67,
    "start_time": "2021-08-30T07:29:59.436Z"
   },
   {
    "duration": 4,
    "start_time": "2021-08-30T07:30:04.210Z"
   },
   {
    "duration": 1184,
    "start_time": "2021-08-30T07:30:04.220Z"
   },
   {
    "duration": 23,
    "start_time": "2021-08-30T07:30:05.407Z"
   },
   {
    "duration": 17,
    "start_time": "2021-08-30T07:30:05.434Z"
   },
   {
    "duration": 25,
    "start_time": "2021-08-30T07:30:05.454Z"
   },
   {
    "duration": 7,
    "start_time": "2021-08-30T07:30:05.517Z"
   },
   {
    "duration": 10,
    "start_time": "2021-08-30T07:30:05.526Z"
   },
   {
    "duration": 10,
    "start_time": "2021-08-30T07:30:05.539Z"
   },
   {
    "duration": 7,
    "start_time": "2021-08-30T07:30:05.553Z"
   },
   {
    "duration": 55,
    "start_time": "2021-08-30T07:30:05.563Z"
   },
   {
    "duration": 3,
    "start_time": "2021-08-30T07:30:05.621Z"
   },
   {
    "duration": 43,
    "start_time": "2021-08-30T07:30:08.099Z"
   },
   {
    "duration": 103,
    "start_time": "2021-08-30T07:30:12.758Z"
   },
   {
    "duration": 78,
    "start_time": "2021-08-30T07:30:13.844Z"
   },
   {
    "duration": 5,
    "start_time": "2021-08-30T07:30:56.611Z"
   },
   {
    "duration": 1097,
    "start_time": "2021-08-30T07:30:56.622Z"
   },
   {
    "duration": 24,
    "start_time": "2021-08-30T07:30:57.721Z"
   },
   {
    "duration": 15,
    "start_time": "2021-08-30T07:30:57.748Z"
   },
   {
    "duration": 53,
    "start_time": "2021-08-30T07:30:57.765Z"
   },
   {
    "duration": 7,
    "start_time": "2021-08-30T07:30:57.820Z"
   },
   {
    "duration": 14,
    "start_time": "2021-08-30T07:30:57.829Z"
   },
   {
    "duration": 15,
    "start_time": "2021-08-30T07:30:57.846Z"
   },
   {
    "duration": 10,
    "start_time": "2021-08-30T07:30:57.864Z"
   },
   {
    "duration": 44,
    "start_time": "2021-08-30T07:30:57.877Z"
   },
   {
    "duration": 2,
    "start_time": "2021-08-30T07:30:57.924Z"
   },
   {
    "duration": 42,
    "start_time": "2021-08-30T07:31:02.004Z"
   },
   {
    "duration": 13,
    "start_time": "2021-08-30T07:31:04.499Z"
   },
   {
    "duration": 43,
    "start_time": "2021-08-30T07:31:06.396Z"
   },
   {
    "duration": 20,
    "start_time": "2021-08-30T07:31:15.738Z"
   },
   {
    "duration": 6,
    "start_time": "2021-08-30T07:32:20.097Z"
   },
   {
    "duration": 12,
    "start_time": "2021-08-30T07:33:04.875Z"
   },
   {
    "duration": 19,
    "start_time": "2021-08-30T07:33:06.490Z"
   },
   {
    "duration": 43,
    "start_time": "2021-08-30T07:34:03.027Z"
   },
   {
    "duration": 33,
    "start_time": "2021-08-30T07:34:19.018Z"
   },
   {
    "duration": 17,
    "start_time": "2021-08-30T07:34:24.027Z"
   },
   {
    "duration": 34,
    "start_time": "2021-08-30T07:34:35.538Z"
   },
   {
    "duration": 5,
    "start_time": "2021-08-30T07:34:39.407Z"
   },
   {
    "duration": 1085,
    "start_time": "2021-08-30T07:34:39.415Z"
   },
   {
    "duration": 31,
    "start_time": "2021-08-30T07:34:40.504Z"
   },
   {
    "duration": 16,
    "start_time": "2021-08-30T07:34:40.538Z"
   },
   {
    "duration": 27,
    "start_time": "2021-08-30T07:34:40.556Z"
   },
   {
    "duration": 35,
    "start_time": "2021-08-30T07:34:40.585Z"
   },
   {
    "duration": 11,
    "start_time": "2021-08-30T07:34:40.623Z"
   },
   {
    "duration": 14,
    "start_time": "2021-08-30T07:34:40.636Z"
   },
   {
    "duration": 6,
    "start_time": "2021-08-30T07:34:40.652Z"
   },
   {
    "duration": 55,
    "start_time": "2021-08-30T07:34:40.660Z"
   },
   {
    "duration": 2,
    "start_time": "2021-08-30T07:34:40.718Z"
   },
   {
    "duration": 52,
    "start_time": "2021-08-30T07:34:40.723Z"
   },
   {
    "duration": 35,
    "start_time": "2021-08-30T07:34:46.233Z"
   },
   {
    "duration": 16,
    "start_time": "2021-08-30T07:34:46.937Z"
   },
   {
    "duration": 16,
    "start_time": "2021-08-30T07:35:40.737Z"
   },
   {
    "duration": 99,
    "start_time": "2021-08-30T07:37:58.072Z"
   },
   {
    "duration": 180,
    "start_time": "2021-08-30T07:41:38.449Z"
   },
   {
    "duration": 179,
    "start_time": "2021-08-30T07:41:41.933Z"
   },
   {
    "duration": 173,
    "start_time": "2021-08-30T07:41:47.727Z"
   },
   {
    "duration": 322,
    "start_time": "2021-08-30T07:42:02.955Z"
   },
   {
    "duration": 153,
    "start_time": "2021-08-30T07:42:29.248Z"
   },
   {
    "duration": 178,
    "start_time": "2021-08-30T07:42:31.730Z"
   },
   {
    "duration": 124,
    "start_time": "2021-08-30T07:42:42.994Z"
   },
   {
    "duration": 47,
    "start_time": "2021-08-30T07:42:47.379Z"
   },
   {
    "duration": 111,
    "start_time": "2021-08-30T07:43:24.896Z"
   },
   {
    "duration": 107,
    "start_time": "2021-08-30T07:44:09.041Z"
   },
   {
    "duration": 8,
    "start_time": "2021-08-30T07:49:50.719Z"
   },
   {
    "duration": 995,
    "start_time": "2021-08-30T07:49:51.966Z"
   },
   {
    "duration": 860,
    "start_time": "2021-08-30T07:55:42.005Z"
   },
   {
    "duration": 908,
    "start_time": "2021-08-30T07:55:46.336Z"
   },
   {
    "duration": 103,
    "start_time": "2021-08-30T08:06:56.244Z"
   },
   {
    "duration": 342,
    "start_time": "2021-08-30T08:07:53.616Z"
   },
   {
    "duration": 1323,
    "start_time": "2021-08-30T08:08:07.952Z"
   },
   {
    "duration": 351,
    "start_time": "2021-08-30T08:08:44.447Z"
   },
   {
    "duration": 375,
    "start_time": "2021-08-30T08:09:39.575Z"
   },
   {
    "duration": 7,
    "start_time": "2021-08-30T08:09:57.846Z"
   },
   {
    "duration": 356,
    "start_time": "2021-08-30T08:10:36.810Z"
   },
   {
    "duration": 352,
    "start_time": "2021-08-30T08:10:44.169Z"
   },
   {
    "duration": 358,
    "start_time": "2021-08-30T08:11:34.885Z"
   },
   {
    "duration": 399,
    "start_time": "2021-08-30T08:11:45.317Z"
   },
   {
    "duration": 24,
    "start_time": "2021-08-30T08:12:48.937Z"
   },
   {
    "duration": 833,
    "start_time": "2021-08-30T08:12:59.903Z"
   },
   {
    "duration": 315,
    "start_time": "2021-08-30T08:13:41.285Z"
   },
   {
    "duration": 303,
    "start_time": "2021-08-30T08:13:59.646Z"
   },
   {
    "duration": 329,
    "start_time": "2021-08-30T08:14:05.941Z"
   },
   {
    "duration": 310,
    "start_time": "2021-08-30T08:14:13.738Z"
   },
   {
    "duration": 30,
    "start_time": "2021-08-30T08:16:12.481Z"
   },
   {
    "duration": 26,
    "start_time": "2021-08-30T08:16:19.632Z"
   },
   {
    "duration": 987,
    "start_time": "2021-08-30T08:16:27.384Z"
   },
   {
    "duration": 29,
    "start_time": "2021-08-30T08:17:14.613Z"
   },
   {
    "duration": 832,
    "start_time": "2021-08-30T08:17:18.377Z"
   },
   {
    "duration": 109,
    "start_time": "2021-08-30T08:18:33.007Z"
   },
   {
    "duration": 116,
    "start_time": "2021-08-30T08:18:51.621Z"
   },
   {
    "duration": 27,
    "start_time": "2021-08-30T08:27:03.520Z"
   },
   {
    "duration": 104,
    "start_time": "2021-08-30T08:27:14.757Z"
   },
   {
    "duration": 110,
    "start_time": "2021-08-30T08:27:22.574Z"
   },
   {
    "duration": 27,
    "start_time": "2021-08-30T08:27:51.174Z"
   },
   {
    "duration": 832,
    "start_time": "2021-08-30T08:27:52.260Z"
   },
   {
    "duration": 115,
    "start_time": "2021-08-30T08:28:24.524Z"
   },
   {
    "duration": 27,
    "start_time": "2021-08-30T08:28:52.237Z"
   },
   {
    "duration": 851,
    "start_time": "2021-08-30T08:29:01.597Z"
   },
   {
    "duration": 111,
    "start_time": "2021-08-30T08:29:13.561Z"
   },
   {
    "duration": 229,
    "start_time": "2021-08-30T08:36:36.274Z"
   },
   {
    "duration": 368,
    "start_time": "2021-08-30T08:36:40.410Z"
   },
   {
    "duration": 229,
    "start_time": "2021-08-30T08:36:44.542Z"
   },
   {
    "duration": 122,
    "start_time": "2021-08-30T08:37:37.492Z"
   },
   {
    "duration": 325,
    "start_time": "2021-08-30T08:38:22.212Z"
   },
   {
    "duration": 11,
    "start_time": "2021-08-30T08:38:25.163Z"
   },
   {
    "duration": 11,
    "start_time": "2021-08-30T08:38:34.795Z"
   },
   {
    "duration": 344,
    "start_time": "2021-08-30T08:38:39.356Z"
   },
   {
    "duration": 13,
    "start_time": "2021-08-30T08:38:42.211Z"
   },
   {
    "duration": 13,
    "start_time": "2021-08-30T08:38:44.930Z"
   },
   {
    "duration": 6,
    "start_time": "2021-08-30T08:40:16.780Z"
   },
   {
    "duration": 108,
    "start_time": "2021-08-30T08:45:02.682Z"
   },
   {
    "duration": 6,
    "start_time": "2021-08-30T08:45:14.113Z"
   },
   {
    "duration": 5,
    "start_time": "2021-08-30T08:45:23.710Z"
   },
   {
    "duration": 5,
    "start_time": "2021-08-30T08:45:38.555Z"
   },
   {
    "duration": 6,
    "start_time": "2021-08-30T08:45:53.374Z"
   },
   {
    "duration": 9,
    "start_time": "2021-08-30T08:46:19.255Z"
   },
   {
    "duration": 104,
    "start_time": "2021-08-30T09:03:21.502Z"
   },
   {
    "duration": 657,
    "start_time": "2021-08-30T09:06:06.113Z"
   },
   {
    "duration": 653,
    "start_time": "2021-08-30T09:06:29.691Z"
   },
   {
    "duration": 666,
    "start_time": "2021-08-30T09:06:40.205Z"
   },
   {
    "duration": 708,
    "start_time": "2021-08-30T09:06:54.694Z"
   },
   {
    "duration": 657,
    "start_time": "2021-08-30T09:07:02.135Z"
   },
   {
    "duration": 318,
    "start_time": "2021-08-30T09:07:28.854Z"
   },
   {
    "duration": 6,
    "start_time": "2021-08-30T09:07:36.356Z"
   },
   {
    "duration": 1046,
    "start_time": "2021-08-30T09:07:36.366Z"
   },
   {
    "duration": 26,
    "start_time": "2021-08-30T09:07:37.416Z"
   },
   {
    "duration": 18,
    "start_time": "2021-08-30T09:07:37.446Z"
   },
   {
    "duration": 63,
    "start_time": "2021-08-30T09:07:37.468Z"
   },
   {
    "duration": 8,
    "start_time": "2021-08-30T09:07:37.534Z"
   },
   {
    "duration": 8,
    "start_time": "2021-08-30T09:07:37.545Z"
   },
   {
    "duration": 8,
    "start_time": "2021-08-30T09:07:37.556Z"
   },
   {
    "duration": 51,
    "start_time": "2021-08-30T09:07:37.567Z"
   },
   {
    "duration": 21,
    "start_time": "2021-08-30T09:07:37.621Z"
   },
   {
    "duration": 2,
    "start_time": "2021-08-30T09:07:37.645Z"
   },
   {
    "duration": 39,
    "start_time": "2021-08-30T09:07:37.757Z"
   },
   {
    "duration": 18,
    "start_time": "2021-08-30T09:07:37.799Z"
   },
   {
    "duration": 10,
    "start_time": "2021-08-30T09:07:37.821Z"
   },
   {
    "duration": 6,
    "start_time": "2021-08-30T09:07:37.834Z"
   },
   {
    "duration": 18,
    "start_time": "2021-08-30T09:07:37.844Z"
   },
   {
    "duration": 179,
    "start_time": "2021-08-30T09:07:38.225Z"
   },
   {
    "duration": 163,
    "start_time": "2021-08-30T09:07:38.407Z"
   },
   {
    "duration": 59,
    "start_time": "2021-08-30T09:07:38.574Z"
   },
   {
    "duration": 6,
    "start_time": "2021-08-30T09:07:38.736Z"
   },
   {
    "duration": 837,
    "start_time": "2021-08-30T09:07:38.750Z"
   },
   {
    "duration": 34,
    "start_time": "2021-08-30T09:07:39.591Z"
   },
   {
    "duration": 897,
    "start_time": "2021-08-30T09:07:39.629Z"
   },
   {
    "duration": 864,
    "start_time": "2021-08-30T09:07:40.529Z"
   },
   {
    "duration": 32,
    "start_time": "2021-08-30T09:07:41.396Z"
   },
   {
    "duration": 853,
    "start_time": "2021-08-30T09:07:41.430Z"
   },
   {
    "duration": 1121,
    "start_time": "2021-08-30T09:07:42.285Z"
   },
   {
    "duration": 28,
    "start_time": "2021-08-30T09:07:43.408Z"
   },
   {
    "duration": 871,
    "start_time": "2021-08-30T09:07:43.438Z"
   },
   {
    "duration": 259,
    "start_time": "2021-08-30T09:07:44.312Z"
   },
   {
    "duration": 8,
    "start_time": "2021-08-30T09:07:44.573Z"
   },
   {
    "duration": 555,
    "start_time": "2021-08-30T09:07:44.583Z"
   },
   {
    "duration": 353,
    "start_time": "2021-08-30T09:07:45.140Z"
   },
   {
    "duration": 4,
    "start_time": "2021-08-30T09:07:45.495Z"
   },
   {
    "duration": 33,
    "start_time": "2021-08-30T09:07:45.502Z"
   },
   {
    "duration": 28,
    "start_time": "2021-08-30T09:07:45.538Z"
   },
   {
    "duration": 11,
    "start_time": "2021-08-30T09:07:45.569Z"
   },
   {
    "duration": 702,
    "start_time": "2021-08-30T09:07:49.541Z"
   },
   {
    "duration": 337,
    "start_time": "2021-08-30T09:08:20.131Z"
   },
   {
    "duration": 8,
    "start_time": "2021-08-30T09:08:23.212Z"
   },
   {
    "duration": 362,
    "start_time": "2021-08-30T09:08:24.912Z"
   },
   {
    "duration": 1177,
    "start_time": "2021-08-30T09:08:50.467Z"
   },
   {
    "duration": 60,
    "start_time": "2021-08-30T09:09:45.890Z"
   },
   {
    "duration": 10,
    "start_time": "2021-08-30T09:09:51.954Z"
   },
   {
    "duration": 62,
    "start_time": "2021-08-30T09:10:04.905Z"
   },
   {
    "duration": 11,
    "start_time": "2021-08-30T09:10:19.300Z"
   },
   {
    "duration": 11,
    "start_time": "2021-08-30T09:11:11.037Z"
   },
   {
    "duration": 33,
    "start_time": "2021-08-30T09:11:14.513Z"
   },
   {
    "duration": 15,
    "start_time": "2021-08-30T09:11:29.705Z"
   },
   {
    "duration": 41,
    "start_time": "2021-08-30T09:12:42.698Z"
   },
   {
    "duration": 14,
    "start_time": "2021-08-30T09:12:55.807Z"
   },
   {
    "duration": 5,
    "start_time": "2021-08-30T09:13:16.094Z"
   },
   {
    "duration": 1040,
    "start_time": "2021-08-30T09:13:16.103Z"
   },
   {
    "duration": 23,
    "start_time": "2021-08-30T09:13:17.146Z"
   },
   {
    "duration": 22,
    "start_time": "2021-08-30T09:13:17.172Z"
   },
   {
    "duration": 25,
    "start_time": "2021-08-30T09:13:17.216Z"
   },
   {
    "duration": 6,
    "start_time": "2021-08-30T09:13:17.244Z"
   },
   {
    "duration": 14,
    "start_time": "2021-08-30T09:13:17.252Z"
   },
   {
    "duration": 6,
    "start_time": "2021-08-30T09:13:17.269Z"
   },
   {
    "duration": 39,
    "start_time": "2021-08-30T09:13:17.278Z"
   },
   {
    "duration": 24,
    "start_time": "2021-08-30T09:13:17.321Z"
   },
   {
    "duration": 3,
    "start_time": "2021-08-30T09:13:17.348Z"
   },
   {
    "duration": 68,
    "start_time": "2021-08-30T09:13:17.353Z"
   },
   {
    "duration": 15,
    "start_time": "2021-08-30T09:13:17.424Z"
   },
   {
    "duration": 12,
    "start_time": "2021-08-30T09:13:17.441Z"
   },
   {
    "duration": 7,
    "start_time": "2021-08-30T09:13:17.456Z"
   },
   {
    "duration": 25,
    "start_time": "2021-08-30T09:13:17.466Z"
   },
   {
    "duration": 205,
    "start_time": "2021-08-30T09:13:17.493Z"
   },
   {
    "duration": 169,
    "start_time": "2021-08-30T09:13:17.701Z"
   },
   {
    "duration": 49,
    "start_time": "2021-08-30T09:13:17.872Z"
   },
   {
    "duration": 6,
    "start_time": "2021-08-30T09:13:17.923Z"
   },
   {
    "duration": 984,
    "start_time": "2021-08-30T09:13:17.932Z"
   },
   {
    "duration": 28,
    "start_time": "2021-08-30T09:13:18.918Z"
   },
   {
    "duration": 856,
    "start_time": "2021-08-30T09:13:18.948Z"
   },
   {
    "duration": 967,
    "start_time": "2021-08-30T09:13:19.809Z"
   },
   {
    "duration": 37,
    "start_time": "2021-08-30T09:13:20.779Z"
   },
   {
    "duration": 975,
    "start_time": "2021-08-30T09:13:20.819Z"
   },
   {
    "duration": 971,
    "start_time": "2021-08-30T09:13:21.796Z"
   },
   {
    "duration": 23,
    "start_time": "2021-08-30T09:13:22.769Z"
   },
   {
    "duration": 1034,
    "start_time": "2021-08-30T09:13:22.795Z"
   },
   {
    "duration": 364,
    "start_time": "2021-08-30T09:13:23.831Z"
   },
   {
    "duration": 21,
    "start_time": "2021-08-30T09:13:24.197Z"
   },
   {
    "duration": 596,
    "start_time": "2021-08-30T09:13:24.220Z"
   },
   {
    "duration": 364,
    "start_time": "2021-08-30T09:13:24.819Z"
   },
   {
    "duration": 4,
    "start_time": "2021-08-30T09:13:25.185Z"
   },
   {
    "duration": 38,
    "start_time": "2021-08-30T09:13:25.191Z"
   },
   {
    "duration": 41,
    "start_time": "2021-08-30T09:13:25.231Z"
   },
   {
    "duration": 11,
    "start_time": "2021-08-30T09:13:25.274Z"
   },
   {
    "duration": 352,
    "start_time": "2021-08-30T09:13:30.964Z"
   },
   {
    "duration": 38,
    "start_time": "2021-08-30T09:13:43.905Z"
   },
   {
    "duration": 10,
    "start_time": "2021-08-30T09:13:51.981Z"
   },
   {
    "duration": 19,
    "start_time": "2021-08-30T09:14:53.436Z"
   },
   {
    "duration": 5,
    "start_time": "2021-08-30T09:15:19.936Z"
   },
   {
    "duration": 1162,
    "start_time": "2021-08-30T09:15:19.945Z"
   },
   {
    "duration": 24,
    "start_time": "2021-08-30T09:15:21.110Z"
   },
   {
    "duration": 15,
    "start_time": "2021-08-30T09:15:21.137Z"
   },
   {
    "duration": 26,
    "start_time": "2021-08-30T09:15:21.155Z"
   },
   {
    "duration": 6,
    "start_time": "2021-08-30T09:15:21.216Z"
   },
   {
    "duration": 25,
    "start_time": "2021-08-30T09:15:21.225Z"
   },
   {
    "duration": 17,
    "start_time": "2021-08-30T09:15:21.252Z"
   },
   {
    "duration": 16,
    "start_time": "2021-08-30T09:15:21.273Z"
   },
   {
    "duration": 30,
    "start_time": "2021-08-30T09:15:21.292Z"
   },
   {
    "duration": 4,
    "start_time": "2021-08-30T09:15:21.325Z"
   },
   {
    "duration": 68,
    "start_time": "2021-08-30T09:15:21.331Z"
   },
   {
    "duration": 17,
    "start_time": "2021-08-30T09:15:24.357Z"
   },
   {
    "duration": 17,
    "start_time": "2021-08-30T09:15:56.686Z"
   },
   {
    "duration": 17,
    "start_time": "2021-08-30T09:16:22.534Z"
   },
   {
    "duration": 6,
    "start_time": "2021-08-30T09:16:36.220Z"
   },
   {
    "duration": 1047,
    "start_time": "2021-08-30T09:16:36.231Z"
   },
   {
    "duration": 24,
    "start_time": "2021-08-30T09:16:37.280Z"
   },
   {
    "duration": 17,
    "start_time": "2021-08-30T09:16:37.317Z"
   },
   {
    "duration": 26,
    "start_time": "2021-08-30T09:16:37.337Z"
   },
   {
    "duration": 7,
    "start_time": "2021-08-30T09:16:37.365Z"
   },
   {
    "duration": 42,
    "start_time": "2021-08-30T09:16:37.374Z"
   },
   {
    "duration": 8,
    "start_time": "2021-08-30T09:16:37.419Z"
   },
   {
    "duration": 8,
    "start_time": "2021-08-30T09:16:37.432Z"
   },
   {
    "duration": 22,
    "start_time": "2021-08-30T09:16:37.443Z"
   },
   {
    "duration": 3,
    "start_time": "2021-08-30T09:16:37.467Z"
   },
   {
    "duration": 84,
    "start_time": "2021-08-30T09:16:37.472Z"
   },
   {
    "duration": 14,
    "start_time": "2021-08-30T09:16:37.559Z"
   },
   {
    "duration": 47,
    "start_time": "2021-08-30T09:16:37.576Z"
   },
   {
    "duration": 8,
    "start_time": "2021-08-30T09:16:37.625Z"
   },
   {
    "duration": 10,
    "start_time": "2021-08-30T09:16:37.635Z"
   },
   {
    "duration": 17,
    "start_time": "2021-08-30T09:16:37.647Z"
   },
   {
    "duration": 206,
    "start_time": "2021-08-30T09:16:37.666Z"
   },
   {
    "duration": 173,
    "start_time": "2021-08-30T09:16:37.875Z"
   },
   {
    "duration": 40,
    "start_time": "2021-08-30T09:16:38.050Z"
   },
   {
    "duration": 25,
    "start_time": "2021-08-30T09:16:38.092Z"
   },
   {
    "duration": 862,
    "start_time": "2021-08-30T09:16:38.119Z"
   },
   {
    "duration": 36,
    "start_time": "2021-08-30T09:16:38.983Z"
   },
   {
    "duration": 860,
    "start_time": "2021-08-30T09:16:39.024Z"
   },
   {
    "duration": 1054,
    "start_time": "2021-08-30T09:16:39.887Z"
   },
   {
    "duration": 26,
    "start_time": "2021-08-30T09:16:40.945Z"
   },
   {
    "duration": 875,
    "start_time": "2021-08-30T09:16:40.973Z"
   },
   {
    "duration": 881,
    "start_time": "2021-08-30T09:16:41.851Z"
   },
   {
    "duration": 26,
    "start_time": "2021-08-30T09:16:42.736Z"
   },
   {
    "duration": 895,
    "start_time": "2021-08-30T09:16:42.764Z"
   },
   {
    "duration": 19,
    "start_time": "2021-08-30T09:16:48.354Z"
   },
   {
    "duration": 5,
    "start_time": "2021-08-30T09:17:27.302Z"
   },
   {
    "duration": 1033,
    "start_time": "2021-08-30T09:17:27.309Z"
   },
   {
    "duration": 168,
    "start_time": "2021-08-30T09:17:28.345Z"
   },
   {
    "duration": 16,
    "start_time": "2021-08-30T09:17:28.517Z"
   },
   {
    "duration": 26,
    "start_time": "2021-08-30T09:17:28.536Z"
   },
   {
    "duration": 8,
    "start_time": "2021-08-30T09:17:28.565Z"
   },
   {
    "duration": 44,
    "start_time": "2021-08-30T09:17:28.576Z"
   },
   {
    "duration": 7,
    "start_time": "2021-08-30T09:17:28.622Z"
   },
   {
    "duration": 10,
    "start_time": "2021-08-30T09:17:28.631Z"
   },
   {
    "duration": 21,
    "start_time": "2021-08-30T09:17:28.644Z"
   },
   {
    "duration": 2,
    "start_time": "2021-08-30T09:17:28.668Z"
   },
   {
    "duration": 85,
    "start_time": "2021-08-30T09:17:28.672Z"
   },
   {
    "duration": 17,
    "start_time": "2021-08-30T09:17:28.759Z"
   },
   {
    "duration": 40,
    "start_time": "2021-08-30T09:17:28.778Z"
   },
   {
    "duration": 9,
    "start_time": "2021-08-30T09:17:28.820Z"
   },
   {
    "duration": 6,
    "start_time": "2021-08-30T09:17:28.832Z"
   },
   {
    "duration": 19,
    "start_time": "2021-08-30T09:17:28.841Z"
   },
   {
    "duration": 14,
    "start_time": "2021-08-30T09:17:31.731Z"
   },
   {
    "duration": 5,
    "start_time": "2021-08-30T09:17:47.320Z"
   },
   {
    "duration": 1192,
    "start_time": "2021-08-30T09:17:47.328Z"
   },
   {
    "duration": 26,
    "start_time": "2021-08-30T09:17:48.524Z"
   },
   {
    "duration": 18,
    "start_time": "2021-08-30T09:17:48.553Z"
   },
   {
    "duration": 65,
    "start_time": "2021-08-30T09:17:48.574Z"
   },
   {
    "duration": 8,
    "start_time": "2021-08-30T09:17:48.642Z"
   },
   {
    "duration": 13,
    "start_time": "2021-08-30T09:17:48.655Z"
   },
   {
    "duration": 14,
    "start_time": "2021-08-30T09:17:48.670Z"
   },
   {
    "duration": 30,
    "start_time": "2021-08-30T09:17:48.687Z"
   },
   {
    "duration": 20,
    "start_time": "2021-08-30T09:17:48.720Z"
   },
   {
    "duration": 3,
    "start_time": "2021-08-30T09:17:48.742Z"
   },
   {
    "duration": 85,
    "start_time": "2021-08-30T09:17:48.749Z"
   },
   {
    "duration": 18,
    "start_time": "2021-08-30T09:17:48.837Z"
   },
   {
    "duration": 16,
    "start_time": "2021-08-30T09:17:48.858Z"
   },
   {
    "duration": 46,
    "start_time": "2021-08-30T09:17:48.877Z"
   },
   {
    "duration": 18,
    "start_time": "2021-08-30T09:17:48.926Z"
   },
   {
    "duration": 32,
    "start_time": "2021-08-30T09:17:48.946Z"
   },
   {
    "duration": 187,
    "start_time": "2021-08-30T09:17:48.980Z"
   },
   {
    "duration": 168,
    "start_time": "2021-08-30T09:17:49.171Z"
   },
   {
    "duration": 42,
    "start_time": "2021-08-30T09:17:49.341Z"
   },
   {
    "duration": 14,
    "start_time": "2021-08-30T09:17:56.008Z"
   },
   {
    "duration": 322,
    "start_time": "2021-08-30T09:18:14.970Z"
   },
   {
    "duration": 6,
    "start_time": "2021-08-30T09:18:18.297Z"
   },
   {
    "duration": 5,
    "start_time": "2021-08-30T09:18:38.537Z"
   },
   {
    "duration": 1569,
    "start_time": "2021-08-30T09:18:38.549Z"
   },
   {
    "duration": 26,
    "start_time": "2021-08-30T09:18:40.121Z"
   },
   {
    "duration": 18,
    "start_time": "2021-08-30T09:18:40.151Z"
   },
   {
    "duration": 59,
    "start_time": "2021-08-30T09:18:40.173Z"
   },
   {
    "duration": 8,
    "start_time": "2021-08-30T09:18:40.235Z"
   },
   {
    "duration": 9,
    "start_time": "2021-08-30T09:18:40.246Z"
   },
   {
    "duration": 8,
    "start_time": "2021-08-30T09:18:40.258Z"
   },
   {
    "duration": 51,
    "start_time": "2021-08-30T09:18:40.269Z"
   },
   {
    "duration": 22,
    "start_time": "2021-08-30T09:18:40.324Z"
   },
   {
    "duration": 4,
    "start_time": "2021-08-30T09:18:40.348Z"
   },
   {
    "duration": 79,
    "start_time": "2021-08-30T09:18:40.354Z"
   },
   {
    "duration": 16,
    "start_time": "2021-08-30T09:18:40.436Z"
   },
   {
    "duration": 16,
    "start_time": "2021-08-30T09:18:40.455Z"
   },
   {
    "duration": 45,
    "start_time": "2021-08-30T09:18:40.473Z"
   },
   {
    "duration": 6,
    "start_time": "2021-08-30T09:18:40.521Z"
   },
   {
    "duration": 22,
    "start_time": "2021-08-30T09:18:40.530Z"
   },
   {
    "duration": 193,
    "start_time": "2021-08-30T09:18:40.554Z"
   },
   {
    "duration": 183,
    "start_time": "2021-08-30T09:18:40.749Z"
   },
   {
    "duration": 39,
    "start_time": "2021-08-30T09:18:40.935Z"
   },
   {
    "duration": 6,
    "start_time": "2021-08-30T09:18:40.977Z"
   },
   {
    "duration": 854,
    "start_time": "2021-08-30T09:18:40.985Z"
   },
   {
    "duration": 23,
    "start_time": "2021-08-30T09:18:41.841Z"
   },
   {
    "duration": 18,
    "start_time": "2021-08-30T09:18:45.526Z"
   },
   {
    "duration": 338,
    "start_time": "2021-08-30T09:19:04.706Z"
   },
   {
    "duration": 5,
    "start_time": "2021-08-30T09:19:09.788Z"
   },
   {
    "duration": 471,
    "start_time": "2021-08-30T09:24:39.142Z"
   },
   {
    "duration": 348,
    "start_time": "2021-08-30T09:24:52.580Z"
   },
   {
    "duration": 361,
    "start_time": "2021-08-30T09:25:25.304Z"
   },
   {
    "duration": 312,
    "start_time": "2021-08-30T09:25:45.527Z"
   },
   {
    "duration": 5,
    "start_time": "2021-08-30T09:25:54.089Z"
   },
   {
    "duration": 323,
    "start_time": "2021-08-30T09:26:06.042Z"
   },
   {
    "duration": 380,
    "start_time": "2021-08-30T09:26:19.896Z"
   },
   {
    "duration": 15,
    "start_time": "2021-08-30T09:29:03.972Z"
   },
   {
    "duration": 5,
    "start_time": "2021-08-30T09:29:13.717Z"
   },
   {
    "duration": 6,
    "start_time": "2021-08-30T09:29:27.791Z"
   },
   {
    "duration": 1050,
    "start_time": "2021-08-30T09:29:27.801Z"
   },
   {
    "duration": 23,
    "start_time": "2021-08-30T09:29:28.854Z"
   },
   {
    "duration": 36,
    "start_time": "2021-08-30T09:29:28.880Z"
   },
   {
    "duration": 25,
    "start_time": "2021-08-30T09:29:28.919Z"
   },
   {
    "duration": 6,
    "start_time": "2021-08-30T09:29:28.946Z"
   },
   {
    "duration": 9,
    "start_time": "2021-08-30T09:29:28.954Z"
   },
   {
    "duration": 7,
    "start_time": "2021-08-30T09:29:28.965Z"
   },
   {
    "duration": 42,
    "start_time": "2021-08-30T09:29:28.976Z"
   },
   {
    "duration": 22,
    "start_time": "2021-08-30T09:29:29.021Z"
   },
   {
    "duration": 3,
    "start_time": "2021-08-30T09:29:29.045Z"
   },
   {
    "duration": 73,
    "start_time": "2021-08-30T09:29:29.050Z"
   },
   {
    "duration": 16,
    "start_time": "2021-08-30T09:29:29.125Z"
   },
   {
    "duration": 15,
    "start_time": "2021-08-30T09:29:29.143Z"
   },
   {
    "duration": 8,
    "start_time": "2021-08-30T09:29:29.160Z"
   },
   {
    "duration": 6,
    "start_time": "2021-08-30T09:29:29.171Z"
   },
   {
    "duration": 17,
    "start_time": "2021-08-30T09:29:29.215Z"
   },
   {
    "duration": 198,
    "start_time": "2021-08-30T09:29:29.235Z"
   },
   {
    "duration": 166,
    "start_time": "2021-08-30T09:29:29.435Z"
   },
   {
    "duration": 43,
    "start_time": "2021-08-30T09:29:29.604Z"
   },
   {
    "duration": 6,
    "start_time": "2021-08-30T09:29:29.649Z"
   },
   {
    "duration": 858,
    "start_time": "2021-08-30T09:29:29.658Z"
   },
   {
    "duration": 18,
    "start_time": "2021-08-30T09:29:30.518Z"
   },
   {
    "duration": 19,
    "start_time": "2021-08-30T09:29:30.542Z"
   },
   {
    "duration": 23,
    "start_time": "2021-08-30T09:29:30.564Z"
   },
   {
    "duration": 14,
    "start_time": "2021-08-30T09:29:33.084Z"
   },
   {
    "duration": 5,
    "start_time": "2021-08-30T09:30:41.872Z"
   },
   {
    "duration": 1111,
    "start_time": "2021-08-30T09:30:41.883Z"
   },
   {
    "duration": 33,
    "start_time": "2021-08-30T09:30:42.997Z"
   },
   {
    "duration": 20,
    "start_time": "2021-08-30T09:30:43.034Z"
   },
   {
    "duration": 26,
    "start_time": "2021-08-30T09:30:43.058Z"
   },
   {
    "duration": 6,
    "start_time": "2021-08-30T09:30:43.115Z"
   },
   {
    "duration": 10,
    "start_time": "2021-08-30T09:30:43.124Z"
   },
   {
    "duration": 7,
    "start_time": "2021-08-30T09:30:43.137Z"
   },
   {
    "duration": 8,
    "start_time": "2021-08-30T09:30:43.148Z"
   },
   {
    "duration": 64,
    "start_time": "2021-08-30T09:30:43.160Z"
   },
   {
    "duration": 3,
    "start_time": "2021-08-30T09:30:43.227Z"
   },
   {
    "duration": 50,
    "start_time": "2021-08-30T09:30:43.232Z"
   },
   {
    "duration": 36,
    "start_time": "2021-08-30T09:30:43.285Z"
   },
   {
    "duration": 15,
    "start_time": "2021-08-30T09:30:43.323Z"
   },
   {
    "duration": 8,
    "start_time": "2021-08-30T09:30:43.340Z"
   },
   {
    "duration": 8,
    "start_time": "2021-08-30T09:30:43.350Z"
   },
   {
    "duration": 21,
    "start_time": "2021-08-30T09:30:43.360Z"
   },
   {
    "duration": 197,
    "start_time": "2021-08-30T09:30:43.416Z"
   },
   {
    "duration": 172,
    "start_time": "2021-08-30T09:30:43.617Z"
   },
   {
    "duration": 44,
    "start_time": "2021-08-30T09:30:43.791Z"
   },
   {
    "duration": 7,
    "start_time": "2021-08-30T09:30:43.837Z"
   },
   {
    "duration": 949,
    "start_time": "2021-08-30T09:30:43.846Z"
   },
   {
    "duration": 24,
    "start_time": "2021-08-30T09:30:44.797Z"
   },
   {
    "duration": 981,
    "start_time": "2021-08-30T09:30:44.826Z"
   },
   {
    "duration": 863,
    "start_time": "2021-08-30T09:30:45.810Z"
   },
   {
    "duration": 14,
    "start_time": "2021-08-30T09:30:46.675Z"
   },
   {
    "duration": 976,
    "start_time": "2021-08-30T09:30:46.692Z"
   },
   {
    "duration": 870,
    "start_time": "2021-08-30T09:30:47.671Z"
   },
   {
    "duration": 14,
    "start_time": "2021-08-30T09:30:48.543Z"
   },
   {
    "duration": 1012,
    "start_time": "2021-08-30T09:30:48.559Z"
   },
   {
    "duration": 271,
    "start_time": "2021-08-30T09:30:49.573Z"
   },
   {
    "duration": 9,
    "start_time": "2021-08-30T09:30:49.846Z"
   },
   {
    "duration": 564,
    "start_time": "2021-08-30T09:30:49.858Z"
   },
   {
    "duration": 362,
    "start_time": "2021-08-30T09:30:50.424Z"
   },
   {
    "duration": 4,
    "start_time": "2021-08-30T09:30:50.788Z"
   },
   {
    "duration": 36,
    "start_time": "2021-08-30T09:30:50.795Z"
   },
   {
    "duration": 25,
    "start_time": "2021-08-30T09:30:50.833Z"
   },
   {
    "duration": 11,
    "start_time": "2021-08-30T09:30:50.861Z"
   },
   {
    "duration": 15105,
    "start_time": "2021-08-30T09:30:56.827Z"
   },
   {
    "duration": 5767,
    "start_time": "2021-08-30T09:31:39.115Z"
   },
   {
    "duration": 6,
    "start_time": "2021-08-30T09:32:10.574Z"
   },
   {
    "duration": 96,
    "start_time": "2021-08-30T09:43:49.798Z"
   },
   {
    "duration": 122369,
    "start_time": "2021-08-30T09:44:21.784Z"
   },
   {
    "duration": 65715,
    "start_time": "2021-08-30T09:46:58.168Z"
   },
   {
    "duration": 155,
    "start_time": "2021-08-30T09:48:38.503Z"
   },
   {
    "duration": 1381,
    "start_time": "2021-08-30T09:52:25.068Z"
   },
   {
    "duration": 10525,
    "start_time": "2021-08-30T09:52:42.755Z"
   },
   {
    "duration": 184,
    "start_time": "2021-08-30T09:56:01.134Z"
   },
   {
    "duration": 188,
    "start_time": "2021-08-30T09:59:07.006Z"
   },
   {
    "duration": 140,
    "start_time": "2021-08-30T09:59:34.118Z"
   },
   {
    "duration": 5,
    "start_time": "2021-08-30T10:12:25.824Z"
   },
   {
    "duration": 1138,
    "start_time": "2021-08-30T10:12:25.836Z"
   },
   {
    "duration": 26,
    "start_time": "2021-08-30T10:12:26.977Z"
   },
   {
    "duration": 16,
    "start_time": "2021-08-30T10:12:27.017Z"
   },
   {
    "duration": 32,
    "start_time": "2021-08-30T10:12:27.036Z"
   },
   {
    "duration": 6,
    "start_time": "2021-08-30T10:12:27.071Z"
   },
   {
    "duration": 38,
    "start_time": "2021-08-30T10:12:27.079Z"
   },
   {
    "duration": 5,
    "start_time": "2021-08-30T10:12:27.120Z"
   },
   {
    "duration": 23,
    "start_time": "2021-08-30T10:12:27.129Z"
   },
   {
    "duration": 38,
    "start_time": "2021-08-30T10:12:27.156Z"
   },
   {
    "duration": 3,
    "start_time": "2021-08-30T10:12:27.196Z"
   },
   {
    "duration": 72,
    "start_time": "2021-08-30T10:12:27.201Z"
   },
   {
    "duration": 15,
    "start_time": "2021-08-30T10:12:27.275Z"
   },
   {
    "duration": 25,
    "start_time": "2021-08-30T10:12:27.293Z"
   },
   {
    "duration": 9,
    "start_time": "2021-08-30T10:12:27.320Z"
   },
   {
    "duration": 26,
    "start_time": "2021-08-30T10:12:27.331Z"
   },
   {
    "duration": 27,
    "start_time": "2021-08-30T10:12:27.360Z"
   },
   {
    "duration": 197,
    "start_time": "2021-08-30T10:12:27.389Z"
   },
   {
    "duration": 176,
    "start_time": "2021-08-30T10:12:27.589Z"
   },
   {
    "duration": 52,
    "start_time": "2021-08-30T10:12:27.768Z"
   },
   {
    "duration": 6,
    "start_time": "2021-08-30T10:12:27.822Z"
   },
   {
    "duration": 874,
    "start_time": "2021-08-30T10:12:27.831Z"
   },
   {
    "duration": 20,
    "start_time": "2021-08-30T10:12:28.707Z"
   },
   {
    "duration": 854,
    "start_time": "2021-08-30T10:12:28.732Z"
   },
   {
    "duration": 1156,
    "start_time": "2021-08-30T10:12:29.590Z"
   },
   {
    "duration": 15,
    "start_time": "2021-08-30T10:12:30.749Z"
   },
   {
    "duration": 895,
    "start_time": "2021-08-30T10:12:30.766Z"
   },
   {
    "duration": 915,
    "start_time": "2021-08-30T10:12:31.663Z"
   },
   {
    "duration": 16,
    "start_time": "2021-08-30T10:12:32.580Z"
   },
   {
    "duration": 893,
    "start_time": "2021-08-30T10:12:32.599Z"
   },
   {
    "duration": 266,
    "start_time": "2021-08-30T10:12:33.495Z"
   },
   {
    "duration": 8,
    "start_time": "2021-08-30T10:12:33.764Z"
   },
   {
    "duration": 709,
    "start_time": "2021-08-30T10:12:33.774Z"
   },
   {
    "duration": 368,
    "start_time": "2021-08-30T10:12:34.485Z"
   },
   {
    "duration": 5,
    "start_time": "2021-08-30T10:12:34.856Z"
   },
   {
    "duration": 28,
    "start_time": "2021-08-30T10:12:34.863Z"
   },
   {
    "duration": 34,
    "start_time": "2021-08-30T10:12:34.894Z"
   },
   {
    "duration": 12,
    "start_time": "2021-08-30T10:12:34.931Z"
   },
   {
    "duration": 15436,
    "start_time": "2021-08-30T10:12:34.945Z"
   },
   {
    "duration": 5886,
    "start_time": "2021-08-30T10:12:50.383Z"
   },
   {
    "duration": 124571,
    "start_time": "2021-08-30T10:12:56.272Z"
   },
   {
    "duration": 65183,
    "start_time": "2021-08-30T10:15:00.846Z"
   },
   {
    "duration": 1377,
    "start_time": "2021-08-30T10:16:06.031Z"
   },
   {
    "duration": 11090,
    "start_time": "2021-08-30T10:16:07.416Z"
   },
   {
    "duration": 338,
    "start_time": "2021-08-30T10:38:20.078Z"
   },
   {
    "duration": 2814,
    "start_time": "2021-08-31T07:39:26.627Z"
   },
   {
    "duration": 2580,
    "start_time": "2021-08-31T07:39:29.445Z"
   },
   {
    "duration": 102,
    "start_time": "2021-08-31T07:39:32.029Z"
   },
   {
    "duration": 83,
    "start_time": "2021-08-31T07:39:32.135Z"
   },
   {
    "duration": 28,
    "start_time": "2021-08-31T07:39:32.221Z"
   },
   {
    "duration": 68,
    "start_time": "2021-08-31T07:39:32.251Z"
   },
   {
    "duration": 9,
    "start_time": "2021-08-31T07:39:32.322Z"
   },
   {
    "duration": 79,
    "start_time": "2021-08-31T07:39:32.338Z"
   },
   {
    "duration": 12,
    "start_time": "2021-08-31T07:39:32.421Z"
   },
   {
    "duration": 93,
    "start_time": "2021-08-31T07:39:32.436Z"
   },
   {
    "duration": 4,
    "start_time": "2021-08-31T07:39:32.533Z"
   },
   {
    "duration": 177,
    "start_time": "2021-08-31T07:39:32.541Z"
   },
   {
    "duration": 25,
    "start_time": "2021-08-31T07:39:32.723Z"
   },
   {
    "duration": 76,
    "start_time": "2021-08-31T07:39:32.751Z"
   },
   {
    "duration": 12,
    "start_time": "2021-08-31T07:39:32.831Z"
   },
   {
    "duration": 70,
    "start_time": "2021-08-31T07:39:32.847Z"
   },
   {
    "duration": 30,
    "start_time": "2021-08-31T07:39:32.920Z"
   },
   {
    "duration": 766,
    "start_time": "2021-08-31T07:39:32.953Z"
   },
   {
    "duration": 419,
    "start_time": "2021-08-31T07:39:33.723Z"
   },
   {
    "duration": 100,
    "start_time": "2021-08-31T07:39:34.144Z"
   },
   {
    "duration": 7,
    "start_time": "2021-08-31T07:39:34.246Z"
   },
   {
    "duration": 3293,
    "start_time": "2021-08-31T07:39:34.255Z"
   },
   {
    "duration": 25,
    "start_time": "2021-08-31T07:39:37.624Z"
   },
   {
    "duration": 2890,
    "start_time": "2021-08-31T07:39:37.654Z"
   },
   {
    "duration": 2107,
    "start_time": "2021-08-31T07:39:40.546Z"
   },
   {
    "duration": 62,
    "start_time": "2021-08-31T07:39:42.656Z"
   },
   {
    "duration": 2298,
    "start_time": "2021-08-31T07:39:42.722Z"
   },
   {
    "duration": 2240,
    "start_time": "2021-08-31T07:39:45.023Z"
   },
   {
    "duration": 62,
    "start_time": "2021-08-31T07:39:47.265Z"
   },
   {
    "duration": 1889,
    "start_time": "2021-08-31T07:39:47.332Z"
   },
   {
    "duration": 1038,
    "start_time": "2021-08-31T07:39:49.224Z"
   },
   {
    "duration": 57,
    "start_time": "2021-08-31T07:39:50.265Z"
   },
   {
    "duration": 1496,
    "start_time": "2021-08-31T07:39:50.326Z"
   },
   {
    "duration": 1097,
    "start_time": "2021-08-31T07:39:51.825Z"
   },
   {
    "duration": 11,
    "start_time": "2021-08-31T07:39:52.926Z"
   },
   {
    "duration": 102,
    "start_time": "2021-08-31T07:39:52.940Z"
   },
   {
    "duration": 184,
    "start_time": "2021-08-31T07:39:53.044Z"
   },
   {
    "duration": 14,
    "start_time": "2021-08-31T07:39:53.232Z"
   },
   {
    "duration": 37606,
    "start_time": "2021-08-31T07:39:53.248Z"
   },
   {
    "duration": 15205,
    "start_time": "2021-08-31T07:40:30.857Z"
   },
   {
    "duration": 296176,
    "start_time": "2021-08-31T07:40:46.065Z"
   },
   {
    "duration": 151676,
    "start_time": "2021-08-31T07:45:42.244Z"
   },
   {
    "duration": 3603,
    "start_time": "2021-08-31T07:48:13.925Z"
   },
   {
    "duration": 24688,
    "start_time": "2021-08-31T07:48:17.531Z"
   },
   {
    "duration": 295,
    "start_time": "2021-08-31T10:49:51.897Z"
   },
   {
    "duration": 1213,
    "start_time": "2021-08-31T10:50:02.030Z"
   },
   {
    "duration": 964,
    "start_time": "2021-08-31T10:50:03.245Z"
   },
   {
    "duration": 6,
    "start_time": "2021-08-31T10:50:14.504Z"
   },
   {
    "duration": 102,
    "start_time": "2021-08-31T10:51:22.747Z"
   },
   {
    "duration": 4,
    "start_time": "2021-08-31T10:51:40.445Z"
   },
   {
    "duration": 1149,
    "start_time": "2021-08-31T10:51:40.454Z"
   },
   {
    "duration": 17,
    "start_time": "2021-08-31T10:51:41.605Z"
   },
   {
    "duration": 12,
    "start_time": "2021-08-31T10:51:41.624Z"
   },
   {
    "duration": 44,
    "start_time": "2021-08-31T10:51:41.638Z"
   },
   {
    "duration": 10,
    "start_time": "2021-08-31T10:51:41.684Z"
   },
   {
    "duration": 6,
    "start_time": "2021-08-31T10:51:41.696Z"
   },
   {
    "duration": 12,
    "start_time": "2021-08-31T10:51:41.704Z"
   },
   {
    "duration": 5,
    "start_time": "2021-08-31T10:51:41.719Z"
   },
   {
    "duration": 50,
    "start_time": "2021-08-31T10:51:41.727Z"
   },
   {
    "duration": 2,
    "start_time": "2021-08-31T10:51:41.779Z"
   },
   {
    "duration": 43,
    "start_time": "2021-08-31T10:51:41.783Z"
   },
   {
    "duration": 14,
    "start_time": "2021-08-31T10:51:41.828Z"
   },
   {
    "duration": 40,
    "start_time": "2021-08-31T10:51:41.843Z"
   },
   {
    "duration": 9,
    "start_time": "2021-08-31T10:51:41.885Z"
   },
   {
    "duration": 6,
    "start_time": "2021-08-31T10:51:41.896Z"
   },
   {
    "duration": 19,
    "start_time": "2021-08-31T10:51:41.904Z"
   },
   {
    "duration": 139,
    "start_time": "2021-08-31T10:51:41.925Z"
   },
   {
    "duration": 97,
    "start_time": "2021-08-31T10:51:42.066Z"
   },
   {
    "duration": 45,
    "start_time": "2021-08-31T10:51:42.165Z"
   },
   {
    "duration": 5,
    "start_time": "2021-08-31T10:51:42.212Z"
   },
   {
    "duration": 689,
    "start_time": "2021-08-31T10:51:42.219Z"
   },
   {
    "duration": 4,
    "start_time": "2021-08-31T10:51:42.910Z"
   },
   {
    "duration": 12,
    "start_time": "2021-08-31T10:51:42.917Z"
   },
   {
    "duration": 570,
    "start_time": "2021-08-31T10:51:42.931Z"
   },
   {
    "duration": 636,
    "start_time": "2021-08-31T10:51:43.502Z"
   },
   {
    "duration": 13,
    "start_time": "2021-08-31T10:51:44.140Z"
   },
   {
    "duration": 582,
    "start_time": "2021-08-31T10:51:44.155Z"
   },
   {
    "duration": 577,
    "start_time": "2021-08-31T10:51:44.739Z"
   },
   {
    "duration": 12,
    "start_time": "2021-08-31T10:51:45.319Z"
   },
   {
    "duration": 578,
    "start_time": "2021-08-31T10:51:45.332Z"
   },
   {
    "duration": 4,
    "start_time": "2021-08-31T10:52:49.688Z"
   },
   {
    "duration": 4,
    "start_time": "2021-08-31T10:54:26.027Z"
   },
   {
    "duration": 3,
    "start_time": "2021-08-31T10:54:33.881Z"
   },
   {
    "duration": 4,
    "start_time": "2021-08-31T10:54:44.472Z"
   },
   {
    "duration": 4,
    "start_time": "2021-08-31T10:55:02.900Z"
   },
   {
    "duration": 4,
    "start_time": "2021-08-31T10:55:08.225Z"
   },
   {
    "duration": 85,
    "start_time": "2021-08-31T10:55:51.752Z"
   },
   {
    "duration": 3,
    "start_time": "2021-08-31T10:56:14.068Z"
   },
   {
    "duration": 4,
    "start_time": "2021-08-31T10:56:23.350Z"
   },
   {
    "duration": 933,
    "start_time": "2021-08-31T10:56:23.360Z"
   },
   {
    "duration": 16,
    "start_time": "2021-08-31T10:56:24.295Z"
   },
   {
    "duration": 121,
    "start_time": "2021-08-31T10:56:24.314Z"
   },
   {
    "duration": 17,
    "start_time": "2021-08-31T10:56:24.438Z"
   },
   {
    "duration": 22,
    "start_time": "2021-08-31T10:56:24.456Z"
   },
   {
    "duration": 15,
    "start_time": "2021-08-31T10:56:24.480Z"
   },
   {
    "duration": 20,
    "start_time": "2021-08-31T10:56:24.496Z"
   },
   {
    "duration": 13,
    "start_time": "2021-08-31T10:56:24.519Z"
   },
   {
    "duration": 27,
    "start_time": "2021-08-31T10:56:24.534Z"
   },
   {
    "duration": 5,
    "start_time": "2021-08-31T10:56:24.563Z"
   },
   {
    "duration": 49,
    "start_time": "2021-08-31T10:56:24.570Z"
   },
   {
    "duration": 12,
    "start_time": "2021-08-31T10:56:24.621Z"
   },
   {
    "duration": 12,
    "start_time": "2021-08-31T10:56:24.635Z"
   },
   {
    "duration": 7,
    "start_time": "2021-08-31T10:56:24.649Z"
   },
   {
    "duration": 18,
    "start_time": "2021-08-31T10:56:24.658Z"
   },
   {
    "duration": 13,
    "start_time": "2021-08-31T10:56:24.679Z"
   },
   {
    "duration": 126,
    "start_time": "2021-08-31T10:56:24.694Z"
   },
   {
    "duration": 93,
    "start_time": "2021-08-31T10:56:24.822Z"
   },
   {
    "duration": 26,
    "start_time": "2021-08-31T10:56:24.917Z"
   },
   {
    "duration": 4,
    "start_time": "2021-08-31T10:56:24.945Z"
   },
   {
    "duration": 546,
    "start_time": "2021-08-31T10:56:24.951Z"
   },
   {
    "duration": 3,
    "start_time": "2021-08-31T10:56:25.500Z"
   },
   {
    "duration": 24,
    "start_time": "2021-08-31T10:56:25.507Z"
   },
   {
    "duration": 556,
    "start_time": "2021-08-31T10:56:25.533Z"
   },
   {
    "duration": 550,
    "start_time": "2021-08-31T10:56:26.091Z"
   },
   {
    "duration": 10,
    "start_time": "2021-08-31T10:56:26.643Z"
   },
   {
    "duration": 580,
    "start_time": "2021-08-31T10:56:26.654Z"
   },
   {
    "duration": 675,
    "start_time": "2021-08-31T10:56:27.236Z"
   },
   {
    "duration": 12,
    "start_time": "2021-08-31T10:56:27.913Z"
   },
   {
    "duration": 568,
    "start_time": "2021-08-31T10:56:27.927Z"
   },
   {
    "duration": 4,
    "start_time": "2021-08-31T10:56:28.498Z"
   },
   {
    "duration": 4,
    "start_time": "2021-08-31T10:56:33.321Z"
   },
   {
    "duration": 584,
    "start_time": "2021-08-31T11:00:56.959Z"
   },
   {
    "duration": 633,
    "start_time": "2021-08-31T11:01:06.955Z"
   },
   {
    "duration": 1768,
    "start_time": "2021-09-01T08:26:01.428Z"
   },
   {
    "duration": 991,
    "start_time": "2021-09-01T08:26:03.198Z"
   },
   {
    "duration": 26,
    "start_time": "2021-09-01T08:26:04.192Z"
   },
   {
    "duration": 18,
    "start_time": "2021-09-01T08:26:04.221Z"
   },
   {
    "duration": 28,
    "start_time": "2021-09-01T08:26:04.263Z"
   },
   {
    "duration": 6,
    "start_time": "2021-09-01T08:26:04.294Z"
   },
   {
    "duration": 43,
    "start_time": "2021-09-01T08:26:04.303Z"
   },
   {
    "duration": 18,
    "start_time": "2021-09-01T08:26:04.351Z"
   },
   {
    "duration": 18,
    "start_time": "2021-09-01T08:26:04.372Z"
   },
   {
    "duration": 49,
    "start_time": "2021-09-01T08:26:04.392Z"
   },
   {
    "duration": 3,
    "start_time": "2021-09-01T08:26:04.443Z"
   },
   {
    "duration": 80,
    "start_time": "2021-09-01T08:26:04.449Z"
   },
   {
    "duration": 15,
    "start_time": "2021-09-01T08:26:04.531Z"
   },
   {
    "duration": 14,
    "start_time": "2021-09-01T08:26:04.561Z"
   },
   {
    "duration": 17,
    "start_time": "2021-09-01T08:26:04.577Z"
   },
   {
    "duration": 12,
    "start_time": "2021-09-01T08:26:04.597Z"
   },
   {
    "duration": 44,
    "start_time": "2021-09-01T08:26:04.611Z"
   },
   {
    "duration": 145,
    "start_time": "2021-09-01T08:26:04.658Z"
   },
   {
    "duration": 182,
    "start_time": "2021-09-01T08:26:04.805Z"
   },
   {
    "duration": 37,
    "start_time": "2021-09-01T08:26:04.989Z"
   },
   {
    "duration": 6,
    "start_time": "2021-09-01T08:26:05.028Z"
   },
   {
    "duration": 866,
    "start_time": "2021-09-01T08:26:05.036Z"
   },
   {
    "duration": 3,
    "start_time": "2021-09-01T08:26:05.907Z"
   },
   {
    "duration": 16,
    "start_time": "2021-09-01T08:26:05.913Z"
   },
   {
    "duration": 890,
    "start_time": "2021-09-01T08:26:05.931Z"
   },
   {
    "duration": 809,
    "start_time": "2021-09-01T08:26:06.823Z"
   },
   {
    "duration": 10,
    "start_time": "2021-09-01T08:26:07.634Z"
   },
   {
    "duration": 834,
    "start_time": "2021-09-01T08:26:07.646Z"
   },
   {
    "duration": 842,
    "start_time": "2021-09-01T08:26:08.482Z"
   },
   {
    "duration": 10,
    "start_time": "2021-09-01T08:26:09.327Z"
   },
   {
    "duration": 916,
    "start_time": "2021-09-01T08:26:09.339Z"
   },
   {
    "duration": 5,
    "start_time": "2021-09-01T08:26:10.258Z"
   },
   {
    "duration": 1352,
    "start_time": "2021-09-01T08:26:10.265Z"
   },
   {
    "duration": 10,
    "start_time": "2021-09-01T08:26:11.619Z"
   },
   {
    "duration": 954,
    "start_time": "2021-09-01T08:26:11.631Z"
   },
   {
    "duration": 349,
    "start_time": "2021-09-01T08:26:12.588Z"
   },
   {
    "duration": 5,
    "start_time": "2021-09-01T08:26:12.940Z"
   },
   {
    "duration": 21,
    "start_time": "2021-09-01T08:26:12.962Z"
   },
   {
    "duration": 32,
    "start_time": "2021-09-01T08:26:12.986Z"
   },
   {
    "duration": 11,
    "start_time": "2021-09-01T08:26:13.020Z"
   },
   {
    "duration": 12599,
    "start_time": "2021-09-01T08:26:13.033Z"
   },
   {
    "duration": 5641,
    "start_time": "2021-09-01T08:26:25.635Z"
   },
   {
    "duration": 130387,
    "start_time": "2021-09-01T08:26:31.279Z"
   },
   {
    "duration": 60028,
    "start_time": "2021-09-01T08:28:41.668Z"
   },
   {
    "duration": 1130,
    "start_time": "2021-09-01T08:29:41.698Z"
   },
   {
    "duration": 9704,
    "start_time": "2021-09-01T08:29:42.831Z"
   },
   {
    "duration": 1543,
    "start_time": "2022-02-06T17:41:02.026Z"
   },
   {
    "duration": 1088,
    "start_time": "2022-02-06T17:41:03.571Z"
   },
   {
    "duration": 29,
    "start_time": "2022-02-06T17:41:04.662Z"
   },
   {
    "duration": 16,
    "start_time": "2022-02-06T17:41:04.693Z"
   },
   {
    "duration": 27,
    "start_time": "2022-02-06T17:41:04.711Z"
   },
   {
    "duration": 10,
    "start_time": "2022-02-06T17:41:04.769Z"
   },
   {
    "duration": 9,
    "start_time": "2022-02-06T17:41:04.781Z"
   },
   {
    "duration": 7,
    "start_time": "2022-02-06T17:41:04.793Z"
   },
   {
    "duration": 10,
    "start_time": "2022-02-06T17:41:04.803Z"
   },
   {
    "duration": 60,
    "start_time": "2022-02-06T17:41:04.816Z"
   },
   {
    "duration": 53,
    "start_time": "2022-02-06T17:41:04.878Z"
   },
   {
    "duration": 41,
    "start_time": "2022-02-06T17:41:04.934Z"
   },
   {
    "duration": 16,
    "start_time": "2022-02-06T17:41:04.978Z"
   },
   {
    "duration": 11,
    "start_time": "2022-02-06T17:41:04.997Z"
   },
   {
    "duration": 7,
    "start_time": "2022-02-06T17:41:05.010Z"
   },
   {
    "duration": 63,
    "start_time": "2022-02-06T17:41:05.020Z"
   },
   {
    "duration": 191,
    "start_time": "2022-02-06T17:41:05.086Z"
   },
   {
    "duration": 167,
    "start_time": "2022-02-06T17:41:05.279Z"
   },
   {
    "duration": 56,
    "start_time": "2022-02-06T17:41:05.448Z"
   },
   {
    "duration": 6,
    "start_time": "2022-02-06T17:41:05.506Z"
   },
   {
    "duration": 854,
    "start_time": "2022-02-06T17:41:05.515Z"
   },
   {
    "duration": 3,
    "start_time": "2022-02-06T17:41:06.371Z"
   },
   {
    "duration": 16,
    "start_time": "2022-02-06T17:41:06.379Z"
   },
   {
    "duration": 924,
    "start_time": "2022-02-06T17:41:06.398Z"
   },
   {
    "duration": 940,
    "start_time": "2022-02-06T17:41:07.324Z"
   },
   {
    "duration": 13,
    "start_time": "2022-02-06T17:41:08.270Z"
   },
   {
    "duration": 869,
    "start_time": "2022-02-06T17:41:08.285Z"
   },
   {
    "duration": 862,
    "start_time": "2022-02-06T17:41:09.156Z"
   },
   {
    "duration": 14,
    "start_time": "2022-02-06T17:41:10.020Z"
   },
   {
    "duration": 860,
    "start_time": "2022-02-06T17:41:10.037Z"
   },
   {
    "duration": 4,
    "start_time": "2022-02-06T17:41:10.901Z"
   },
   {
    "duration": 359,
    "start_time": "2022-02-06T17:41:10.907Z"
   },
   {
    "duration": 9,
    "start_time": "2022-02-06T17:41:11.269Z"
   },
   {
    "duration": 933,
    "start_time": "2022-02-06T17:41:11.280Z"
   },
   {
    "duration": 343,
    "start_time": "2022-02-06T17:41:12.216Z"
   },
   {
    "duration": 9,
    "start_time": "2022-02-06T17:41:12.561Z"
   },
   {
    "duration": 27,
    "start_time": "2022-02-06T17:41:12.572Z"
   },
   {
    "duration": 32,
    "start_time": "2022-02-06T17:41:12.602Z"
   },
   {
    "duration": 37,
    "start_time": "2022-02-06T17:41:12.636Z"
   },
   {
    "duration": 15560,
    "start_time": "2022-02-06T17:41:12.676Z"
   },
   {
    "duration": 6267,
    "start_time": "2022-02-06T17:41:28.239Z"
   },
   {
    "duration": 125217,
    "start_time": "2022-02-06T17:41:34.509Z"
   },
   {
    "duration": 64451,
    "start_time": "2022-02-06T17:43:39.728Z"
   },
   {
    "duration": 1610,
    "start_time": "2022-02-06T17:44:44.182Z"
   },
   {
    "duration": 11060,
    "start_time": "2022-02-06T17:44:45.795Z"
   }
  ],
  "kernelspec": {
   "display_name": "Python 3",
   "language": "python",
   "name": "python3"
  },
  "language_info": {
   "codemirror_mode": {
    "name": "ipython",
    "version": 3
   },
   "file_extension": ".py",
   "mimetype": "text/x-python",
   "name": "python",
   "nbconvert_exporter": "python",
   "pygments_lexer": "ipython3",
   "version": "3.7.8"
  },
  "toc": {
   "base_numbering": 1,
   "nav_menu": {},
   "number_sections": true,
   "sideBar": true,
   "skip_h1_title": true,
   "title_cell": "Содержание",
   "title_sidebar": "Contents",
   "toc_cell": true,
   "toc_position": {
    "height": "calc(100% - 180px)",
    "left": "10px",
    "top": "150px",
    "width": "214.2px"
   },
   "toc_section_display": true,
   "toc_window_display": true
  }
 },
 "nbformat": 4,
 "nbformat_minor": 2
}
