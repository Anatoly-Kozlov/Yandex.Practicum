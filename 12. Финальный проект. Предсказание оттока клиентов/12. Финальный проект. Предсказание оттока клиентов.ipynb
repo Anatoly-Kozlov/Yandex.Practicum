{
 "cells": [
  {
   "cell_type": "markdown",
   "id": "79a0c723",
   "metadata": {},
   "source": [
    "# Формулировка задачи"
   ]
  },
  {
   "cell_type": "markdown",
   "id": "3726e703",
   "metadata": {},
   "source": [
    "Оператор связи «Ниединогоразрыва.ком» хочет научиться прогнозировать отток клиентов. Если выяснится, что пользователь планирует уйти, ему будут предложены промокоды и специальные условия."
   ]
  },
  {
   "cell_type": "markdown",
   "id": "80d1979f",
   "metadata": {},
   "source": [
    "# Подготовка данных"
   ]
  },
  {
   "cell_type": "markdown",
   "id": "04c738e9",
   "metadata": {},
   "source": [
    "## Импорт библиотек"
   ]
  },
  {
   "cell_type": "code",
   "execution_count": 1,
   "id": "f0a6e3cb",
   "metadata": {},
   "outputs": [],
   "source": [
    "import pandas as pd\n",
    "import numpy as np\n",
    "import seaborn as sns\n",
    "import matplotlib.pyplot as plt\n",
    "import warnings\n",
    "warnings.filterwarnings(\"ignore\")\n",
    "from sklearn.model_selection import train_test_split, RandomizedSearchCV\n",
    "from sklearn.preprocessing import StandardScaler, LabelEncoder\n",
    "from sklearn.linear_model import LogisticRegression\n",
    "from sklearn.metrics import roc_auc_score, accuracy_score\n",
    "from lightgbm import LGBMClassifier\n",
    "from sklearn.ensemble import RandomForestClassifier\n",
    "from sklearn.utils import shuffle\n",
    "from sklearn.dummy import DummyClassifier\n",
    "from scipy import stats as st"
   ]
  },
  {
   "cell_type": "markdown",
   "id": "5a238ea1",
   "metadata": {},
   "source": [
    "## Загружаем данные"
   ]
  },
  {
   "cell_type": "code",
   "execution_count": 2,
   "id": "a8fd4f60",
   "metadata": {},
   "outputs": [],
   "source": [
    "try:\n",
    "    df_contract= pd.read_csv('C:\\\\Users\\\\user\\\\Yandex\\\\Final_project\\\\datasets\\\\contract.csv')\n",
    "    df_personal= pd.read_csv('C:\\\\Users\\\\user\\\\Yandex\\\\Final_project\\\\datasets\\\\personal.csv')\n",
    "    df_internet= pd.read_csv('C:\\\\Users\\\\user\\\\Yandex\\\\Final_project\\\\datasets\\\\internet.csv')\n",
    "    df_phone= pd.read_csv('C:\\\\Users\\\\user\\\\Yandex\\\\Final_project\\\\datasets\\\\phone.csv')\n",
    "except:\n",
    "    df_contract = pd.read_csv('/datasets/final_provider/contract.csv')\n",
    "    df_personal = pd.read_csv('/datasets/final_provider/personal.csv')\n",
    "    df_internet = pd.read_csv('/datasets/final_provider/internet.csv')\n",
    "    df_phone = pd.read_csv('/datasets/final_provider/phone.csv')"
   ]
  },
  {
   "cell_type": "markdown",
   "id": "a9b0c99a",
   "metadata": {},
   "source": [
    "### Договоры"
   ]
  },
  {
   "cell_type": "code",
   "execution_count": 3,
   "id": "c5fb7972",
   "metadata": {},
   "outputs": [
    {
     "data": {
      "text/html": [
       "<div>\n",
       "<style scoped>\n",
       "    .dataframe tbody tr th:only-of-type {\n",
       "        vertical-align: middle;\n",
       "    }\n",
       "\n",
       "    .dataframe tbody tr th {\n",
       "        vertical-align: top;\n",
       "    }\n",
       "\n",
       "    .dataframe thead th {\n",
       "        text-align: right;\n",
       "    }\n",
       "</style>\n",
       "<table border=\"1\" class=\"dataframe\">\n",
       "  <thead>\n",
       "    <tr style=\"text-align: right;\">\n",
       "      <th></th>\n",
       "      <th>customerID</th>\n",
       "      <th>BeginDate</th>\n",
       "      <th>EndDate</th>\n",
       "      <th>Type</th>\n",
       "      <th>PaperlessBilling</th>\n",
       "      <th>PaymentMethod</th>\n",
       "      <th>MonthlyCharges</th>\n",
       "      <th>TotalCharges</th>\n",
       "    </tr>\n",
       "  </thead>\n",
       "  <tbody>\n",
       "    <tr>\n",
       "      <td>0</td>\n",
       "      <td>7590-VHVEG</td>\n",
       "      <td>2020-01-01</td>\n",
       "      <td>No</td>\n",
       "      <td>Month-to-month</td>\n",
       "      <td>Yes</td>\n",
       "      <td>Electronic check</td>\n",
       "      <td>29.85</td>\n",
       "      <td>29.85</td>\n",
       "    </tr>\n",
       "    <tr>\n",
       "      <td>1</td>\n",
       "      <td>5575-GNVDE</td>\n",
       "      <td>2017-04-01</td>\n",
       "      <td>No</td>\n",
       "      <td>One year</td>\n",
       "      <td>No</td>\n",
       "      <td>Mailed check</td>\n",
       "      <td>56.95</td>\n",
       "      <td>1889.5</td>\n",
       "    </tr>\n",
       "  </tbody>\n",
       "</table>\n",
       "</div>"
      ],
      "text/plain": [
       "   customerID   BeginDate EndDate            Type PaperlessBilling  \\\n",
       "0  7590-VHVEG  2020-01-01      No  Month-to-month              Yes   \n",
       "1  5575-GNVDE  2017-04-01      No        One year               No   \n",
       "\n",
       "      PaymentMethod  MonthlyCharges TotalCharges  \n",
       "0  Electronic check           29.85        29.85  \n",
       "1      Mailed check           56.95       1889.5  "
      ]
     },
     "execution_count": 3,
     "metadata": {},
     "output_type": "execute_result"
    }
   ],
   "source": [
    "df_contract.head(2)"
   ]
  },
  {
   "cell_type": "code",
   "execution_count": 4,
   "id": "340c4054",
   "metadata": {},
   "outputs": [
    {
     "name": "stdout",
     "output_type": "stream",
     "text": [
      "<class 'pandas.core.frame.DataFrame'>\n",
      "RangeIndex: 7043 entries, 0 to 7042\n",
      "Data columns (total 8 columns):\n",
      "customerID          7043 non-null object\n",
      "BeginDate           7043 non-null object\n",
      "EndDate             7043 non-null object\n",
      "Type                7043 non-null object\n",
      "PaperlessBilling    7043 non-null object\n",
      "PaymentMethod       7043 non-null object\n",
      "MonthlyCharges      7043 non-null float64\n",
      "TotalCharges        7043 non-null object\n",
      "dtypes: float64(1), object(7)\n",
      "memory usage: 440.3+ KB\n"
     ]
    }
   ],
   "source": [
    "df_contract.info()"
   ]
  },
  {
   "cell_type": "code",
   "execution_count": 5,
   "id": "1ec70c43",
   "metadata": {},
   "outputs": [
    {
     "data": {
      "text/plain": [
       "7043"
      ]
     },
     "execution_count": 5,
     "metadata": {},
     "output_type": "execute_result"
    }
   ],
   "source": [
    "len(df_contract['customerID'].unique())"
   ]
  },
  {
   "cell_type": "markdown",
   "id": "3af30ed2",
   "metadata": {},
   "source": [
    "### Персональные данные клиента"
   ]
  },
  {
   "cell_type": "code",
   "execution_count": 6,
   "id": "49219f37",
   "metadata": {},
   "outputs": [
    {
     "data": {
      "text/html": [
       "<div>\n",
       "<style scoped>\n",
       "    .dataframe tbody tr th:only-of-type {\n",
       "        vertical-align: middle;\n",
       "    }\n",
       "\n",
       "    .dataframe tbody tr th {\n",
       "        vertical-align: top;\n",
       "    }\n",
       "\n",
       "    .dataframe thead th {\n",
       "        text-align: right;\n",
       "    }\n",
       "</style>\n",
       "<table border=\"1\" class=\"dataframe\">\n",
       "  <thead>\n",
       "    <tr style=\"text-align: right;\">\n",
       "      <th></th>\n",
       "      <th>customerID</th>\n",
       "      <th>gender</th>\n",
       "      <th>SeniorCitizen</th>\n",
       "      <th>Partner</th>\n",
       "      <th>Dependents</th>\n",
       "    </tr>\n",
       "  </thead>\n",
       "  <tbody>\n",
       "    <tr>\n",
       "      <td>0</td>\n",
       "      <td>7590-VHVEG</td>\n",
       "      <td>Female</td>\n",
       "      <td>0</td>\n",
       "      <td>Yes</td>\n",
       "      <td>No</td>\n",
       "    </tr>\n",
       "    <tr>\n",
       "      <td>1</td>\n",
       "      <td>5575-GNVDE</td>\n",
       "      <td>Male</td>\n",
       "      <td>0</td>\n",
       "      <td>No</td>\n",
       "      <td>No</td>\n",
       "    </tr>\n",
       "  </tbody>\n",
       "</table>\n",
       "</div>"
      ],
      "text/plain": [
       "   customerID  gender  SeniorCitizen Partner Dependents\n",
       "0  7590-VHVEG  Female              0     Yes         No\n",
       "1  5575-GNVDE    Male              0      No         No"
      ]
     },
     "execution_count": 6,
     "metadata": {},
     "output_type": "execute_result"
    }
   ],
   "source": [
    "df_personal.head(2)"
   ]
  },
  {
   "cell_type": "code",
   "execution_count": 7,
   "id": "e2672519",
   "metadata": {},
   "outputs": [
    {
     "name": "stdout",
     "output_type": "stream",
     "text": [
      "<class 'pandas.core.frame.DataFrame'>\n",
      "RangeIndex: 7043 entries, 0 to 7042\n",
      "Data columns (total 5 columns):\n",
      "customerID       7043 non-null object\n",
      "gender           7043 non-null object\n",
      "SeniorCitizen    7043 non-null int64\n",
      "Partner          7043 non-null object\n",
      "Dependents       7043 non-null object\n",
      "dtypes: int64(1), object(4)\n",
      "memory usage: 275.2+ KB\n"
     ]
    }
   ],
   "source": [
    "df_personal.info()"
   ]
  },
  {
   "cell_type": "code",
   "execution_count": 8,
   "id": "5571367c",
   "metadata": {},
   "outputs": [
    {
     "data": {
      "text/plain": [
       "7043"
      ]
     },
     "execution_count": 8,
     "metadata": {},
     "output_type": "execute_result"
    }
   ],
   "source": [
    "len(df_personal['customerID'].unique())"
   ]
  },
  {
   "cell_type": "markdown",
   "id": "5642d22b",
   "metadata": {},
   "source": [
    "### Интернет-услуги"
   ]
  },
  {
   "cell_type": "code",
   "execution_count": 9,
   "id": "ed348960",
   "metadata": {
    "scrolled": true
   },
   "outputs": [
    {
     "data": {
      "text/html": [
       "<div>\n",
       "<style scoped>\n",
       "    .dataframe tbody tr th:only-of-type {\n",
       "        vertical-align: middle;\n",
       "    }\n",
       "\n",
       "    .dataframe tbody tr th {\n",
       "        vertical-align: top;\n",
       "    }\n",
       "\n",
       "    .dataframe thead th {\n",
       "        text-align: right;\n",
       "    }\n",
       "</style>\n",
       "<table border=\"1\" class=\"dataframe\">\n",
       "  <thead>\n",
       "    <tr style=\"text-align: right;\">\n",
       "      <th></th>\n",
       "      <th>customerID</th>\n",
       "      <th>InternetService</th>\n",
       "      <th>OnlineSecurity</th>\n",
       "      <th>OnlineBackup</th>\n",
       "      <th>DeviceProtection</th>\n",
       "      <th>TechSupport</th>\n",
       "      <th>StreamingTV</th>\n",
       "      <th>StreamingMovies</th>\n",
       "    </tr>\n",
       "  </thead>\n",
       "  <tbody>\n",
       "    <tr>\n",
       "      <td>0</td>\n",
       "      <td>7590-VHVEG</td>\n",
       "      <td>DSL</td>\n",
       "      <td>No</td>\n",
       "      <td>Yes</td>\n",
       "      <td>No</td>\n",
       "      <td>No</td>\n",
       "      <td>No</td>\n",
       "      <td>No</td>\n",
       "    </tr>\n",
       "    <tr>\n",
       "      <td>1</td>\n",
       "      <td>5575-GNVDE</td>\n",
       "      <td>DSL</td>\n",
       "      <td>Yes</td>\n",
       "      <td>No</td>\n",
       "      <td>Yes</td>\n",
       "      <td>No</td>\n",
       "      <td>No</td>\n",
       "      <td>No</td>\n",
       "    </tr>\n",
       "  </tbody>\n",
       "</table>\n",
       "</div>"
      ],
      "text/plain": [
       "   customerID InternetService OnlineSecurity OnlineBackup DeviceProtection  \\\n",
       "0  7590-VHVEG             DSL             No          Yes               No   \n",
       "1  5575-GNVDE             DSL            Yes           No              Yes   \n",
       "\n",
       "  TechSupport StreamingTV StreamingMovies  \n",
       "0          No          No              No  \n",
       "1          No          No              No  "
      ]
     },
     "execution_count": 9,
     "metadata": {},
     "output_type": "execute_result"
    }
   ],
   "source": [
    "df_internet.head(2)"
   ]
  },
  {
   "cell_type": "code",
   "execution_count": 10,
   "id": "22ca9e27",
   "metadata": {},
   "outputs": [
    {
     "name": "stdout",
     "output_type": "stream",
     "text": [
      "<class 'pandas.core.frame.DataFrame'>\n",
      "RangeIndex: 5517 entries, 0 to 5516\n",
      "Data columns (total 8 columns):\n",
      "customerID          5517 non-null object\n",
      "InternetService     5517 non-null object\n",
      "OnlineSecurity      5517 non-null object\n",
      "OnlineBackup        5517 non-null object\n",
      "DeviceProtection    5517 non-null object\n",
      "TechSupport         5517 non-null object\n",
      "StreamingTV         5517 non-null object\n",
      "StreamingMovies     5517 non-null object\n",
      "dtypes: object(8)\n",
      "memory usage: 344.9+ KB\n"
     ]
    }
   ],
   "source": [
    "df_internet.info()"
   ]
  },
  {
   "cell_type": "code",
   "execution_count": 11,
   "id": "76dae75d",
   "metadata": {},
   "outputs": [
    {
     "data": {
      "text/plain": [
       "5517"
      ]
     },
     "execution_count": 11,
     "metadata": {},
     "output_type": "execute_result"
    }
   ],
   "source": [
    "len(df_internet['customerID'].unique())"
   ]
  },
  {
   "cell_type": "markdown",
   "id": "09a5ee97",
   "metadata": {},
   "source": [
    "### Телефония"
   ]
  },
  {
   "cell_type": "code",
   "execution_count": 12,
   "id": "c3040878",
   "metadata": {},
   "outputs": [
    {
     "data": {
      "text/html": [
       "<div>\n",
       "<style scoped>\n",
       "    .dataframe tbody tr th:only-of-type {\n",
       "        vertical-align: middle;\n",
       "    }\n",
       "\n",
       "    .dataframe tbody tr th {\n",
       "        vertical-align: top;\n",
       "    }\n",
       "\n",
       "    .dataframe thead th {\n",
       "        text-align: right;\n",
       "    }\n",
       "</style>\n",
       "<table border=\"1\" class=\"dataframe\">\n",
       "  <thead>\n",
       "    <tr style=\"text-align: right;\">\n",
       "      <th></th>\n",
       "      <th>customerID</th>\n",
       "      <th>MultipleLines</th>\n",
       "    </tr>\n",
       "  </thead>\n",
       "  <tbody>\n",
       "    <tr>\n",
       "      <td>0</td>\n",
       "      <td>5575-GNVDE</td>\n",
       "      <td>No</td>\n",
       "    </tr>\n",
       "    <tr>\n",
       "      <td>1</td>\n",
       "      <td>3668-QPYBK</td>\n",
       "      <td>No</td>\n",
       "    </tr>\n",
       "  </tbody>\n",
       "</table>\n",
       "</div>"
      ],
      "text/plain": [
       "   customerID MultipleLines\n",
       "0  5575-GNVDE            No\n",
       "1  3668-QPYBK            No"
      ]
     },
     "execution_count": 12,
     "metadata": {},
     "output_type": "execute_result"
    }
   ],
   "source": [
    "df_phone.head(2)"
   ]
  },
  {
   "cell_type": "code",
   "execution_count": 13,
   "id": "b819052a",
   "metadata": {
    "scrolled": true
   },
   "outputs": [
    {
     "name": "stdout",
     "output_type": "stream",
     "text": [
      "<class 'pandas.core.frame.DataFrame'>\n",
      "RangeIndex: 6361 entries, 0 to 6360\n",
      "Data columns (total 2 columns):\n",
      "customerID       6361 non-null object\n",
      "MultipleLines    6361 non-null object\n",
      "dtypes: object(2)\n",
      "memory usage: 99.5+ KB\n"
     ]
    }
   ],
   "source": [
    "df_phone.info()"
   ]
  },
  {
   "cell_type": "code",
   "execution_count": 14,
   "id": "fab69279",
   "metadata": {},
   "outputs": [
    {
     "data": {
      "text/plain": [
       "6361"
      ]
     },
     "execution_count": 14,
     "metadata": {},
     "output_type": "execute_result"
    }
   ],
   "source": [
    "len(df_phone['customerID'].unique())"
   ]
  },
  {
   "cell_type": "markdown",
   "id": "a7a4aa07",
   "metadata": {},
   "source": [
    "### Вывод"
   ]
  },
  {
   "cell_type": "markdown",
   "id": "dc2c99b8",
   "metadata": {},
   "source": [
    "1. Во всех датасетах customerID содержит уникальный код клиента. Дубликатов внутри каждого датасета по этому полю нет.  Можем сцепить таблицу в одну по customerID.\n",
    "2. В таблицах есть колонки, которые содержат значения yes/no , можем перевести их в бинарный вид(значения 1 и 0).\n",
    "3. BeginDate надо перевести в формат даты.\n",
    "4. EndDate будет нашим target. Если даты нет, то клиент действующий.\n",
    "5. Вместо BeginDate и EndDate можем оставить колонку с информацией о том, сколько уже дней клиент с нами сотрудничает. Если EndDate отсутствует, то присвоим ему значение с датой актуальности датасета (1 февраля 2020)\n",
    "6. TotalCharges имеет тип object, хотя должен быть числовой. Надо найти нечисловые значения и разобраться с чем это может быть связано.\n",
    "7. Больше всего строк в датасетах df_contract и df_personal. Это говорит о том, что есть клиенты, которые пользуются только одним продуктом (телефония или интернет)."
   ]
  },
  {
   "cell_type": "markdown",
   "id": "71f52595",
   "metadata": {},
   "source": [
    "## Предобработка данных"
   ]
  },
  {
   "cell_type": "markdown",
   "id": "3f415a21",
   "metadata": {},
   "source": [
    "### Объединение датафреймов"
   ]
  },
  {
   "cell_type": "code",
   "execution_count": 15,
   "id": "42688d5c",
   "metadata": {},
   "outputs": [],
   "source": [
    "df = df_contract.merge(df_personal, on = 'customerID')\n",
    "df = df.merge(df_internet, on = 'customerID',how='left')\n",
    "df = df.merge(df_phone, on = 'customerID',how='left')"
   ]
  },
  {
   "cell_type": "code",
   "execution_count": 16,
   "id": "018a7240",
   "metadata": {},
   "outputs": [
    {
     "name": "stdout",
     "output_type": "stream",
     "text": [
      "<class 'pandas.core.frame.DataFrame'>\n",
      "Int64Index: 7043 entries, 0 to 7042\n",
      "Data columns (total 20 columns):\n",
      "customerID          7043 non-null object\n",
      "BeginDate           7043 non-null object\n",
      "EndDate             7043 non-null object\n",
      "Type                7043 non-null object\n",
      "PaperlessBilling    7043 non-null object\n",
      "PaymentMethod       7043 non-null object\n",
      "MonthlyCharges      7043 non-null float64\n",
      "TotalCharges        7043 non-null object\n",
      "gender              7043 non-null object\n",
      "SeniorCitizen       7043 non-null int64\n",
      "Partner             7043 non-null object\n",
      "Dependents          7043 non-null object\n",
      "InternetService     5517 non-null object\n",
      "OnlineSecurity      5517 non-null object\n",
      "OnlineBackup        5517 non-null object\n",
      "DeviceProtection    5517 non-null object\n",
      "TechSupport         5517 non-null object\n",
      "StreamingTV         5517 non-null object\n",
      "StreamingMovies     5517 non-null object\n",
      "MultipleLines       6361 non-null object\n",
      "dtypes: float64(1), int64(1), object(18)\n",
      "memory usage: 1.1+ MB\n"
     ]
    }
   ],
   "source": [
    "df.info()"
   ]
  },
  {
   "cell_type": "markdown",
   "id": "977531cd",
   "metadata": {},
   "source": [
    "### Работа с пропусками"
   ]
  },
  {
   "cell_type": "markdown",
   "id": "c552124a",
   "metadata": {},
   "source": [
    "Во всех колонках кроме MultipleLines заполним пропуски значением 'No'. В MultipleLines значение 'No' означает, что клиент пользуется телефоном, но не использует доп услугу многоканальной линии. Поэтому в MultipleLines заменим пропуски на 'No phone' "
   ]
  },
  {
   "cell_type": "code",
   "execution_count": 17,
   "id": "27bf25ac",
   "metadata": {},
   "outputs": [],
   "source": [
    "df.MultipleLines.fillna('No phone', inplace = True)\n",
    "df.fillna('No',inplace = True)"
   ]
  },
  {
   "cell_type": "code",
   "execution_count": 18,
   "id": "e6155eea",
   "metadata": {},
   "outputs": [
    {
     "name": "stdout",
     "output_type": "stream",
     "text": [
      "<class 'pandas.core.frame.DataFrame'>\n",
      "Int64Index: 7043 entries, 0 to 7042\n",
      "Data columns (total 20 columns):\n",
      "customerID          7043 non-null object\n",
      "BeginDate           7043 non-null object\n",
      "EndDate             7043 non-null object\n",
      "Type                7043 non-null object\n",
      "PaperlessBilling    7043 non-null object\n",
      "PaymentMethod       7043 non-null object\n",
      "MonthlyCharges      7043 non-null float64\n",
      "TotalCharges        7043 non-null object\n",
      "gender              7043 non-null object\n",
      "SeniorCitizen       7043 non-null int64\n",
      "Partner             7043 non-null object\n",
      "Dependents          7043 non-null object\n",
      "InternetService     7043 non-null object\n",
      "OnlineSecurity      7043 non-null object\n",
      "OnlineBackup        7043 non-null object\n",
      "DeviceProtection    7043 non-null object\n",
      "TechSupport         7043 non-null object\n",
      "StreamingTV         7043 non-null object\n",
      "StreamingMovies     7043 non-null object\n",
      "MultipleLines       7043 non-null object\n",
      "dtypes: float64(1), int64(1), object(18)\n",
      "memory usage: 1.1+ MB\n"
     ]
    }
   ],
   "source": [
    "df.info()"
   ]
  },
  {
   "cell_type": "markdown",
   "id": "e38a05cb",
   "metadata": {},
   "source": [
    "Посмотрим как выглядят записи, из-за которых TotalCharges имеет тип object"
   ]
  },
  {
   "cell_type": "code",
   "execution_count": 19,
   "id": "b6480b91",
   "metadata": {},
   "outputs": [
    {
     "data": {
      "text/html": [
       "<div>\n",
       "<style scoped>\n",
       "    .dataframe tbody tr th:only-of-type {\n",
       "        vertical-align: middle;\n",
       "    }\n",
       "\n",
       "    .dataframe tbody tr th {\n",
       "        vertical-align: top;\n",
       "    }\n",
       "\n",
       "    .dataframe thead th {\n",
       "        text-align: right;\n",
       "    }\n",
       "</style>\n",
       "<table border=\"1\" class=\"dataframe\">\n",
       "  <thead>\n",
       "    <tr style=\"text-align: right;\">\n",
       "      <th></th>\n",
       "      <th>customerID</th>\n",
       "      <th>BeginDate</th>\n",
       "      <th>EndDate</th>\n",
       "      <th>Type</th>\n",
       "      <th>PaperlessBilling</th>\n",
       "      <th>PaymentMethod</th>\n",
       "      <th>MonthlyCharges</th>\n",
       "      <th>TotalCharges</th>\n",
       "      <th>gender</th>\n",
       "      <th>SeniorCitizen</th>\n",
       "      <th>Partner</th>\n",
       "      <th>Dependents</th>\n",
       "      <th>InternetService</th>\n",
       "      <th>OnlineSecurity</th>\n",
       "      <th>OnlineBackup</th>\n",
       "      <th>DeviceProtection</th>\n",
       "      <th>TechSupport</th>\n",
       "      <th>StreamingTV</th>\n",
       "      <th>StreamingMovies</th>\n",
       "      <th>MultipleLines</th>\n",
       "    </tr>\n",
       "  </thead>\n",
       "  <tbody>\n",
       "    <tr>\n",
       "      <td>488</td>\n",
       "      <td>4472-LVYGI</td>\n",
       "      <td>2020-02-01</td>\n",
       "      <td>No</td>\n",
       "      <td>Two year</td>\n",
       "      <td>Yes</td>\n",
       "      <td>Bank transfer (automatic)</td>\n",
       "      <td>52.55</td>\n",
       "      <td></td>\n",
       "      <td>Female</td>\n",
       "      <td>0</td>\n",
       "      <td>Yes</td>\n",
       "      <td>Yes</td>\n",
       "      <td>DSL</td>\n",
       "      <td>Yes</td>\n",
       "      <td>No</td>\n",
       "      <td>Yes</td>\n",
       "      <td>Yes</td>\n",
       "      <td>Yes</td>\n",
       "      <td>No</td>\n",
       "      <td>No phone</td>\n",
       "    </tr>\n",
       "    <tr>\n",
       "      <td>753</td>\n",
       "      <td>3115-CZMZD</td>\n",
       "      <td>2020-02-01</td>\n",
       "      <td>No</td>\n",
       "      <td>Two year</td>\n",
       "      <td>No</td>\n",
       "      <td>Mailed check</td>\n",
       "      <td>20.25</td>\n",
       "      <td></td>\n",
       "      <td>Male</td>\n",
       "      <td>0</td>\n",
       "      <td>No</td>\n",
       "      <td>Yes</td>\n",
       "      <td>No</td>\n",
       "      <td>No</td>\n",
       "      <td>No</td>\n",
       "      <td>No</td>\n",
       "      <td>No</td>\n",
       "      <td>No</td>\n",
       "      <td>No</td>\n",
       "      <td>No</td>\n",
       "    </tr>\n",
       "    <tr>\n",
       "      <td>936</td>\n",
       "      <td>5709-LVOEQ</td>\n",
       "      <td>2020-02-01</td>\n",
       "      <td>No</td>\n",
       "      <td>Two year</td>\n",
       "      <td>No</td>\n",
       "      <td>Mailed check</td>\n",
       "      <td>80.85</td>\n",
       "      <td></td>\n",
       "      <td>Female</td>\n",
       "      <td>0</td>\n",
       "      <td>Yes</td>\n",
       "      <td>Yes</td>\n",
       "      <td>DSL</td>\n",
       "      <td>Yes</td>\n",
       "      <td>Yes</td>\n",
       "      <td>Yes</td>\n",
       "      <td>No</td>\n",
       "      <td>Yes</td>\n",
       "      <td>Yes</td>\n",
       "      <td>No</td>\n",
       "    </tr>\n",
       "    <tr>\n",
       "      <td>1082</td>\n",
       "      <td>4367-NUYAO</td>\n",
       "      <td>2020-02-01</td>\n",
       "      <td>No</td>\n",
       "      <td>Two year</td>\n",
       "      <td>No</td>\n",
       "      <td>Mailed check</td>\n",
       "      <td>25.75</td>\n",
       "      <td></td>\n",
       "      <td>Male</td>\n",
       "      <td>0</td>\n",
       "      <td>Yes</td>\n",
       "      <td>Yes</td>\n",
       "      <td>No</td>\n",
       "      <td>No</td>\n",
       "      <td>No</td>\n",
       "      <td>No</td>\n",
       "      <td>No</td>\n",
       "      <td>No</td>\n",
       "      <td>No</td>\n",
       "      <td>Yes</td>\n",
       "    </tr>\n",
       "    <tr>\n",
       "      <td>1340</td>\n",
       "      <td>1371-DWPAZ</td>\n",
       "      <td>2020-02-01</td>\n",
       "      <td>No</td>\n",
       "      <td>Two year</td>\n",
       "      <td>No</td>\n",
       "      <td>Credit card (automatic)</td>\n",
       "      <td>56.05</td>\n",
       "      <td></td>\n",
       "      <td>Female</td>\n",
       "      <td>0</td>\n",
       "      <td>Yes</td>\n",
       "      <td>Yes</td>\n",
       "      <td>DSL</td>\n",
       "      <td>Yes</td>\n",
       "      <td>Yes</td>\n",
       "      <td>Yes</td>\n",
       "      <td>Yes</td>\n",
       "      <td>Yes</td>\n",
       "      <td>No</td>\n",
       "      <td>No phone</td>\n",
       "    </tr>\n",
       "  </tbody>\n",
       "</table>\n",
       "</div>"
      ],
      "text/plain": [
       "      customerID   BeginDate EndDate      Type PaperlessBilling  \\\n",
       "488   4472-LVYGI  2020-02-01      No  Two year              Yes   \n",
       "753   3115-CZMZD  2020-02-01      No  Two year               No   \n",
       "936   5709-LVOEQ  2020-02-01      No  Two year               No   \n",
       "1082  4367-NUYAO  2020-02-01      No  Two year               No   \n",
       "1340  1371-DWPAZ  2020-02-01      No  Two year               No   \n",
       "\n",
       "                  PaymentMethod  MonthlyCharges TotalCharges  gender  \\\n",
       "488   Bank transfer (automatic)           52.55               Female   \n",
       "753                Mailed check           20.25                 Male   \n",
       "936                Mailed check           80.85               Female   \n",
       "1082               Mailed check           25.75                 Male   \n",
       "1340    Credit card (automatic)           56.05               Female   \n",
       "\n",
       "      SeniorCitizen Partner Dependents InternetService OnlineSecurity  \\\n",
       "488               0     Yes        Yes             DSL            Yes   \n",
       "753               0      No        Yes              No             No   \n",
       "936               0     Yes        Yes             DSL            Yes   \n",
       "1082              0     Yes        Yes              No             No   \n",
       "1340              0     Yes        Yes             DSL            Yes   \n",
       "\n",
       "     OnlineBackup DeviceProtection TechSupport StreamingTV StreamingMovies  \\\n",
       "488            No              Yes         Yes         Yes              No   \n",
       "753            No               No          No          No              No   \n",
       "936           Yes              Yes          No         Yes             Yes   \n",
       "1082           No               No          No          No              No   \n",
       "1340          Yes              Yes         Yes         Yes              No   \n",
       "\n",
       "     MultipleLines  \n",
       "488       No phone  \n",
       "753             No  \n",
       "936             No  \n",
       "1082           Yes  \n",
       "1340      No phone  "
      ]
     },
     "execution_count": 19,
     "metadata": {},
     "output_type": "execute_result"
    }
   ],
   "source": [
    "df[pd.to_numeric(df['TotalCharges'], errors='coerce').isna()].head()"
   ]
  },
  {
   "cell_type": "code",
   "execution_count": 20,
   "id": "7fbba016",
   "metadata": {},
   "outputs": [
    {
     "data": {
      "text/plain": [
       "array(['2020-02-01'], dtype=object)"
      ]
     },
     "execution_count": 20,
     "metadata": {},
     "output_type": "execute_result"
    }
   ],
   "source": [
    "df[pd.to_numeric(df['TotalCharges'], errors='coerce').isna()].BeginDate.unique()"
   ]
  },
  {
   "cell_type": "markdown",
   "id": "dfb54df6",
   "metadata": {},
   "source": [
    "TotalCharges имеет пустые записи для договоров , которые открыты 2020-02-01 (дата актуальности выборки). Это только что заключенные договоры и для целй нашей задачи они не информативны. Удалим их."
   ]
  },
  {
   "cell_type": "code",
   "execution_count": 21,
   "id": "fb698cfe",
   "metadata": {},
   "outputs": [],
   "source": [
    "df['TotalCharges'] = pd.to_numeric(df['TotalCharges'], errors='coerce')\n",
    "df.dropna(inplace = True)"
   ]
  },
  {
   "cell_type": "markdown",
   "id": "b27571ac",
   "metadata": {},
   "source": [
    "### Добавление столбца ContractClosed"
   ]
  },
  {
   "cell_type": "markdown",
   "id": "f96850d5",
   "metadata": {},
   "source": [
    "Посмотрим какие уникальные значения принимают колонки."
   ]
  },
  {
   "cell_type": "code",
   "execution_count": 22,
   "id": "71f143eb",
   "metadata": {},
   "outputs": [
    {
     "name": "stdout",
     "output_type": "stream",
     "text": [
      "customerID ['7590-VHVEG' '5575-GNVDE' '3668-QPYBK' ... '4801-JZAZL' '8361-LTMKD'\n",
      " '3186-AJIEK']\n",
      "BeginDate ['2020-01-01' '2017-04-01' '2019-10-01' '2016-05-01' '2019-09-01'\n",
      " '2019-03-01' '2018-04-01' '2019-04-01' '2017-07-01' '2014-12-01'\n",
      " '2019-01-01' '2018-10-01' '2015-04-01' '2015-09-01' '2018-01-01'\n",
      " '2014-05-01' '2015-10-01' '2014-03-01' '2018-05-01' '2019-11-01'\n",
      " '2019-02-01' '2016-01-01' '2017-08-01' '2015-12-01' '2014-02-01'\n",
      " '2018-06-01' '2019-12-01' '2017-11-01' '2019-06-01' '2016-04-01'\n",
      " '2017-02-01' '2018-12-01' '2014-04-01' '2018-09-01' '2014-11-01'\n",
      " '2016-07-01' '2015-02-01' '2018-07-01' '2014-08-01' '2016-03-01'\n",
      " '2018-08-01' '2014-10-01' '2015-06-01' '2016-08-01' '2019-05-01'\n",
      " '2017-03-01' '2016-02-01' '2017-09-01' '2014-09-01' '2017-12-01'\n",
      " '2016-12-01' '2017-06-01' '2015-05-01' '2016-10-01' '2016-09-01'\n",
      " '2019-08-01' '2019-07-01' '2017-05-01' '2017-10-01' '2014-07-01'\n",
      " '2018-03-01' '2015-01-01' '2018-11-01' '2015-03-01' '2018-02-01'\n",
      " '2016-06-01' '2015-08-01' '2015-11-01' '2014-06-01' '2017-01-01'\n",
      " '2015-07-01' '2016-11-01' '2013-11-01' '2014-01-01' '2013-10-01'\n",
      " '2013-12-01']\n",
      "EndDate ['No' '2019-12-01 00:00:00' '2019-11-01 00:00:00' '2019-10-01 00:00:00'\n",
      " '2020-01-01 00:00:00']\n",
      "Type ['Month-to-month' 'One year' 'Two year']\n",
      "PaperlessBilling ['Yes' 'No']\n",
      "PaymentMethod ['Electronic check' 'Mailed check' 'Bank transfer (automatic)'\n",
      " 'Credit card (automatic)']\n",
      "MonthlyCharges [29.85 56.95 53.85 ... 63.1  44.2  78.7 ]\n",
      "TotalCharges [  29.85 1889.5   108.15 ...  346.45  306.6  6844.5 ]\n",
      "gender ['Female' 'Male']\n",
      "SeniorCitizen [0 1]\n",
      "Partner ['Yes' 'No']\n",
      "Dependents ['No' 'Yes']\n",
      "InternetService ['DSL' 'Fiber optic' 'No']\n",
      "OnlineSecurity ['No' 'Yes']\n",
      "OnlineBackup ['Yes' 'No']\n",
      "DeviceProtection ['No' 'Yes']\n",
      "TechSupport ['No' 'Yes']\n",
      "StreamingTV ['No' 'Yes']\n",
      "StreamingMovies ['No' 'Yes']\n",
      "MultipleLines ['No phone' 'No' 'Yes']\n"
     ]
    }
   ],
   "source": [
    "for col in df:\n",
    "    print(col, df[col].unique())"
   ]
  },
  {
   "cell_type": "markdown",
   "id": "512cdecf",
   "metadata": {},
   "source": [
    "Добавим столбец ContractClosed, в нем будет содержаться информация закрыт контракт или нет. "
   ]
  },
  {
   "cell_type": "code",
   "execution_count": 23,
   "id": "686425c2",
   "metadata": {},
   "outputs": [],
   "source": [
    "df['ContractClosed'] = (df['EndDate'] != 'No')*1"
   ]
  },
  {
   "cell_type": "markdown",
   "id": "e99ce7a0",
   "metadata": {},
   "source": [
    "### Добавление столбца ContractTerm"
   ]
  },
  {
   "cell_type": "markdown",
   "id": "638235cc",
   "metadata": {},
   "source": [
    "Добавим столбец ContractTerm , в котором будет считаться длина конракта. Для этого сначала "
   ]
  },
  {
   "cell_type": "code",
   "execution_count": 24,
   "id": "20f4eeea",
   "metadata": {},
   "outputs": [],
   "source": [
    "df.loc[df['EndDate'] == 'No', 'EndDate'] = '2020-02-01'"
   ]
  },
  {
   "cell_type": "code",
   "execution_count": 25,
   "id": "6c1ab34a",
   "metadata": {},
   "outputs": [],
   "source": [
    "df['EndDate'] = pd.to_datetime(\n",
    "    df['EndDate'], format='%Y-%m-%dT')\n",
    "df['BeginDate'] = pd.to_datetime(\n",
    "    df['BeginDate'], format='%Y-%m-%dT')\n",
    "df['ContractTerm_day'] = (df['EndDate'] - df['BeginDate'])/np.timedelta64(1, 'D')\n",
    "df['ContractTerm_month'] = (df['EndDate'] - df['BeginDate'])/np.timedelta64(1, 'M')\n",
    "df['ContractTerm_day'] = df['ContractTerm_day'].astype(int)\n",
    "df['ContractTerm_month'] = df['ContractTerm_month'].astype(int)"
   ]
  },
  {
   "cell_type": "markdown",
   "id": "470fea60",
   "metadata": {},
   "source": [
    "# Исследование данных"
   ]
  },
  {
   "cell_type": "markdown",
   "id": "d4d173a2",
   "metadata": {},
   "source": [
    "Посмотрим пропорцию открытых и закрытых договоров"
   ]
  },
  {
   "cell_type": "code",
   "execution_count": 26,
   "id": "d8e29b32",
   "metadata": {},
   "outputs": [
    {
     "data": {
      "image/png": "[encoded data removed]",
      "text/plain": [
       "<Figure size 432x288 with 1 Axes>"
      ]
     },
     "metadata": {
      "needs_background": "light"
     },
     "output_type": "display_data"
    }
   ],
   "source": [
    "ax = sns.countplot(x='ContractClosed', data=df)\n",
    "plt.title('Информация о количестве закрытых договоров')\n",
    "plt.xlabel('Флаг закрытого договора')\n",
    "plt.ylabel('Количество')\n",
    "\n",
    "for p in ax.patches:\n",
    "        ax.annotate('{:.0f}%'.format(p.get_height()/df['ContractClosed'].count()*100), (p.get_x()+0.3, p.get_height()+50))"
   ]
  },
  {
   "cell_type": "markdown",
   "id": "781e7f56",
   "metadata": {},
   "source": [
    "Закрытые договоры занимают 27% датасета. Посмотрим различаются ли наборы данных по закрытым и открытым договорам в разрезе остальных признаков."
   ]
  },
  {
   "cell_type": "code",
   "execution_count": 27,
   "id": "d8c3a60e",
   "metadata": {},
   "outputs": [],
   "source": [
    "# создадим функцию для построения графиков в разрезе закрытых и открытых договоров\n",
    "def FacetGrid_df (data, column):\n",
    "    g = sns.FacetGrid(data, col = 'ContractClosed')\n",
    "    g.map(sns.countplot, column, order = data[column].unique(), palette = 'Set1')    "
   ]
  },
  {
   "cell_type": "markdown",
   "id": "9ee28fba",
   "metadata": {},
   "source": [
    "## Анализ персональных данных"
   ]
  },
  {
   "cell_type": "code",
   "execution_count": 28,
   "id": "4734c835",
   "metadata": {},
   "outputs": [
    {
     "data": {
      "image/png": "[encoded data removed]",
      "text/plain": [
       "<Figure size 432x216 with 2 Axes>"
      ]
     },
     "metadata": {
      "needs_background": "light"
     },
     "output_type": "display_data"
    },
    {
     "data": {
      "image/png": "[encoded data removed]",
      "text/plain": [
       "<Figure size 432x216 with 2 Axes>"
      ]
     },
     "metadata": {
      "needs_background": "light"
     },
     "output_type": "display_data"
    },
    {
     "data": {
      "image/png": "[encoded data removed]",
      "text/plain": [
       "<Figure size 432x216 with 2 Axes>"
      ]
     },
     "metadata": {
      "needs_background": "light"
     },
     "output_type": "display_data"
    },
    {
     "data": {
      "image/png": "[encoded data removed]",
      "text/plain": [
       "<Figure size 432x216 with 2 Axes>"
      ]
     },
     "metadata": {
      "needs_background": "light"
     },
     "output_type": "display_data"
    }
   ],
   "source": [
    "for col in df_personal:\n",
    "    if col != 'customerID':\n",
    "        FacetGrid_df(df, col) "
   ]
  },
  {
   "cell_type": "markdown",
   "id": "2490dce3",
   "metadata": {},
   "source": [
    "В действующих договорах доля пенсионеров значительно ниже, чем в закрытых. Договоры закрывают чаще те, кто не находится в браке. В остальном рисунок клиента в двух наборах сопоставим."
   ]
  },
  {
   "cell_type": "markdown",
   "id": "c8ed3265",
   "metadata": {},
   "source": [
    "## Анализ интернет-услуг"
   ]
  },
  {
   "cell_type": "code",
   "execution_count": 29,
   "id": "e6b2f563",
   "metadata": {},
   "outputs": [
    {
     "data": {
      "image/png": "[encoded data removed]",
      "text/plain": [
       "<Figure size 432x216 with 2 Axes>"
      ]
     },
     "metadata": {
      "needs_background": "light"
     },
     "output_type": "display_data"
    },
    {
     "data": {
      "image/png": "[encoded data removed]",
      "text/plain": [
       "<Figure size 432x216 with 2 Axes>"
      ]
     },
     "metadata": {
      "needs_background": "light"
     },
     "output_type": "display_data"
    },
    {
     "data": {
      "image/png": "[encoded data removed]",
      "text/plain": [
       "<Figure size 432x216 with 2 Axes>"
      ]
     },
     "metadata": {
      "needs_background": "light"
     },
     "output_type": "display_data"
    },
    {
     "data": {
      "image/png": "[encoded data removed]",
      "text/plain": [
       "<Figure size 432x216 with 2 Axes>"
      ]
     },
     "metadata": {
      "needs_background": "light"
     },
     "output_type": "display_data"
    },
    {
     "data": {
      "image/png": "[encoded data removed]",
      "text/plain": [
       "<Figure size 432x216 with 2 Axes>"
      ]
     },
     "metadata": {
      "needs_background": "light"
     },
     "output_type": "display_data"
    },
    {
     "data": {
      "image/png": "[encoded data removed]",
      "text/plain": [
       "<Figure size 432x216 with 2 Axes>"
      ]
     },
     "metadata": {
      "needs_background": "light"
     },
     "output_type": "display_data"
    },
    {
     "data": {
      "image/png": "[encoded data removed]",
      "text/plain": [
       "<Figure size 432x216 with 2 Axes>"
      ]
     },
     "metadata": {
      "needs_background": "light"
     },
     "output_type": "display_data"
    }
   ],
   "source": [
    "for col in df_internet:\n",
    "    if col != 'customerID':\n",
    "        FacetGrid_df(df[df['InternetService'] != 'No'],col) "
   ]
  },
  {
   "cell_type": "markdown",
   "id": "f138bade",
   "metadata": {},
   "source": [
    "1. В закрытых договорах преобладает Fiber Optic. Это можем быть связано с низким качеством услуги или ее завышенной стоимости. С другой стороны перекос может быть связан с тем , что клиенты с DSL не уходят, потому что у них пока нет технической возможности для альтернативных вариантов.\n",
    "2. Клиенты , у которых есть доп сервисы (OnlineSecurity, OnlineBackup, DeviceProtection, TechSupport) значительно реже расторгают договоры. Подключение доп услуг говорит о лояльности клиента к компании."
   ]
  },
  {
   "cell_type": "markdown",
   "id": "7fc5b319",
   "metadata": {},
   "source": [
    "## Анализ телефонии"
   ]
  },
  {
   "cell_type": "code",
   "execution_count": 30,
   "id": "dbbf269b",
   "metadata": {
    "scrolled": true
   },
   "outputs": [
    {
     "data": {
      "image/png": "[encoded data removed]",
      "text/plain": [
       "<Figure size 432x216 with 2 Axes>"
      ]
     },
     "metadata": {
      "needs_background": "light"
     },
     "output_type": "display_data"
    }
   ],
   "source": [
    "FacetGrid_df(df,'MultipleLines') "
   ]
  },
  {
   "cell_type": "markdown",
   "id": "4e3aa343",
   "metadata": {},
   "source": [
    "В закрытых договорах доля клиентов с подключенным MultipleLines больше. "
   ]
  },
  {
   "cell_type": "markdown",
   "id": "b7bce56f",
   "metadata": {},
   "source": [
    "## Анализ договоров"
   ]
  },
  {
   "cell_type": "code",
   "execution_count": 31,
   "id": "30af603d",
   "metadata": {},
   "outputs": [],
   "source": [
    "set = ['Type','PaperlessBilling']"
   ]
  },
  {
   "cell_type": "code",
   "execution_count": 32,
   "id": "23a2a11d",
   "metadata": {},
   "outputs": [
    {
     "data": {
      "image/png": "[encoded data removed]",
      "text/plain": [
       "<Figure size 432x216 with 2 Axes>"
      ]
     },
     "metadata": {
      "needs_background": "light"
     },
     "output_type": "display_data"
    },
    {
     "data": {
      "image/png": "[encoded data removed]",
      "text/plain": [
       "<Figure size 432x216 with 2 Axes>"
      ]
     },
     "metadata": {
      "needs_background": "light"
     },
     "output_type": "display_data"
    }
   ],
   "source": [
    "for col in set:\n",
    "    FacetGrid_df(df,col) "
   ]
  },
  {
   "cell_type": "markdown",
   "id": "45bce4ce",
   "metadata": {},
   "source": [
    "1. Контракты с ежегодной оплатой значительно реже расторгают договоры.\n",
    "2. Чаще расторгают контракты те, у кого подключена услуга PaperlessBilling"
   ]
  },
  {
   "cell_type": "code",
   "execution_count": 33,
   "id": "2ea53673",
   "metadata": {},
   "outputs": [
    {
     "data": {
      "image/png": "[encoded data removed]",
      "text/plain": [
       "<Figure size 1152x288 with 2 Axes>"
      ]
     },
     "metadata": {
      "needs_background": "light"
     },
     "output_type": "display_data"
    }
   ],
   "source": [
    "g = sns.FacetGrid(df, col = 'ContractClosed',height=4, aspect = 2)\n",
    "g.map(sns.countplot, 'PaymentMethod', palette = 'Set1'); "
   ]
  },
  {
   "cell_type": "markdown",
   "id": "5ab71c7a",
   "metadata": {},
   "source": [
    "Больше всего расторгают контракты те, кто использует метод оплаты Electronic check."
   ]
  },
  {
   "cell_type": "markdown",
   "id": "90e85c5d",
   "metadata": {},
   "source": [
    "## Анализ ежемесячных платежей"
   ]
  },
  {
   "cell_type": "markdown",
   "id": "f926a27f",
   "metadata": {},
   "source": [
    "Посмотрим как выглядит ситуация по показателю месячного платежа."
   ]
  },
  {
   "cell_type": "code",
   "execution_count": 34,
   "id": "d65578db",
   "metadata": {},
   "outputs": [
    {
     "data": {
      "image/png": "[encoded data removed]",
      "text/plain": [
       "<Figure size 432x216 with 2 Axes>"
      ]
     },
     "metadata": {
      "needs_background": "light"
     },
     "output_type": "display_data"
    }
   ],
   "source": [
    "g = sns.FacetGrid(df[df['InternetService'] != 'No'], col = 'ContractClosed')\n",
    "g.map(sns.boxplot, 'InternetService', 'MonthlyCharges',palette = 'Set1');"
   ]
  },
  {
   "cell_type": "markdown",
   "id": "6f416dd2",
   "metadata": {},
   "source": [
    "У закрытых договоров медианная стоимость месячного платежа ниже, чем у активных. Скорее всего это связано с тем, что чаще уходят клиенты, которые не пользуются доп услугами (было выявлено ранее)"
   ]
  },
  {
   "cell_type": "markdown",
   "id": "0d11606e",
   "metadata": {},
   "source": [
    "## Анализ срока жизни контракта"
   ]
  },
  {
   "cell_type": "markdown",
   "id": "247819a0",
   "metadata": {},
   "source": [
    "Посмотрим распределение по сроку жизни контракта."
   ]
  },
  {
   "cell_type": "code",
   "execution_count": 35,
   "id": "a630c03d",
   "metadata": {},
   "outputs": [
    {
     "data": {
      "image/png": "[encoded data removed]",
      "text/plain": [
       "<Figure size 1440x504 with 1 Axes>"
      ]
     },
     "metadata": {
      "needs_background": "light"
     },
     "output_type": "display_data"
    }
   ],
   "source": [
    "plt.figure(figsize = (20, 7))\n",
    "sns.countplot(x = df['ContractTerm_month'], hue = df['ContractClosed']);"
   ]
  },
  {
   "cell_type": "markdown",
   "id": "30990dfc",
   "metadata": {},
   "source": [
    "В первые месяцы происходит наибольший отток клиентов. После первого года количество уходящих клиентов ощутимо снижается."
   ]
  },
  {
   "cell_type": "markdown",
   "id": "5edddca3",
   "metadata": {},
   "source": [
    "## Вывод по исследованию данных"
   ]
  },
  {
   "cell_type": "markdown",
   "id": "59aa445b",
   "metadata": {},
   "source": [
    "1. В рамках интернет услуг подключение доп сервисов (OnlineSecurity, OnlineBackup, DeviceProtection, TechSupport) увеличивают лояльность клиента к компании.\n",
    "2. Чаще уходят клиенты у которых:\n",
    " - ежемесячная оплата \n",
    " - используют для оплаты electronic check\n",
    " - используют Fiber Optic\n",
    "3. Основной пул клиентов уходит в течение первого года."
   ]
  },
  {
   "cell_type": "markdown",
   "id": "1fbbff1e",
   "metadata": {},
   "source": [
    "Проверим гипотезы из п.1. вывода"
   ]
  },
  {
   "cell_type": "markdown",
   "id": "a5af9b20",
   "metadata": {},
   "source": [
    "## Проверка гипотез"
   ]
  },
  {
   "cell_type": "code",
   "execution_count": 36,
   "id": "c7d511e8",
   "metadata": {},
   "outputs": [
    {
     "name": "stdout",
     "output_type": "stream",
     "text": [
      "Признак  OnlineSecurity\n",
      "p-значение: 1.9684264282341907e-47\n",
      "Отвергаем нулевую гипотезу\n",
      "\n",
      "Признак  OnlineBackup\n",
      "p-значение: 4.761165243685329e-12\n",
      "Отвергаем нулевую гипотезу\n",
      "\n",
      "Признак  DeviceProtection\n",
      "p-значение: 2.7632096948355908e-08\n",
      "Отвергаем нулевую гипотезу\n",
      "\n",
      "Признак  TechSupport\n",
      "p-значение: 5.889778010672642e-44\n",
      "Отвергаем нулевую гипотезу\n",
      "\n"
     ]
    }
   ],
   "source": [
    "#критический уровень статистической значимости\n",
    "alpha = 0.01\n",
    "\n",
    "col_names = ['OnlineSecurity', 'OnlineBackup', 'DeviceProtection', 'TechSupport']\n",
    "\n",
    "for col in col_names: \n",
    "    ttest_res = st.ttest_ind(df[df[col] == 'Yes']['ContractClosed'], df[df[col] != 'Yes']['ContractClosed'])\n",
    "    print('Признак ', col)\n",
    "    print('p-значение:', ttest_res.pvalue) \n",
    "\n",
    "    if ttest_res.pvalue < alpha:\n",
    "        print(\"Отвергаем нулевую гипотезу\")\n",
    "    else:\n",
    "        print(\"Не получилось отвергнуть нулевую гипотезу\")\n",
    "    print()"
   ]
  },
  {
   "cell_type": "markdown",
   "id": "2de1a3ff",
   "metadata": {},
   "source": [
    "Нулевые гипотезы отвергнуты, значит интернет доп услуги значимы для ContractClosed."
   ]
  },
  {
   "cell_type": "markdown",
   "id": "a8b59f74",
   "metadata": {},
   "source": [
    "# План по дальнейшему решению задачи"
   ]
  },
  {
   "cell_type": "markdown",
   "id": "2bd23371",
   "metadata": {},
   "source": [
    "1. Подготовить датасет к обучению:\n",
    "    - убрать лишние колонки (даты начала и конца)\n",
    "    - кодировать категориальные переменные\n",
    "    - выделить feature и target\n",
    "    - разделить датасет на train и test\n",
    "2. Попробовать различные модели для решения задачи классификации. Проверить результат на метриках AUC-ROC и accuracy\n",
    "3. Сравнить результат моделей с DummyClassifier\n",
    "4. Сделать выводы по выбору лучшей модели и работы в целом. "
   ]
  },
  {
   "cell_type": "markdown",
   "id": "88dc1942",
   "metadata": {},
   "source": [
    "# Подготовка датасетов"
   ]
  },
  {
   "cell_type": "markdown",
   "id": "8869dd81",
   "metadata": {},
   "source": [
    "## Уберем лишние колонки"
   ]
  },
  {
   "cell_type": "code",
   "execution_count": 37,
   "id": "7aebb480",
   "metadata": {},
   "outputs": [],
   "source": [
    "df = df.drop(columns=['BeginDate', 'EndDate','customerID','ContractTerm_month'])"
   ]
  },
  {
   "cell_type": "markdown",
   "id": "20b27ab1",
   "metadata": {},
   "source": [
    "## Проверим на мультиколлинеарность количественные признаки"
   ]
  },
  {
   "cell_type": "code",
   "execution_count": 38,
   "id": "18381370",
   "metadata": {},
   "outputs": [
    {
     "data": {
      "text/html": [
       "<div>\n",
       "<style scoped>\n",
       "    .dataframe tbody tr th:only-of-type {\n",
       "        vertical-align: middle;\n",
       "    }\n",
       "\n",
       "    .dataframe tbody tr th {\n",
       "        vertical-align: top;\n",
       "    }\n",
       "\n",
       "    .dataframe thead th {\n",
       "        text-align: right;\n",
       "    }\n",
       "</style>\n",
       "<table border=\"1\" class=\"dataframe\">\n",
       "  <thead>\n",
       "    <tr style=\"text-align: right;\">\n",
       "      <th></th>\n",
       "      <th>MonthlyCharges</th>\n",
       "      <th>TotalCharges</th>\n",
       "      <th>ContractTerm_day</th>\n",
       "    </tr>\n",
       "  </thead>\n",
       "  <tbody>\n",
       "    <tr>\n",
       "      <td>MonthlyCharges</td>\n",
       "      <td>1.000000</td>\n",
       "      <td>0.651065</td>\n",
       "      <td>0.246715</td>\n",
       "    </tr>\n",
       "    <tr>\n",
       "      <td>TotalCharges</td>\n",
       "      <td>0.651065</td>\n",
       "      <td>1.000000</td>\n",
       "      <td>0.825811</td>\n",
       "    </tr>\n",
       "    <tr>\n",
       "      <td>ContractTerm_day</td>\n",
       "      <td>0.246715</td>\n",
       "      <td>0.825811</td>\n",
       "      <td>1.000000</td>\n",
       "    </tr>\n",
       "  </tbody>\n",
       "</table>\n",
       "</div>"
      ],
      "text/plain": [
       "                  MonthlyCharges  TotalCharges  ContractTerm_day\n",
       "MonthlyCharges          1.000000      0.651065          0.246715\n",
       "TotalCharges            0.651065      1.000000          0.825811\n",
       "ContractTerm_day        0.246715      0.825811          1.000000"
      ]
     },
     "execution_count": 38,
     "metadata": {},
     "output_type": "execute_result"
    }
   ],
   "source": [
    "numeric = ['MonthlyCharges', 'TotalCharges', 'ContractTerm_day']\n",
    "df[numeric].corr()"
   ]
  },
  {
   "cell_type": "markdown",
   "id": "7ef90b54",
   "metadata": {},
   "source": [
    "Сила корреляции TotalCharges и ContractTerm_day больше 0,8. Удалим TotalCharges из датасета, т.к. у него также достаточно сильная корреляция с MonthlyCharges."
   ]
  },
  {
   "cell_type": "code",
   "execution_count": 39,
   "id": "878c8221",
   "metadata": {},
   "outputs": [],
   "source": [
    "df = df.drop(columns=['TotalCharges'])"
   ]
  },
  {
   "cell_type": "markdown",
   "id": "b2e1a0b9",
   "metadata": {},
   "source": [
    "## Преобразуем категориальные признаки в численные "
   ]
  },
  {
   "cell_type": "code",
   "execution_count": 40,
   "id": "432fa0c1",
   "metadata": {},
   "outputs": [],
   "source": [
    "# сохраним список категориальных признков\n",
    "cat_features = [ 'Type', 'PaperlessBilling', 'PaymentMethod',\n",
    "       'gender', 'SeniorCitizen', 'Partner',\n",
    "       'Dependents', 'InternetService', 'OnlineSecurity', 'OnlineBackup',\n",
    "       'DeviceProtection', 'TechSupport', 'StreamingTV', 'StreamingMovies',\n",
    "       'MultipleLines']"
   ]
  },
  {
   "cell_type": "code",
   "execution_count": 41,
   "id": "72be826b",
   "metadata": {},
   "outputs": [],
   "source": [
    "for i in cat_features:\n",
    "    df[i] = LabelEncoder().fit_transform(df[i])"
   ]
  },
  {
   "cell_type": "code",
   "execution_count": 42,
   "id": "e00ed36b",
   "metadata": {},
   "outputs": [],
   "source": [
    "df_ohe = pd.get_dummies(df, columns = cat_features, drop_first = True)"
   ]
  },
  {
   "cell_type": "code",
   "execution_count": 43,
   "id": "4a5cc572",
   "metadata": {},
   "outputs": [
    {
     "data": {
      "text/html": [
       "<div>\n",
       "<style scoped>\n",
       "    .dataframe tbody tr th:only-of-type {\n",
       "        vertical-align: middle;\n",
       "    }\n",
       "\n",
       "    .dataframe tbody tr th {\n",
       "        vertical-align: top;\n",
       "    }\n",
       "\n",
       "    .dataframe thead th {\n",
       "        text-align: right;\n",
       "    }\n",
       "</style>\n",
       "<table border=\"1\" class=\"dataframe\">\n",
       "  <thead>\n",
       "    <tr style=\"text-align: right;\">\n",
       "      <th></th>\n",
       "      <th>MonthlyCharges</th>\n",
       "      <th>ContractClosed</th>\n",
       "      <th>ContractTerm_day</th>\n",
       "      <th>Type_1</th>\n",
       "      <th>Type_2</th>\n",
       "      <th>PaperlessBilling_1</th>\n",
       "      <th>PaymentMethod_1</th>\n",
       "      <th>PaymentMethod_2</th>\n",
       "      <th>PaymentMethod_3</th>\n",
       "      <th>gender_1</th>\n",
       "      <th>...</th>\n",
       "      <th>InternetService_1</th>\n",
       "      <th>InternetService_2</th>\n",
       "      <th>OnlineSecurity_1</th>\n",
       "      <th>OnlineBackup_1</th>\n",
       "      <th>DeviceProtection_1</th>\n",
       "      <th>TechSupport_1</th>\n",
       "      <th>StreamingTV_1</th>\n",
       "      <th>StreamingMovies_1</th>\n",
       "      <th>MultipleLines_1</th>\n",
       "      <th>MultipleLines_2</th>\n",
       "    </tr>\n",
       "  </thead>\n",
       "  <tbody>\n",
       "    <tr>\n",
       "      <td>0</td>\n",
       "      <td>29.85</td>\n",
       "      <td>0</td>\n",
       "      <td>31</td>\n",
       "      <td>0</td>\n",
       "      <td>0</td>\n",
       "      <td>1</td>\n",
       "      <td>0</td>\n",
       "      <td>1</td>\n",
       "      <td>0</td>\n",
       "      <td>0</td>\n",
       "      <td>...</td>\n",
       "      <td>0</td>\n",
       "      <td>0</td>\n",
       "      <td>0</td>\n",
       "      <td>1</td>\n",
       "      <td>0</td>\n",
       "      <td>0</td>\n",
       "      <td>0</td>\n",
       "      <td>0</td>\n",
       "      <td>1</td>\n",
       "      <td>0</td>\n",
       "    </tr>\n",
       "    <tr>\n",
       "      <td>1</td>\n",
       "      <td>56.95</td>\n",
       "      <td>0</td>\n",
       "      <td>1036</td>\n",
       "      <td>1</td>\n",
       "      <td>0</td>\n",
       "      <td>0</td>\n",
       "      <td>0</td>\n",
       "      <td>0</td>\n",
       "      <td>1</td>\n",
       "      <td>1</td>\n",
       "      <td>...</td>\n",
       "      <td>0</td>\n",
       "      <td>0</td>\n",
       "      <td>1</td>\n",
       "      <td>0</td>\n",
       "      <td>1</td>\n",
       "      <td>0</td>\n",
       "      <td>0</td>\n",
       "      <td>0</td>\n",
       "      <td>0</td>\n",
       "      <td>0</td>\n",
       "    </tr>\n",
       "    <tr>\n",
       "      <td>2</td>\n",
       "      <td>53.85</td>\n",
       "      <td>1</td>\n",
       "      <td>61</td>\n",
       "      <td>0</td>\n",
       "      <td>0</td>\n",
       "      <td>1</td>\n",
       "      <td>0</td>\n",
       "      <td>0</td>\n",
       "      <td>1</td>\n",
       "      <td>1</td>\n",
       "      <td>...</td>\n",
       "      <td>0</td>\n",
       "      <td>0</td>\n",
       "      <td>1</td>\n",
       "      <td>1</td>\n",
       "      <td>0</td>\n",
       "      <td>0</td>\n",
       "      <td>0</td>\n",
       "      <td>0</td>\n",
       "      <td>0</td>\n",
       "      <td>0</td>\n",
       "    </tr>\n",
       "    <tr>\n",
       "      <td>3</td>\n",
       "      <td>42.30</td>\n",
       "      <td>0</td>\n",
       "      <td>1371</td>\n",
       "      <td>1</td>\n",
       "      <td>0</td>\n",
       "      <td>0</td>\n",
       "      <td>0</td>\n",
       "      <td>0</td>\n",
       "      <td>0</td>\n",
       "      <td>1</td>\n",
       "      <td>...</td>\n",
       "      <td>0</td>\n",
       "      <td>0</td>\n",
       "      <td>1</td>\n",
       "      <td>0</td>\n",
       "      <td>1</td>\n",
       "      <td>1</td>\n",
       "      <td>0</td>\n",
       "      <td>0</td>\n",
       "      <td>1</td>\n",
       "      <td>0</td>\n",
       "    </tr>\n",
       "    <tr>\n",
       "      <td>4</td>\n",
       "      <td>70.70</td>\n",
       "      <td>1</td>\n",
       "      <td>61</td>\n",
       "      <td>0</td>\n",
       "      <td>0</td>\n",
       "      <td>1</td>\n",
       "      <td>0</td>\n",
       "      <td>1</td>\n",
       "      <td>0</td>\n",
       "      <td>0</td>\n",
       "      <td>...</td>\n",
       "      <td>1</td>\n",
       "      <td>0</td>\n",
       "      <td>0</td>\n",
       "      <td>0</td>\n",
       "      <td>0</td>\n",
       "      <td>0</td>\n",
       "      <td>0</td>\n",
       "      <td>0</td>\n",
       "      <td>0</td>\n",
       "      <td>0</td>\n",
       "    </tr>\n",
       "  </tbody>\n",
       "</table>\n",
       "<p>5 rows × 23 columns</p>\n",
       "</div>"
      ],
      "text/plain": [
       "   MonthlyCharges  ContractClosed  ContractTerm_day  Type_1  Type_2  \\\n",
       "0           29.85               0                31       0       0   \n",
       "1           56.95               0              1036       1       0   \n",
       "2           53.85               1                61       0       0   \n",
       "3           42.30               0              1371       1       0   \n",
       "4           70.70               1                61       0       0   \n",
       "\n",
       "   PaperlessBilling_1  PaymentMethod_1  PaymentMethod_2  PaymentMethod_3  \\\n",
       "0                   1                0                1                0   \n",
       "1                   0                0                0                1   \n",
       "2                   1                0                0                1   \n",
       "3                   0                0                0                0   \n",
       "4                   1                0                1                0   \n",
       "\n",
       "   gender_1  ...  InternetService_1  InternetService_2  OnlineSecurity_1  \\\n",
       "0         0  ...                  0                  0                 0   \n",
       "1         1  ...                  0                  0                 1   \n",
       "2         1  ...                  0                  0                 1   \n",
       "3         1  ...                  0                  0                 1   \n",
       "4         0  ...                  1                  0                 0   \n",
       "\n",
       "   OnlineBackup_1  DeviceProtection_1  TechSupport_1  StreamingTV_1  \\\n",
       "0               1                   0              0              0   \n",
       "1               0                   1              0              0   \n",
       "2               1                   0              0              0   \n",
       "3               0                   1              1              0   \n",
       "4               0                   0              0              0   \n",
       "\n",
       "   StreamingMovies_1  MultipleLines_1  MultipleLines_2  \n",
       "0                  0                1                0  \n",
       "1                  0                0                0  \n",
       "2                  0                0                0  \n",
       "3                  0                1                0  \n",
       "4                  0                0                0  \n",
       "\n",
       "[5 rows x 23 columns]"
      ]
     },
     "execution_count": 43,
     "metadata": {},
     "output_type": "execute_result"
    }
   ],
   "source": [
    "df_ohe.head()"
   ]
  },
  {
   "cell_type": "code",
   "execution_count": 44,
   "id": "c28acf58",
   "metadata": {},
   "outputs": [],
   "source": [
    "target = df_ohe['ContractClosed']\n",
    "features = df_ohe.drop('ContractClosed', axis=1)\n",
    "features_train, features_test, target_train, target_test = train_test_split(\n",
    "    features, target, test_size=0.2, random_state=12345)"
   ]
  },
  {
   "cell_type": "markdown",
   "id": "50c88418",
   "metadata": {},
   "source": [
    "## Масштабируем признаки"
   ]
  },
  {
   "cell_type": "code",
   "execution_count": 45,
   "id": "51478099",
   "metadata": {},
   "outputs": [],
   "source": [
    "numeric = ['MonthlyCharges', 'ContractTerm_day']\n",
    "\n",
    "scaler = StandardScaler()\n",
    "scaler.fit(features_train[numeric]) \n",
    "\n",
    "features_train[numeric] = scaler.transform(features_train[numeric])\n",
    "features_test[numeric] = scaler.transform(features_test[numeric]) "
   ]
  },
  {
   "cell_type": "markdown",
   "id": "f53cbf99",
   "metadata": {},
   "source": [
    "# Обучаем модели"
   ]
  },
  {
   "cell_type": "code",
   "execution_count": 281,
   "id": "9f3784bf",
   "metadata": {},
   "outputs": [],
   "source": [
    "#результирующая таблица\n",
    "results = pd.DataFrame(columns = ['roc_auc_score','accuracy_score'])"
   ]
  },
  {
   "cell_type": "markdown",
   "id": "8abe09be",
   "metadata": {},
   "source": [
    "## Логичтическая регрессия"
   ]
  },
  {
   "cell_type": "code",
   "execution_count": 282,
   "id": "21c3ac3c",
   "metadata": {},
   "outputs": [
    {
     "data": {
      "text/plain": [
       "LogisticRegression(C=1.0, class_weight=None, dual=False, fit_intercept=True,\n",
       "                   intercept_scaling=1, l1_ratio=None, max_iter=100,\n",
       "                   multi_class='warn', n_jobs=None, penalty='l2',\n",
       "                   random_state=12345, solver='warn', tol=0.0001, verbose=0,\n",
       "                   warm_start=False)"
      ]
     },
     "execution_count": 282,
     "metadata": {},
     "output_type": "execute_result"
    }
   ],
   "source": [
    "model_lr = LogisticRegression( random_state=12345)\n",
    "model_lr.fit(features_train, target_train)"
   ]
  },
  {
   "cell_type": "code",
   "execution_count": 283,
   "id": "c2ff9c69",
   "metadata": {},
   "outputs": [],
   "source": [
    "probabilities_test = model_lr.predict_proba(features_test)\n",
    "probabilities_one_test = probabilities_test[:, 1]\n",
    "roc_auc = roc_auc_score(target_test, probabilities_one_test)"
   ]
  },
  {
   "cell_type": "code",
   "execution_count": 284,
   "id": "15fe94d6",
   "metadata": {
    "scrolled": true
   },
   "outputs": [],
   "source": [
    "acc = accuracy_score(target_test, model_lr.predict(features_test))"
   ]
  },
  {
   "cell_type": "code",
   "execution_count": 285,
   "id": "54fe9981",
   "metadata": {},
   "outputs": [],
   "source": [
    "results.loc['lr'] = [roc_auc,acc]"
   ]
  },
  {
   "cell_type": "markdown",
   "id": "f95ec3a9",
   "metadata": {},
   "source": [
    "## LGBM"
   ]
  },
  {
   "cell_type": "code",
   "execution_count": 286,
   "id": "a0a5d72f",
   "metadata": {},
   "outputs": [],
   "source": [
    "lgbm = LGBMClassifier (max_depth = 5, n_estimators = 500)"
   ]
  },
  {
   "cell_type": "code",
   "execution_count": 287,
   "id": "5e335571",
   "metadata": {},
   "outputs": [
    {
     "data": {
      "text/plain": [
       "LGBMClassifier(boosting_type='gbdt', class_weight=None, colsample_bytree=1.0,\n",
       "               importance_type='split', learning_rate=0.1, max_depth=5,\n",
       "               min_child_samples=20, min_child_weight=0.001, min_split_gain=0.0,\n",
       "               n_estimators=500, n_jobs=-1, num_leaves=31, objective=None,\n",
       "               random_state=None, reg_alpha=0.0, reg_lambda=0.0, silent=True,\n",
       "               subsample=1.0, subsample_for_bin=200000, subsample_freq=0)"
      ]
     },
     "execution_count": 287,
     "metadata": {},
     "output_type": "execute_result"
    }
   ],
   "source": [
    "lgbm.fit(features_train, target_train)"
   ]
  },
  {
   "cell_type": "code",
   "execution_count": 288,
   "id": "fac884fa",
   "metadata": {},
   "outputs": [],
   "source": [
    "probabilities_test = lgbm.predict_proba(features_test)\n",
    "probabilities_one_test = probabilities_test[:, 1]\n",
    "roc_auc = roc_auc_score(target_test, probabilities_one_test)\n",
    "\n",
    "acc = accuracy_score(target_test, lgbm.predict(features_test))"
   ]
  },
  {
   "cell_type": "code",
   "execution_count": 289,
   "id": "8d33eb85",
   "metadata": {},
   "outputs": [],
   "source": [
    "results.loc['lgbm'] = [roc_auc,acc]"
   ]
  },
  {
   "cell_type": "code",
   "execution_count": 290,
   "id": "24ad4087",
   "metadata": {},
   "outputs": [
    {
     "data": {
      "image/png": "[encoded data removed]",
      "text/plain": [
       "<Figure size 432x288 with 1 Axes>"
      ]
     },
     "metadata": {
      "needs_background": "light"
     },
     "output_type": "display_data"
    }
   ],
   "source": [
    "plt.title(\"Feature importances\")\n",
    "feat_importances = pd.Series(lgbm.feature_importances_, index=features_train.columns)\n",
    "feat_importances.nlargest(20).plot(kind='barh');"
   ]
  },
  {
   "cell_type": "markdown",
   "id": "faf33be1",
   "metadata": {},
   "source": [
    "## RandomForestClassifier"
   ]
  },
  {
   "cell_type": "code",
   "execution_count": 291,
   "id": "6fa1a872",
   "metadata": {},
   "outputs": [],
   "source": [
    "forest = RandomForestClassifier(random_state = 12345)\n",
    "params = {\n",
    "    'max_depth' : range(9,15,2),\n",
    "    'n_estimators' : range (10,51,10)\n",
    "}\n",
    "forest_model = RandomizedSearchCV (forest,params, cv=2, random_state = 12345)"
   ]
  },
  {
   "cell_type": "code",
   "execution_count": 292,
   "id": "359c4f7e",
   "metadata": {},
   "outputs": [
    {
     "data": {
      "text/plain": [
       "RandomizedSearchCV(cv=2, error_score='raise-deprecating',\n",
       "                   estimator=RandomForestClassifier(bootstrap=True,\n",
       "                                                    class_weight=None,\n",
       "                                                    criterion='gini',\n",
       "                                                    max_depth=None,\n",
       "                                                    max_features='auto',\n",
       "                                                    max_leaf_nodes=None,\n",
       "                                                    min_impurity_decrease=0.0,\n",
       "                                                    min_impurity_split=None,\n",
       "                                                    min_samples_leaf=1,\n",
       "                                                    min_samples_split=2,\n",
       "                                                    min_weight_fraction_leaf=0.0,\n",
       "                                                    n_estimators='warn',\n",
       "                                                    n_jobs=None,\n",
       "                                                    oob_score=False,\n",
       "                                                    random_state=12345,\n",
       "                                                    verbose=0,\n",
       "                                                    warm_start=False),\n",
       "                   iid='warn', n_iter=10, n_jobs=None,\n",
       "                   param_distributions={'max_depth': range(9, 15, 2),\n",
       "                                        'n_estimators': range(10, 51, 10)},\n",
       "                   pre_dispatch='2*n_jobs', random_state=12345, refit=True,\n",
       "                   return_train_score=False, scoring=None, verbose=0)"
      ]
     },
     "execution_count": 292,
     "metadata": {},
     "output_type": "execute_result"
    }
   ],
   "source": [
    "forest_model.fit(features_train, target_train)"
   ]
  },
  {
   "cell_type": "code",
   "execution_count": 293,
   "id": "24a22ce9",
   "metadata": {},
   "outputs": [],
   "source": [
    "best_forest_model = forest_model.best_estimator_\n",
    "probabilities_test = best_forest_model.predict_proba(features_test)\n",
    "probabilities_one_test = probabilities_test[:, 1]\n",
    "roc_auc = roc_auc_score(target_test, probabilities_one_test)\n",
    "\n",
    "acc = accuracy_score(target_test, best_forest_model.predict(features_test))"
   ]
  },
  {
   "cell_type": "code",
   "execution_count": 294,
   "id": "3029f40b",
   "metadata": {},
   "outputs": [],
   "source": [
    "results.loc['forest'] = [roc_auc,acc]"
   ]
  },
  {
   "cell_type": "code",
   "execution_count": 295,
   "id": "4cff421f",
   "metadata": {},
   "outputs": [
    {
     "data": {
      "image/png": "[encoded data removed]",
      "text/plain": [
       "<Figure size 432x288 with 1 Axes>"
      ]
     },
     "metadata": {
      "needs_background": "light"
     },
     "output_type": "display_data"
    }
   ],
   "source": [
    "plt.title(\"Feature importances\")\n",
    "feat_importances = pd.Series(best_forest_model.feature_importances_, index=features_train.columns)\n",
    "feat_importances.nlargest(20).plot(kind='barh');"
   ]
  },
  {
   "cell_type": "markdown",
   "id": "06826524",
   "metadata": {},
   "source": [
    "## DummyClassifier"
   ]
  },
  {
   "cell_type": "code",
   "execution_count": 296,
   "id": "793dbda1",
   "metadata": {},
   "outputs": [],
   "source": [
    "model_dummy_clf = DummyClassifier(strategy=\"most_frequent\")\n",
    "model_dummy_clf.fit(features_test, target_test)\n",
    "\n",
    "probabilities_test = model_dummy_clf.predict_proba(features_test)\n",
    "probabilities_one_test = probabilities_test[:, 1]\n",
    "roc_auc = roc_auc_score(target_test, probabilities_one_test)\n",
    "\n",
    "acc = accuracy_score(target_test, model_dummy_clf.predict(features_test))"
   ]
  },
  {
   "cell_type": "code",
   "execution_count": 297,
   "id": "8b0b9c1e",
   "metadata": {},
   "outputs": [],
   "source": [
    "results.loc['dummy_clf'] = [roc_auc,acc]"
   ]
  },
  {
   "cell_type": "markdown",
   "id": "cc21ab64",
   "metadata": {},
   "source": [
    "# Вывод"
   ]
  },
  {
   "cell_type": "code",
   "execution_count": 298,
   "id": "0cbb27b2",
   "metadata": {},
   "outputs": [
    {
     "data": {
      "text/html": [
       "<div>\n",
       "<style scoped>\n",
       "    .dataframe tbody tr th:only-of-type {\n",
       "        vertical-align: middle;\n",
       "    }\n",
       "\n",
       "    .dataframe tbody tr th {\n",
       "        vertical-align: top;\n",
       "    }\n",
       "\n",
       "    .dataframe thead th {\n",
       "        text-align: right;\n",
       "    }\n",
       "</style>\n",
       "<table border=\"1\" class=\"dataframe\">\n",
       "  <thead>\n",
       "    <tr style=\"text-align: right;\">\n",
       "      <th></th>\n",
       "      <th>roc_auc_score</th>\n",
       "      <th>accuracy_score</th>\n",
       "    </tr>\n",
       "  </thead>\n",
       "  <tbody>\n",
       "    <tr>\n",
       "      <td>lr</td>\n",
       "      <td>0.849305</td>\n",
       "      <td>0.805970</td>\n",
       "    </tr>\n",
       "    <tr>\n",
       "      <td>lgbm</td>\n",
       "      <td>0.911619</td>\n",
       "      <td>0.867093</td>\n",
       "    </tr>\n",
       "    <tr>\n",
       "      <td>forest</td>\n",
       "      <td>0.860021</td>\n",
       "      <td>0.814499</td>\n",
       "    </tr>\n",
       "    <tr>\n",
       "      <td>dummy_clf</td>\n",
       "      <td>0.500000</td>\n",
       "      <td>0.727790</td>\n",
       "    </tr>\n",
       "  </tbody>\n",
       "</table>\n",
       "</div>"
      ],
      "text/plain": [
       "           roc_auc_score  accuracy_score\n",
       "lr              0.849305        0.805970\n",
       "lgbm            0.911619        0.867093\n",
       "forest          0.860021        0.814499\n",
       "dummy_clf       0.500000        0.727790"
      ]
     },
     "execution_count": 298,
     "metadata": {},
     "output_type": "execute_result"
    }
   ],
   "source": [
    "results"
   ]
  },
  {
   "cell_type": "markdown",
   "id": "3c6462c8",
   "metadata": {},
   "source": [
    "По итогам обучения разных моделей лучший roc_auc показала модель LGBMClassifier (0,91). При подготовке датасета были убраны лишние столбцы ( столбцы с датами, id, TotalCharges). Создан столбец с продолжительностью контратка в днях. Категориальные признаки были переведены в численные. Произведена стандартизация численных значений. Опробованы модели LogisticRegression, LGBMClassifier, RandomForestClassifier, DummyClassifier. Самыми важными признаками для моделей были столбцы ContractTerm_day и MonthlyCharges"
   ]
  },
  {
   "cell_type": "markdown",
   "id": "1248e930",
   "metadata": {},
   "source": [
    "# Финальный отчет"
   ]
  },
  {
   "cell_type": "markdown",
   "id": "dd7d776f",
   "metadata": {},
   "source": [
    "Все пункты из плана по решению задачи выполнены:\n",
    "\n",
    "1. Датасет подготовлен к обучению\n",
    "    - убраны лишние колонки ('BeginDate', 'EndDate', 'customerID', 'ContractTerm_month', 'TotalCharges')\n",
    "    - закодированы категориальные переменные (сначала применен LabelEncoder, затем pd.get_dummies) \n",
    "    - числовые признаки отмасштабированы\n",
    "    - выделены feature и target (target - колонка ContractClosed)\n",
    "    - датасет разделен на train и test (размер тестовой выборки - 20%)\n",
    "2. Попробованы модели LogisticRegression, LGBMClassifier, RandomForestClassifier для решения задачи классификации. Результаты проверены на метриках AUC-ROC и accuracy\n",
    "3. Результаты всех моделей оказались лучше, чем у DummyClassifier\n",
    "4. Лучшие показатели оказались у модели LGBMClassifier: roc_auc = 0,91 ,  accuracy = 0,86"
   ]
  }
 ],
 "metadata": {
  "ExecuteTimeLog": [
   {
    "duration": 1169,
    "start_time": "2021-12-20T14:33:22.713Z"
   },
   {
    "duration": 377,
    "start_time": "2021-12-20T14:33:27.181Z"
   },
   {
    "duration": 14,
    "start_time": "2021-12-20T14:34:26.819Z"
   },
   {
    "duration": 9,
    "start_time": "2021-12-20T14:34:27.382Z"
   },
   {
    "duration": 5,
    "start_time": "2021-12-20T14:34:28.417Z"
   },
   {
    "duration": 8,
    "start_time": "2021-12-20T14:34:29.713Z"
   },
   {
    "duration": 8,
    "start_time": "2021-12-20T14:34:29.870Z"
   },
   {
    "duration": 6,
    "start_time": "2021-12-20T14:34:30.167Z"
   },
   {
    "duration": 10,
    "start_time": "2021-12-20T14:34:30.645Z"
   },
   {
    "duration": 8,
    "start_time": "2021-12-20T14:34:30.865Z"
   },
   {
    "duration": 5,
    "start_time": "2021-12-20T14:34:31.241Z"
   },
   {
    "duration": 7,
    "start_time": "2021-12-20T14:34:31.712Z"
   },
   {
    "duration": 8,
    "start_time": "2021-12-20T14:34:32.060Z"
   },
   {
    "duration": 5,
    "start_time": "2021-12-20T14:34:32.273Z"
   },
   {
    "duration": 28,
    "start_time": "2021-12-20T14:34:56.454Z"
   },
   {
    "duration": 15,
    "start_time": "2021-12-20T14:34:57.022Z"
   },
   {
    "duration": 14,
    "start_time": "2021-12-20T14:35:24.238Z"
   },
   {
    "duration": 13,
    "start_time": "2021-12-20T14:35:25.617Z"
   },
   {
    "duration": 31,
    "start_time": "2021-12-20T14:35:40.835Z"
   },
   {
    "duration": 8,
    "start_time": "2021-12-20T14:35:42.348Z"
   },
   {
    "duration": 14,
    "start_time": "2021-12-20T14:35:43.455Z"
   },
   {
    "duration": 22,
    "start_time": "2021-12-20T14:36:43.251Z"
   },
   {
    "duration": 10,
    "start_time": "2021-12-20T14:36:45.148Z"
   },
   {
    "duration": 9,
    "start_time": "2021-12-20T14:37:00.144Z"
   },
   {
    "duration": 15,
    "start_time": "2021-12-20T14:37:00.388Z"
   },
   {
    "duration": 134,
    "start_time": "2021-12-20T14:37:49.608Z"
   },
   {
    "duration": 3,
    "start_time": "2021-12-20T14:37:53.244Z"
   },
   {
    "duration": 1742,
    "start_time": "2021-12-20T14:37:54.708Z"
   },
   {
    "duration": 4180,
    "start_time": "2021-12-20T14:37:57.682Z"
   },
   {
    "duration": 766,
    "start_time": "2021-12-20T14:38:01.865Z"
   },
   {
    "duration": 3,
    "start_time": "2021-12-20T14:38:02.634Z"
   },
   {
    "duration": 985,
    "start_time": "2021-12-20T14:38:02.639Z"
   },
   {
    "duration": 564,
    "start_time": "2021-12-20T14:38:03.626Z"
   },
   {
    "duration": 546,
    "start_time": "2021-12-20T14:38:04.288Z"
   },
   {
    "duration": 1145,
    "start_time": "2021-12-20T14:38:11.354Z"
   },
   {
    "duration": 6,
    "start_time": "2021-12-20T14:39:49.692Z"
   },
   {
    "duration": 3,
    "start_time": "2021-12-20T14:40:54.665Z"
   },
   {
    "duration": 27,
    "start_time": "2021-12-20T14:40:55.329Z"
   },
   {
    "duration": 21,
    "start_time": "2021-12-20T14:40:55.818Z"
   },
   {
    "duration": 17,
    "start_time": "2021-12-20T14:40:56.240Z"
   },
   {
    "duration": 11,
    "start_time": "2021-12-20T14:40:56.433Z"
   },
   {
    "duration": 25,
    "start_time": "2021-12-20T14:41:01.800Z"
   },
   {
    "duration": 5,
    "start_time": "2021-12-20T14:41:33.148Z"
   },
   {
    "duration": 740,
    "start_time": "2021-12-20T14:41:34.622Z"
   },
   {
    "duration": 96,
    "start_time": "2021-12-20T14:41:35.370Z"
   },
   {
    "duration": 104,
    "start_time": "2021-12-20T14:41:35.470Z"
   },
   {
    "duration": 101,
    "start_time": "2021-12-20T14:41:35.662Z"
   },
   {
    "duration": 11,
    "start_time": "2021-12-20T14:41:35.765Z"
   },
   {
    "duration": 396476,
    "start_time": "2021-12-20T14:41:35.901Z"
   },
   {
    "duration": 282,
    "start_time": "2021-12-20T14:48:12.379Z"
   },
   {
    "duration": 5,
    "start_time": "2021-12-20T14:48:12.663Z"
   },
   {
    "duration": 258,
    "start_time": "2021-12-20T14:48:12.670Z"
   },
   {
    "duration": 4,
    "start_time": "2021-12-20T14:48:12.930Z"
   },
   {
    "duration": 2047,
    "start_time": "2021-12-20T14:48:12.936Z"
   },
   {
    "duration": 28,
    "start_time": "2021-12-20T14:48:14.985Z"
   },
   {
    "duration": 5,
    "start_time": "2021-12-20T14:48:15.016Z"
   },
   {
    "duration": 259,
    "start_time": "2021-12-20T14:48:15.022Z"
   },
   {
    "duration": 7,
    "start_time": "2021-12-20T14:48:15.282Z"
   },
   {
    "duration": 21,
    "start_time": "2021-12-20T14:48:15.290Z"
   },
   {
    "duration": 39,
    "start_time": "2021-12-20T14:48:15.313Z"
   },
   {
    "duration": 480,
    "start_time": "2021-12-20T19:55:48.488Z"
   },
   {
    "duration": 1995,
    "start_time": "2021-12-20T19:55:55.314Z"
   },
   {
    "duration": 328,
    "start_time": "2021-12-20T19:55:57.311Z"
   },
   {
    "duration": 18,
    "start_time": "2021-12-20T19:55:57.642Z"
   },
   {
    "duration": 12,
    "start_time": "2021-12-20T19:55:57.663Z"
   },
   {
    "duration": 6,
    "start_time": "2021-12-20T19:55:57.677Z"
   },
   {
    "duration": 12,
    "start_time": "2021-12-20T19:55:57.687Z"
   },
   {
    "duration": 15,
    "start_time": "2021-12-20T19:55:57.702Z"
   },
   {
    "duration": 44,
    "start_time": "2021-12-20T19:55:57.720Z"
   },
   {
    "duration": 14,
    "start_time": "2021-12-20T19:55:57.768Z"
   },
   {
    "duration": 11,
    "start_time": "2021-12-20T19:55:57.785Z"
   },
   {
    "duration": 9,
    "start_time": "2021-12-20T19:55:57.798Z"
   },
   {
    "duration": 51,
    "start_time": "2021-12-20T19:55:57.810Z"
   },
   {
    "duration": 11,
    "start_time": "2021-12-20T19:55:57.863Z"
   },
   {
    "duration": 11,
    "start_time": "2021-12-20T19:55:57.876Z"
   },
   {
    "duration": 42,
    "start_time": "2021-12-20T19:55:57.890Z"
   },
   {
    "duration": 23,
    "start_time": "2021-12-20T19:55:57.958Z"
   },
   {
    "duration": 17,
    "start_time": "2021-12-20T19:55:57.983Z"
   },
   {
    "duration": 18,
    "start_time": "2021-12-20T19:55:58.002Z"
   },
   {
    "duration": 62,
    "start_time": "2021-12-20T19:55:58.022Z"
   },
   {
    "duration": 10,
    "start_time": "2021-12-20T19:55:58.087Z"
   },
   {
    "duration": 20,
    "start_time": "2021-12-20T19:55:58.100Z"
   },
   {
    "duration": 58,
    "start_time": "2021-12-20T19:55:58.122Z"
   },
   {
    "duration": 12,
    "start_time": "2021-12-20T19:55:58.185Z"
   },
   {
    "duration": 8,
    "start_time": "2021-12-20T19:55:58.201Z"
   },
   {
    "duration": 48,
    "start_time": "2021-12-20T19:55:58.211Z"
   },
   {
    "duration": 230,
    "start_time": "2021-12-20T19:55:58.261Z"
   },
   {
    "duration": 4,
    "start_time": "2021-12-20T19:55:58.493Z"
   },
   {
    "duration": 2793,
    "start_time": "2021-12-20T19:55:58.499Z"
   },
   {
    "duration": 4781,
    "start_time": "2021-12-20T19:56:01.295Z"
   },
   {
    "duration": 783,
    "start_time": "2021-12-20T19:56:06.079Z"
   },
   {
    "duration": 3,
    "start_time": "2021-12-20T19:56:06.864Z"
   },
   {
    "duration": 1290,
    "start_time": "2021-12-20T19:56:06.869Z"
   },
   {
    "duration": 787,
    "start_time": "2021-12-20T19:56:08.162Z"
   },
   {
    "duration": 764,
    "start_time": "2021-12-20T19:56:08.951Z"
   },
   {
    "duration": 2272,
    "start_time": "2021-12-20T19:56:09.718Z"
   },
   {
    "duration": 7,
    "start_time": "2021-12-20T19:56:11.992Z"
   },
   {
    "duration": 6,
    "start_time": "2021-12-20T19:56:12.002Z"
   },
   {
    "duration": 62,
    "start_time": "2021-12-20T19:56:12.011Z"
   },
   {
    "duration": 29,
    "start_time": "2021-12-20T19:56:12.075Z"
   },
   {
    "duration": 23,
    "start_time": "2021-12-20T19:56:12.106Z"
   },
   {
    "duration": 31,
    "start_time": "2021-12-20T19:56:12.132Z"
   },
   {
    "duration": 19,
    "start_time": "2021-12-20T19:56:12.165Z"
   },
   {
    "duration": 7,
    "start_time": "2021-12-20T19:56:12.187Z"
   },
   {
    "duration": 71,
    "start_time": "2021-12-20T19:56:12.196Z"
   },
   {
    "duration": 12,
    "start_time": "2021-12-20T19:56:12.270Z"
   },
   {
    "duration": 182,
    "start_time": "2021-12-20T19:56:12.285Z"
   },
   {
    "duration": 94,
    "start_time": "2021-12-20T19:56:12.470Z"
   },
   {
    "duration": 101,
    "start_time": "2021-12-20T19:56:12.568Z"
   },
   {
    "duration": 4809,
    "start_time": "2021-12-20T19:56:12.671Z"
   },
   {
    "duration": 377,
    "start_time": "2021-12-20T19:56:17.482Z"
   },
   {
    "duration": 6,
    "start_time": "2021-12-20T19:56:17.862Z"
   },
   {
    "duration": 405,
    "start_time": "2021-12-20T19:56:17.870Z"
   },
   {
    "duration": 5,
    "start_time": "2021-12-20T19:56:18.276Z"
   },
   {
    "duration": 2941,
    "start_time": "2021-12-20T19:56:18.283Z"
   },
   {
    "duration": 58,
    "start_time": "2021-12-20T19:56:21.226Z"
   },
   {
    "duration": 7,
    "start_time": "2021-12-20T19:56:21.287Z"
   },
   {
    "duration": 456,
    "start_time": "2021-12-20T19:56:21.297Z"
   },
   {
    "duration": 9,
    "start_time": "2021-12-20T19:56:21.760Z"
   },
   {
    "duration": 6,
    "start_time": "2021-12-20T19:56:21.771Z"
   },
   {
    "duration": 11,
    "start_time": "2021-12-20T19:56:21.779Z"
   },
   {
    "duration": 19,
    "start_time": "2021-12-20T19:56:21.792Z"
   },
   {
    "duration": 12,
    "start_time": "2021-12-20T19:56:39.792Z"
   },
   {
    "duration": 14,
    "start_time": "2021-12-20T19:57:03.943Z"
   },
   {
    "duration": 15,
    "start_time": "2021-12-20T20:02:39.747Z"
   },
   {
    "duration": 5,
    "start_time": "2021-12-20T20:04:42.436Z"
   },
   {
    "duration": 6,
    "start_time": "2021-12-20T20:05:16.615Z"
   },
   {
    "duration": 403,
    "start_time": "2021-12-20T20:05:16.628Z"
   },
   {
    "duration": 15,
    "start_time": "2021-12-20T20:05:17.034Z"
   },
   {
    "duration": 11,
    "start_time": "2021-12-20T20:05:17.052Z"
   },
   {
    "duration": 6,
    "start_time": "2021-12-20T20:05:17.066Z"
   },
   {
    "duration": 17,
    "start_time": "2021-12-20T20:05:17.074Z"
   },
   {
    "duration": 14,
    "start_time": "2021-12-20T20:05:17.093Z"
   },
   {
    "duration": 7,
    "start_time": "2021-12-20T20:05:17.109Z"
   },
   {
    "duration": 17,
    "start_time": "2021-12-20T20:05:17.160Z"
   },
   {
    "duration": 10,
    "start_time": "2021-12-20T20:05:17.180Z"
   },
   {
    "duration": 7,
    "start_time": "2021-12-20T20:05:17.193Z"
   },
   {
    "duration": 57,
    "start_time": "2021-12-20T20:05:17.202Z"
   },
   {
    "duration": 8,
    "start_time": "2021-12-20T20:05:17.262Z"
   },
   {
    "duration": 11,
    "start_time": "2021-12-20T20:05:17.272Z"
   },
   {
    "duration": 74,
    "start_time": "2021-12-20T20:05:17.286Z"
   },
   {
    "duration": 18,
    "start_time": "2021-12-20T20:05:17.363Z"
   },
   {
    "duration": 18,
    "start_time": "2021-12-20T20:05:17.384Z"
   },
   {
    "duration": 19,
    "start_time": "2021-12-20T20:05:17.405Z"
   },
   {
    "duration": 61,
    "start_time": "2021-12-20T20:05:17.427Z"
   },
   {
    "duration": 15,
    "start_time": "2021-12-20T20:05:17.490Z"
   },
   {
    "duration": 25,
    "start_time": "2021-12-20T20:05:17.507Z"
   },
   {
    "duration": 48,
    "start_time": "2021-12-20T20:05:17.534Z"
   },
   {
    "duration": 5,
    "start_time": "2021-12-20T20:05:17.585Z"
   },
   {
    "duration": 10,
    "start_time": "2021-12-20T20:05:17.596Z"
   },
   {
    "duration": 57,
    "start_time": "2021-12-20T20:05:17.610Z"
   },
   {
    "duration": 230,
    "start_time": "2021-12-20T20:05:17.669Z"
   },
   {
    "duration": 6,
    "start_time": "2021-12-20T20:05:17.901Z"
   },
   {
    "duration": 2610,
    "start_time": "2021-12-20T20:05:17.909Z"
   },
   {
    "duration": 4524,
    "start_time": "2021-12-20T20:05:20.522Z"
   },
   {
    "duration": 683,
    "start_time": "2021-12-20T20:05:25.049Z"
   },
   {
    "duration": 3,
    "start_time": "2021-12-20T20:05:25.734Z"
   },
   {
    "duration": 1239,
    "start_time": "2021-12-20T20:05:25.740Z"
   },
   {
    "duration": 771,
    "start_time": "2021-12-20T20:05:26.981Z"
   },
   {
    "duration": 806,
    "start_time": "2021-12-20T20:05:27.755Z"
   },
   {
    "duration": 1825,
    "start_time": "2021-12-20T20:05:28.563Z"
   },
   {
    "duration": 7,
    "start_time": "2021-12-20T20:05:30.391Z"
   },
   {
    "duration": 19,
    "start_time": "2021-12-20T20:05:30.400Z"
   },
   {
    "duration": 6,
    "start_time": "2021-12-20T20:05:30.422Z"
   },
   {
    "duration": 31,
    "start_time": "2021-12-20T20:05:30.430Z"
   },
   {
    "duration": 42,
    "start_time": "2021-12-20T20:05:30.463Z"
   },
   {
    "duration": 27,
    "start_time": "2021-12-20T20:05:30.508Z"
   },
   {
    "duration": 45,
    "start_time": "2021-12-20T20:05:30.537Z"
   },
   {
    "duration": 12,
    "start_time": "2021-12-20T20:05:30.584Z"
   },
   {
    "duration": 20,
    "start_time": "2021-12-20T20:05:30.599Z"
   },
   {
    "duration": 41,
    "start_time": "2021-12-20T20:05:30.621Z"
   },
   {
    "duration": 40,
    "start_time": "2021-12-20T20:05:30.664Z"
   },
   {
    "duration": 54,
    "start_time": "2021-12-20T20:05:30.706Z"
   },
   {
    "duration": 108,
    "start_time": "2021-12-20T20:05:30.763Z"
   },
   {
    "duration": 184,
    "start_time": "2021-12-20T20:05:30.875Z"
   },
   {
    "duration": 12,
    "start_time": "2021-12-20T20:05:31.062Z"
   },
   {
    "duration": 5597,
    "start_time": "2021-12-20T20:05:31.077Z"
   },
   {
    "duration": 289,
    "start_time": "2021-12-20T20:05:36.676Z"
   },
   {
    "duration": 5,
    "start_time": "2021-12-20T20:05:36.968Z"
   },
   {
    "duration": 456,
    "start_time": "2021-12-20T20:05:36.976Z"
   },
   {
    "duration": 4,
    "start_time": "2021-12-20T20:05:37.435Z"
   },
   {
    "duration": 2938,
    "start_time": "2021-12-20T20:05:37.441Z"
   },
   {
    "duration": 38,
    "start_time": "2021-12-20T20:05:40.382Z"
   },
   {
    "duration": 5,
    "start_time": "2021-12-20T20:05:40.422Z"
   },
   {
    "duration": 411,
    "start_time": "2021-12-20T20:05:40.429Z"
   },
   {
    "duration": 19,
    "start_time": "2021-12-20T20:05:40.843Z"
   },
   {
    "duration": 6,
    "start_time": "2021-12-20T20:05:40.864Z"
   },
   {
    "duration": 10,
    "start_time": "2021-12-20T20:05:40.873Z"
   },
   {
    "duration": 14,
    "start_time": "2021-12-20T20:05:40.885Z"
   },
   {
    "duration": 19,
    "start_time": "2021-12-20T20:22:35.352Z"
   },
   {
    "duration": 6,
    "start_time": "2021-12-20T20:25:39.085Z"
   },
   {
    "duration": 317,
    "start_time": "2021-12-20T20:25:39.096Z"
   },
   {
    "duration": 15,
    "start_time": "2021-12-20T20:25:39.416Z"
   },
   {
    "duration": 11,
    "start_time": "2021-12-20T20:25:39.435Z"
   },
   {
    "duration": 10,
    "start_time": "2021-12-20T20:25:39.449Z"
   },
   {
    "duration": 13,
    "start_time": "2021-12-20T20:25:39.463Z"
   },
   {
    "duration": 11,
    "start_time": "2021-12-20T20:25:39.479Z"
   },
   {
    "duration": 8,
    "start_time": "2021-12-20T20:25:39.493Z"
   },
   {
    "duration": 63,
    "start_time": "2021-12-20T20:25:39.505Z"
   },
   {
    "duration": 13,
    "start_time": "2021-12-20T20:25:39.571Z"
   },
   {
    "duration": 16,
    "start_time": "2021-12-20T20:25:39.586Z"
   },
   {
    "duration": 16,
    "start_time": "2021-12-20T20:25:39.604Z"
   },
   {
    "duration": 39,
    "start_time": "2021-12-20T20:25:39.623Z"
   },
   {
    "duration": 8,
    "start_time": "2021-12-20T20:25:39.664Z"
   },
   {
    "duration": 55,
    "start_time": "2021-12-20T20:25:39.675Z"
   },
   {
    "duration": 30,
    "start_time": "2021-12-20T20:25:39.733Z"
   },
   {
    "duration": 18,
    "start_time": "2021-12-20T20:25:39.765Z"
   },
   {
    "duration": 15,
    "start_time": "2021-12-20T20:25:39.786Z"
   },
   {
    "duration": 61,
    "start_time": "2021-12-20T20:25:39.803Z"
   },
   {
    "duration": 11,
    "start_time": "2021-12-20T20:25:39.866Z"
   },
   {
    "duration": 20,
    "start_time": "2021-12-20T20:25:39.880Z"
   },
   {
    "duration": 59,
    "start_time": "2021-12-20T20:25:39.902Z"
   },
   {
    "duration": 6,
    "start_time": "2021-12-20T20:25:39.963Z"
   },
   {
    "duration": 9,
    "start_time": "2021-12-20T20:25:39.974Z"
   },
   {
    "duration": 21,
    "start_time": "2021-12-20T20:25:39.985Z"
   },
   {
    "duration": 252,
    "start_time": "2021-12-20T20:25:40.009Z"
   },
   {
    "duration": 5,
    "start_time": "2021-12-20T20:25:40.264Z"
   },
   {
    "duration": 2662,
    "start_time": "2021-12-20T20:25:40.271Z"
   },
   {
    "duration": 4727,
    "start_time": "2021-12-20T20:25:42.936Z"
   },
   {
    "duration": 657,
    "start_time": "2021-12-20T20:25:47.666Z"
   },
   {
    "duration": 3,
    "start_time": "2021-12-20T20:25:48.326Z"
   },
   {
    "duration": 1265,
    "start_time": "2021-12-20T20:25:48.332Z"
   },
   {
    "duration": 786,
    "start_time": "2021-12-20T20:25:49.599Z"
   },
   {
    "duration": 837,
    "start_time": "2021-12-20T20:25:50.387Z"
   },
   {
    "duration": 2063,
    "start_time": "2021-12-20T20:25:51.226Z"
   },
   {
    "duration": 429,
    "start_time": "2021-12-20T20:26:00.078Z"
   },
   {
    "duration": 6,
    "start_time": "2021-12-20T20:26:23.457Z"
   },
   {
    "duration": 13,
    "start_time": "2021-12-20T20:26:27.911Z"
   },
   {
    "duration": 34,
    "start_time": "2021-12-20T20:32:10.927Z"
   },
   {
    "duration": 36,
    "start_time": "2021-12-20T20:32:29.208Z"
   },
   {
    "duration": 39,
    "start_time": "2021-12-20T20:32:51.531Z"
   },
   {
    "duration": 35,
    "start_time": "2021-12-20T20:41:15.234Z"
   },
   {
    "duration": 6,
    "start_time": "2021-12-20T20:41:23.046Z"
   },
   {
    "duration": 340,
    "start_time": "2021-12-20T20:41:23.061Z"
   },
   {
    "duration": 17,
    "start_time": "2021-12-20T20:41:23.404Z"
   },
   {
    "duration": 14,
    "start_time": "2021-12-20T20:41:23.425Z"
   },
   {
    "duration": 17,
    "start_time": "2021-12-20T20:41:23.442Z"
   },
   {
    "duration": 13,
    "start_time": "2021-12-20T20:41:23.461Z"
   },
   {
    "duration": 12,
    "start_time": "2021-12-20T20:41:23.476Z"
   },
   {
    "duration": 7,
    "start_time": "2021-12-20T20:41:23.490Z"
   },
   {
    "duration": 61,
    "start_time": "2021-12-20T20:41:23.500Z"
   },
   {
    "duration": 11,
    "start_time": "2021-12-20T20:41:23.564Z"
   },
   {
    "duration": 10,
    "start_time": "2021-12-20T20:41:23.578Z"
   },
   {
    "duration": 14,
    "start_time": "2021-12-20T20:41:23.591Z"
   },
   {
    "duration": 8,
    "start_time": "2021-12-20T20:41:23.608Z"
   },
   {
    "duration": 6,
    "start_time": "2021-12-20T20:41:23.660Z"
   },
   {
    "duration": 47,
    "start_time": "2021-12-20T20:41:23.669Z"
   },
   {
    "duration": 54,
    "start_time": "2021-12-20T20:41:23.718Z"
   },
   {
    "duration": 20,
    "start_time": "2021-12-20T20:41:23.775Z"
   },
   {
    "duration": 17,
    "start_time": "2021-12-20T20:41:23.798Z"
   },
   {
    "duration": 37,
    "start_time": "2021-12-20T20:41:23.858Z"
   },
   {
    "duration": 16,
    "start_time": "2021-12-20T20:41:23.898Z"
   },
   {
    "duration": 62,
    "start_time": "2021-12-20T20:41:23.916Z"
   },
   {
    "duration": 30,
    "start_time": "2021-12-20T20:41:23.981Z"
   },
   {
    "duration": 7,
    "start_time": "2021-12-20T20:41:24.014Z"
   },
   {
    "duration": 9,
    "start_time": "2021-12-20T20:41:24.063Z"
   },
   {
    "duration": 21,
    "start_time": "2021-12-20T20:41:24.075Z"
   },
   {
    "duration": 254,
    "start_time": "2021-12-20T20:41:24.099Z"
   },
   {
    "duration": 5,
    "start_time": "2021-12-20T20:41:24.355Z"
   },
   {
    "duration": 2735,
    "start_time": "2021-12-20T20:41:24.362Z"
   },
   {
    "duration": 4555,
    "start_time": "2021-12-20T20:41:27.100Z"
   },
   {
    "duration": 745,
    "start_time": "2021-12-20T20:41:31.659Z"
   },
   {
    "duration": 3,
    "start_time": "2021-12-20T20:41:32.406Z"
   },
   {
    "duration": 1243,
    "start_time": "2021-12-20T20:41:32.411Z"
   },
   {
    "duration": 816,
    "start_time": "2021-12-20T20:41:33.660Z"
   },
   {
    "duration": 825,
    "start_time": "2021-12-20T20:41:34.479Z"
   },
   {
    "duration": 2028,
    "start_time": "2021-12-20T20:41:35.306Z"
   },
   {
    "duration": 46,
    "start_time": "2021-12-20T20:41:37.336Z"
   },
   {
    "duration": 7,
    "start_time": "2021-12-20T20:41:37.384Z"
   },
   {
    "duration": 14,
    "start_time": "2021-12-20T20:41:37.394Z"
   },
   {
    "duration": 5,
    "start_time": "2021-12-20T20:41:37.411Z"
   },
   {
    "duration": 41,
    "start_time": "2021-12-20T20:41:37.419Z"
   },
   {
    "duration": 41,
    "start_time": "2021-12-20T20:41:37.462Z"
   },
   {
    "duration": 28,
    "start_time": "2021-12-20T20:41:37.506Z"
   },
   {
    "duration": 43,
    "start_time": "2021-12-20T20:41:37.536Z"
   },
   {
    "duration": 11,
    "start_time": "2021-12-20T20:41:37.581Z"
   },
   {
    "duration": 18,
    "start_time": "2021-12-20T20:41:37.595Z"
   },
   {
    "duration": 6,
    "start_time": "2021-12-20T20:41:37.615Z"
   },
   {
    "duration": 69,
    "start_time": "2021-12-20T20:41:37.623Z"
   },
   {
    "duration": 68,
    "start_time": "2021-12-20T20:41:37.694Z"
   },
   {
    "duration": 97,
    "start_time": "2021-12-20T20:41:37.765Z"
   },
   {
    "duration": 95,
    "start_time": "2021-12-20T20:41:37.866Z"
   },
   {
    "duration": 6,
    "start_time": "2021-12-20T20:41:37.963Z"
   },
   {
    "duration": 5804,
    "start_time": "2021-12-20T20:41:37.971Z"
   },
   {
    "duration": 286,
    "start_time": "2021-12-20T20:41:43.778Z"
   },
   {
    "duration": 7,
    "start_time": "2021-12-20T20:41:44.067Z"
   },
   {
    "duration": 450,
    "start_time": "2021-12-20T20:41:44.077Z"
   },
   {
    "duration": 6,
    "start_time": "2021-12-20T20:41:44.530Z"
   },
   {
    "duration": 2984,
    "start_time": "2021-12-20T20:41:44.539Z"
   },
   {
    "duration": 56,
    "start_time": "2021-12-20T20:41:47.526Z"
   },
   {
    "duration": 6,
    "start_time": "2021-12-20T20:41:47.585Z"
   },
   {
    "duration": 405,
    "start_time": "2021-12-20T20:41:47.595Z"
   },
   {
    "duration": 11,
    "start_time": "2021-12-20T20:41:48.003Z"
   },
   {
    "duration": 6,
    "start_time": "2021-12-20T20:41:48.017Z"
   },
   {
    "duration": 36,
    "start_time": "2021-12-20T20:41:48.025Z"
   },
   {
    "duration": 9,
    "start_time": "2021-12-20T20:44:34.006Z"
   },
   {
    "duration": 517,
    "start_time": "2021-12-20T20:44:34.020Z"
   },
   {
    "duration": 15,
    "start_time": "2021-12-20T20:44:34.540Z"
   },
   {
    "duration": 18,
    "start_time": "2021-12-20T20:44:34.558Z"
   },
   {
    "duration": 18,
    "start_time": "2021-12-20T20:44:34.580Z"
   },
   {
    "duration": 13,
    "start_time": "2021-12-20T20:44:34.600Z"
   },
   {
    "duration": 11,
    "start_time": "2021-12-20T20:44:34.616Z"
   },
   {
    "duration": 6,
    "start_time": "2021-12-20T20:44:34.660Z"
   },
   {
    "duration": 15,
    "start_time": "2021-12-20T20:44:34.671Z"
   },
   {
    "duration": 11,
    "start_time": "2021-12-20T20:44:34.689Z"
   },
   {
    "duration": 6,
    "start_time": "2021-12-20T20:44:34.702Z"
   },
   {
    "duration": 54,
    "start_time": "2021-12-20T20:44:34.711Z"
   },
   {
    "duration": 8,
    "start_time": "2021-12-20T20:44:34.768Z"
   },
   {
    "duration": 8,
    "start_time": "2021-12-20T20:44:34.779Z"
   },
   {
    "duration": 73,
    "start_time": "2021-12-20T20:44:34.789Z"
   },
   {
    "duration": 18,
    "start_time": "2021-12-20T20:44:34.864Z"
   },
   {
    "duration": 16,
    "start_time": "2021-12-20T20:44:34.885Z"
   },
   {
    "duration": 16,
    "start_time": "2021-12-20T20:44:34.903Z"
   },
   {
    "duration": 67,
    "start_time": "2021-12-20T20:44:34.922Z"
   },
   {
    "duration": 14,
    "start_time": "2021-12-20T20:44:34.991Z"
   },
   {
    "duration": 54,
    "start_time": "2021-12-20T20:44:35.008Z"
   },
   {
    "duration": 29,
    "start_time": "2021-12-20T20:44:35.065Z"
   },
   {
    "duration": 6,
    "start_time": "2021-12-20T20:44:35.096Z"
   },
   {
    "duration": 7,
    "start_time": "2021-12-20T20:44:35.109Z"
   },
   {
    "duration": 57,
    "start_time": "2021-12-20T20:44:35.120Z"
   },
   {
    "duration": 228,
    "start_time": "2021-12-20T20:44:35.180Z"
   },
   {
    "duration": 5,
    "start_time": "2021-12-20T20:44:35.410Z"
   },
   {
    "duration": 2589,
    "start_time": "2021-12-20T20:44:35.417Z"
   },
   {
    "duration": 4325,
    "start_time": "2021-12-20T20:44:38.009Z"
   },
   {
    "duration": 717,
    "start_time": "2021-12-20T20:44:42.336Z"
   },
   {
    "duration": 3,
    "start_time": "2021-12-20T20:44:43.059Z"
   },
   {
    "duration": 1326,
    "start_time": "2021-12-20T20:44:43.064Z"
   },
   {
    "duration": 779,
    "start_time": "2021-12-20T20:44:44.393Z"
   },
   {
    "duration": 851,
    "start_time": "2021-12-20T20:44:45.175Z"
   },
   {
    "duration": 1922,
    "start_time": "2021-12-20T20:44:46.029Z"
   },
   {
    "duration": 42,
    "start_time": "2021-12-20T20:44:47.953Z"
   },
   {
    "duration": 7,
    "start_time": "2021-12-20T20:44:47.998Z"
   },
   {
    "duration": 26,
    "start_time": "2021-12-20T20:44:48.008Z"
   },
   {
    "duration": 27,
    "start_time": "2021-12-20T20:44:48.037Z"
   },
   {
    "duration": 10,
    "start_time": "2021-12-20T20:44:48.067Z"
   },
   {
    "duration": 44,
    "start_time": "2021-12-20T20:44:48.080Z"
   },
   {
    "duration": 57,
    "start_time": "2021-12-20T20:44:48.127Z"
   },
   {
    "duration": 26,
    "start_time": "2021-12-20T20:44:48.187Z"
   },
   {
    "duration": 16,
    "start_time": "2021-12-20T20:44:48.219Z"
   },
   {
    "duration": 19,
    "start_time": "2021-12-20T20:44:48.259Z"
   },
   {
    "duration": 9,
    "start_time": "2021-12-20T20:44:48.280Z"
   },
   {
    "duration": 46,
    "start_time": "2021-12-20T20:44:48.291Z"
   },
   {
    "duration": 24,
    "start_time": "2021-12-20T20:44:48.340Z"
   },
   {
    "duration": 97,
    "start_time": "2021-12-20T20:44:48.366Z"
   },
   {
    "duration": 194,
    "start_time": "2021-12-20T20:44:48.466Z"
   },
   {
    "duration": 14,
    "start_time": "2021-12-20T20:44:48.662Z"
   },
   {
    "duration": 11089,
    "start_time": "2021-12-20T20:44:48.678Z"
   },
   {
    "duration": 289,
    "start_time": "2021-12-20T20:44:59.770Z"
   },
   {
    "duration": 6,
    "start_time": "2021-12-20T20:45:00.062Z"
   },
   {
    "duration": 412,
    "start_time": "2021-12-20T20:45:00.070Z"
   },
   {
    "duration": 5,
    "start_time": "2021-12-20T20:45:00.484Z"
   },
   {
    "duration": 2972,
    "start_time": "2021-12-20T20:45:00.491Z"
   },
   {
    "duration": 38,
    "start_time": "2021-12-20T20:45:03.466Z"
   },
   {
    "duration": 8,
    "start_time": "2021-12-20T20:45:03.507Z"
   },
   {
    "duration": 412,
    "start_time": "2021-12-20T20:45:03.517Z"
   },
   {
    "duration": 9,
    "start_time": "2021-12-20T20:45:03.932Z"
   },
   {
    "duration": 20,
    "start_time": "2021-12-20T20:45:03.943Z"
   },
   {
    "duration": 16,
    "start_time": "2021-12-20T20:45:03.965Z"
   },
   {
    "duration": 1806,
    "start_time": "2021-12-21T09:28:28.583Z"
   },
   {
    "duration": 385,
    "start_time": "2021-12-21T09:28:30.392Z"
   },
   {
    "duration": 25,
    "start_time": "2021-12-21T09:28:31.847Z"
   },
   {
    "duration": 16,
    "start_time": "2021-12-21T09:28:32.161Z"
   },
   {
    "duration": 7,
    "start_time": "2021-12-21T09:28:32.351Z"
   },
   {
    "duration": 12,
    "start_time": "2021-12-21T09:28:32.689Z"
   },
   {
    "duration": 14,
    "start_time": "2021-12-21T09:28:32.861Z"
   },
   {
    "duration": 9,
    "start_time": "2021-12-21T09:28:33.692Z"
   },
   {
    "duration": 15,
    "start_time": "2021-12-21T09:28:34.330Z"
   },
   {
    "duration": 12,
    "start_time": "2021-12-21T09:28:34.478Z"
   },
   {
    "duration": 7,
    "start_time": "2021-12-21T09:28:34.634Z"
   },
   {
    "duration": 11,
    "start_time": "2021-12-21T09:28:34.913Z"
   },
   {
    "duration": 9,
    "start_time": "2021-12-21T09:28:35.082Z"
   },
   {
    "duration": 8,
    "start_time": "2021-12-21T09:28:35.663Z"
   },
   {
    "duration": 50,
    "start_time": "2021-12-21T09:28:37.149Z"
   },
   {
    "duration": 26,
    "start_time": "2021-12-21T09:28:37.309Z"
   },
   {
    "duration": 19,
    "start_time": "2021-12-21T09:28:37.928Z"
   },
   {
    "duration": 19,
    "start_time": "2021-12-21T09:28:38.094Z"
   },
   {
    "duration": 48,
    "start_time": "2021-12-21T09:28:38.578Z"
   },
   {
    "duration": 12,
    "start_time": "2021-12-21T09:28:38.748Z"
   },
   {
    "duration": 26,
    "start_time": "2021-12-21T09:28:39.061Z"
   },
   {
    "duration": 36,
    "start_time": "2021-12-21T09:28:39.714Z"
   },
   {
    "duration": 18,
    "start_time": "2021-12-21T09:28:40.061Z"
   },
   {
    "duration": 9,
    "start_time": "2021-12-21T09:28:40.721Z"
   },
   {
    "duration": 34,
    "start_time": "2021-12-21T09:28:40.864Z"
   },
   {
    "duration": 265,
    "start_time": "2021-12-21T09:28:41.596Z"
   },
   {
    "duration": 10,
    "start_time": "2021-12-21T09:28:41.977Z"
   },
   {
    "duration": 3167,
    "start_time": "2021-12-21T09:28:42.387Z"
   },
   {
    "duration": 4697,
    "start_time": "2021-12-21T09:28:45.557Z"
   },
   {
    "duration": 809,
    "start_time": "2021-12-21T09:28:50.258Z"
   },
   {
    "duration": 4,
    "start_time": "2021-12-21T09:28:51.071Z"
   },
   {
    "duration": 1364,
    "start_time": "2021-12-21T09:28:51.078Z"
   },
   {
    "duration": 876,
    "start_time": "2021-12-21T09:28:52.444Z"
   },
   {
    "duration": 1001,
    "start_time": "2021-12-21T09:28:53.323Z"
   },
   {
    "duration": 1979,
    "start_time": "2021-12-21T09:28:55.396Z"
   },
   {
    "duration": 59,
    "start_time": "2021-12-21T09:29:06.534Z"
   },
   {
    "duration": 7,
    "start_time": "2021-12-21T09:33:15.462Z"
   },
   {
    "duration": 16,
    "start_time": "2021-12-21T09:33:18.294Z"
   },
   {
    "duration": 7,
    "start_time": "2021-12-21T09:33:18.594Z"
   },
   {
    "duration": 4,
    "start_time": "2021-12-21T09:33:19.101Z"
   },
   {
    "duration": 48,
    "start_time": "2021-12-21T09:33:19.287Z"
   },
   {
    "duration": 30,
    "start_time": "2021-12-21T09:33:19.532Z"
   },
   {
    "duration": 28,
    "start_time": "2021-12-21T09:33:19.768Z"
   },
   {
    "duration": 13,
    "start_time": "2021-12-21T09:33:20.049Z"
   },
   {
    "duration": 20,
    "start_time": "2021-12-21T09:33:21.704Z"
   },
   {
    "duration": 104,
    "start_time": "2021-12-22T07:40:43.771Z"
   }
  ],
  "kernelspec": {
   "display_name": "Python 3",
   "language": "python",
   "name": "python3"
  },
  "language_info": {
   "codemirror_mode": {
    "name": "ipython",
    "version": 3
   },
   "file_extension": ".py",
   "mimetype": "text/x-python",
   "name": "python",
   "nbconvert_exporter": "python",
   "pygments_lexer": "ipython3",
   "version": "3.7.10"
  },
  "toc": {
   "base_numbering": 1,
   "nav_menu": {},
   "number_sections": true,
   "sideBar": true,
   "skip_h1_title": false,
   "title_cell": "Table of Contents",
   "title_sidebar": "Contents",
   "toc_cell": false,
   "toc_position": {
    "height": "calc(100% - 180px)",
    "left": "10px",
    "top": "150px",
    "width": "332.333px"
   },
   "toc_section_display": true,
   "toc_window_display": true
  }
 },
 "nbformat": 4,
 "nbformat_minor": 5
}
